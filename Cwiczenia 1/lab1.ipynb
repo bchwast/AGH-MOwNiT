{
 "cells": [
  {
   "cell_type": "markdown",
   "id": "9da5c94d",
   "metadata": {},
   "source": [
    "## zad.1\n",
    "Porównać w języku Julia reprezentację bitową liczby 1/3 dla `Float16`, `Float32`, `Float64` oraz liczby, \n",
    "która jest inicjalizowana jako `Float16`, a potem rzutowana na `Float64`."
   ]
  },
  {
   "cell_type": "code",
   "execution_count": 3,
   "id": "34d54386",
   "metadata": {},
   "outputs": [
    {
     "data": {
      "text/plain": [
       "\"0011010101010101\""
      ]
     },
     "execution_count": 3,
     "metadata": {},
     "output_type": "execute_result"
    }
   ],
   "source": [
    "num16 = Float16(1/3)\n",
    "bitstring(num16)"
   ]
  },
  {
   "cell_type": "code",
   "execution_count": 4,
   "id": "cd0a9bb3",
   "metadata": {},
   "outputs": [
    {
     "data": {
      "text/plain": [
       "\"00111110101010101010101010101011\""
      ]
     },
     "execution_count": 4,
     "metadata": {},
     "output_type": "execute_result"
    }
   ],
   "source": [
    "num32 = Float32(1/3)\n",
    "bitstring(num32)"
   ]
  },
  {
   "cell_type": "code",
   "execution_count": 6,
   "id": "0e0c15ec",
   "metadata": {
    "scrolled": true
   },
   "outputs": [
    {
     "data": {
      "text/plain": [
       "\"0011111111010101010101010101010101010101010101010101010101010101\""
      ]
     },
     "execution_count": 6,
     "metadata": {},
     "output_type": "execute_result"
    }
   ],
   "source": [
    "num64 = Float64(1/3)\n",
    "bitstring(num64)"
   ]
  },
  {
   "cell_type": "code",
   "execution_count": 7,
   "id": "3bfc6f64",
   "metadata": {},
   "outputs": [
    {
     "data": {
      "text/plain": [
       "\"0011111111010101010101000000000000000000000000000000000000000000\""
      ]
     },
     "execution_count": 7,
     "metadata": {},
     "output_type": "execute_result"
    }
   ],
   "source": [
    "num64_from_num16 = Float64(Float16(1/3))\n",
    "bitstring(num64_from_num16)"
   ]
  },
  {
   "cell_type": "markdown",
   "id": "baa2ee4b",
   "metadata": {},
   "source": [
    "## zad.2\n",
    "Zbadać, jak zmienia się odległość między kolejnymi liczbami zmiennoprzecinkowymi \n",
    "reprezentowanymi w komputerze za pomocą języka Julia. \n",
    "Narysować wykres używając Plots zależności odległości od wartości liczby dla zakresu  od 1.0 do 1000000.0."
   ]
  },
  {
   "cell_type": "code",
   "execution_count": 1,
   "id": "1899f176",
   "metadata": {},
   "outputs": [],
   "source": [
    "using Plots"
   ]
  },
  {
   "cell_type": "code",
   "execution_count": 51,
   "id": "17068530",
   "metadata": {},
   "outputs": [
    {
     "data": {
      "text/plain": [
       "1000000-element Vector{Float32}:\n",
       " 1.1920929f-7\n",
       " 2.3841858f-7\n",
       " 2.3841858f-7\n",
       " 4.7683716f-7\n",
       " 4.7683716f-7\n",
       " 4.7683716f-7\n",
       " 4.7683716f-7\n",
       " 9.536743f-7\n",
       " 9.536743f-7\n",
       " 9.536743f-7\n",
       " 9.536743f-7\n",
       " 9.536743f-7\n",
       " 9.536743f-7\n",
       " ⋮\n",
       " 0.0625\n",
       " 0.0625\n",
       " 0.0625\n",
       " 0.0625\n",
       " 0.0625\n",
       " 0.0625\n",
       " 0.0625\n",
       " 0.0625\n",
       " 0.0625\n",
       " 0.0625\n",
       " 0.0625\n",
       " 0.0625"
      ]
     },
     "execution_count": 51,
     "metadata": {},
     "output_type": "execute_result"
    }
   ],
   "source": [
    "x = 1.0:1000000.0\n",
    "xf = map(Float32, x)\n",
    "y = map(eps, xf)\n",
    "# plot(x, y)"
   ]
  },
  {
   "cell_type": "markdown",
   "id": "bbe26cbf",
   "metadata": {},
   "source": [
    "## zad.3\n",
    "Jedną z bibliotek numerycznych, jaką będziemy używać na zajęciach jest <a href=\"http://home.agh.edu.pl/~kzajac/dydakt/mownit/lab1/gsl.html\">GSL</a> (język C). Korzystając ze <a href=\"https://www.gnu.org/software/gsl/doc/html/ieee754.html\"> wsparcia dla wyświetlania reprezentacji liczb zmiennoprzecinkowych</a> zobaczyć jak zmienia się cecha i mantysa dla coraz mniejszych liczb. Zaobserwować, kiedy matysa przestaje być znormalizowana i dlaczego?\n",
    "\n",
    "Kod załączyć jako komórka Markdown sformatowana jako C ([link](https://github.com/adam-p/markdown-here/wiki/Markdown-Cheatsheet#code)). Wynik także jako Markdown (kod albo fragment zrzutu ekranu)."
   ]
  },
  {
   "cell_type": "markdown",
   "id": "e832cff5",
   "metadata": {},
   "source": [
    "```C\n",
    "#include <stdio.h>\n",
    "#include <gsl/gsl_ieee_utils.h>\n",
    "#include <float.h>\n",
    "\n",
    "int digs = DECIMAL_DIG;\n",
    "\n",
    "int main (void)\n",
    "{\n",
    "    float num = 1.0;\n",
    "    double numd = 1.0;\n",
    "\n",
    "    while (num > 0) {\n",
    "        num = num / 2;\n",
    "        printf(\"%.*e \", digs, num);\n",
    "        gsl_ieee_printf_float(&num);\n",
    "        printf(\"\\n\");\n",
    "    }\n",
    "    printf(\"\\n\");\n",
    "\n",
    "    while (numd > 0) {\n",
    "        numd = numd / 2;\n",
    "        printf(\"%.*e \", Digs, numd);\n",
    "        gsl_ieee_printf_double(&numd);\n",
    "        printf(\"\\n\");\n",
    "    }\n",
    "\n",
    "    return 0;\n",
    "}\n",
    "```"
   ]
  },
  {
   "cell_type": "markdown",
   "id": "dada82e6",
   "metadata": {},
   "source": [
    "Dla pojedynczej precyzji:\n",
    "```\n",
    "3.009265538105056020400e-36  1.00000000000000000000000*2^-118\n",
    "1.504632769052528010200e-36  1.00000000000000000000000*2^-119\n",
    "7.523163845262640051000e-37  1.00000000000000000000000*2^-120\n",
    "3.761581922631320025500e-37  1.00000000000000000000000*2^-121\n",
    "1.880790961315660012750e-37  1.00000000000000000000000*2^-122\n",
    "9.403954806578300063750e-38  1.00000000000000000000000*2^-123\n",
    "4.701977403289150031875e-38  1.00000000000000000000000*2^-124\n",
    "2.350988701644575015937e-38  1.00000000000000000000000*2^-125\n",
    "1.175494350822287507969e-38  1.00000000000000000000000*2^-126\n",
    "5.877471754111437539844e-39  0.10000000000000000000000*2^-126\n",
    "2.938735877055718769922e-39  0.01000000000000000000000*2^-126\n",
    "1.469367938527859384961e-39  0.00100000000000000000000*2^-126\n",
    "7.346839692639296924805e-40  0.00010000000000000000000*2^-126\n",
    "3.673419846319648462402e-40  0.00001000000000000000000*2^-126\n",
    "1.836709923159824231201e-40  0.00000100000000000000000*2^-126\n",
    "```\n",
    "Najmniejsza znormalizowana liczba to ok. 1.175e-38\n",
    "\n",
    "Dla podwójnej precyzji:\n",
    "```\n",
    "1.139237815555687108142e-305  1.0000000000000000000000000000000000000000000000000000*2^-1013\n",
    "5.696189077778435540711e-306  1.0000000000000000000000000000000000000000000000000000*2^-1014\n",
    "2.848094538889217770355e-306  1.0000000000000000000000000000000000000000000000000000*2^-1015\n",
    "1.424047269444608885178e-306  1.0000000000000000000000000000000000000000000000000000*2^-1016\n",
    "7.120236347223044425889e-307  1.0000000000000000000000000000000000000000000000000000*2^-1017\n",
    "3.560118173611522212944e-307  1.0000000000000000000000000000000000000000000000000000*2^-1018\n",
    "1.780059086805761106472e-307  1.0000000000000000000000000000000000000000000000000000*2^-1019\n",
    "8.900295434028805532361e-308  1.0000000000000000000000000000000000000000000000000000*2^-1020\n",
    "4.450147717014402766180e-308  1.0000000000000000000000000000000000000000000000000000*2^-1021\n",
    "2.225073858507201383090e-308  1.0000000000000000000000000000000000000000000000000000*2^-1022\n",
    "1.112536929253600691545e-308  0.1000000000000000000000000000000000000000000000000000*2^-1022\n",
    "5.562684646268003457726e-309  0.0100000000000000000000000000000000000000000000000000*2^-1022\n",
    "2.781342323134001728863e-309  0.0010000000000000000000000000000000000000000000000000*2^-1022\n",
    "1.390671161567000864431e-309  0.0001000000000000000000000000000000000000000000000000*2^-1022\n",
    "6.953355807835004322157e-310  0.0000100000000000000000000000000000000000000000000000*2^-1022\n",
    "3.476677903917502161078e-310  0.0000010000000000000000000000000000000000000000000000*2^-1022\n",
    "1.738338951958751080539e-310  0.0000001000000000000000000000000000000000000000000000*2^-1022\n",
    "8.691694759793755402696e-311  0.0000000100000000000000000000000000000000000000000000*2^-1022\n",
    "4.345847379896877701348e-311  0.0000000010000000000000000000000000000000000000000000*2^-1022\n",
    "2.172923689948438850674e-311  0.0000000001000000000000000000000000000000000000000000*2^-1022\n",
    "```\n",
    "Najmniejsza znormalizowana liczba to ok. 2.225e-308\n",
    "\n",
    "Liczba przestaje być znormalizowana kiedy następuje niedomiar, ale jesteśmy w stanie jeszcze zapisać liczbę denormalizując mantysę. Przeprowadza się to, żeby móc zapisać bardzo małe liczby (bardzo bliskie zera)."
   ]
  },
  {
   "cell_type": "markdown",
   "id": "4a5b9475",
   "metadata": {},
   "source": [
    "## zad.4\n",
    "Na przykładzie wybranego algorytmu niestabilnego numerycznie: \n",
    "1. Pokazać, że działa źle.\n",
    "2. Pokazać które konkretnie działania powodują zwiększenie błędu (np. dzielenie przez małą liczbę, cancellation).\n",
    "3. Zademonstować wersję stabilną.\n",
    "\n",
    "Wszystkie punkty przedstawić w postaci notatnika Julii."
   ]
  },
  {
   "cell_type": "markdown",
   "id": "c3302a0c",
   "metadata": {},
   "source": [
    "Rozważamy ciąg rekurencyjny: \n",
    "$$ x_{n+1} = \\frac{13}{3}x_{n} - \\frac{4}{3}x_{n-1} $$ \n",
    "$$ \\left( x_{0} = 1 , x_{1} = \\frac{1}{3} , n>0 \\right)$$\n",
    "\n",
    "W łatwy sposób można pokazać, że ciąg ten można zapisać w postaci:\n",
    "$$ x_{n} = \\left( \\frac{1}{3} \\right) ^{n} $$\n",
    "\n",
    "Zobaczmy jakie wyniki otrzymamy, gdy spróbujemy obliczyć wyrazy tego ciągu od drugiego do dwudziestego korzystając z zależności rekurencyjnej:"
   ]
  },
  {
   "cell_type": "code",
   "execution_count": 9,
   "id": "59b9d6f6",
   "metadata": {},
   "outputs": [
    {
     "name": "stdout",
     "output_type": "stream",
     "text": [
      "x(2) 0.11111111111111094\n",
      "x(3) 0.03703703703703626\n",
      "x(4) 0.012345679012342514\n",
      "x(5) 0.004115226337435884\n",
      "x(6) 0.0013717421124321456\n",
      "x(7) 0.00045724737062478524\n",
      "x(8) 0.00015241578946454185\n",
      "x(9) 5.0805260179967644e-5\n",
      "x(10) 1.6935074827137338e-5\n",
      "x(11) 5.644977344304949e-6\n",
      "x(12) 1.8814687224716613e-6\n",
      "x(13) 6.263946716372672e-7\n",
      "x(14) 2.0575194713260943e-7\n",
      "x(15) 5.63988753916179e-8\n",
      "x(16) -2.994080281313502e-8\n",
      "x(17) -2.049419793790756e-7\n",
      "x(18) -8.481608402251475e-7\n",
      "x(19) -3.402107668470205e-6\n",
      "x(20) -1.361158544307069e-5\n"
     ]
    }
   ],
   "source": [
    "xn = [0.0 for _ in 0:20]\n",
    "xn[1] = 1\n",
    "xn[2] = 1/3\n",
    "for i in 2:20\n",
    "    xn[i+1] = (13/3)*xn[i] - (4/3)*xn[i-1]\n",
    "    println(\"x(\",  i , \") \" , xn[i+1])\n",
    "end"
   ]
  },
  {
   "cell_type": "markdown",
   "id": "f80709bc",
   "metadata": {},
   "source": [
    "Od 16-tego wyrazu zaczynamy otrzymywać wyniki ujemne, co jest absurdalne, ponieważ dla każdego naturalnego $ n $ , $ \\left( \\frac{1}{3} \\right) ^{n} $ jest dodatnie.\n",
    "\n",
    "Dzieje się tak ponieważ błąd związany z reprezentacją liczby jest za każdym razem mnożony przez $ \\frac{13}{3} $, które jest większe niż 1, zatem powoduje też z każdą kolejną iteracją błąd ten sie powiększa.\n",
    "\n",
    "Zobaczmy teraz jakie wyniki otrzymamy stosując wzór jawny:"
   ]
  },
  {
   "cell_type": "code",
   "execution_count": 10,
   "id": "39c5d65d",
   "metadata": {},
   "outputs": [
    {
     "name": "stdout",
     "output_type": "stream",
     "text": [
      "x(1) 0.3333333333333333\n",
      "x(2) 0.1111111111111111\n",
      "x(3) 0.037037037037037035\n",
      "x(4) 0.012345679012345678\n",
      "x(5) 0.004115226337448559\n",
      "x(6) 0.001371742112482853\n",
      "x(7) 0.0004572473708276176\n",
      "x(8) 0.00015241579027587253\n",
      "x(9) 5.080526342529084e-5\n",
      "x(10) 1.693508780843028e-5\n",
      "x(11) 5.64502926947676e-6\n",
      "x(12) 1.8816764231589197e-6\n",
      "x(13) 6.272254743863065e-7\n",
      "x(14) 2.0907515812876884e-7\n",
      "x(15) 6.969171937625627e-8\n",
      "x(16) 2.3230573125418757e-8\n",
      "x(17) 7.743524375139585e-9\n",
      "x(18) 2.581174791713195e-9\n",
      "x(19) 8.603915972377316e-10\n",
      "x(20) 2.867971990792439e-10\n"
     ]
    }
   ],
   "source": [
    "x = 1\n",
    "for i in 1:20\n",
    "    x *= 1/3\n",
    "    println(\"x(\", i, \") \", x)\n",
    "end"
   ]
  },
  {
   "cell_type": "markdown",
   "id": "4e0417f7",
   "metadata": {},
   "source": [
    "W tym wypadku otrzymuje sensowne wyniki, ponieważ błąd związany z reprezentacją liczby jest mnożony przez $ \\frac{1}{3} $ czyli liczbę mniejszą niż 1, więć z każdą kolejną iteracją się on zmniejsza."
   ]
  }
 ],
 "metadata": {
  "kernelspec": {
   "display_name": "Julia 1.7.2",
   "language": "julia",
   "name": "julia-1.7"
  },
  "language_info": {
   "file_extension": ".jl",
   "mimetype": "application/julia",
   "name": "julia",
   "version": "1.7.2"
  }
 },
 "nbformat": 4,
 "nbformat_minor": 5
}
