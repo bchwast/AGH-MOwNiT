{
 "cells": [
  {
   "cell_type": "markdown",
   "id": "3c7cb5b1",
   "metadata": {},
   "source": [
    "# Zadanie:\n",
    "\n",
    "Wybrać trzy metody poszukiwania pierwiastków: \n",
    "\n",
    "* wykorzystującą przedział i zmianę znaku, \n",
    "* wykorzystującą pochodną, \n",
    "* wykorzystującą przybliżenie pochodnej"
   ]
  },
  {
   "cell_type": "markdown",
   "id": "5d5b9e4d",
   "metadata": {},
   "source": [
    "## zad.1\n",
    "Każdą z trzech wybranych metod przetestować (ilość iteracji, ilość wywołań funkcji) na sześciu wybranych  funkcjach ze zbioru http://people.sc.fsu.edu/~jburkardt/py_src/test_zero/test_zero.html Wyniki przedstawić w formie tabelki. <b>Pamiętać o sprawdzeniu czy wynik jest poprawny poprzez obliczenie wartości funkcji dla znalezionego pierwiastka !</b>"
   ]
  },
  {
   "cell_type": "code",
   "execution_count": 1,
   "id": "e0c09171",
   "metadata": {},
   "outputs": [],
   "source": [
    "using Roots, Plots, DataFrames, ForwardDiff"
   ]
  },
  {
   "cell_type": "code",
   "execution_count": 2,
   "id": "820607e8",
   "metadata": {},
   "outputs": [
    {
     "data": {
      "text/plain": [
       "derivativeApproxSecant (generic function with 1 method)"
      ]
     },
     "execution_count": 2,
     "metadata": {},
     "output_type": "execute_result"
    }
   ],
   "source": [
    "function intervalFalsi(f, a, b)\n",
    "    tracks = Roots.Tracks(Float64, Float64)\n",
    "    find_zero(f, (a, b), FalsePosition(), verbose=true)\n",
    "    return tracks\n",
    "end\n",
    "    \n",
    "function derivativeNewton(f, start)\n",
    "    D(f) = x -> ForwardDiff.derivative(f, float(x))\n",
    "    tracks = Roots.Tracks(Float64, Float64)\n",
    "    find_zero((f, D(f)), 0.0, Roots.Newton(), verbose=true, tracks=tracks)\n",
    "    return tracks\n",
    "end\n",
    "\n",
    "function derivativeApproxSecant(f, start)\n",
    "    tracks = Roots.Tracks(Float64, Float64)\n",
    "    find_zero(f, 0.0, Order1(), verbose=true)\n",
    "    return tracks\n",
    "end"
   ]
  },
  {
   "cell_type": "code",
   "execution_count": 3,
   "id": "c90021a0",
   "metadata": {},
   "outputs": [
    {
     "data": {
      "text/plain": [
       "f6 (generic function with 1 method)"
      ]
     },
     "execution_count": 3,
     "metadata": {},
     "output_type": "execute_result"
    }
   ],
   "source": [
    "f1(x) = sin(x) - x / 2\n",
    "f2(x) = x * exp(-x)\n",
    "f3(x) = (x + 3) * (x - 1)^2\n",
    "f4(x) = x^3\n",
    "f5(x) = x^3 - 2 * x - 5\n",
    "f6(x) = (x - 1)^7"
   ]
  },
  {
   "cell_type": "code",
   "execution_count": 4,
   "id": "6913bea0",
   "metadata": {},
   "outputs": [
    {
     "data": {
      "text/html": [
       "<div class=\"data-frame\"><p>0 rows × 6 columns</p><table class=\"data-frame\"><thead><tr><th></th><th>f</th><th>method</th><th>iterations</th><th>calls</th><th>x_zero</th><th>isZero</th></tr><tr><th></th><th title=\"String\">String</th><th title=\"String\">String</th><th title=\"Int64\">Int64</th><th title=\"Int64\">Int64</th><th title=\"Float64\">Float64</th><th title=\"Bool\">Bool</th></tr></thead><tbody></tbody></table></div>"
      ],
      "text/latex": [
       "\\begin{tabular}{r|cccccc}\n",
       "\t& f & method & iterations & calls & x\\_zero & isZero\\\\\n",
       "\t\\hline\n",
       "\t& String & String & Int64 & Int64 & Float64 & Bool\\\\\n",
       "\t\\hline\n",
       "\\end{tabular}\n"
      ],
      "text/plain": [
       "\u001b[1m0×6 DataFrame\u001b[0m"
      ]
     },
     "execution_count": 4,
     "metadata": {},
     "output_type": "execute_result"
    }
   ],
   "source": [
    "df = DataFrame(f = String[], method = String[], iterations = Int64[], calls = Int64[], x_zero = Float64[], isZero = Bool[])"
   ]
  },
  {
   "cell_type": "code",
   "execution_count": 5,
   "id": "1349f8ef",
   "metadata": {},
   "outputs": [
    {
     "data": {
      "text/plain": [
       "test (generic function with 1 method)"
      ]
     },
     "execution_count": 5,
     "metadata": {},
     "output_type": "execute_result"
    }
   ],
   "source": [
    "function test(f, a, b)\n",
    "    intervalFalsi(f, a, b)\n",
    "    derivativeNewton(f, (a + b) / 2)\n",
    "    derivativeApproxSecant(f, (a + b) / 2)\n",
    "end"
   ]
  },
  {
   "cell_type": "code",
   "execution_count": 6,
   "id": "487299d8",
   "metadata": {},
   "outputs": [
    {
     "data": {
      "image/svg+xml": [
       "<?xml version=\"1.0\" encoding=\"utf-8\"?>\n",
       "<svg xmlns=\"http://www.w3.org/2000/svg\" xmlns:xlink=\"http://www.w3.org/1999/xlink\" width=\"600\" height=\"400\" viewBox=\"0 0 2400 1600\">\n",
       "<defs>\n",
       "  <clipPath id=\"clip870\">\n",
       "    <rect x=\"0\" y=\"0\" width=\"2400\" height=\"1600\"/>\n",
       "  </clipPath>\n",
       "</defs>\n",
       "<path clip-path=\"url(#clip870)\" d=\"\n",
       "M0 1600 L2400 1600 L2400 0 L0 0  Z\n",
       "  \" fill=\"#ffffff\" fill-rule=\"evenodd\" fill-opacity=\"1\"/>\n",
       "<defs>\n",
       "  <clipPath id=\"clip871\">\n",
       "    <rect x=\"480\" y=\"0\" width=\"1681\" height=\"1600\"/>\n",
       "  </clipPath>\n",
       "</defs>\n",
       "<path clip-path=\"url(#clip870)\" d=\"\n",
       "M211.325 1423.18 L2352.76 1423.18 L2352.76 123.472 L211.325 123.472  Z\n",
       "  \" fill=\"#ffffff\" fill-rule=\"evenodd\" fill-opacity=\"1\"/>\n",
       "<defs>\n",
       "  <clipPath id=\"clip872\">\n",
       "    <rect x=\"211\" y=\"123\" width=\"2142\" height=\"1301\"/>\n",
       "  </clipPath>\n",
       "</defs>\n",
       "<polyline clip-path=\"url(#clip872)\" style=\"stroke:#000000; stroke-linecap:butt; stroke-linejoin:round; stroke-width:2; stroke-opacity:0.1; fill:none\" points=\"\n",
       "  473.953,1423.18 473.953,123.472 \n",
       "  \"/>\n",
       "<polyline clip-path=\"url(#clip872)\" style=\"stroke:#000000; stroke-linecap:butt; stroke-linejoin:round; stroke-width:2; stroke-opacity:0.1; fill:none\" points=\"\n",
       "  877.997,1423.18 877.997,123.472 \n",
       "  \"/>\n",
       "<polyline clip-path=\"url(#clip872)\" style=\"stroke:#000000; stroke-linecap:butt; stroke-linejoin:round; stroke-width:2; stroke-opacity:0.1; fill:none\" points=\"\n",
       "  1282.04,1423.18 1282.04,123.472 \n",
       "  \"/>\n",
       "<polyline clip-path=\"url(#clip872)\" style=\"stroke:#000000; stroke-linecap:butt; stroke-linejoin:round; stroke-width:2; stroke-opacity:0.1; fill:none\" points=\"\n",
       "  1686.08,1423.18 1686.08,123.472 \n",
       "  \"/>\n",
       "<polyline clip-path=\"url(#clip872)\" style=\"stroke:#000000; stroke-linecap:butt; stroke-linejoin:round; stroke-width:2; stroke-opacity:0.1; fill:none\" points=\"\n",
       "  2090.13,1423.18 2090.13,123.472 \n",
       "  \"/>\n",
       "<polyline clip-path=\"url(#clip870)\" style=\"stroke:#000000; stroke-linecap:butt; stroke-linejoin:round; stroke-width:4; stroke-opacity:1; fill:none\" points=\"\n",
       "  211.325,1423.18 2352.76,1423.18 \n",
       "  \"/>\n",
       "<polyline clip-path=\"url(#clip870)\" style=\"stroke:#000000; stroke-linecap:butt; stroke-linejoin:round; stroke-width:4; stroke-opacity:1; fill:none\" points=\"\n",
       "  473.953,1423.18 473.953,1404.28 \n",
       "  \"/>\n",
       "<polyline clip-path=\"url(#clip870)\" style=\"stroke:#000000; stroke-linecap:butt; stroke-linejoin:round; stroke-width:4; stroke-opacity:1; fill:none\" points=\"\n",
       "  877.997,1423.18 877.997,1404.28 \n",
       "  \"/>\n",
       "<polyline clip-path=\"url(#clip870)\" style=\"stroke:#000000; stroke-linecap:butt; stroke-linejoin:round; stroke-width:4; stroke-opacity:1; fill:none\" points=\"\n",
       "  1282.04,1423.18 1282.04,1404.28 \n",
       "  \"/>\n",
       "<polyline clip-path=\"url(#clip870)\" style=\"stroke:#000000; stroke-linecap:butt; stroke-linejoin:round; stroke-width:4; stroke-opacity:1; fill:none\" points=\"\n",
       "  1686.08,1423.18 1686.08,1404.28 \n",
       "  \"/>\n",
       "<polyline clip-path=\"url(#clip870)\" style=\"stroke:#000000; stroke-linecap:butt; stroke-linejoin:round; stroke-width:4; stroke-opacity:1; fill:none\" points=\"\n",
       "  2090.13,1423.18 2090.13,1404.28 \n",
       "  \"/>\n",
       "<path clip-path=\"url(#clip870)\" d=\"M442.854 1468.75 L472.529 1468.75 L472.529 1472.69 L442.854 1472.69 L442.854 1468.75 Z\" fill=\"#000000\" fill-rule=\"evenodd\" fill-opacity=\"1\" /><path clip-path=\"url(#clip870)\" d=\"M495.469 1455.09 L483.664 1473.54 L495.469 1473.54 L495.469 1455.09 M494.242 1451.02 L500.122 1451.02 L500.122 1473.54 L505.052 1473.54 L505.052 1477.43 L500.122 1477.43 L500.122 1485.58 L495.469 1485.58 L495.469 1477.43 L479.867 1477.43 L479.867 1472.92 L494.242 1451.02 Z\" fill=\"#000000\" fill-rule=\"evenodd\" fill-opacity=\"1\" /><path clip-path=\"url(#clip870)\" d=\"M847.939 1468.75 L877.615 1468.75 L877.615 1472.69 L847.939 1472.69 L847.939 1468.75 Z\" fill=\"#000000\" fill-rule=\"evenodd\" fill-opacity=\"1\" /><path clip-path=\"url(#clip870)\" d=\"M891.735 1481.64 L908.054 1481.64 L908.054 1485.58 L886.11 1485.58 L886.11 1481.64 Q888.772 1478.89 893.355 1474.26 Q897.962 1469.61 899.142 1468.27 Q901.388 1465.74 902.267 1464.01 Q903.17 1462.25 903.17 1460.56 Q903.17 1457.8 901.226 1456.07 Q899.304 1454.33 896.203 1454.33 Q894.003 1454.33 891.55 1455.09 Q889.119 1455.86 886.342 1457.41 L886.342 1452.69 Q889.166 1451.55 891.619 1450.97 Q894.073 1450.39 896.11 1450.39 Q901.48 1450.39 904.675 1453.08 Q907.869 1455.77 907.869 1460.26 Q907.869 1462.39 907.059 1464.31 Q906.272 1466.2 904.165 1468.8 Q903.587 1469.47 900.485 1472.69 Q897.383 1475.88 891.735 1481.64 Z\" fill=\"#000000\" fill-rule=\"evenodd\" fill-opacity=\"1\" /><path clip-path=\"url(#clip870)\" d=\"M1282.04 1454.1 Q1278.43 1454.1 1276.6 1457.66 Q1274.79 1461.2 1274.79 1468.33 Q1274.79 1475.44 1276.6 1479.01 Q1278.43 1482.55 1282.04 1482.55 Q1285.67 1482.55 1287.48 1479.01 Q1289.31 1475.44 1289.31 1468.33 Q1289.31 1461.2 1287.48 1457.66 Q1285.67 1454.1 1282.04 1454.1 M1282.04 1450.39 Q1287.85 1450.39 1290.91 1455 Q1293.98 1459.58 1293.98 1468.33 Q1293.98 1477.06 1290.91 1481.67 Q1287.85 1486.25 1282.04 1486.25 Q1276.23 1486.25 1273.15 1481.67 Q1270.1 1477.06 1270.1 1468.33 Q1270.1 1459.58 1273.15 1455 Q1276.23 1450.39 1282.04 1450.39 Z\" fill=\"#000000\" fill-rule=\"evenodd\" fill-opacity=\"1\" /><path clip-path=\"url(#clip870)\" d=\"M1680.74 1481.64 L1697.06 1481.64 L1697.06 1485.58 L1675.11 1485.58 L1675.11 1481.64 Q1677.77 1478.89 1682.36 1474.26 Q1686.96 1469.61 1688.14 1468.27 Q1690.39 1465.74 1691.27 1464.01 Q1692.17 1462.25 1692.17 1460.56 Q1692.17 1457.8 1690.23 1456.07 Q1688.31 1454.33 1685.2 1454.33 Q1683.01 1454.33 1680.55 1455.09 Q1678.12 1455.86 1675.34 1457.41 L1675.34 1452.69 Q1678.17 1451.55 1680.62 1450.97 Q1683.07 1450.39 1685.11 1450.39 Q1690.48 1450.39 1693.68 1453.08 Q1696.87 1455.77 1696.87 1460.26 Q1696.87 1462.39 1696.06 1464.31 Q1695.27 1466.2 1693.17 1468.8 Q1692.59 1469.47 1689.49 1472.69 Q1686.38 1475.88 1680.74 1481.64 Z\" fill=\"#000000\" fill-rule=\"evenodd\" fill-opacity=\"1\" /><path clip-path=\"url(#clip870)\" d=\"M2093.14 1455.09 L2081.33 1473.54 L2093.14 1473.54 L2093.14 1455.09 M2091.91 1451.02 L2097.79 1451.02 L2097.79 1473.54 L2102.72 1473.54 L2102.72 1477.43 L2097.79 1477.43 L2097.79 1485.58 L2093.14 1485.58 L2093.14 1477.43 L2077.54 1477.43 L2077.54 1472.92 L2091.91 1451.02 Z\" fill=\"#000000\" fill-rule=\"evenodd\" fill-opacity=\"1\" /><path clip-path=\"url(#clip870)\" d=\"M1243.86 1532.4 L1230.97 1549.74 L1244.53 1568.04 L1237.62 1568.04 L1227.25 1554.04 L1216.87 1568.04 L1209.96 1568.04 L1223.81 1549.39 L1211.14 1532.4 L1218.05 1532.4 L1227.5 1545.1 L1236.96 1532.4 L1243.86 1532.4 Z\" fill=\"#000000\" fill-rule=\"evenodd\" fill-opacity=\"1\" /><path clip-path=\"url(#clip870)\" d=\"M1272.99 1518.52 L1286.48 1518.52 L1286.48 1523.07 L1278.84 1523.07 L1278.84 1572.09 L1286.48 1572.09 L1286.48 1576.64 L1272.99 1576.64 L1272.99 1518.52 Z\" fill=\"#000000\" fill-rule=\"evenodd\" fill-opacity=\"1\" /><path clip-path=\"url(#clip870)\" d=\"M1300.9 1562.63 L1311.4 1562.63 L1311.4 1526.38 L1299.98 1528.67 L1299.98 1522.82 L1311.34 1520.52 L1317.77 1520.52 L1317.77 1562.63 L1328.27 1562.63 L1328.27 1568.04 L1300.9 1568.04 L1300.9 1562.63 Z\" fill=\"#000000\" fill-rule=\"evenodd\" fill-opacity=\"1\" /><path clip-path=\"url(#clip870)\" d=\"M1354.12 1518.52 L1354.12 1576.64 L1340.62 1576.64 L1340.62 1572.09 L1348.23 1572.09 L1348.23 1523.07 L1340.62 1523.07 L1340.62 1518.52 L1354.12 1518.52 Z\" fill=\"#000000\" fill-rule=\"evenodd\" fill-opacity=\"1\" /><polyline clip-path=\"url(#clip872)\" style=\"stroke:#000000; stroke-linecap:butt; stroke-linejoin:round; stroke-width:2; stroke-opacity:0.1; fill:none\" points=\"\n",
       "  211.325,1305.05 2352.76,1305.05 \n",
       "  \"/>\n",
       "<polyline clip-path=\"url(#clip872)\" style=\"stroke:#000000; stroke-linecap:butt; stroke-linejoin:round; stroke-width:2; stroke-opacity:0.1; fill:none\" points=\"\n",
       "  211.325,1127.81 2352.76,1127.81 \n",
       "  \"/>\n",
       "<polyline clip-path=\"url(#clip872)\" style=\"stroke:#000000; stroke-linecap:butt; stroke-linejoin:round; stroke-width:2; stroke-opacity:0.1; fill:none\" points=\"\n",
       "  211.325,950.569 2352.76,950.569 \n",
       "  \"/>\n",
       "<polyline clip-path=\"url(#clip872)\" style=\"stroke:#000000; stroke-linecap:butt; stroke-linejoin:round; stroke-width:2; stroke-opacity:0.1; fill:none\" points=\"\n",
       "  211.325,773.326 2352.76,773.326 \n",
       "  \"/>\n",
       "<polyline clip-path=\"url(#clip872)\" style=\"stroke:#000000; stroke-linecap:butt; stroke-linejoin:round; stroke-width:2; stroke-opacity:0.1; fill:none\" points=\"\n",
       "  211.325,596.083 2352.76,596.083 \n",
       "  \"/>\n",
       "<polyline clip-path=\"url(#clip872)\" style=\"stroke:#000000; stroke-linecap:butt; stroke-linejoin:round; stroke-width:2; stroke-opacity:0.1; fill:none\" points=\"\n",
       "  211.325,418.84 2352.76,418.84 \n",
       "  \"/>\n",
       "<polyline clip-path=\"url(#clip872)\" style=\"stroke:#000000; stroke-linecap:butt; stroke-linejoin:round; stroke-width:2; stroke-opacity:0.1; fill:none\" points=\"\n",
       "  211.325,241.597 2352.76,241.597 \n",
       "  \"/>\n",
       "<polyline clip-path=\"url(#clip870)\" style=\"stroke:#000000; stroke-linecap:butt; stroke-linejoin:round; stroke-width:4; stroke-opacity:1; fill:none\" points=\"\n",
       "  211.325,1423.18 211.325,123.472 \n",
       "  \"/>\n",
       "<polyline clip-path=\"url(#clip870)\" style=\"stroke:#000000; stroke-linecap:butt; stroke-linejoin:round; stroke-width:4; stroke-opacity:1; fill:none\" points=\"\n",
       "  211.325,1305.05 230.222,1305.05 \n",
       "  \"/>\n",
       "<polyline clip-path=\"url(#clip870)\" style=\"stroke:#000000; stroke-linecap:butt; stroke-linejoin:round; stroke-width:4; stroke-opacity:1; fill:none\" points=\"\n",
       "  211.325,1127.81 230.222,1127.81 \n",
       "  \"/>\n",
       "<polyline clip-path=\"url(#clip870)\" style=\"stroke:#000000; stroke-linecap:butt; stroke-linejoin:round; stroke-width:4; stroke-opacity:1; fill:none\" points=\"\n",
       "  211.325,950.569 230.222,950.569 \n",
       "  \"/>\n",
       "<polyline clip-path=\"url(#clip870)\" style=\"stroke:#000000; stroke-linecap:butt; stroke-linejoin:round; stroke-width:4; stroke-opacity:1; fill:none\" points=\"\n",
       "  211.325,773.326 230.222,773.326 \n",
       "  \"/>\n",
       "<polyline clip-path=\"url(#clip870)\" style=\"stroke:#000000; stroke-linecap:butt; stroke-linejoin:round; stroke-width:4; stroke-opacity:1; fill:none\" points=\"\n",
       "  211.325,596.083 230.222,596.083 \n",
       "  \"/>\n",
       "<polyline clip-path=\"url(#clip870)\" style=\"stroke:#000000; stroke-linecap:butt; stroke-linejoin:round; stroke-width:4; stroke-opacity:1; fill:none\" points=\"\n",
       "  211.325,418.84 230.222,418.84 \n",
       "  \"/>\n",
       "<polyline clip-path=\"url(#clip870)\" style=\"stroke:#000000; stroke-linecap:butt; stroke-linejoin:round; stroke-width:4; stroke-opacity:1; fill:none\" points=\"\n",
       "  211.325,241.597 230.222,241.597 \n",
       "  \"/>\n",
       "<path clip-path=\"url(#clip870)\" d=\"M114.26 1305.51 L143.936 1305.51 L143.936 1309.44 L114.26 1309.44 L114.26 1305.51 Z\" fill=\"#000000\" fill-rule=\"evenodd\" fill-opacity=\"1\" /><path clip-path=\"url(#clip870)\" d=\"M168.195 1303.7 Q171.552 1304.42 173.427 1306.69 Q175.325 1308.96 175.325 1312.29 Q175.325 1317.4 171.806 1320.2 Q168.288 1323.01 161.806 1323.01 Q159.63 1323.01 157.315 1322.57 Q155.024 1322.15 152.57 1321.29 L152.57 1316.78 Q154.515 1317.91 156.829 1318.49 Q159.144 1319.07 161.667 1319.07 Q166.065 1319.07 168.357 1317.33 Q170.672 1315.6 170.672 1312.29 Q170.672 1309.23 168.519 1307.52 Q166.39 1305.78 162.57 1305.78 L158.542 1305.78 L158.542 1301.94 L162.755 1301.94 Q166.204 1301.94 168.033 1300.58 Q169.862 1299.19 169.862 1296.59 Q169.862 1293.93 167.964 1292.52 Q166.089 1291.08 162.57 1291.08 Q160.649 1291.08 158.45 1291.5 Q156.251 1291.92 153.612 1292.8 L153.612 1288.63 Q156.274 1287.89 158.589 1287.52 Q160.927 1287.15 162.987 1287.15 Q168.311 1287.15 171.413 1289.58 Q174.514 1291.99 174.514 1296.11 Q174.514 1298.98 172.871 1300.97 Q171.227 1302.94 168.195 1303.7 Z\" fill=\"#000000\" fill-rule=\"evenodd\" fill-opacity=\"1\" /><path clip-path=\"url(#clip870)\" d=\"M115.209 1128.26 L144.885 1128.26 L144.885 1132.2 L115.209 1132.2 L115.209 1128.26 Z\" fill=\"#000000\" fill-rule=\"evenodd\" fill-opacity=\"1\" /><path clip-path=\"url(#clip870)\" d=\"M159.005 1141.16 L175.325 1141.16 L175.325 1145.09 L153.38 1145.09 L153.38 1141.16 Q156.042 1138.4 160.626 1133.77 Q165.232 1129.12 166.413 1127.78 Q168.658 1125.25 169.538 1123.52 Q170.44 1121.76 170.44 1120.07 Q170.44 1117.31 168.496 1115.58 Q166.575 1113.84 163.473 1113.84 Q161.274 1113.84 158.82 1114.61 Q156.39 1115.37 153.612 1116.92 L153.612 1112.2 Q156.436 1111.06 158.89 1110.49 Q161.343 1109.91 163.38 1109.91 Q168.751 1109.91 171.945 1112.59 Q175.139 1115.28 175.139 1119.77 Q175.139 1121.9 174.329 1123.82 Q173.542 1125.72 171.436 1128.31 Q170.857 1128.98 167.755 1132.2 Q164.653 1135.39 159.005 1141.16 Z\" fill=\"#000000\" fill-rule=\"evenodd\" fill-opacity=\"1\" /><path clip-path=\"url(#clip870)\" d=\"M114.839 951.02 L144.515 951.02 L144.515 954.955 L114.839 954.955 L114.839 951.02 Z\" fill=\"#000000\" fill-rule=\"evenodd\" fill-opacity=\"1\" /><path clip-path=\"url(#clip870)\" d=\"M155.417 963.914 L163.056 963.914 L163.056 937.548 L154.746 939.215 L154.746 934.956 L163.01 933.289 L167.686 933.289 L167.686 963.914 L175.325 963.914 L175.325 967.849 L155.417 967.849 L155.417 963.914 Z\" fill=\"#000000\" fill-rule=\"evenodd\" fill-opacity=\"1\" /><path clip-path=\"url(#clip870)\" d=\"M163.38 759.125 Q159.769 759.125 157.94 762.689 Q156.135 766.231 156.135 773.361 Q156.135 780.467 157.94 784.032 Q159.769 787.574 163.38 787.574 Q167.015 787.574 168.82 784.032 Q170.649 780.467 170.649 773.361 Q170.649 766.231 168.82 762.689 Q167.015 759.125 163.38 759.125 M163.38 755.421 Q169.19 755.421 172.246 760.027 Q175.325 764.611 175.325 773.361 Q175.325 782.088 172.246 786.694 Q169.19 791.277 163.38 791.277 Q157.57 791.277 154.491 786.694 Q151.436 782.088 151.436 773.361 Q151.436 764.611 154.491 760.027 Q157.57 755.421 163.38 755.421 Z\" fill=\"#000000\" fill-rule=\"evenodd\" fill-opacity=\"1\" /><path clip-path=\"url(#clip870)\" d=\"M155.417 609.428 L163.056 609.428 L163.056 583.062 L154.746 584.729 L154.746 580.47 L163.01 578.803 L167.686 578.803 L167.686 609.428 L175.325 609.428 L175.325 613.363 L155.417 613.363 L155.417 609.428 Z\" fill=\"#000000\" fill-rule=\"evenodd\" fill-opacity=\"1\" /><path clip-path=\"url(#clip870)\" d=\"M159.005 432.185 L175.325 432.185 L175.325 436.12 L153.38 436.12 L153.38 432.185 Q156.042 429.43 160.626 424.801 Q165.232 420.148 166.413 418.806 Q168.658 416.282 169.538 414.546 Q170.44 412.787 170.44 411.097 Q170.44 408.343 168.496 406.607 Q166.575 404.87 163.473 404.87 Q161.274 404.87 158.82 405.634 Q156.39 406.398 153.612 407.949 L153.612 403.227 Q156.436 402.093 158.89 401.514 Q161.343 400.935 163.38 400.935 Q168.751 400.935 171.945 403.62 Q175.139 406.306 175.139 410.796 Q175.139 412.926 174.329 414.847 Q173.542 416.745 171.436 419.338 Q170.857 420.009 167.755 423.227 Q164.653 426.421 159.005 432.185 Z\" fill=\"#000000\" fill-rule=\"evenodd\" fill-opacity=\"1\" /><path clip-path=\"url(#clip870)\" d=\"M168.195 240.243 Q171.552 240.961 173.427 243.229 Q175.325 245.498 175.325 248.831 Q175.325 253.947 171.806 256.748 Q168.288 259.549 161.806 259.549 Q159.63 259.549 157.315 259.109 Q155.024 258.692 152.57 257.836 L152.57 253.322 Q154.515 254.456 156.829 255.035 Q159.144 255.613 161.667 255.613 Q166.065 255.613 168.357 253.877 Q170.672 252.141 170.672 248.831 Q170.672 245.776 168.519 244.063 Q166.39 242.327 162.57 242.327 L158.542 242.327 L158.542 238.484 L162.755 238.484 Q166.204 238.484 168.033 237.118 Q169.862 235.729 169.862 233.137 Q169.862 230.475 167.964 229.063 Q166.089 227.628 162.57 227.628 Q160.649 227.628 158.45 228.044 Q156.251 228.461 153.612 229.34 L153.612 225.174 Q156.274 224.433 158.589 224.063 Q160.927 223.692 162.987 223.692 Q168.311 223.692 171.413 226.123 Q174.514 228.53 174.514 232.651 Q174.514 235.521 172.871 237.512 Q171.227 239.479 168.195 240.243 Z\" fill=\"#000000\" fill-rule=\"evenodd\" fill-opacity=\"1\" /><path clip-path=\"url(#clip870)\" d=\"M67.3143 826.336 Q73.68 828.819 75.6216 831.174 Q77.5631 833.53 77.5631 837.476 L77.5631 842.155 L72.6615 842.155 L72.6615 838.718 Q72.6615 836.299 71.5157 834.962 Q70.3699 833.625 66.1048 832.002 L63.4312 830.952 L28.3562 845.37 L28.3562 839.163 L56.238 828.023 L28.3562 816.883 L28.3562 810.677 L67.3143 826.336 Z\" fill=\"#000000\" fill-rule=\"evenodd\" fill-opacity=\"1\" /><path clip-path=\"url(#clip870)\" d=\"M14.479 782.413 L14.479 768.918 L19.0304 768.918 L19.0304 776.557 L68.0464 776.557 L68.0464 768.918 L72.5979 768.918 L72.5979 782.413 L14.479 782.413 Z\" fill=\"#000000\" fill-rule=\"evenodd\" fill-opacity=\"1\" /><path clip-path=\"url(#clip870)\" d=\"M58.5933 754.499 L58.5933 743.996 L22.3406 743.996 L24.6323 755.422 L18.7758 755.422 L16.4842 744.06 L16.4842 737.63 L58.5933 737.63 L58.5933 727.127 L64.0042 727.127 L64.0042 754.499 L58.5933 754.499 Z\" fill=\"#000000\" fill-rule=\"evenodd\" fill-opacity=\"1\" /><path clip-path=\"url(#clip870)\" d=\"M14.479 701.282 L72.5979 701.282 L72.5979 714.777 L68.0464 714.777 L68.0464 707.17 L19.0304 707.17 L19.0304 714.777 L14.479 714.777 L14.479 701.282 Z\" fill=\"#000000\" fill-rule=\"evenodd\" fill-opacity=\"1\" /><path clip-path=\"url(#clip870)\" d=\"M1071.72 28.5427 L1071.72 35.5912 Q1068.56 33.9709 1065.15 33.1607 Q1061.75 32.3505 1058.11 32.3505 Q1052.56 32.3505 1049.76 34.0519 Q1047.01 35.7533 1047.01 39.156 Q1047.01 41.7486 1048.99 43.2475 Q1050.98 44.7058 1056.97 46.0426 L1059.52 46.6097 Q1067.46 48.3111 1070.79 51.4303 Q1074.15 54.509 1074.15 60.0587 Q1074.15 66.3781 1069.12 70.0644 Q1064.14 73.7508 1055.39 73.7508 Q1051.75 73.7508 1047.78 73.0216 Q1043.85 72.3329 1039.47 70.9151 L1039.47 63.2184 Q1043.6 65.3654 1047.61 66.4591 Q1051.62 67.5124 1055.55 67.5124 Q1060.82 67.5124 1063.66 65.73 Q1066.49 63.9071 1066.49 60.6258 Q1066.49 57.5877 1064.43 55.9673 Q1062.4 54.3469 1055.47 52.8481 L1052.88 52.2405 Q1045.95 50.7821 1042.87 47.7845 Q1039.8 44.7463 1039.8 39.4801 Q1039.8 33.0797 1044.33 29.5959 Q1048.87 26.1121 1057.22 26.1121 Q1061.35 26.1121 1064.99 26.7198 Q1068.64 27.3274 1071.72 28.5427 Z\" fill=\"#000000\" fill-rule=\"evenodd\" fill-opacity=\"1\" /><path clip-path=\"url(#clip870)\" d=\"M1086.02 27.2059 L1093.47 27.2059 L1093.47 72.576 L1086.02 72.576 L1086.02 27.2059 M1086.02 9.54393 L1093.47 9.54393 L1093.47 18.9825 L1086.02 18.9825 L1086.02 9.54393 Z\" fill=\"#000000\" fill-rule=\"evenodd\" fill-opacity=\"1\" /><path clip-path=\"url(#clip870)\" d=\"M1146.78 45.1919 L1146.78 72.576 L1139.33 72.576 L1139.33 45.4349 Q1139.33 38.994 1136.82 35.7938 Q1134.3 32.5936 1129.28 32.5936 Q1123.24 32.5936 1119.76 36.4419 Q1116.28 40.2903 1116.28 46.9338 L1116.28 72.576 L1108.78 72.576 L1108.78 27.2059 L1116.28 27.2059 L1116.28 34.2544 Q1118.95 30.163 1122.56 28.1376 Q1126.2 26.1121 1130.94 26.1121 Q1138.76 26.1121 1142.77 30.9732 Q1146.78 35.7938 1146.78 45.1919 Z\" fill=\"#000000\" fill-rule=\"evenodd\" fill-opacity=\"1\" /><path clip-path=\"url(#clip870)\" d=\"M1179.55 9.62495 Q1174.12 18.942 1171.49 28.0566 Q1168.86 37.1711 1168.86 46.5287 Q1168.86 55.8863 1171.49 65.0818 Q1174.16 74.2369 1179.55 83.5134 L1173.07 83.5134 Q1166.99 73.9938 1163.96 64.7983 Q1160.96 55.6027 1160.96 46.5287 Q1160.96 37.4952 1163.96 28.3401 Q1166.95 19.1851 1173.07 9.62495 L1179.55 9.62495 Z\" fill=\"#000000\" fill-rule=\"evenodd\" fill-opacity=\"1\" /><path clip-path=\"url(#clip870)\" d=\"M1231.73 27.2059 L1215.32 49.2833 L1232.58 72.576 L1223.79 72.576 L1210.58 54.752 L1197.38 72.576 L1188.59 72.576 L1206.21 48.8377 L1190.08 27.2059 L1198.88 27.2059 L1210.91 43.369 L1222.94 27.2059 L1231.73 27.2059 Z\" fill=\"#000000\" fill-rule=\"evenodd\" fill-opacity=\"1\" /><path clip-path=\"url(#clip870)\" d=\"M1241.94 9.62495 L1248.42 9.62495 Q1254.49 19.1851 1257.49 28.3401 Q1260.53 37.4952 1260.53 46.5287 Q1260.53 55.6027 1257.49 64.7983 Q1254.49 73.9938 1248.42 83.5134 L1241.94 83.5134 Q1247.32 74.2369 1249.96 65.0818 Q1252.63 55.8863 1252.63 46.5287 Q1252.63 37.1711 1249.96 28.0566 Q1247.32 18.942 1241.94 9.62495 Z\" fill=\"#000000\" fill-rule=\"evenodd\" fill-opacity=\"1\" /><path clip-path=\"url(#clip870)\" d=\"M1298.08 46.5287 L1319.92 46.5287 L1319.92 53.1722 L1298.08 53.1722 L1298.08 46.5287 Z\" fill=\"#000000\" fill-rule=\"evenodd\" fill-opacity=\"1\" /><path clip-path=\"url(#clip870)\" d=\"M1395.87 27.2059 L1379.46 49.2833 L1396.72 72.576 L1387.93 72.576 L1374.72 54.752 L1361.52 72.576 L1352.73 72.576 L1370.35 48.8377 L1354.23 27.2059 L1363.02 27.2059 L1375.05 43.369 L1387.08 27.2059 L1395.87 27.2059 Z\" fill=\"#000000\" fill-rule=\"evenodd\" fill-opacity=\"1\" /><path clip-path=\"url(#clip870)\" d=\"M1446.87 12.096 L1453.76 12.096 L1432.69 80.2727 L1425.81 80.2727 L1446.87 12.096 Z\" fill=\"#000000\" fill-rule=\"evenodd\" fill-opacity=\"1\" /><path clip-path=\"url(#clip870)\" d=\"M1496.05 65.6895 L1524.61 65.6895 L1524.61 72.576 L1486.21 72.576 L1486.21 65.6895 Q1490.86 60.8689 1498.89 52.7671 Q1506.95 44.6248 1509.01 42.2752 Q1512.94 37.8598 1514.48 34.8216 Q1516.06 31.7429 1516.06 28.7857 Q1516.06 23.9651 1512.66 20.927 Q1509.3 17.8888 1503.87 17.8888 Q1500.02 17.8888 1495.73 19.2256 Q1491.47 20.5624 1486.61 23.2765 L1486.61 15.0127 Q1491.55 13.0277 1495.85 12.015 Q1500.14 11.0023 1503.71 11.0023 Q1513.1 11.0023 1518.69 15.7013 Q1524.28 20.4004 1524.28 28.2591 Q1524.28 31.9859 1522.87 35.3482 Q1521.49 38.6699 1517.8 43.2069 Q1516.79 44.3817 1511.36 50.0125 Q1505.93 55.6027 1496.05 65.6895 Z\" fill=\"#000000\" fill-rule=\"evenodd\" fill-opacity=\"1\" /><polyline clip-path=\"url(#clip872)\" style=\"stroke:#009af9; stroke-linecap:butt; stroke-linejoin:round; stroke-width:4; stroke-opacity:1; fill:none\" points=\"\n",
       "  271.931,160.256 276.863,161.243 281.796,162.332 286.728,163.524 291.66,164.819 337.266,181.75 382.872,207.67 428.478,242.279 474.084,284.835 528.899,344.859 \n",
       "  583.713,412.06 630.058,472.15 676.403,533.034 726.747,597.597 777.091,657.967 823.503,707.862 869.916,750.626 919.675,787.224 969.434,813.388 998.259,823.643 \n",
       "  1027.08,830.344 1055.91,833.614 1084.74,833.642 1187.2,811.907 1277.06,775.512 1375.02,735.388 1473.57,713.373 1528.04,714.933 1582.52,728.513 1634.36,753.286 \n",
       "  1686.19,789.489 1740.09,838.3 1793.98,896.729 1839.35,951.58 1884.72,1009.76 1940.11,1082.49 1995.5,1153.69 2047.57,1216.09 2099.64,1271.43 2141.35,1309.19 \n",
       "  2183.06,1340.2 2224.77,1363.93 2266.47,1380.13 2272.89,1381.96 2279.31,1383.61 2285.73,1385.09 2292.15,1386.4 \n",
       "  \"/>\n",
       "</svg>\n"
      ]
     },
     "execution_count": 6,
     "metadata": {},
     "output_type": "execute_result"
    }
   ],
   "source": [
    "plot(f1, -5, 5, xlab=\"x [1]\", ylab=\"y [1]\", label=\"\", title=\"sin(x) - x / 2\")"
   ]
  },
  {
   "cell_type": "code",
   "execution_count": 7,
   "id": "9b0f9212",
   "metadata": {},
   "outputs": [
    {
     "data": {
      "text/plain": [
       "Results of univariate zero finding:\n",
       "\n",
       "* Converged to: 1.895494267033981\n",
       "* Algorithm: FalsePosition{:anderson_bjork}()\n",
       "* iterations: 9\n",
       "* function evaluations ≈ 11\n",
       "* stopped as f(x_n) = 0\n",
       "\n",
       "Trace:\n",
       "x₁ = 0,\t fx₁ = 0\n",
       "x₂ = 5,\t fx₂ = -3.4589242746631386\n",
       "x₃ = 2.5,\t fx₃ = -0.65152785589604356\n",
       "x₄ = 1.25,\t fx₄ = 0.3239846193555862\n",
       "x₅ = 1.6651466890159652,\t fx₅ = 0.16297896098014875\n",
       "x₆ = 1.9446763851217526,\t fx₆ = -0.041420950418796343\n",
       "x₇ = 1.8880306380481127,\t fx₇ = 0.0060864607812989302\n",
       "x₈ = 1.8952878661159387,\t fx₈ = 0.00016902681276442788\n",
       "x₉ = 1.8954942966408586,\t fx₉ = -2.4248700047913019e-08\n",
       "x₁₀ = 1.8954942670304449,\t fx₁₀ = 2.8961277820371834e-12\n",
       "x₁₁ = 1.8954942670339809,\t fx₁₁ = 0\n",
       "\n"
      ]
     },
     "metadata": {},
     "output_type": "display_data"
    },
    {
     "data": {
      "text/plain": [
       "Results of univariate zero finding:\n",
       "\n",
       "* Converged to: 0.0\n",
       "* Algorithm: Roots.Newton()\n",
       "* iterations: 1\n",
       "* function evaluations ≈ 2\n",
       "* stopped as f(x_n) = 0\n",
       "\n",
       "Trace:\n",
       "x₁ = 0,\t fx₁ = 0\n",
       "x₂ = 0,\t fx₂ = 0\n",
       "\n"
      ]
     },
     "metadata": {},
     "output_type": "display_data"
    },
    {
     "data": {
      "text/plain": [
       "Results of univariate zero finding:\n",
       "\n",
       "* Converged to: 0.0\n",
       "* Algorithm: Secant()\n",
       "* iterations: 0\n",
       "* function evaluations ≈ 2\n",
       "* stopped as f(x_n) = 0\n",
       "\n",
       "Trace:\n",
       "x₁ = 6.0554544523933395e-06,\t fx₁ = 3.027727226159662e-06\n",
       "x₂ = 0,\t fx₂ = 0\n",
       "\n"
      ]
     },
     "metadata": {},
     "output_type": "display_data"
    },
    {
     "data": {
      "text/plain": [
       "Algorithm has not been run"
      ]
     },
     "execution_count": 7,
     "metadata": {},
     "output_type": "execute_result"
    }
   ],
   "source": [
    "test(f1, -5, 5)"
   ]
  },
  {
   "cell_type": "code",
   "execution_count": 8,
   "id": "73ad7551",
   "metadata": {},
   "outputs": [
    {
     "data": {
      "text/html": [
       "<div class=\"data-frame\"><p>3 rows × 6 columns</p><table class=\"data-frame\"><thead><tr><th></th><th>f</th><th>method</th><th>iterations</th><th>calls</th><th>x_zero</th><th>isZero</th></tr><tr><th></th><th title=\"String\">String</th><th title=\"String\">String</th><th title=\"Int64\">Int64</th><th title=\"Int64\">Int64</th><th title=\"Float64\">Float64</th><th title=\"Bool\">Bool</th></tr></thead><tbody><tr><th>1</th><td>sin(x) - x/2</td><td>interval</td><td>9</td><td>11</td><td>1.89549</td><td>1</td></tr><tr><th>2</th><td>sin(x) - x/2</td><td>derivative</td><td>1</td><td>2</td><td>0.0</td><td>1</td></tr><tr><th>3</th><td>sin(x) - x/2</td><td>derivativeApprox</td><td>0</td><td>2</td><td>0.0</td><td>1</td></tr></tbody></table></div>"
      ],
      "text/latex": [
       "\\begin{tabular}{r|cccccc}\n",
       "\t& f & method & iterations & calls & x\\_zero & isZero\\\\\n",
       "\t\\hline\n",
       "\t& String & String & Int64 & Int64 & Float64 & Bool\\\\\n",
       "\t\\hline\n",
       "\t1 & sin(x) - x/2 & interval & 9 & 11 & 1.89549 & 1 \\\\\n",
       "\t2 & sin(x) - x/2 & derivative & 1 & 2 & 0.0 & 1 \\\\\n",
       "\t3 & sin(x) - x/2 & derivativeApprox & 0 & 2 & 0.0 & 1 \\\\\n",
       "\\end{tabular}\n"
      ],
      "text/plain": [
       "\u001b[1m3×6 DataFrame\u001b[0m\n",
       "\u001b[1m Row \u001b[0m│\u001b[1m f            \u001b[0m\u001b[1m method           \u001b[0m\u001b[1m iterations \u001b[0m\u001b[1m calls \u001b[0m\u001b[1m x_zero  \u001b[0m\u001b[1m isZero \u001b[0m\n",
       "\u001b[1m     \u001b[0m│\u001b[90m String       \u001b[0m\u001b[90m String           \u001b[0m\u001b[90m Int64      \u001b[0m\u001b[90m Int64 \u001b[0m\u001b[90m Float64 \u001b[0m\u001b[90m Bool   \u001b[0m\n",
       "─────┼────────────────────────────────────────────────────────────────────\n",
       "   1 │ sin(x) - x/2  interval                   9     11  1.89549    true\n",
       "   2 │ sin(x) - x/2  derivative                 1      2  0.0        true\n",
       "   3 │ sin(x) - x/2  derivativeApprox           0      2  0.0        true"
      ]
     },
     "execution_count": 8,
     "metadata": {},
     "output_type": "execute_result"
    }
   ],
   "source": [
    "push!(df, [\"sin(x) - x/2\" \"interval\" 9 11 1.895494267033981 iszero(f1(1.895494267033981))])\n",
    "push!(df, [\"sin(x) - x/2\" \"derivative\" 1 2 0.0 iszero(f1(0.0))])\n",
    "push!(df, [\"sin(x) - x/2\" \"derivativeApprox\" 0 2 0.0 iszero(f1(0.0))])"
   ]
  },
  {
   "cell_type": "code",
   "execution_count": 9,
   "id": "a0a3501a",
   "metadata": {},
   "outputs": [
    {
     "data": {
      "image/svg+xml": [
       "<?xml version=\"1.0\" encoding=\"utf-8\"?>\n",
       "<svg xmlns=\"http://www.w3.org/2000/svg\" xmlns:xlink=\"http://www.w3.org/1999/xlink\" width=\"600\" height=\"400\" viewBox=\"0 0 2400 1600\">\n",
       "<defs>\n",
       "  <clipPath id=\"clip910\">\n",
       "    <rect x=\"0\" y=\"0\" width=\"2400\" height=\"1600\"/>\n",
       "  </clipPath>\n",
       "</defs>\n",
       "<path clip-path=\"url(#clip910)\" d=\"\n",
       "M0 1600 L2400 1600 L2400 0 L0 0  Z\n",
       "  \" fill=\"#ffffff\" fill-rule=\"evenodd\" fill-opacity=\"1\"/>\n",
       "<defs>\n",
       "  <clipPath id=\"clip911\">\n",
       "    <rect x=\"480\" y=\"0\" width=\"1681\" height=\"1600\"/>\n",
       "  </clipPath>\n",
       "</defs>\n",
       "<path clip-path=\"url(#clip910)\" d=\"\n",
       "M257.204 1423.18 L2352.76 1423.18 L2352.76 123.472 L257.204 123.472  Z\n",
       "  \" fill=\"#ffffff\" fill-rule=\"evenodd\" fill-opacity=\"1\"/>\n",
       "<defs>\n",
       "  <clipPath id=\"clip912\">\n",
       "    <rect x=\"257\" y=\"123\" width=\"2097\" height=\"1301\"/>\n",
       "  </clipPath>\n",
       "</defs>\n",
       "<polyline clip-path=\"url(#clip912)\" style=\"stroke:#000000; stroke-linecap:butt; stroke-linejoin:round; stroke-width:2; stroke-opacity:0.1; fill:none\" points=\"\n",
       "  496.234,1423.18 496.234,123.472 \n",
       "  \"/>\n",
       "<polyline clip-path=\"url(#clip912)\" style=\"stroke:#000000; stroke-linecap:butt; stroke-linejoin:round; stroke-width:2; stroke-opacity:0.1; fill:none\" points=\"\n",
       "  945.537,1423.18 945.537,123.472 \n",
       "  \"/>\n",
       "<polyline clip-path=\"url(#clip912)\" style=\"stroke:#000000; stroke-linecap:butt; stroke-linejoin:round; stroke-width:2; stroke-opacity:0.1; fill:none\" points=\"\n",
       "  1394.84,1423.18 1394.84,123.472 \n",
       "  \"/>\n",
       "<polyline clip-path=\"url(#clip912)\" style=\"stroke:#000000; stroke-linecap:butt; stroke-linejoin:round; stroke-width:2; stroke-opacity:0.1; fill:none\" points=\"\n",
       "  1844.14,1423.18 1844.14,123.472 \n",
       "  \"/>\n",
       "<polyline clip-path=\"url(#clip912)\" style=\"stroke:#000000; stroke-linecap:butt; stroke-linejoin:round; stroke-width:2; stroke-opacity:0.1; fill:none\" points=\"\n",
       "  2293.45,1423.18 2293.45,123.472 \n",
       "  \"/>\n",
       "<polyline clip-path=\"url(#clip910)\" style=\"stroke:#000000; stroke-linecap:butt; stroke-linejoin:round; stroke-width:4; stroke-opacity:1; fill:none\" points=\"\n",
       "  257.204,1423.18 2352.76,1423.18 \n",
       "  \"/>\n",
       "<polyline clip-path=\"url(#clip910)\" style=\"stroke:#000000; stroke-linecap:butt; stroke-linejoin:round; stroke-width:4; stroke-opacity:1; fill:none\" points=\"\n",
       "  496.234,1423.18 496.234,1404.28 \n",
       "  \"/>\n",
       "<polyline clip-path=\"url(#clip910)\" style=\"stroke:#000000; stroke-linecap:butt; stroke-linejoin:round; stroke-width:4; stroke-opacity:1; fill:none\" points=\"\n",
       "  945.537,1423.18 945.537,1404.28 \n",
       "  \"/>\n",
       "<polyline clip-path=\"url(#clip910)\" style=\"stroke:#000000; stroke-linecap:butt; stroke-linejoin:round; stroke-width:4; stroke-opacity:1; fill:none\" points=\"\n",
       "  1394.84,1423.18 1394.84,1404.28 \n",
       "  \"/>\n",
       "<polyline clip-path=\"url(#clip910)\" style=\"stroke:#000000; stroke-linecap:butt; stroke-linejoin:round; stroke-width:4; stroke-opacity:1; fill:none\" points=\"\n",
       "  1844.14,1423.18 1844.14,1404.28 \n",
       "  \"/>\n",
       "<polyline clip-path=\"url(#clip910)\" style=\"stroke:#000000; stroke-linecap:butt; stroke-linejoin:round; stroke-width:4; stroke-opacity:1; fill:none\" points=\"\n",
       "  2293.45,1423.18 2293.45,1404.28 \n",
       "  \"/>\n",
       "<path clip-path=\"url(#clip910)\" d=\"M473.618 1454.1 Q470.007 1454.1 468.178 1457.66 Q466.373 1461.2 466.373 1468.33 Q466.373 1475.44 468.178 1479.01 Q470.007 1482.55 473.618 1482.55 Q477.252 1482.55 479.058 1479.01 Q480.886 1475.44 480.886 1468.33 Q480.886 1461.2 479.058 1457.66 Q477.252 1454.1 473.618 1454.1 M473.618 1450.39 Q479.428 1450.39 482.484 1455 Q485.562 1459.58 485.562 1468.33 Q485.562 1477.06 482.484 1481.67 Q479.428 1486.25 473.618 1486.25 Q467.808 1486.25 464.729 1481.67 Q461.674 1477.06 461.674 1468.33 Q461.674 1459.58 464.729 1455 Q467.808 1450.39 473.618 1450.39 Z\" fill=\"#000000\" fill-rule=\"evenodd\" fill-opacity=\"1\" /><path clip-path=\"url(#clip910)\" d=\"M493.78 1479.7 L498.664 1479.7 L498.664 1485.58 L493.78 1485.58 L493.78 1479.7 Z\" fill=\"#000000\" fill-rule=\"evenodd\" fill-opacity=\"1\" /><path clip-path=\"url(#clip910)\" d=\"M518.849 1454.1 Q515.238 1454.1 513.409 1457.66 Q511.604 1461.2 511.604 1468.33 Q511.604 1475.44 513.409 1479.01 Q515.238 1482.55 518.849 1482.55 Q522.483 1482.55 524.289 1479.01 Q526.118 1475.44 526.118 1468.33 Q526.118 1461.2 524.289 1457.66 Q522.483 1454.1 518.849 1454.1 M518.849 1450.39 Q524.659 1450.39 527.715 1455 Q530.794 1459.58 530.794 1468.33 Q530.794 1477.06 527.715 1481.67 Q524.659 1486.25 518.849 1486.25 Q513.039 1486.25 509.96 1481.67 Q506.905 1477.06 506.905 1468.33 Q506.905 1459.58 509.96 1455 Q513.039 1450.39 518.849 1450.39 Z\" fill=\"#000000\" fill-rule=\"evenodd\" fill-opacity=\"1\" /><path clip-path=\"url(#clip910)\" d=\"M917.273 1481.64 L933.593 1481.64 L933.593 1485.58 L911.648 1485.58 L911.648 1481.64 Q914.31 1478.89 918.894 1474.26 Q923.5 1469.61 924.681 1468.27 Q926.926 1465.74 927.806 1464.01 Q928.708 1462.25 928.708 1460.56 Q928.708 1457.8 926.764 1456.07 Q924.843 1454.33 921.741 1454.33 Q919.542 1454.33 917.088 1455.09 Q914.658 1455.86 911.88 1457.41 L911.88 1452.69 Q914.704 1451.55 917.158 1450.97 Q919.611 1450.39 921.648 1450.39 Q927.019 1450.39 930.213 1453.08 Q933.408 1455.77 933.408 1460.26 Q933.408 1462.39 932.597 1464.31 Q931.81 1466.2 929.704 1468.8 Q929.125 1469.47 926.023 1472.69 Q922.921 1475.88 917.273 1481.64 Z\" fill=\"#000000\" fill-rule=\"evenodd\" fill-opacity=\"1\" /><path clip-path=\"url(#clip910)\" d=\"M943.407 1479.7 L948.292 1479.7 L948.292 1485.58 L943.407 1485.58 L943.407 1479.7 Z\" fill=\"#000000\" fill-rule=\"evenodd\" fill-opacity=\"1\" /><path clip-path=\"url(#clip910)\" d=\"M958.523 1451.02 L976.88 1451.02 L976.88 1454.96 L962.806 1454.96 L962.806 1463.43 Q963.824 1463.08 964.843 1462.92 Q965.861 1462.73 966.88 1462.73 Q972.667 1462.73 976.046 1465.9 Q979.426 1469.08 979.426 1474.49 Q979.426 1480.07 975.954 1483.17 Q972.481 1486.25 966.162 1486.25 Q963.986 1486.25 961.718 1485.88 Q959.472 1485.51 957.065 1484.77 L957.065 1480.07 Q959.148 1481.2 961.37 1481.76 Q963.593 1482.32 966.069 1482.32 Q970.074 1482.32 972.412 1480.21 Q974.75 1478.1 974.75 1474.49 Q974.75 1470.88 972.412 1468.77 Q970.074 1466.67 966.069 1466.67 Q964.194 1466.67 962.319 1467.08 Q960.468 1467.5 958.523 1468.38 L958.523 1451.02 Z\" fill=\"#000000\" fill-rule=\"evenodd\" fill-opacity=\"1\" /><path clip-path=\"url(#clip910)\" d=\"M1362.01 1451.02 L1380.36 1451.02 L1380.36 1454.96 L1366.29 1454.96 L1366.29 1463.43 Q1367.31 1463.08 1368.32 1462.92 Q1369.34 1462.73 1370.36 1462.73 Q1376.15 1462.73 1379.53 1465.9 Q1382.91 1469.08 1382.91 1474.49 Q1382.91 1480.07 1379.44 1483.17 Q1375.96 1486.25 1369.64 1486.25 Q1367.47 1486.25 1365.2 1485.88 Q1362.95 1485.51 1360.55 1484.77 L1360.55 1480.07 Q1362.63 1481.2 1364.85 1481.76 Q1367.07 1482.32 1369.55 1482.32 Q1373.56 1482.32 1375.89 1480.21 Q1378.23 1478.1 1378.23 1474.49 Q1378.23 1470.88 1375.89 1468.77 Q1373.56 1466.67 1369.55 1466.67 Q1367.68 1466.67 1365.8 1467.08 Q1363.95 1467.5 1362.01 1468.38 L1362.01 1451.02 Z\" fill=\"#000000\" fill-rule=\"evenodd\" fill-opacity=\"1\" /><path clip-path=\"url(#clip910)\" d=\"M1392.12 1479.7 L1397.01 1479.7 L1397.01 1485.58 L1392.12 1485.58 L1392.12 1479.7 Z\" fill=\"#000000\" fill-rule=\"evenodd\" fill-opacity=\"1\" /><path clip-path=\"url(#clip910)\" d=\"M1417.19 1454.1 Q1413.58 1454.1 1411.75 1457.66 Q1409.94 1461.2 1409.94 1468.33 Q1409.94 1475.44 1411.75 1479.01 Q1413.58 1482.55 1417.19 1482.55 Q1420.82 1482.55 1422.63 1479.01 Q1424.46 1475.44 1424.46 1468.33 Q1424.46 1461.2 1422.63 1457.66 Q1420.82 1454.1 1417.19 1454.1 M1417.19 1450.39 Q1423 1450.39 1426.06 1455 Q1429.13 1459.58 1429.13 1468.33 Q1429.13 1477.06 1426.06 1481.67 Q1423 1486.25 1417.19 1486.25 Q1411.38 1486.25 1408.3 1481.67 Q1405.25 1477.06 1405.25 1468.33 Q1405.25 1459.58 1408.3 1455 Q1411.38 1450.39 1417.19 1450.39 Z\" fill=\"#000000\" fill-rule=\"evenodd\" fill-opacity=\"1\" /><path clip-path=\"url(#clip910)\" d=\"M1810.46 1451.02 L1832.69 1451.02 L1832.69 1453.01 L1820.14 1485.58 L1815.26 1485.58 L1827.06 1454.96 L1810.46 1454.96 L1810.46 1451.02 Z\" fill=\"#000000\" fill-rule=\"evenodd\" fill-opacity=\"1\" /><path clip-path=\"url(#clip910)\" d=\"M1841.81 1479.7 L1846.69 1479.7 L1846.69 1485.58 L1841.81 1485.58 L1841.81 1479.7 Z\" fill=\"#000000\" fill-rule=\"evenodd\" fill-opacity=\"1\" /><path clip-path=\"url(#clip910)\" d=\"M1856.92 1451.02 L1875.28 1451.02 L1875.28 1454.96 L1861.2 1454.96 L1861.2 1463.43 Q1862.22 1463.08 1863.24 1462.92 Q1864.26 1462.73 1865.28 1462.73 Q1871.07 1462.73 1874.45 1465.9 Q1877.82 1469.08 1877.82 1474.49 Q1877.82 1480.07 1874.35 1483.17 Q1870.88 1486.25 1864.56 1486.25 Q1862.38 1486.25 1860.12 1485.88 Q1857.87 1485.51 1855.46 1484.77 L1855.46 1480.07 Q1857.55 1481.2 1859.77 1481.76 Q1861.99 1482.32 1864.47 1482.32 Q1868.47 1482.32 1870.81 1480.21 Q1873.15 1478.1 1873.15 1474.49 Q1873.15 1470.88 1870.81 1468.77 Q1868.47 1466.67 1864.47 1466.67 Q1862.59 1466.67 1860.72 1467.08 Q1858.87 1467.5 1856.92 1468.38 L1856.92 1451.02 Z\" fill=\"#000000\" fill-rule=\"evenodd\" fill-opacity=\"1\" /><path clip-path=\"url(#clip910)\" d=\"M2245.52 1481.64 L2253.16 1481.64 L2253.16 1455.28 L2244.85 1456.95 L2244.85 1452.69 L2253.11 1451.02 L2257.79 1451.02 L2257.79 1481.64 L2265.43 1481.64 L2265.43 1485.58 L2245.52 1485.58 L2245.52 1481.64 Z\" fill=\"#000000\" fill-rule=\"evenodd\" fill-opacity=\"1\" /><path clip-path=\"url(#clip910)\" d=\"M2284.87 1454.1 Q2281.26 1454.1 2279.43 1457.66 Q2277.63 1461.2 2277.63 1468.33 Q2277.63 1475.44 2279.43 1479.01 Q2281.26 1482.55 2284.87 1482.55 Q2288.51 1482.55 2290.31 1479.01 Q2292.14 1475.44 2292.14 1468.33 Q2292.14 1461.2 2290.31 1457.66 Q2288.51 1454.1 2284.87 1454.1 M2284.87 1450.39 Q2290.68 1450.39 2293.74 1455 Q2296.82 1459.58 2296.82 1468.33 Q2296.82 1477.06 2293.74 1481.67 Q2290.68 1486.25 2284.87 1486.25 Q2279.06 1486.25 2275.98 1481.67 Q2272.93 1477.06 2272.93 1468.33 Q2272.93 1459.58 2275.98 1455 Q2279.06 1450.39 2284.87 1450.39 Z\" fill=\"#000000\" fill-rule=\"evenodd\" fill-opacity=\"1\" /><path clip-path=\"url(#clip910)\" d=\"M2305.03 1479.7 L2309.92 1479.7 L2309.92 1485.58 L2305.03 1485.58 L2305.03 1479.7 Z\" fill=\"#000000\" fill-rule=\"evenodd\" fill-opacity=\"1\" /><path clip-path=\"url(#clip910)\" d=\"M2330.1 1454.1 Q2326.49 1454.1 2324.66 1457.66 Q2322.86 1461.2 2322.86 1468.33 Q2322.86 1475.44 2324.66 1479.01 Q2326.49 1482.55 2330.1 1482.55 Q2333.74 1482.55 2335.54 1479.01 Q2337.37 1475.44 2337.37 1468.33 Q2337.37 1461.2 2335.54 1457.66 Q2333.74 1454.1 2330.1 1454.1 M2330.1 1450.39 Q2335.91 1450.39 2338.97 1455 Q2342.05 1459.58 2342.05 1468.33 Q2342.05 1477.06 2338.97 1481.67 Q2335.91 1486.25 2330.1 1486.25 Q2324.29 1486.25 2321.21 1481.67 Q2318.16 1477.06 2318.16 1468.33 Q2318.16 1459.58 2321.21 1455 Q2324.29 1450.39 2330.1 1450.39 Z\" fill=\"#000000\" fill-rule=\"evenodd\" fill-opacity=\"1\" /><path clip-path=\"url(#clip910)\" d=\"M1266.8 1532.4 L1253.91 1549.74 L1267.47 1568.04 L1260.56 1568.04 L1250.19 1554.04 L1239.81 1568.04 L1232.9 1568.04 L1246.75 1549.39 L1234.08 1532.4 L1240.99 1532.4 L1250.44 1545.1 L1259.89 1532.4 L1266.8 1532.4 Z\" fill=\"#000000\" fill-rule=\"evenodd\" fill-opacity=\"1\" /><path clip-path=\"url(#clip910)\" d=\"M1295.92 1518.52 L1309.42 1518.52 L1309.42 1523.07 L1301.78 1523.07 L1301.78 1572.09 L1309.42 1572.09 L1309.42 1576.64 L1295.92 1576.64 L1295.92 1518.52 Z\" fill=\"#000000\" fill-rule=\"evenodd\" fill-opacity=\"1\" /><path clip-path=\"url(#clip910)\" d=\"M1323.84 1562.63 L1334.34 1562.63 L1334.34 1526.38 L1322.92 1528.67 L1322.92 1522.82 L1334.28 1520.52 L1340.71 1520.52 L1340.71 1562.63 L1351.21 1562.63 L1351.21 1568.04 L1323.84 1568.04 L1323.84 1562.63 Z\" fill=\"#000000\" fill-rule=\"evenodd\" fill-opacity=\"1\" /><path clip-path=\"url(#clip910)\" d=\"M1377.06 1518.52 L1377.06 1576.64 L1363.56 1576.64 L1363.56 1572.09 L1371.17 1572.09 L1371.17 1523.07 L1363.56 1523.07 L1363.56 1518.52 L1377.06 1518.52 Z\" fill=\"#000000\" fill-rule=\"evenodd\" fill-opacity=\"1\" /><polyline clip-path=\"url(#clip912)\" style=\"stroke:#000000; stroke-linecap:butt; stroke-linejoin:round; stroke-width:2; stroke-opacity:0.1; fill:none\" points=\"\n",
       "  257.204,1299.66 2352.76,1299.66 \n",
       "  \"/>\n",
       "<polyline clip-path=\"url(#clip912)\" style=\"stroke:#000000; stroke-linecap:butt; stroke-linejoin:round; stroke-width:2; stroke-opacity:0.1; fill:none\" points=\"\n",
       "  257.204,1100.98 2352.76,1100.98 \n",
       "  \"/>\n",
       "<polyline clip-path=\"url(#clip912)\" style=\"stroke:#000000; stroke-linecap:butt; stroke-linejoin:round; stroke-width:2; stroke-opacity:0.1; fill:none\" points=\"\n",
       "  257.204,902.295 2352.76,902.295 \n",
       "  \"/>\n",
       "<polyline clip-path=\"url(#clip912)\" style=\"stroke:#000000; stroke-linecap:butt; stroke-linejoin:round; stroke-width:2; stroke-opacity:0.1; fill:none\" points=\"\n",
       "  257.204,703.613 2352.76,703.613 \n",
       "  \"/>\n",
       "<polyline clip-path=\"url(#clip912)\" style=\"stroke:#000000; stroke-linecap:butt; stroke-linejoin:round; stroke-width:2; stroke-opacity:0.1; fill:none\" points=\"\n",
       "  257.204,504.931 2352.76,504.931 \n",
       "  \"/>\n",
       "<polyline clip-path=\"url(#clip912)\" style=\"stroke:#000000; stroke-linecap:butt; stroke-linejoin:round; stroke-width:2; stroke-opacity:0.1; fill:none\" points=\"\n",
       "  257.204,306.249 2352.76,306.249 \n",
       "  \"/>\n",
       "<polyline clip-path=\"url(#clip910)\" style=\"stroke:#000000; stroke-linecap:butt; stroke-linejoin:round; stroke-width:4; stroke-opacity:1; fill:none\" points=\"\n",
       "  257.204,1423.18 257.204,123.472 \n",
       "  \"/>\n",
       "<polyline clip-path=\"url(#clip910)\" style=\"stroke:#000000; stroke-linecap:butt; stroke-linejoin:round; stroke-width:4; stroke-opacity:1; fill:none\" points=\"\n",
       "  257.204,1299.66 276.102,1299.66 \n",
       "  \"/>\n",
       "<polyline clip-path=\"url(#clip910)\" style=\"stroke:#000000; stroke-linecap:butt; stroke-linejoin:round; stroke-width:4; stroke-opacity:1; fill:none\" points=\"\n",
       "  257.204,1100.98 276.102,1100.98 \n",
       "  \"/>\n",
       "<polyline clip-path=\"url(#clip910)\" style=\"stroke:#000000; stroke-linecap:butt; stroke-linejoin:round; stroke-width:4; stroke-opacity:1; fill:none\" points=\"\n",
       "  257.204,902.295 276.102,902.295 \n",
       "  \"/>\n",
       "<polyline clip-path=\"url(#clip910)\" style=\"stroke:#000000; stroke-linecap:butt; stroke-linejoin:round; stroke-width:4; stroke-opacity:1; fill:none\" points=\"\n",
       "  257.204,703.613 276.102,703.613 \n",
       "  \"/>\n",
       "<polyline clip-path=\"url(#clip910)\" style=\"stroke:#000000; stroke-linecap:butt; stroke-linejoin:round; stroke-width:4; stroke-opacity:1; fill:none\" points=\"\n",
       "  257.204,504.931 276.102,504.931 \n",
       "  \"/>\n",
       "<polyline clip-path=\"url(#clip910)\" style=\"stroke:#000000; stroke-linecap:butt; stroke-linejoin:round; stroke-width:4; stroke-opacity:1; fill:none\" points=\"\n",
       "  257.204,306.249 276.102,306.249 \n",
       "  \"/>\n",
       "<path clip-path=\"url(#clip910)\" d=\"M115.256 1300.11 L144.931 1300.11 L144.931 1304.04 L115.256 1304.04 L115.256 1300.11 Z\" fill=\"#000000\" fill-rule=\"evenodd\" fill-opacity=\"1\" /><path clip-path=\"url(#clip910)\" d=\"M159.052 1313 L175.371 1313 L175.371 1316.94 L153.427 1316.94 L153.427 1313 Q156.089 1310.25 160.672 1305.62 Q165.278 1300.97 166.459 1299.62 Q168.704 1297.1 169.584 1295.36 Q170.487 1293.61 170.487 1291.92 Q170.487 1289.16 168.542 1287.42 Q166.621 1285.69 163.519 1285.69 Q161.32 1285.69 158.866 1286.45 Q156.436 1287.22 153.658 1288.77 L153.658 1284.05 Q156.482 1282.91 158.936 1282.33 Q161.39 1281.75 163.427 1281.75 Q168.797 1281.75 171.991 1284.44 Q175.186 1287.12 175.186 1291.61 Q175.186 1293.74 174.376 1295.67 Q173.589 1297.56 171.482 1300.16 Q170.903 1300.83 167.802 1304.04 Q164.7 1307.24 159.052 1313 Z\" fill=\"#000000\" fill-rule=\"evenodd\" fill-opacity=\"1\" /><path clip-path=\"url(#clip910)\" d=\"M185.186 1311.06 L190.07 1311.06 L190.07 1316.94 L185.186 1316.94 L185.186 1311.06 Z\" fill=\"#000000\" fill-rule=\"evenodd\" fill-opacity=\"1\" /><path clip-path=\"url(#clip910)\" d=\"M200.301 1282.38 L218.658 1282.38 L218.658 1286.31 L204.584 1286.31 L204.584 1294.79 Q205.602 1294.44 206.621 1294.28 Q207.639 1294.09 208.658 1294.09 Q214.445 1294.09 217.824 1297.26 Q221.204 1300.43 221.204 1305.85 Q221.204 1311.43 217.732 1314.53 Q214.26 1317.61 207.94 1317.61 Q205.764 1317.61 203.496 1317.24 Q201.25 1316.87 198.843 1316.13 L198.843 1311.43 Q200.926 1312.56 203.149 1313.12 Q205.371 1313.67 207.848 1313.67 Q211.852 1313.67 214.19 1311.57 Q216.528 1309.46 216.528 1305.85 Q216.528 1302.24 214.19 1300.13 Q211.852 1298.03 207.848 1298.03 Q205.973 1298.03 204.098 1298.44 Q202.246 1298.86 200.301 1299.74 L200.301 1282.38 Z\" fill=\"#000000\" fill-rule=\"evenodd\" fill-opacity=\"1\" /><path clip-path=\"url(#clip910)\" d=\"M114.26 1101.43 L143.936 1101.43 L143.936 1105.36 L114.26 1105.36 L114.26 1101.43 Z\" fill=\"#000000\" fill-rule=\"evenodd\" fill-opacity=\"1\" /><path clip-path=\"url(#clip910)\" d=\"M158.056 1114.32 L174.376 1114.32 L174.376 1118.26 L152.431 1118.26 L152.431 1114.32 Q155.093 1111.57 159.677 1106.94 Q164.283 1102.28 165.464 1100.94 Q167.709 1098.42 168.589 1096.68 Q169.491 1094.92 169.491 1093.23 Q169.491 1090.48 167.547 1088.74 Q165.626 1087.01 162.524 1087.01 Q160.325 1087.01 157.871 1087.77 Q155.44 1088.53 152.663 1090.09 L152.663 1085.36 Q155.487 1084.23 157.94 1083.65 Q160.394 1083.07 162.431 1083.07 Q167.802 1083.07 170.996 1085.76 Q174.19 1088.44 174.19 1092.93 Q174.19 1095.06 173.38 1096.98 Q172.593 1098.88 170.487 1101.47 Q169.908 1102.15 166.806 1105.36 Q163.704 1108.56 158.056 1114.32 Z\" fill=\"#000000\" fill-rule=\"evenodd\" fill-opacity=\"1\" /><path clip-path=\"url(#clip910)\" d=\"M184.19 1112.38 L189.075 1112.38 L189.075 1118.26 L184.19 1118.26 L184.19 1112.38 Z\" fill=\"#000000\" fill-rule=\"evenodd\" fill-opacity=\"1\" /><path clip-path=\"url(#clip910)\" d=\"M209.26 1086.78 Q205.649 1086.78 203.82 1090.34 Q202.014 1093.88 202.014 1101.01 Q202.014 1108.12 203.82 1111.68 Q205.649 1115.22 209.26 1115.22 Q212.894 1115.22 214.699 1111.68 Q216.528 1108.12 216.528 1101.01 Q216.528 1093.88 214.699 1090.34 Q212.894 1086.78 209.26 1086.78 M209.26 1083.07 Q215.07 1083.07 218.125 1087.68 Q221.204 1092.26 221.204 1101.01 Q221.204 1109.74 218.125 1114.34 Q215.07 1118.93 209.26 1118.93 Q203.449 1118.93 200.371 1114.34 Q197.315 1109.74 197.315 1101.01 Q197.315 1092.26 200.371 1087.68 Q203.449 1083.07 209.26 1083.07 Z\" fill=\"#000000\" fill-rule=\"evenodd\" fill-opacity=\"1\" /><path clip-path=\"url(#clip910)\" d=\"M115.256 902.746 L144.931 902.746 L144.931 906.681 L115.256 906.681 L115.256 902.746 Z\" fill=\"#000000\" fill-rule=\"evenodd\" fill-opacity=\"1\" /><path clip-path=\"url(#clip910)\" d=\"M155.834 915.64 L163.473 915.64 L163.473 889.274 L155.163 890.941 L155.163 886.681 L163.427 885.015 L168.102 885.015 L168.102 915.64 L175.741 915.64 L175.741 919.575 L155.834 919.575 L155.834 915.64 Z\" fill=\"#000000\" fill-rule=\"evenodd\" fill-opacity=\"1\" /><path clip-path=\"url(#clip910)\" d=\"M185.186 913.695 L190.07 913.695 L190.07 919.575 L185.186 919.575 L185.186 913.695 Z\" fill=\"#000000\" fill-rule=\"evenodd\" fill-opacity=\"1\" /><path clip-path=\"url(#clip910)\" d=\"M200.301 885.015 L218.658 885.015 L218.658 888.95 L204.584 888.95 L204.584 897.422 Q205.602 897.075 206.621 896.913 Q207.639 896.728 208.658 896.728 Q214.445 896.728 217.824 899.899 Q221.204 903.07 221.204 908.487 Q221.204 914.065 217.732 917.167 Q214.26 920.246 207.94 920.246 Q205.764 920.246 203.496 919.876 Q201.25 919.505 198.843 918.765 L198.843 914.065 Q200.926 915.2 203.149 915.755 Q205.371 916.311 207.848 916.311 Q211.852 916.311 214.19 914.204 Q216.528 912.098 216.528 908.487 Q216.528 904.876 214.19 902.769 Q211.852 900.663 207.848 900.663 Q205.973 900.663 204.098 901.079 Q202.246 901.496 200.301 902.376 L200.301 885.015 Z\" fill=\"#000000\" fill-rule=\"evenodd\" fill-opacity=\"1\" /><path clip-path=\"url(#clip910)\" d=\"M114.26 704.064 L143.936 704.064 L143.936 707.999 L114.26 707.999 L114.26 704.064 Z\" fill=\"#000000\" fill-rule=\"evenodd\" fill-opacity=\"1\" /><path clip-path=\"url(#clip910)\" d=\"M154.839 716.958 L162.477 716.958 L162.477 690.592 L154.167 692.259 L154.167 688 L162.431 686.333 L167.107 686.333 L167.107 716.958 L174.746 716.958 L174.746 720.893 L154.839 720.893 L154.839 716.958 Z\" fill=\"#000000\" fill-rule=\"evenodd\" fill-opacity=\"1\" /><path clip-path=\"url(#clip910)\" d=\"M184.19 715.013 L189.075 715.013 L189.075 720.893 L184.19 720.893 L184.19 715.013 Z\" fill=\"#000000\" fill-rule=\"evenodd\" fill-opacity=\"1\" /><path clip-path=\"url(#clip910)\" d=\"M209.26 689.412 Q205.649 689.412 203.82 692.976 Q202.014 696.518 202.014 703.648 Q202.014 710.754 203.82 714.319 Q205.649 717.86 209.26 717.86 Q212.894 717.86 214.699 714.319 Q216.528 710.754 216.528 703.648 Q216.528 696.518 214.699 692.976 Q212.894 689.412 209.26 689.412 M209.26 685.708 Q215.07 685.708 218.125 690.314 Q221.204 694.898 221.204 703.648 Q221.204 712.374 218.125 716.981 Q215.07 721.564 209.26 721.564 Q203.449 721.564 200.371 716.981 Q197.315 712.374 197.315 703.648 Q197.315 694.898 200.371 690.314 Q203.449 685.708 209.26 685.708 Z\" fill=\"#000000\" fill-rule=\"evenodd\" fill-opacity=\"1\" /><path clip-path=\"url(#clip910)\" d=\"M115.256 505.382 L144.931 505.382 L144.931 509.318 L115.256 509.318 L115.256 505.382 Z\" fill=\"#000000\" fill-rule=\"evenodd\" fill-opacity=\"1\" /><path clip-path=\"url(#clip910)\" d=\"M165.024 490.73 Q161.413 490.73 159.584 494.295 Q157.778 497.836 157.778 504.966 Q157.778 512.072 159.584 515.637 Q161.413 519.179 165.024 519.179 Q168.658 519.179 170.464 515.637 Q172.292 512.072 172.292 504.966 Q172.292 497.836 170.464 494.295 Q168.658 490.73 165.024 490.73 M165.024 487.026 Q170.834 487.026 173.889 491.632 Q176.968 496.216 176.968 504.966 Q176.968 513.693 173.889 518.299 Q170.834 522.882 165.024 522.882 Q159.214 522.882 156.135 518.299 Q153.079 513.693 153.079 504.966 Q153.079 496.216 156.135 491.632 Q159.214 487.026 165.024 487.026 Z\" fill=\"#000000\" fill-rule=\"evenodd\" fill-opacity=\"1\" /><path clip-path=\"url(#clip910)\" d=\"M185.186 516.331 L190.07 516.331 L190.07 522.211 L185.186 522.211 L185.186 516.331 Z\" fill=\"#000000\" fill-rule=\"evenodd\" fill-opacity=\"1\" /><path clip-path=\"url(#clip910)\" d=\"M200.301 487.651 L218.658 487.651 L218.658 491.586 L204.584 491.586 L204.584 500.058 Q205.602 499.711 206.621 499.549 Q207.639 499.364 208.658 499.364 Q214.445 499.364 217.824 502.535 Q221.204 505.706 221.204 511.123 Q221.204 516.702 217.732 519.804 Q214.26 522.882 207.94 522.882 Q205.764 522.882 203.496 522.512 Q201.25 522.142 198.843 521.401 L198.843 516.702 Q200.926 517.836 203.149 518.392 Q205.371 518.947 207.848 518.947 Q211.852 518.947 214.19 516.841 Q216.528 514.734 216.528 511.123 Q216.528 507.512 214.19 505.406 Q211.852 503.299 207.848 503.299 Q205.973 503.299 204.098 503.716 Q202.246 504.132 200.301 505.012 L200.301 487.651 Z\" fill=\"#000000\" fill-rule=\"evenodd\" fill-opacity=\"1\" /><path clip-path=\"url(#clip910)\" d=\"M164.028 292.048 Q160.417 292.048 158.589 295.613 Q156.783 299.154 156.783 306.284 Q156.783 313.39 158.589 316.955 Q160.417 320.497 164.028 320.497 Q167.663 320.497 169.468 316.955 Q171.297 313.39 171.297 306.284 Q171.297 299.154 169.468 295.613 Q167.663 292.048 164.028 292.048 M164.028 288.344 Q169.839 288.344 172.894 292.951 Q175.973 297.534 175.973 306.284 Q175.973 315.011 172.894 319.617 Q169.839 324.2 164.028 324.2 Q158.218 324.2 155.14 319.617 Q152.084 315.011 152.084 306.284 Q152.084 297.534 155.14 292.951 Q158.218 288.344 164.028 288.344 Z\" fill=\"#000000\" fill-rule=\"evenodd\" fill-opacity=\"1\" /><path clip-path=\"url(#clip910)\" d=\"M184.19 317.65 L189.075 317.65 L189.075 323.529 L184.19 323.529 L184.19 317.65 Z\" fill=\"#000000\" fill-rule=\"evenodd\" fill-opacity=\"1\" /><path clip-path=\"url(#clip910)\" d=\"M209.26 292.048 Q205.649 292.048 203.82 295.613 Q202.014 299.154 202.014 306.284 Q202.014 313.39 203.82 316.955 Q205.649 320.497 209.26 320.497 Q212.894 320.497 214.699 316.955 Q216.528 313.39 216.528 306.284 Q216.528 299.154 214.699 295.613 Q212.894 292.048 209.26 292.048 M209.26 288.344 Q215.07 288.344 218.125 292.951 Q221.204 297.534 221.204 306.284 Q221.204 315.011 218.125 319.617 Q215.07 324.2 209.26 324.2 Q203.449 324.2 200.371 319.617 Q197.315 315.011 197.315 306.284 Q197.315 297.534 200.371 292.951 Q203.449 288.344 209.26 288.344 Z\" fill=\"#000000\" fill-rule=\"evenodd\" fill-opacity=\"1\" /><path clip-path=\"url(#clip910)\" d=\"M67.3143 826.336 Q73.68 828.819 75.6216 831.174 Q77.5631 833.53 77.5631 837.476 L77.5631 842.155 L72.6615 842.155 L72.6615 838.718 Q72.6615 836.299 71.5157 834.962 Q70.3699 833.625 66.1048 832.002 L63.4312 830.952 L28.3562 845.37 L28.3562 839.163 L56.238 828.023 L28.3562 816.883 L28.3562 810.677 L67.3143 826.336 Z\" fill=\"#000000\" fill-rule=\"evenodd\" fill-opacity=\"1\" /><path clip-path=\"url(#clip910)\" d=\"M14.479 782.413 L14.479 768.918 L19.0304 768.918 L19.0304 776.557 L68.0464 776.557 L68.0464 768.918 L72.5979 768.918 L72.5979 782.413 L14.479 782.413 Z\" fill=\"#000000\" fill-rule=\"evenodd\" fill-opacity=\"1\" /><path clip-path=\"url(#clip910)\" d=\"M58.5933 754.499 L58.5933 743.996 L22.3406 743.996 L24.6323 755.422 L18.7758 755.422 L16.4842 744.06 L16.4842 737.63 L58.5933 737.63 L58.5933 727.127 L64.0042 727.127 L64.0042 754.499 L58.5933 754.499 Z\" fill=\"#000000\" fill-rule=\"evenodd\" fill-opacity=\"1\" /><path clip-path=\"url(#clip910)\" d=\"M14.479 701.282 L72.5979 701.282 L72.5979 714.777 L68.0464 714.777 L68.0464 707.17 L19.0304 707.17 L19.0304 714.777 L14.479 714.777 L14.479 701.282 Z\" fill=\"#000000\" fill-rule=\"evenodd\" fill-opacity=\"1\" /><path clip-path=\"url(#clip910)\" d=\"M1133.67 27.2059 L1117.26 49.2833 L1134.52 72.576 L1125.73 72.576 L1112.52 54.752 L1099.32 72.576 L1090.53 72.576 L1108.15 48.8377 L1092.02 27.2059 L1100.81 27.2059 L1112.85 43.369 L1124.88 27.2059 L1133.67 27.2059 Z\" fill=\"#000000\" fill-rule=\"evenodd\" fill-opacity=\"1\" /><path clip-path=\"url(#clip910)\" d=\"M1202.61 22.0612 L1188.07 29.92 L1202.61 37.8192 L1200.26 41.7891 L1186.65 33.5658 L1186.65 48.8377 L1182.04 48.8377 L1182.04 33.5658 L1168.42 41.7891 L1166.07 37.8192 L1180.62 29.92 L1166.07 22.0612 L1168.42 18.0508 L1182.04 26.2742 L1182.04 11.0023 L1186.65 11.0023 L1186.65 26.2742 L1200.26 18.0508 L1202.61 22.0612 Z\" fill=\"#000000\" fill-rule=\"evenodd\" fill-opacity=\"1\" /><path clip-path=\"url(#clip910)\" d=\"M1278.08 48.0275 L1278.08 51.6733 L1243.81 51.6733 Q1244.3 59.3701 1248.43 63.421 Q1252.6 67.4314 1260.01 67.4314 Q1264.31 67.4314 1268.32 66.3781 Q1272.37 65.3249 1276.34 63.2184 L1276.34 70.267 Q1272.33 71.9684 1268.12 72.8596 Q1263.9 73.7508 1259.57 73.7508 Q1248.71 73.7508 1242.35 67.4314 Q1236.03 61.1119 1236.03 50.3365 Q1236.03 39.1965 1242.03 32.6746 Q1248.06 26.1121 1258.27 26.1121 Q1267.43 26.1121 1272.73 32.0264 Q1278.08 37.9003 1278.08 48.0275 M1270.63 45.84 Q1270.55 39.7232 1267.19 36.0774 Q1263.86 32.4315 1258.35 32.4315 Q1252.12 32.4315 1248.35 35.9558 Q1244.62 39.4801 1244.05 45.8805 L1270.63 45.84 Z\" fill=\"#000000\" fill-rule=\"evenodd\" fill-opacity=\"1\" /><path clip-path=\"url(#clip910)\" d=\"M1326.57 27.2059 L1310.17 49.2833 L1327.42 72.576 L1318.63 72.576 L1305.43 54.752 L1292.22 72.576 L1283.43 72.576 L1301.05 48.8377 L1284.93 27.2059 L1293.72 27.2059 L1305.75 43.369 L1317.78 27.2059 L1326.57 27.2059 Z\" fill=\"#000000\" fill-rule=\"evenodd\" fill-opacity=\"1\" /><path clip-path=\"url(#clip910)\" d=\"M1345.16 65.7705 L1345.16 89.8329 L1337.67 89.8329 L1337.67 27.2059 L1345.16 27.2059 L1345.16 34.0924 Q1347.51 30.0415 1351.08 28.0971 Q1354.68 26.1121 1359.67 26.1121 Q1367.93 26.1121 1373.08 32.6746 Q1378.26 39.2371 1378.26 49.9314 Q1378.26 60.6258 1373.08 67.1883 Q1367.93 73.7508 1359.67 73.7508 Q1354.68 73.7508 1351.08 71.8063 Q1347.51 69.8214 1345.16 65.7705 M1370.52 49.9314 Q1370.52 41.7081 1367.12 37.0496 Q1363.76 32.3505 1357.84 32.3505 Q1351.93 32.3505 1348.53 37.0496 Q1345.16 41.7081 1345.16 49.9314 Q1345.16 58.1548 1348.53 62.8538 Q1351.93 67.5124 1357.84 67.5124 Q1363.76 67.5124 1367.12 62.8538 Q1370.52 58.1548 1370.52 49.9314 Z\" fill=\"#000000\" fill-rule=\"evenodd\" fill-opacity=\"1\" /><path clip-path=\"url(#clip910)\" d=\"M1408.52 9.62495 Q1403.09 18.942 1400.46 28.0566 Q1397.83 37.1711 1397.83 46.5287 Q1397.83 55.8863 1400.46 65.0818 Q1403.13 74.2369 1408.52 83.5134 L1402.04 83.5134 Q1395.96 73.9938 1392.93 64.7983 Q1389.93 55.6027 1389.93 46.5287 Q1389.93 37.4952 1392.93 28.3401 Q1395.92 19.1851 1402.04 9.62495 L1408.52 9.62495 Z\" fill=\"#000000\" fill-rule=\"evenodd\" fill-opacity=\"1\" /><path clip-path=\"url(#clip910)\" d=\"M1419.22 46.5287 L1441.05 46.5287 L1441.05 53.1722 L1419.22 53.1722 L1419.22 46.5287 Z\" fill=\"#000000\" fill-rule=\"evenodd\" fill-opacity=\"1\" /><path clip-path=\"url(#clip910)\" d=\"M1490.63 27.2059 L1474.23 49.2833 L1491.48 72.576 L1482.69 72.576 L1469.49 54.752 L1456.28 72.576 L1447.49 72.576 L1465.11 48.8377 L1448.99 27.2059 L1457.78 27.2059 L1469.81 43.369 L1481.84 27.2059 L1490.63 27.2059 Z\" fill=\"#000000\" fill-rule=\"evenodd\" fill-opacity=\"1\" /><path clip-path=\"url(#clip910)\" d=\"M1500.84 9.62495 L1507.32 9.62495 Q1513.4 19.1851 1516.4 28.3401 Q1519.43 37.4952 1519.43 46.5287 Q1519.43 55.6027 1516.4 64.7983 Q1513.4 73.9938 1507.32 83.5134 L1500.84 83.5134 Q1506.23 74.2369 1508.86 65.0818 Q1511.54 55.8863 1511.54 46.5287 Q1511.54 37.1711 1508.86 28.0566 Q1506.23 18.942 1500.84 9.62495 Z\" fill=\"#000000\" fill-rule=\"evenodd\" fill-opacity=\"1\" /><polyline clip-path=\"url(#clip912)\" style=\"stroke:#009af9; stroke-linecap:butt; stroke-linejoin:round; stroke-width:4; stroke-opacity:1; fill:none\" points=\"\n",
       "  316.512,1386.4 321.339,1329.53 326.165,1274.93 330.992,1222.5 335.818,1172.16 346.976,1063.44 358.133,964.668 369.29,875.044 380.447,793.823 391.605,720.32 \n",
       "  402.762,653.899 413.919,593.973 425.076,540.003 436.233,491.487 447.391,447.965 458.548,409.011 469.705,374.233 492.02,315.787 514.334,270.063 527.744,247.784 \n",
       "  541.154,228.895 554.564,213.025 567.974,199.837 594.794,180.321 621.614,168.262 666.966,160.256 712.319,162.685 810.849,185.439 901.685,212.329 999.071,238.498 \n",
       "  1111.9,261.972 1212.17,276.777 1300.1,285.961 1395.97,292.929 1492.4,297.626 1599.02,300.974 1700.47,302.974 1805.96,304.268 1894.75,304.959 2003.16,305.488 \n",
       "  2105.06,305.789 2268.32,306.045 2293.45,306.069 \n",
       "  \"/>\n",
       "</svg>\n"
      ]
     },
     "execution_count": 9,
     "metadata": {},
     "output_type": "execute_result"
    }
   ],
   "source": [
    "plot(f2, -1, 10, xlab=\"x [1]\", ylab=\"y [1]\", label=\"\", title=\"x * exp(-x)\")"
   ]
  },
  {
   "cell_type": "code",
   "execution_count": 10,
   "id": "827d2a16",
   "metadata": {
    "scrolled": false
   },
   "outputs": [
    {
     "data": {
      "text/plain": [
       "Results of univariate zero finding:\n",
       "\n",
       "* Converged to: 9.094947017729282e-12\n",
       "* Algorithm: FalsePosition{:anderson_bjork}()\n",
       "* iterations: 40\n",
       "* function evaluations ≈ 42\n",
       "\n",
       "Trace:\n",
       "x₁ = 0,\t fx₁ = 0\n",
       "x₂ = 10,\t fx₂ = 0.00045399929762484856\n",
       "x₃ = 5,\t fx₃ = 0.033689734995427337\n",
       "x₄ = 2.5,\t fx₄ = 0.20521249655974699\n",
       "x₅ = 1.25,\t fx₅ = 0.35813099607523763\n",
       "x₆ = 0.625,\t fx₆ = 0.33453839282436892\n",
       "x₇ = 0.3125,\t fx₇ = 0.22862988404582557\n",
       "x₈ = 0.15625,\t fx₈ = 0.13364770739178478\n",
       "x₉ = 0.078125,\t fx₉ = 0.072253813532516004\n",
       "x₁₀ = 0.0390625,\t fx₁₀ = 0.037566039125211927\n",
       "x₁₁ = 0.01953125,\t fx₁₁ = 0.019153481428506612\n",
       "x₁₂ = 0.009765625,\t fx₁₂ = 0.0096707217175157068\n",
       "x₁₃ = 0.0048828125,\t fx₁₃ = 0.0048590287551272607\n",
       "x₁₄ = 0.00244140625,\t fx₁₄ = 0.0024354530555624979\n",
       "x₁₅ = 0.001220703125,\t fx₁₅ = 0.0012192139180053556\n",
       "x₁₆ = 0.0006103515625,\t fx₁₆ = 0.00060997914713386539\n",
       "x₁₇ = 0.00030517578125,\t fx₁₇ = 0.00030508266320194771\n",
       "x₁₈ = 0.000152587890625,\t fx₁₈ = 0.00015256460933690111\n",
       "x₁₉ = 7.62939453125e-05,\t fx₁₉ = 7.6288124768447607e-05\n",
       "x₂₀ = 3.814697265625e-05,\t fx₂₀ = 3.8145517492482387e-05\n",
       "x₂₁ = 1.9073486328125e-05,\t fx₂₁ = 1.9073122533713717e-05\n",
       "x₂₂ = 9.5367431640625e-06,\t fx₂₂ = 9.5366522150260019e-06\n",
       "x₂₃ = 4.76837158203125e-06,\t fx₂₃ = 4.7683488447179158e-06\n",
       "x₂₄ = 2.384185791015625e-06,\t fx₂₄ = 2.3841801066805152e-06\n",
       "x₂₅ = 1.1920928955078125e-06,\t fx₂₅ = 1.192091474423188e-06\n",
       "x₂₆ = 5.9604644775390625e-07,\t fx₂₆ = 5.9604609248264425e-07\n",
       "x₂₇ = 2.9802322387695312e-07,\t fx₂₇ = 2.9802313505912439e-07\n",
       "x₂₈ = 1.4901161193847656e-07,\t fx₂₈ = 1.4901158973401771e-07\n",
       "x₂₉ = 7.4505805969238281e-08,\t fx₂₉ = 7.450580041812337e-08\n",
       "x₃₀ = 3.7252902984619141e-08,\t fx₃₀ = 3.7252901596840386e-08\n",
       "x₃₁ = 1.862645149230957e-08,\t fx₃₁ = 1.8626451145364878e-08\n",
       "x₃₂ = 9.3132257461547852e-09,\t fx₃₂ = 9.3132256594186114e-09\n",
       "x₃₃ = 4.6566128730773926e-09,\t fx₃₃ = 4.6566128513933491e-09\n",
       "x₃₄ = 2.3283064365386963e-09,\t fx₃₄ = 2.3283064311176854e-09\n",
       "x₃₅ = 1.1641532182693481e-09,\t fx₃₅ = 1.1641532169140954e-09\n",
       "x₃₆ = 5.8207660913467407e-10,\t fx₃₆ = 5.8207660879586089e-10\n",
       "x₃₇ = 2.9103830456733704e-10,\t fx₃₇ = 2.9103830448263374e-10\n",
       "x₃₈ = 1.4551915228366852e-10,\t fx₃₈ = 1.4551915226249269e-10\n",
       "x₃₉ = 7.2759576141834259e-11,\t fx₃₉ = 7.2759576136540303e-11\n",
       "x₄₀ = 3.637978807091713e-11,\t fx₄₀ = 3.6379788069593641e-11\n",
       "x₄₁ = 1.8189894035458565e-11,\t fx₄₁ = 1.8189894035127693e-11\n",
       "x₄₂ = 9.0949470177292824e-12,\t fx₄₂ = 9.0949470176465643e-12\n",
       "\n"
      ]
     },
     "metadata": {},
     "output_type": "display_data"
    },
    {
     "data": {
      "text/plain": [
       "Results of univariate zero finding:\n",
       "\n",
       "* Converged to: 0.0\n",
       "* Algorithm: Roots.Newton()\n",
       "* iterations: 1\n",
       "* function evaluations ≈ 2\n",
       "* stopped as f(x_n) = 0\n",
       "\n",
       "Trace:\n",
       "x₁ = 0,\t fx₁ = 0\n",
       "x₂ = 0,\t fx₂ = 0\n",
       "\n"
      ]
     },
     "metadata": {},
     "output_type": "display_data"
    },
    {
     "data": {
      "text/plain": [
       "Results of univariate zero finding:\n",
       "\n",
       "* Converged to: 0.0\n",
       "* Algorithm: Secant()\n",
       "* iterations: 0\n",
       "* function evaluations ≈ 2\n",
       "* stopped as f(x_n) = 0\n",
       "\n",
       "Trace:\n",
       "x₁ = 6.0554544523933395e-06,\t fx₁ = 6.0554177839757365e-06\n",
       "x₂ = 0,\t fx₂ = 0\n",
       "\n"
      ]
     },
     "metadata": {},
     "output_type": "display_data"
    },
    {
     "data": {
      "text/plain": [
       "Algorithm has not been run"
      ]
     },
     "execution_count": 10,
     "metadata": {},
     "output_type": "execute_result"
    }
   ],
   "source": [
    "test(f2, -1, 10)"
   ]
  },
  {
   "cell_type": "code",
   "execution_count": 11,
   "id": "eae42cc4",
   "metadata": {},
   "outputs": [
    {
     "data": {
      "text/html": [
       "<div class=\"data-frame\"><p>6 rows × 6 columns</p><table class=\"data-frame\"><thead><tr><th></th><th>f</th><th>method</th><th>iterations</th><th>calls</th><th>x_zero</th><th>isZero</th></tr><tr><th></th><th title=\"String\">String</th><th title=\"String\">String</th><th title=\"Int64\">Int64</th><th title=\"Int64\">Int64</th><th title=\"Float64\">Float64</th><th title=\"Bool\">Bool</th></tr></thead><tbody><tr><th>1</th><td>sin(x) - x/2</td><td>interval</td><td>9</td><td>11</td><td>1.89549</td><td>1</td></tr><tr><th>2</th><td>sin(x) - x/2</td><td>derivative</td><td>1</td><td>2</td><td>0.0</td><td>1</td></tr><tr><th>3</th><td>sin(x) - x/2</td><td>derivativeApprox</td><td>0</td><td>2</td><td>0.0</td><td>1</td></tr><tr><th>4</th><td>x * exp(-x)</td><td>interval</td><td>40</td><td>42</td><td>9.09495e-12</td><td>0</td></tr><tr><th>5</th><td>x * exp(-x)</td><td>derivative</td><td>1</td><td>2</td><td>0.0</td><td>1</td></tr><tr><th>6</th><td>x * exp(-x)</td><td>derivativeApprox</td><td>0</td><td>2</td><td>0.0</td><td>1</td></tr></tbody></table></div>"
      ],
      "text/latex": [
       "\\begin{tabular}{r|cccccc}\n",
       "\t& f & method & iterations & calls & x\\_zero & isZero\\\\\n",
       "\t\\hline\n",
       "\t& String & String & Int64 & Int64 & Float64 & Bool\\\\\n",
       "\t\\hline\n",
       "\t1 & sin(x) - x/2 & interval & 9 & 11 & 1.89549 & 1 \\\\\n",
       "\t2 & sin(x) - x/2 & derivative & 1 & 2 & 0.0 & 1 \\\\\n",
       "\t3 & sin(x) - x/2 & derivativeApprox & 0 & 2 & 0.0 & 1 \\\\\n",
       "\t4 & x * exp(-x) & interval & 40 & 42 & 9.09495e-12 & 0 \\\\\n",
       "\t5 & x * exp(-x) & derivative & 1 & 2 & 0.0 & 1 \\\\\n",
       "\t6 & x * exp(-x) & derivativeApprox & 0 & 2 & 0.0 & 1 \\\\\n",
       "\\end{tabular}\n"
      ],
      "text/plain": [
       "\u001b[1m6×6 DataFrame\u001b[0m\n",
       "\u001b[1m Row \u001b[0m│\u001b[1m f            \u001b[0m\u001b[1m method           \u001b[0m\u001b[1m iterations \u001b[0m\u001b[1m calls \u001b[0m\u001b[1m x_zero      \u001b[0m\u001b[1m isZero \u001b[0m\n",
       "\u001b[1m     \u001b[0m│\u001b[90m String       \u001b[0m\u001b[90m String           \u001b[0m\u001b[90m Int64      \u001b[0m\u001b[90m Int64 \u001b[0m\u001b[90m Float64     \u001b[0m\u001b[90m Bool   \u001b[0m\n",
       "─────┼────────────────────────────────────────────────────────────────────────\n",
       "   1 │ sin(x) - x/2  interval                   9     11  1.89549        true\n",
       "   2 │ sin(x) - x/2  derivative                 1      2  0.0            true\n",
       "   3 │ sin(x) - x/2  derivativeApprox           0      2  0.0            true\n",
       "   4 │ x * exp(-x)   interval                  40     42  9.09495e-12   false\n",
       "   5 │ x * exp(-x)   derivative                 1      2  0.0            true\n",
       "   6 │ x * exp(-x)   derivativeApprox           0      2  0.0            true"
      ]
     },
     "execution_count": 11,
     "metadata": {},
     "output_type": "execute_result"
    }
   ],
   "source": [
    "push!(df, [\"x * exp(-x)\" \"interval\" 40 42 9.094947017729282e-12 iszero(f2(9.094947017729282e-12))])\n",
    "push!(df, [\"x * exp(-x)\" \"derivative\" 1 2 0.0 iszero(f2(0.0))])\n",
    "push!(df, [\"x * exp(-x)\" \"derivativeApprox\" 0 2 0.0 iszero(f2(0.0))])"
   ]
  },
  {
   "cell_type": "code",
   "execution_count": 12,
   "id": "628bf64e",
   "metadata": {},
   "outputs": [
    {
     "data": {
      "image/svg+xml": [
       "<?xml version=\"1.0\" encoding=\"utf-8\"?>\n",
       "<svg xmlns=\"http://www.w3.org/2000/svg\" xmlns:xlink=\"http://www.w3.org/1999/xlink\" width=\"600\" height=\"400\" viewBox=\"0 0 2400 1600\">\n",
       "<defs>\n",
       "  <clipPath id=\"clip950\">\n",
       "    <rect x=\"0\" y=\"0\" width=\"2400\" height=\"1600\"/>\n",
       "  </clipPath>\n",
       "</defs>\n",
       "<path clip-path=\"url(#clip950)\" d=\"\n",
       "M0 1600 L2400 1600 L2400 0 L0 0  Z\n",
       "  \" fill=\"#ffffff\" fill-rule=\"evenodd\" fill-opacity=\"1\"/>\n",
       "<defs>\n",
       "  <clipPath id=\"clip951\">\n",
       "    <rect x=\"480\" y=\"0\" width=\"1681\" height=\"1600\"/>\n",
       "  </clipPath>\n",
       "</defs>\n",
       "<path clip-path=\"url(#clip950)\" d=\"\n",
       "M242.135 1423.18 L2352.76 1423.18 L2352.76 123.472 L242.135 123.472  Z\n",
       "  \" fill=\"#ffffff\" fill-rule=\"evenodd\" fill-opacity=\"1\"/>\n",
       "<defs>\n",
       "  <clipPath id=\"clip952\">\n",
       "    <rect x=\"242\" y=\"123\" width=\"2112\" height=\"1301\"/>\n",
       "  </clipPath>\n",
       "</defs>\n",
       "<polyline clip-path=\"url(#clip952)\" style=\"stroke:#000000; stroke-linecap:butt; stroke-linejoin:round; stroke-width:2; stroke-opacity:0.1; fill:none\" points=\"\n",
       "  301.869,1423.18 301.869,123.472 \n",
       "  \"/>\n",
       "<polyline clip-path=\"url(#clip952)\" style=\"stroke:#000000; stroke-linecap:butt; stroke-linejoin:round; stroke-width:2; stroke-opacity:0.1; fill:none\" points=\"\n",
       "  799.657,1423.18 799.657,123.472 \n",
       "  \"/>\n",
       "<polyline clip-path=\"url(#clip952)\" style=\"stroke:#000000; stroke-linecap:butt; stroke-linejoin:round; stroke-width:2; stroke-opacity:0.1; fill:none\" points=\"\n",
       "  1297.45,1423.18 1297.45,123.472 \n",
       "  \"/>\n",
       "<polyline clip-path=\"url(#clip952)\" style=\"stroke:#000000; stroke-linecap:butt; stroke-linejoin:round; stroke-width:2; stroke-opacity:0.1; fill:none\" points=\"\n",
       "  1795.23,1423.18 1795.23,123.472 \n",
       "  \"/>\n",
       "<polyline clip-path=\"url(#clip952)\" style=\"stroke:#000000; stroke-linecap:butt; stroke-linejoin:round; stroke-width:2; stroke-opacity:0.1; fill:none\" points=\"\n",
       "  2293.02,1423.18 2293.02,123.472 \n",
       "  \"/>\n",
       "<polyline clip-path=\"url(#clip950)\" style=\"stroke:#000000; stroke-linecap:butt; stroke-linejoin:round; stroke-width:4; stroke-opacity:1; fill:none\" points=\"\n",
       "  242.135,1423.18 2352.76,1423.18 \n",
       "  \"/>\n",
       "<polyline clip-path=\"url(#clip950)\" style=\"stroke:#000000; stroke-linecap:butt; stroke-linejoin:round; stroke-width:4; stroke-opacity:1; fill:none\" points=\"\n",
       "  301.869,1423.18 301.869,1404.28 \n",
       "  \"/>\n",
       "<polyline clip-path=\"url(#clip950)\" style=\"stroke:#000000; stroke-linecap:butt; stroke-linejoin:round; stroke-width:4; stroke-opacity:1; fill:none\" points=\"\n",
       "  799.657,1423.18 799.657,1404.28 \n",
       "  \"/>\n",
       "<polyline clip-path=\"url(#clip950)\" style=\"stroke:#000000; stroke-linecap:butt; stroke-linejoin:round; stroke-width:4; stroke-opacity:1; fill:none\" points=\"\n",
       "  1297.45,1423.18 1297.45,1404.28 \n",
       "  \"/>\n",
       "<polyline clip-path=\"url(#clip950)\" style=\"stroke:#000000; stroke-linecap:butt; stroke-linejoin:round; stroke-width:4; stroke-opacity:1; fill:none\" points=\"\n",
       "  1795.23,1423.18 1795.23,1404.28 \n",
       "  \"/>\n",
       "<polyline clip-path=\"url(#clip950)\" style=\"stroke:#000000; stroke-linecap:butt; stroke-linejoin:round; stroke-width:4; stroke-opacity:1; fill:none\" points=\"\n",
       "  2293.02,1423.18 2293.02,1404.28 \n",
       "  \"/>\n",
       "<path clip-path=\"url(#clip950)\" d=\"M270.77 1468.75 L300.446 1468.75 L300.446 1472.69 L270.77 1472.69 L270.77 1468.75 Z\" fill=\"#000000\" fill-rule=\"evenodd\" fill-opacity=\"1\" /><path clip-path=\"url(#clip950)\" d=\"M323.385 1455.09 L311.58 1473.54 L323.385 1473.54 L323.385 1455.09 M322.158 1451.02 L328.038 1451.02 L328.038 1473.54 L332.969 1473.54 L332.969 1477.43 L328.038 1477.43 L328.038 1485.58 L323.385 1485.58 L323.385 1477.43 L307.784 1477.43 L307.784 1472.92 L322.158 1451.02 Z\" fill=\"#000000\" fill-rule=\"evenodd\" fill-opacity=\"1\" /><path clip-path=\"url(#clip950)\" d=\"M769.6 1468.75 L799.275 1468.75 L799.275 1472.69 L769.6 1472.69 L769.6 1468.75 Z\" fill=\"#000000\" fill-rule=\"evenodd\" fill-opacity=\"1\" /><path clip-path=\"url(#clip950)\" d=\"M813.396 1481.64 L829.715 1481.64 L829.715 1485.58 L807.771 1485.58 L807.771 1481.64 Q810.433 1478.89 815.016 1474.26 Q819.622 1469.61 820.803 1468.27 Q823.048 1465.74 823.928 1464.01 Q824.831 1462.25 824.831 1460.56 Q824.831 1457.8 822.886 1456.07 Q820.965 1454.33 817.863 1454.33 Q815.664 1454.33 813.21 1455.09 Q810.78 1455.86 808.002 1457.41 L808.002 1452.69 Q810.826 1451.55 813.28 1450.97 Q815.734 1450.39 817.771 1450.39 Q823.141 1450.39 826.335 1453.08 Q829.53 1455.77 829.53 1460.26 Q829.53 1462.39 828.72 1464.31 Q827.933 1466.2 825.826 1468.8 Q825.247 1469.47 822.146 1472.69 Q819.044 1475.88 813.396 1481.64 Z\" fill=\"#000000\" fill-rule=\"evenodd\" fill-opacity=\"1\" /><path clip-path=\"url(#clip950)\" d=\"M1297.45 1454.1 Q1293.83 1454.1 1292.01 1457.66 Q1290.2 1461.2 1290.2 1468.33 Q1290.2 1475.44 1292.01 1479.01 Q1293.83 1482.55 1297.45 1482.55 Q1301.08 1482.55 1302.89 1479.01 Q1304.71 1475.44 1304.71 1468.33 Q1304.71 1461.2 1302.89 1457.66 Q1301.08 1454.1 1297.45 1454.1 M1297.45 1450.39 Q1303.26 1450.39 1306.31 1455 Q1309.39 1459.58 1309.39 1468.33 Q1309.39 1477.06 1306.31 1481.67 Q1303.26 1486.25 1297.45 1486.25 Q1291.64 1486.25 1288.56 1481.67 Q1285.5 1477.06 1285.5 1468.33 Q1285.5 1459.58 1288.56 1455 Q1291.64 1450.39 1297.45 1450.39 Z\" fill=\"#000000\" fill-rule=\"evenodd\" fill-opacity=\"1\" /><path clip-path=\"url(#clip950)\" d=\"M1789.89 1481.64 L1806.21 1481.64 L1806.21 1485.58 L1784.26 1485.58 L1784.26 1481.64 Q1786.92 1478.89 1791.51 1474.26 Q1796.11 1469.61 1797.29 1468.27 Q1799.54 1465.74 1800.42 1464.01 Q1801.32 1462.25 1801.32 1460.56 Q1801.32 1457.8 1799.38 1456.07 Q1797.46 1454.33 1794.35 1454.33 Q1792.15 1454.33 1789.7 1455.09 Q1787.27 1455.86 1784.49 1457.41 L1784.49 1452.69 Q1787.32 1451.55 1789.77 1450.97 Q1792.22 1450.39 1794.26 1450.39 Q1799.63 1450.39 1802.83 1453.08 Q1806.02 1455.77 1806.02 1460.26 Q1806.02 1462.39 1805.21 1464.31 Q1804.42 1466.2 1802.32 1468.8 Q1801.74 1469.47 1798.64 1472.69 Q1795.53 1475.88 1789.89 1481.64 Z\" fill=\"#000000\" fill-rule=\"evenodd\" fill-opacity=\"1\" /><path clip-path=\"url(#clip950)\" d=\"M2296.03 1455.09 L2284.23 1473.54 L2296.03 1473.54 L2296.03 1455.09 M2294.8 1451.02 L2300.68 1451.02 L2300.68 1473.54 L2305.61 1473.54 L2305.61 1477.43 L2300.68 1477.43 L2300.68 1485.58 L2296.03 1485.58 L2296.03 1477.43 L2280.43 1477.43 L2280.43 1472.92 L2294.8 1451.02 Z\" fill=\"#000000\" fill-rule=\"evenodd\" fill-opacity=\"1\" /><path clip-path=\"url(#clip950)\" d=\"M1259.27 1532.4 L1246.38 1549.74 L1259.94 1568.04 L1253.03 1568.04 L1242.65 1554.04 L1232.28 1568.04 L1225.37 1568.04 L1239.21 1549.39 L1226.55 1532.4 L1233.45 1532.4 L1242.91 1545.1 L1252.36 1532.4 L1259.27 1532.4 Z\" fill=\"#000000\" fill-rule=\"evenodd\" fill-opacity=\"1\" /><path clip-path=\"url(#clip950)\" d=\"M1288.39 1518.52 L1301.89 1518.52 L1301.89 1523.07 L1294.25 1523.07 L1294.25 1572.09 L1301.89 1572.09 L1301.89 1576.64 L1288.39 1576.64 L1288.39 1518.52 Z\" fill=\"#000000\" fill-rule=\"evenodd\" fill-opacity=\"1\" /><path clip-path=\"url(#clip950)\" d=\"M1316.3 1562.63 L1326.81 1562.63 L1326.81 1526.38 L1315.38 1528.67 L1315.38 1522.82 L1326.74 1520.52 L1333.17 1520.52 L1333.17 1562.63 L1343.68 1562.63 L1343.68 1568.04 L1316.3 1568.04 L1316.3 1562.63 Z\" fill=\"#000000\" fill-rule=\"evenodd\" fill-opacity=\"1\" /><path clip-path=\"url(#clip950)\" d=\"M1369.52 1518.52 L1369.52 1576.64 L1356.03 1576.64 L1356.03 1572.09 L1363.63 1572.09 L1363.63 1523.07 L1356.03 1523.07 L1356.03 1518.52 L1369.52 1518.52 Z\" fill=\"#000000\" fill-rule=\"evenodd\" fill-opacity=\"1\" /><polyline clip-path=\"url(#clip952)\" style=\"stroke:#000000; stroke-linecap:butt; stroke-linejoin:round; stroke-width:2; stroke-opacity:0.1; fill:none\" points=\"\n",
       "  242.135,1316.73 2352.76,1316.73 \n",
       "  \"/>\n",
       "<polyline clip-path=\"url(#clip952)\" style=\"stroke:#000000; stroke-linecap:butt; stroke-linejoin:round; stroke-width:2; stroke-opacity:0.1; fill:none\" points=\"\n",
       "  242.135,1038.06 2352.76,1038.06 \n",
       "  \"/>\n",
       "<polyline clip-path=\"url(#clip952)\" style=\"stroke:#000000; stroke-linecap:butt; stroke-linejoin:round; stroke-width:2; stroke-opacity:0.1; fill:none\" points=\"\n",
       "  242.135,759.393 2352.76,759.393 \n",
       "  \"/>\n",
       "<polyline clip-path=\"url(#clip952)\" style=\"stroke:#000000; stroke-linecap:butt; stroke-linejoin:round; stroke-width:2; stroke-opacity:0.1; fill:none\" points=\"\n",
       "  242.135,480.725 2352.76,480.725 \n",
       "  \"/>\n",
       "<polyline clip-path=\"url(#clip952)\" style=\"stroke:#000000; stroke-linecap:butt; stroke-linejoin:round; stroke-width:2; stroke-opacity:0.1; fill:none\" points=\"\n",
       "  242.135,202.057 2352.76,202.057 \n",
       "  \"/>\n",
       "<polyline clip-path=\"url(#clip950)\" style=\"stroke:#000000; stroke-linecap:butt; stroke-linejoin:round; stroke-width:4; stroke-opacity:1; fill:none\" points=\"\n",
       "  242.135,1423.18 242.135,123.472 \n",
       "  \"/>\n",
       "<polyline clip-path=\"url(#clip950)\" style=\"stroke:#000000; stroke-linecap:butt; stroke-linejoin:round; stroke-width:4; stroke-opacity:1; fill:none\" points=\"\n",
       "  242.135,1316.73 261.032,1316.73 \n",
       "  \"/>\n",
       "<polyline clip-path=\"url(#clip950)\" style=\"stroke:#000000; stroke-linecap:butt; stroke-linejoin:round; stroke-width:4; stroke-opacity:1; fill:none\" points=\"\n",
       "  242.135,1038.06 261.032,1038.06 \n",
       "  \"/>\n",
       "<polyline clip-path=\"url(#clip950)\" style=\"stroke:#000000; stroke-linecap:butt; stroke-linejoin:round; stroke-width:4; stroke-opacity:1; fill:none\" points=\"\n",
       "  242.135,759.393 261.032,759.393 \n",
       "  \"/>\n",
       "<polyline clip-path=\"url(#clip950)\" style=\"stroke:#000000; stroke-linecap:butt; stroke-linejoin:round; stroke-width:4; stroke-opacity:1; fill:none\" points=\"\n",
       "  242.135,480.725 261.032,480.725 \n",
       "  \"/>\n",
       "<polyline clip-path=\"url(#clip950)\" style=\"stroke:#000000; stroke-linecap:butt; stroke-linejoin:round; stroke-width:4; stroke-opacity:1; fill:none\" points=\"\n",
       "  242.135,202.057 261.032,202.057 \n",
       "  \"/>\n",
       "<path clip-path=\"url(#clip950)\" d=\"M114.26 1317.18 L143.936 1317.18 L143.936 1321.12 L114.26 1321.12 L114.26 1317.18 Z\" fill=\"#000000\" fill-rule=\"evenodd\" fill-opacity=\"1\" /><path clip-path=\"url(#clip950)\" d=\"M158.056 1330.07 L174.376 1330.07 L174.376 1334.01 L152.431 1334.01 L152.431 1330.07 Q155.093 1327.32 159.677 1322.69 Q164.283 1318.04 165.464 1316.69 Q167.709 1314.17 168.589 1312.43 Q169.491 1310.68 169.491 1308.99 Q169.491 1306.23 167.547 1304.49 Q165.626 1302.76 162.524 1302.76 Q160.325 1302.76 157.871 1303.52 Q155.44 1304.29 152.663 1305.84 L152.663 1301.12 Q155.487 1299.98 157.94 1299.4 Q160.394 1298.82 162.431 1298.82 Q167.802 1298.82 170.996 1301.51 Q174.19 1304.19 174.19 1308.68 Q174.19 1310.81 173.38 1312.74 Q172.593 1314.63 170.487 1317.23 Q169.908 1317.9 166.806 1321.12 Q163.704 1324.31 158.056 1330.07 Z\" fill=\"#000000\" fill-rule=\"evenodd\" fill-opacity=\"1\" /><path clip-path=\"url(#clip950)\" d=\"M194.19 1302.53 Q190.579 1302.53 188.75 1306.09 Q186.945 1309.63 186.945 1316.76 Q186.945 1323.87 188.75 1327.43 Q190.579 1330.98 194.19 1330.98 Q197.825 1330.98 199.63 1327.43 Q201.459 1323.87 201.459 1316.76 Q201.459 1309.63 199.63 1306.09 Q197.825 1302.53 194.19 1302.53 M194.19 1298.82 Q200 1298.82 203.056 1303.43 Q206.135 1308.01 206.135 1316.76 Q206.135 1325.49 203.056 1330.1 Q200 1334.68 194.19 1334.68 Q188.38 1334.68 185.301 1330.1 Q182.246 1325.49 182.246 1316.76 Q182.246 1308.01 185.301 1303.43 Q188.38 1298.82 194.19 1298.82 Z\" fill=\"#000000\" fill-rule=\"evenodd\" fill-opacity=\"1\" /><path clip-path=\"url(#clip950)\" d=\"M194.19 1023.86 Q190.579 1023.86 188.75 1027.42 Q186.945 1030.97 186.945 1038.1 Q186.945 1045.2 188.75 1048.77 Q190.579 1052.31 194.19 1052.31 Q197.825 1052.31 199.63 1048.77 Q201.459 1045.2 201.459 1038.1 Q201.459 1030.97 199.63 1027.42 Q197.825 1023.86 194.19 1023.86 M194.19 1020.16 Q200 1020.16 203.056 1024.76 Q206.135 1029.35 206.135 1038.1 Q206.135 1046.82 203.056 1051.43 Q200 1056.01 194.19 1056.01 Q188.38 1056.01 185.301 1051.43 Q182.246 1046.82 182.246 1038.1 Q182.246 1029.35 185.301 1024.76 Q188.38 1020.16 194.19 1020.16 Z\" fill=\"#000000\" fill-rule=\"evenodd\" fill-opacity=\"1\" /><path clip-path=\"url(#clip950)\" d=\"M158.056 772.737 L174.376 772.737 L174.376 776.673 L152.431 776.673 L152.431 772.737 Q155.093 769.983 159.677 765.353 Q164.283 760.7 165.464 759.358 Q167.709 756.835 168.589 755.099 Q169.491 753.339 169.491 751.65 Q169.491 748.895 167.547 747.159 Q165.626 745.423 162.524 745.423 Q160.325 745.423 157.871 746.187 Q155.44 746.951 152.663 748.501 L152.663 743.779 Q155.487 742.645 157.94 742.066 Q160.394 741.488 162.431 741.488 Q167.802 741.488 170.996 744.173 Q174.19 746.858 174.19 751.349 Q174.19 753.478 173.38 755.4 Q172.593 757.298 170.487 759.89 Q169.908 760.562 166.806 763.779 Q163.704 766.974 158.056 772.737 Z\" fill=\"#000000\" fill-rule=\"evenodd\" fill-opacity=\"1\" /><path clip-path=\"url(#clip950)\" d=\"M194.19 745.191 Q190.579 745.191 188.75 748.756 Q186.945 752.298 186.945 759.427 Q186.945 766.534 188.75 770.099 Q190.579 773.64 194.19 773.64 Q197.825 773.64 199.63 770.099 Q201.459 766.534 201.459 759.427 Q201.459 752.298 199.63 748.756 Q197.825 745.191 194.19 745.191 M194.19 741.488 Q200 741.488 203.056 746.094 Q206.135 750.677 206.135 759.427 Q206.135 768.154 203.056 772.761 Q200 777.344 194.19 777.344 Q188.38 777.344 185.301 772.761 Q182.246 768.154 182.246 759.427 Q182.246 750.677 185.301 746.094 Q188.38 741.488 194.19 741.488 Z\" fill=\"#000000\" fill-rule=\"evenodd\" fill-opacity=\"1\" /><path clip-path=\"url(#clip950)\" d=\"M166.876 467.519 L155.07 485.968 L166.876 485.968 L166.876 467.519 M165.649 463.445 L171.528 463.445 L171.528 485.968 L176.459 485.968 L176.459 489.856 L171.528 489.856 L171.528 498.005 L166.876 498.005 L166.876 489.856 L151.274 489.856 L151.274 485.343 L165.649 463.445 Z\" fill=\"#000000\" fill-rule=\"evenodd\" fill-opacity=\"1\" /><path clip-path=\"url(#clip950)\" d=\"M194.19 466.523 Q190.579 466.523 188.75 470.088 Q186.945 473.63 186.945 480.759 Q186.945 487.866 188.75 491.431 Q190.579 494.972 194.19 494.972 Q197.825 494.972 199.63 491.431 Q201.459 487.866 201.459 480.759 Q201.459 473.63 199.63 470.088 Q197.825 466.523 194.19 466.523 M194.19 462.82 Q200 462.82 203.056 467.426 Q206.135 472.009 206.135 480.759 Q206.135 489.486 203.056 494.093 Q200 498.676 194.19 498.676 Q188.38 498.676 185.301 494.093 Q182.246 489.486 182.246 480.759 Q182.246 472.009 185.301 467.426 Q188.38 462.82 194.19 462.82 Z\" fill=\"#000000\" fill-rule=\"evenodd\" fill-opacity=\"1\" /><path clip-path=\"url(#clip950)\" d=\"M164.607 200.193 Q161.459 200.193 159.607 202.346 Q157.778 204.499 157.778 208.249 Q157.778 211.975 159.607 214.151 Q161.459 216.304 164.607 216.304 Q167.755 216.304 169.584 214.151 Q171.436 211.975 171.436 208.249 Q171.436 204.499 169.584 202.346 Q167.755 200.193 164.607 200.193 M173.889 185.54 L173.889 189.8 Q172.13 188.966 170.325 188.526 Q168.542 188.087 166.783 188.087 Q162.153 188.087 159.7 191.212 Q157.269 194.337 156.922 200.656 Q158.288 198.642 160.348 197.577 Q162.408 196.489 164.885 196.489 Q170.093 196.489 173.102 199.661 Q176.135 202.809 176.135 208.249 Q176.135 213.573 172.987 216.79 Q169.839 220.008 164.607 220.008 Q158.612 220.008 155.44 215.424 Q152.269 210.818 152.269 202.091 Q152.269 193.897 156.158 189.036 Q160.047 184.152 166.598 184.152 Q168.357 184.152 170.139 184.499 Q171.945 184.846 173.889 185.54 Z\" fill=\"#000000\" fill-rule=\"evenodd\" fill-opacity=\"1\" /><path clip-path=\"url(#clip950)\" d=\"M194.19 187.855 Q190.579 187.855 188.75 191.42 Q186.945 194.962 186.945 202.091 Q186.945 209.198 188.75 212.762 Q190.579 216.304 194.19 216.304 Q197.825 216.304 199.63 212.762 Q201.459 209.198 201.459 202.091 Q201.459 194.962 199.63 191.42 Q197.825 187.855 194.19 187.855 M194.19 184.152 Q200 184.152 203.056 188.758 Q206.135 193.341 206.135 202.091 Q206.135 210.818 203.056 215.424 Q200 220.008 194.19 220.008 Q188.38 220.008 185.301 215.424 Q182.246 210.818 182.246 202.091 Q182.246 193.341 185.301 188.758 Q188.38 184.152 194.19 184.152 Z\" fill=\"#000000\" fill-rule=\"evenodd\" fill-opacity=\"1\" /><path clip-path=\"url(#clip950)\" d=\"M67.3143 826.336 Q73.68 828.819 75.6216 831.174 Q77.5631 833.53 77.5631 837.476 L77.5631 842.155 L72.6615 842.155 L72.6615 838.718 Q72.6615 836.299 71.5157 834.962 Q70.3699 833.625 66.1048 832.002 L63.4312 830.952 L28.3562 845.37 L28.3562 839.163 L56.238 828.023 L28.3562 816.883 L28.3562 810.677 L67.3143 826.336 Z\" fill=\"#000000\" fill-rule=\"evenodd\" fill-opacity=\"1\" /><path clip-path=\"url(#clip950)\" d=\"M14.479 782.413 L14.479 768.918 L19.0304 768.918 L19.0304 776.557 L68.0464 776.557 L68.0464 768.918 L72.5979 768.918 L72.5979 782.413 L14.479 782.413 Z\" fill=\"#000000\" fill-rule=\"evenodd\" fill-opacity=\"1\" /><path clip-path=\"url(#clip950)\" d=\"M58.5933 754.499 L58.5933 743.996 L22.3406 743.996 L24.6323 755.422 L18.7758 755.422 L16.4842 744.06 L16.4842 737.63 L58.5933 737.63 L58.5933 727.127 L64.0042 727.127 L64.0042 754.499 L58.5933 754.499 Z\" fill=\"#000000\" fill-rule=\"evenodd\" fill-opacity=\"1\" /><path clip-path=\"url(#clip950)\" d=\"M14.479 701.282 L72.5979 701.282 L72.5979 714.777 L68.0464 714.777 L68.0464 707.17 L19.0304 707.17 L19.0304 714.777 L14.479 714.777 L14.479 701.282 Z\" fill=\"#000000\" fill-rule=\"evenodd\" fill-opacity=\"1\" /><path clip-path=\"url(#clip950)\" d=\"M946.414 9.62495 Q940.986 18.942 938.353 28.0566 Q935.72 37.1711 935.72 46.5287 Q935.72 55.8863 938.353 65.0818 Q941.026 74.2369 946.414 83.5134 L939.933 83.5134 Q933.856 73.9938 930.818 64.7983 Q927.821 55.6027 927.821 46.5287 Q927.821 37.4952 930.818 28.3401 Q933.816 19.1851 939.933 9.62495 L946.414 9.62495 Z\" fill=\"#000000\" fill-rule=\"evenodd\" fill-opacity=\"1\" /><path clip-path=\"url(#clip950)\" d=\"M998.59 27.2059 L982.184 49.2833 L999.441 72.576 L990.65 72.576 L977.444 54.752 L964.238 72.576 L955.448 72.576 L973.069 48.8377 L956.947 27.2059 L965.737 27.2059 L977.768 43.369 L989.799 27.2059 L998.59 27.2059 Z\" fill=\"#000000\" fill-rule=\"evenodd\" fill-opacity=\"1\" /><path clip-path=\"url(#clip950)\" d=\"M1066.69 20.5624 L1066.69 43.1259 L1089.25 43.1259 L1089.25 50.0125 L1066.69 50.0125 L1066.69 72.576 L1059.88 72.576 L1059.88 50.0125 L1037.32 50.0125 L1037.32 43.1259 L1059.88 43.1259 L1059.88 20.5624 L1066.69 20.5624 Z\" fill=\"#000000\" fill-rule=\"evenodd\" fill-opacity=\"1\" /><path clip-path=\"url(#clip950)\" d=\"M1158.07 39.9662 Q1163.95 41.222 1167.23 45.1919 Q1170.55 49.1618 1170.55 54.9951 Q1170.55 63.9476 1164.39 68.8492 Q1158.24 73.7508 1146.89 73.7508 Q1143.09 73.7508 1139.03 72.9811 Q1135.02 72.2519 1130.73 70.7531 L1130.73 62.8538 Q1134.13 64.8388 1138.18 65.8515 Q1142.23 66.8642 1146.65 66.8642 Q1154.35 66.8642 1158.36 63.826 Q1162.41 60.7879 1162.41 54.9951 Q1162.41 49.6479 1158.64 46.6502 Q1154.91 43.612 1148.23 43.612 L1141.18 43.612 L1141.18 36.8875 L1148.55 36.8875 Q1154.59 36.8875 1157.79 34.4975 Q1160.99 32.067 1160.99 27.5299 Q1160.99 22.8714 1157.67 20.4004 Q1154.39 17.8888 1148.23 17.8888 Q1144.87 17.8888 1141.02 18.618 Q1137.17 19.3471 1132.55 20.8865 L1132.55 13.5948 Q1137.21 12.2985 1141.26 11.6504 Q1145.35 11.0023 1148.96 11.0023 Q1158.28 11.0023 1163.7 15.2557 Q1169.13 19.4686 1169.13 26.6793 Q1169.13 31.7024 1166.26 35.1862 Q1163.38 38.6294 1158.07 39.9662 Z\" fill=\"#000000\" fill-rule=\"evenodd\" fill-opacity=\"1\" /><path clip-path=\"url(#clip950)\" d=\"M1183.84 9.62495 L1190.32 9.62495 Q1196.4 19.1851 1199.39 28.3401 Q1202.43 37.4952 1202.43 46.5287 Q1202.43 55.6027 1199.39 64.7983 Q1196.4 73.9938 1190.32 83.5134 L1183.84 83.5134 Q1189.23 74.2369 1191.86 65.0818 Q1194.53 55.8863 1194.53 46.5287 Q1194.53 37.1711 1191.86 28.0566 Q1189.23 18.942 1183.84 9.62495 Z\" fill=\"#000000\" fill-rule=\"evenodd\" fill-opacity=\"1\" /><path clip-path=\"url(#clip950)\" d=\"M1274.94 22.0612 L1260.4 29.92 L1274.94 37.8192 L1272.59 41.7891 L1258.98 33.5658 L1258.98 48.8377 L1254.36 48.8377 L1254.36 33.5658 L1240.75 41.7891 L1238.4 37.8192 L1252.95 29.92 L1238.4 22.0612 L1240.75 18.0508 L1254.36 26.2742 L1254.36 11.0023 L1258.98 11.0023 L1258.98 26.2742 L1272.59 18.0508 L1274.94 22.0612 Z\" fill=\"#000000\" fill-rule=\"evenodd\" fill-opacity=\"1\" /><path clip-path=\"url(#clip950)\" d=\"M1329.51 9.62495 Q1324.08 18.942 1321.45 28.0566 Q1318.81 37.1711 1318.81 46.5287 Q1318.81 55.8863 1321.45 65.0818 Q1324.12 74.2369 1329.51 83.5134 L1323.03 83.5134 Q1316.95 73.9938 1313.91 64.7983 Q1310.91 55.6027 1310.91 46.5287 Q1310.91 37.4952 1313.91 28.3401 Q1316.91 19.1851 1323.03 9.62495 L1329.51 9.62495 Z\" fill=\"#000000\" fill-rule=\"evenodd\" fill-opacity=\"1\" /><path clip-path=\"url(#clip950)\" d=\"M1381.68 27.2059 L1365.28 49.2833 L1382.53 72.576 L1373.74 72.576 L1360.54 54.752 L1347.33 72.576 L1338.54 72.576 L1356.16 48.8377 L1340.04 27.2059 L1348.83 27.2059 L1360.86 43.369 L1372.89 27.2059 L1381.68 27.2059 Z\" fill=\"#000000\" fill-rule=\"evenodd\" fill-opacity=\"1\" /><path clip-path=\"url(#clip950)\" d=\"M1415.67 46.5287 L1437.51 46.5287 L1437.51 53.1722 L1415.67 53.1722 L1415.67 46.5287 Z\" fill=\"#000000\" fill-rule=\"evenodd\" fill-opacity=\"1\" /><path clip-path=\"url(#clip950)\" d=\"M1478.22 65.6895 L1491.58 65.6895 L1491.58 19.5497 L1477.04 22.4663 L1477.04 15.0127 L1491.5 12.096 L1499.69 12.096 L1499.69 65.6895 L1513.05 65.6895 L1513.05 72.576 L1478.22 72.576 L1478.22 65.6895 Z\" fill=\"#000000\" fill-rule=\"evenodd\" fill-opacity=\"1\" /><path clip-path=\"url(#clip950)\" d=\"M1527.35 9.62495 L1533.84 9.62495 Q1539.91 19.1851 1542.91 28.3401 Q1545.95 37.4952 1545.95 46.5287 Q1545.95 55.6027 1542.91 64.7983 Q1539.91 73.9938 1533.84 83.5134 L1527.35 83.5134 Q1532.74 74.2369 1535.38 65.0818 Q1538.05 55.8863 1538.05 46.5287 Q1538.05 37.1711 1535.38 28.0566 Q1532.74 18.942 1527.35 9.62495 Z\" fill=\"#000000\" fill-rule=\"evenodd\" fill-opacity=\"1\" /><path clip-path=\"url(#clip950)\" d=\"M1591.8 12.096 L1613.8 34.6595 L1605.66 34.6595 L1587.83 18.6585 L1570.01 34.6595 L1561.87 34.6595 L1583.86 12.096 L1591.8 12.096 Z\" fill=\"#000000\" fill-rule=\"evenodd\" fill-opacity=\"1\" /><path clip-path=\"url(#clip950)\" d=\"M1638.51 65.6895 L1667.07 65.6895 L1667.07 72.576 L1628.67 72.576 L1628.67 65.6895 Q1633.33 60.8689 1641.35 52.7671 Q1649.41 44.6248 1651.47 42.2752 Q1655.4 37.8598 1656.94 34.8216 Q1658.52 31.7429 1658.52 28.7857 Q1658.52 23.9651 1655.12 20.927 Q1651.76 17.8888 1646.33 17.8888 Q1642.48 17.8888 1638.19 19.2256 Q1633.93 20.5624 1629.07 23.2765 L1629.07 15.0127 Q1634.01 13.0277 1638.31 12.015 Q1642.6 11.0023 1646.17 11.0023 Q1655.57 11.0023 1661.16 15.7013 Q1666.75 20.4004 1666.75 28.2591 Q1666.75 31.9859 1665.33 35.3482 Q1663.95 38.6699 1660.26 43.2069 Q1659.25 44.3817 1653.82 50.0125 Q1648.4 55.6027 1638.51 65.6895 Z\" fill=\"#000000\" fill-rule=\"evenodd\" fill-opacity=\"1\" /><polyline clip-path=\"url(#clip952)\" style=\"stroke:#009af9; stroke-linecap:butt; stroke-linejoin:round; stroke-width:4; stroke-opacity:1; fill:none\" points=\"\n",
       "  301.869,1386.4 306.731,1376.93 311.592,1367.58 316.453,1358.34 321.314,1349.22 366.264,1270.24 411.214,1200.55 456.164,1139.66 501.114,1087.08 555.14,1034.18 \n",
       "  609.166,991.707 654.844,963.309 700.522,941.242 750.141,923.843 799.761,912.643 845.505,907.237 891.25,906.018 989.336,915.099 1102.98,939.968 1203.97,968.869 \n",
       "  1292.53,994.88 1389.09,1019.33 1486.22,1035 1539.91,1038.02 1593.6,1035.96 1644.69,1028.5 1695.78,1014.95 1748.9,993.634 1802.02,964.14 1846.74,932.376 \n",
       "  1891.46,893.758 1946.05,836.612 2000.64,767.642 2051.96,691.241 2103.28,602.881 2144.39,522.98 2185.5,434.559 2226.61,337.24 2267.72,230.648 2274.04,213.396 \n",
       "  2280.37,195.915 2286.69,178.202 2293.02,160.256 \n",
       "  \"/>\n",
       "</svg>\n"
      ]
     },
     "execution_count": 12,
     "metadata": {},
     "output_type": "execute_result"
    }
   ],
   "source": [
    "plot(f3, -4, 4, xlab=\"x [1]\", ylab=\"y [1]\", label=\"\", title=\"(x + 3) * (x - 1)^2\")"
   ]
  },
  {
   "cell_type": "code",
   "execution_count": 13,
   "id": "e6cd0914",
   "metadata": {
    "scrolled": false
   },
   "outputs": [
    {
     "data": {
      "text/plain": [
       "Results of univariate zero finding:\n",
       "\n",
       "* Converged to: -3.0\n",
       "* Algorithm: FalsePosition{:anderson_bjork}()\n",
       "* iterations: 8\n",
       "* function evaluations ≈ 10\n",
       "* stopped as f(x_n) = 0\n",
       "\n",
       "Trace:\n",
       "x₁ = -4,\t fx₁ = -25\n",
       "x₂ = 0,\t fx₂ = 3\n",
       "x₃ = -0.42857142857142855,\t fx₃ = 5.2478134110787176\n",
       "x₄ = -1.4845995893223822,\t fx₄ = 9.3549230349375367\n",
       "x₅ = -2.9925453312690409,\t fx₅ = 0.11883053727973025\n",
       "x₆ = -3.0115798361696404,\t fx₆ = -0.18635167233037822\n",
       "x₇ = -2.9999569049878421,\t fx₇ = 0.00068950533716640111\n",
       "x₈ = -2.9999997515587591,\t fx₈ = 3.9750593608262766e-06\n",
       "x₉ = -3.0000000000000231,\t fx₉ = -3.6948222259525634e-13\n",
       "x₁₀ = -3,\t fx₁₀ = 0\n",
       "\n"
      ]
     },
     "metadata": {},
     "output_type": "display_data"
    },
    {
     "data": {
      "text/plain": [
       "Results of univariate zero finding:\n",
       "\n",
       "* Converged to: 0.9999999893171166\n",
       "* Algorithm: Roots.Newton()\n",
       "* iterations: 26\n",
       "* function evaluations ≈ 52\n",
       "* stopped as |f(x_n)| ≤ max(δ, |x|⋅ϵ) using δ = atol, ϵ = rtol\n",
       "\n",
       "Trace:\n",
       "x₁ = 0,\t fx₁ = 3\n",
       "x₂ = 0.59999999999999998,\t fx₂ = 0.57600000000000018\n",
       "x₃ = 0.81176470588235294,\t fx₃ = 0.13506045186240584\n",
       "x₄ = 0.90826507818317204,\t fx₄ = 0.032889207013273039\n",
       "x₅ = 0.95467723287473649,\t fx₅ = 0.008123512971538743\n",
       "x₆ = 0.97746922076976495,\t fx₆ = 0.0020191066159544178\n",
       "x₇ = 0.98876660798474947,\t fx₇ = 0.00050333885308786899\n",
       "x₈ = 0.99439122417482817,\t fx₈ = 0.00012565702210396592\n",
       "x₉ = 0.99719758237940248,\t fx₉ = 3.1392169169394192e-05\n",
       "x₁₀ = 0.99859928255261032,\t fx₁₀ = 7.8452892489345154e-06\n",
       "x₁₁ = 0.99929976396633591,\t fx₁₁ = 1.9609786642799847e-06\n",
       "x₁₂ = 0.99964991263687364,\t fx₁₂ = 4.9020174016911134e-07\n",
       "x₁₃ = 0.99982496397951515,\t fx₁₃ = 1.225450711836327e-07\n",
       "x₁₄ = 0.99991248390473375,\t fx₁₄ = 3.0635597430973551e-08\n",
       "x₁₅ = 0.99995624243107428,\t fx₁₅ = 7.6588155694515749e-09\n",
       "x₁₆ = 0.99997812133520936,\t fx₁₆ = 1.914693419293982e-09\n",
       "x₁₇ = 0.99998906069752214,\t fx₁₇ = 4.7867204572062349e-10\n",
       "x₁₈ = 0.99999453035624042,\t fx₁₈ = 1.1966784779156153e-10\n",
       "x₁₉ = 0.99999726517998999,\t fx₁₉ = 2.9916941494196689e-11\n",
       "x₂₀ = 0.9999986325904624,\t fx₂₀ = 7.4792328172876542e-12\n",
       "x₂₁ = 0.99999931629534811,\t fx₂₁ = 1.8698078844852709e-12\n",
       "x₂₂ = 0.99999965814770331,\t fx₂₂ = 4.6745193106581024e-13\n",
       "x₂₃ = 0.99999982907385898,\t fx₂₃ = 1.1686297774053625e-13\n",
       "x₂₄ = 0.99999991453693127,\t fx₂₄ = 2.9215743844847674e-14\n",
       "x₂₅ = 0.99999995726846613,\t fx₂₅ = 7.3039358684495011e-15\n",
       "x₂₆ = 0.99999997863423318,\t fx₂₆ = 1.8259839578891492e-15\n",
       "x₂₇ = 0.99999998931711664,\t fx₂₇ = 4.5649598594730742e-16\n",
       "\n"
      ]
     },
     "metadata": {},
     "output_type": "display_data"
    },
    {
     "data": {
      "text/plain": [
       "Results of univariate zero finding:\n",
       "\n",
       "* Converged to: 0.9999999886120837\n",
       "* Algorithm: Secant()\n",
       "* iterations: 37\n",
       "* function evaluations ≈ 39\n",
       "* stopped as |f(x_n)| ≤ max(δ, |x|⋅ϵ) using δ = atol, ϵ = rtol\n",
       "\n",
       "Trace:\n",
       "x₁ = 6.0554544523933395e-06,\t fx₁ = 2.9999697227644067\n",
       "x₂ = 0,\t fx₂ = 3\n",
       "x₃ = 0.60000072665724669,\t fx₃ = 0.57599802349376761\n",
       "x₄ = 0.74257455126588756,\t fx₄ = 0.24801241260040122\n",
       "x₅ = 0.85038439730926052,\t fx₅ = 0.08619019465664586\n",
       "x₆ = 0.9078063739355543,\t fx₆ = 0.033215043839825133\n",
       "x₇ = 0.94380954601913736,\t fx₇ = 0.012452054582524767\n",
       "x₈ = 0.96540149785098539,\t fx₈ = 0.0047468090470904525\n",
       "x₉ = 0.97870319885823054,\t fx₉ = 0.0018045557117044276\n",
       "x₁₀ = 0.98686145642202372,\t fx₁₀ = 0.00068821731656964601\n",
       "x₁₁ = 0.99189098344797522,\t fx₁₁ = 0.00026249138005983306\n",
       "x₁₂ = 0.99499205711267502,\t fx₁₂ = 0.000100192371187443\n",
       "x₁₃ = 0.99690644910959414,\t fx₁₃ = 3.8250622987424955e-05\n",
       "x₁₄ = 0.99808863541611936,\t fx₁₄ = 1.4606275473965125e-05\n",
       "x₁₅ = 0.99881892999687816,\t fx₁₅ = 5.5780579034256801e-06\n",
       "x₁₆ = 0.99927014037436435,\t fx₁₆ = 2.1303914999054119e-06\n",
       "x₁₇ = 0.99954895353096329,\t fx₁₇ = 8.1367990671246376e-07\n",
       "x₁₈ = 0.99972124992785416,\t fx₁₈ = 3.1078475155787767e-07\n",
       "x₁₉ = 0.99982772757504002,\t fx₁₉ = 1.187060409417992e-07\n",
       "x₂₀ = 0.99989353153585214,\t fx₂₀ = 4.5340928555134302e-08\n",
       "x₂₁ = 0.99993419953987706,\t fx₂₁ = 1.731851731327629e-08\n",
       "x₂₂ = 0.9999593333346003,\t fx₂₂ = 6.6150434453020391e-09\n",
       "x₂₃ = 0.99997486671620051,\t fx₂₃ = 2.5267119419418803e-09\n",
       "x₂₄ = 0.99998446681363773,\t fx₂₄ = 9.6511576641484397e-10\n",
       "x₂₅ = 0.99999039997711558,\t fx₂₅ = 3.6864087278284602e-10\n",
       "x₂₆ = 0.99999406686500336,\t fx₂₆ = 1.4080815469458877e-10\n",
       "x₂₇ = 0.99999633312298986,\t fx₂₇ = 5.3783898725323074e-11\n",
       "x₂₈ = 0.99999773374616874,\t fx₂₈ = 2.0543614071577185e-11\n",
       "x₂₉ = 0.99999859937840829,\t fx₂₉ = 7.846960624970013e-12\n",
       "x₃₀ = 0.99999913436836674,\t fx₃₀ = 2.9972718493836362e-12\n",
       "x₃₁ = 0.99999946501027315,\t fx₃₁ = 1.144855878229332e-12\n",
       "x₃₂ = 0.99999966935818208,\t fx₃₂ = 4.3729601089582708e-13\n",
       "x₃₃ = 0.99999979565212482,\t fx₃₃ = 1.6703220782385385e-13\n",
       "x₃₄ = 0.99999987370607013,\t fx₃₄ = 6.3800624873247342e-14\n",
       "x₃₅ = 0.99999992194605969,\t fx₃₅ = 2.4369669916836025e-14\n",
       "x₃₆ = 0.99999995176001233,\t fx₃₆ = 9.3083855297789917e-15\n",
       "x₃₇ = 0.99999997018604814,\t fx₃₇ = 3.5554868762219908e-15\n",
       "x₃₈ = 0.99999998157396441,\t fx₃₈ = 1.3580751434420779e-15\n",
       "x₃₉ = 0.99999998861208372,\t fx₃₉ = 5.1873854701816434e-16\n",
       "\n"
      ]
     },
     "metadata": {},
     "output_type": "display_data"
    },
    {
     "data": {
      "text/plain": [
       "Algorithm has not been run"
      ]
     },
     "execution_count": 13,
     "metadata": {},
     "output_type": "execute_result"
    }
   ],
   "source": [
    "test(f3, -4, 4)"
   ]
  },
  {
   "cell_type": "code",
   "execution_count": 14,
   "id": "a3acff43",
   "metadata": {
    "scrolled": true
   },
   "outputs": [
    {
     "data": {
      "text/html": [
       "<div class=\"data-frame\"><p>9 rows × 6 columns</p><table class=\"data-frame\"><thead><tr><th></th><th>f</th><th>method</th><th>iterations</th><th>calls</th><th>x_zero</th><th>isZero</th></tr><tr><th></th><th title=\"String\">String</th><th title=\"String\">String</th><th title=\"Int64\">Int64</th><th title=\"Int64\">Int64</th><th title=\"Float64\">Float64</th><th title=\"Bool\">Bool</th></tr></thead><tbody><tr><th>1</th><td>sin(x) - x/2</td><td>interval</td><td>9</td><td>11</td><td>1.89549</td><td>1</td></tr><tr><th>2</th><td>sin(x) - x/2</td><td>derivative</td><td>1</td><td>2</td><td>0.0</td><td>1</td></tr><tr><th>3</th><td>sin(x) - x/2</td><td>derivativeApprox</td><td>0</td><td>2</td><td>0.0</td><td>1</td></tr><tr><th>4</th><td>x * exp(-x)</td><td>interval</td><td>40</td><td>42</td><td>9.09495e-12</td><td>0</td></tr><tr><th>5</th><td>x * exp(-x)</td><td>derivative</td><td>1</td><td>2</td><td>0.0</td><td>1</td></tr><tr><th>6</th><td>x * exp(-x)</td><td>derivativeApprox</td><td>0</td><td>2</td><td>0.0</td><td>1</td></tr><tr><th>7</th><td>(x + 3) * (x - 1)^2</td><td>interval</td><td>8</td><td>10</td><td>-3.0</td><td>1</td></tr><tr><th>8</th><td>(x + 3) * (x - 1)^2</td><td>derivative</td><td>26</td><td>52</td><td>1.0</td><td>0</td></tr><tr><th>9</th><td>(x + 3) * (x - 1)^2</td><td>derivativeApprox</td><td>37</td><td>39</td><td>1.0</td><td>0</td></tr></tbody></table></div>"
      ],
      "text/latex": [
       "\\begin{tabular}{r|cccccc}\n",
       "\t& f & method & iterations & calls & x\\_zero & isZero\\\\\n",
       "\t\\hline\n",
       "\t& String & String & Int64 & Int64 & Float64 & Bool\\\\\n",
       "\t\\hline\n",
       "\t1 & sin(x) - x/2 & interval & 9 & 11 & 1.89549 & 1 \\\\\n",
       "\t2 & sin(x) - x/2 & derivative & 1 & 2 & 0.0 & 1 \\\\\n",
       "\t3 & sin(x) - x/2 & derivativeApprox & 0 & 2 & 0.0 & 1 \\\\\n",
       "\t4 & x * exp(-x) & interval & 40 & 42 & 9.09495e-12 & 0 \\\\\n",
       "\t5 & x * exp(-x) & derivative & 1 & 2 & 0.0 & 1 \\\\\n",
       "\t6 & x * exp(-x) & derivativeApprox & 0 & 2 & 0.0 & 1 \\\\\n",
       "\t7 & (x + 3) * (x - 1)\\^2 & interval & 8 & 10 & -3.0 & 1 \\\\\n",
       "\t8 & (x + 3) * (x - 1)\\^2 & derivative & 26 & 52 & 1.0 & 0 \\\\\n",
       "\t9 & (x + 3) * (x - 1)\\^2 & derivativeApprox & 37 & 39 & 1.0 & 0 \\\\\n",
       "\\end{tabular}\n"
      ],
      "text/plain": [
       "\u001b[1m9×6 DataFrame\u001b[0m\n",
       "\u001b[1m Row \u001b[0m│\u001b[1m f                   \u001b[0m\u001b[1m method           \u001b[0m\u001b[1m iterations \u001b[0m\u001b[1m calls \u001b[0m\u001b[1m x_zero       \u001b[0m\u001b[1m\u001b[0m ⋯\n",
       "\u001b[1m     \u001b[0m│\u001b[90m String              \u001b[0m\u001b[90m String           \u001b[0m\u001b[90m Int64      \u001b[0m\u001b[90m Int64 \u001b[0m\u001b[90m Float64      \u001b[0m\u001b[90m\u001b[0m ⋯\n",
       "─────┼──────────────────────────────────────────────────────────────────────────\n",
       "   1 │ sin(x) - x/2         interval                   9     11   1.89549      ⋯\n",
       "   2 │ sin(x) - x/2         derivative                 1      2   0.0\n",
       "   3 │ sin(x) - x/2         derivativeApprox           0      2   0.0\n",
       "   4 │ x * exp(-x)          interval                  40     42   9.09495e-12\n",
       "   5 │ x * exp(-x)          derivative                 1      2   0.0          ⋯\n",
       "   6 │ x * exp(-x)          derivativeApprox           0      2   0.0\n",
       "   7 │ (x + 3) * (x - 1)^2  interval                   8     10  -3.0\n",
       "   8 │ (x + 3) * (x - 1)^2  derivative                26     52   1.0\n",
       "   9 │ (x + 3) * (x - 1)^2  derivativeApprox          37     39   1.0          ⋯\n",
       "\u001b[36m                                                                1 column omitted\u001b[0m"
      ]
     },
     "execution_count": 14,
     "metadata": {},
     "output_type": "execute_result"
    }
   ],
   "source": [
    "push!(df, [\"(x + 3) * (x - 1)^2\" \"interval\" 8 10 -3.0 iszero(f3(-3.0))])\n",
    "push!(df, [\"(x + 3) * (x - 1)^2\" \"derivative\" 26 52 0.9999999893171166 iszero(f3(0.9999999893171166))])\n",
    "push!(df, [\"(x + 3) * (x - 1)^2\" \"derivativeApprox\" 37 39 0.9999999886120837 iszero(f3(0.9999999886120837))])"
   ]
  },
  {
   "cell_type": "code",
   "execution_count": 15,
   "id": "5a34bfed",
   "metadata": {},
   "outputs": [
    {
     "data": {
      "image/svg+xml": [
       "<?xml version=\"1.0\" encoding=\"utf-8\"?>\n",
       "<svg xmlns=\"http://www.w3.org/2000/svg\" xmlns:xlink=\"http://www.w3.org/1999/xlink\" width=\"600\" height=\"400\" viewBox=\"0 0 2400 1600\">\n",
       "<defs>\n",
       "  <clipPath id=\"clip990\">\n",
       "    <rect x=\"0\" y=\"0\" width=\"2400\" height=\"1600\"/>\n",
       "  </clipPath>\n",
       "</defs>\n",
       "<path clip-path=\"url(#clip990)\" d=\"\n",
       "M0 1600 L2400 1600 L2400 0 L0 0  Z\n",
       "  \" fill=\"#ffffff\" fill-rule=\"evenodd\" fill-opacity=\"1\"/>\n",
       "<defs>\n",
       "  <clipPath id=\"clip991\">\n",
       "    <rect x=\"480\" y=\"0\" width=\"1681\" height=\"1600\"/>\n",
       "  </clipPath>\n",
       "</defs>\n",
       "<path clip-path=\"url(#clip990)\" d=\"\n",
       "M212.135 1423.18 L2352.76 1423.18 L2352.76 123.472 L212.135 123.472  Z\n",
       "  \" fill=\"#ffffff\" fill-rule=\"evenodd\" fill-opacity=\"1\"/>\n",
       "<defs>\n",
       "  <clipPath id=\"clip992\">\n",
       "    <rect x=\"212\" y=\"123\" width=\"2142\" height=\"1301\"/>\n",
       "  </clipPath>\n",
       "</defs>\n",
       "<polyline clip-path=\"url(#clip992)\" style=\"stroke:#000000; stroke-linecap:butt; stroke-linejoin:round; stroke-width:2; stroke-opacity:0.1; fill:none\" points=\"\n",
       "  272.718,1423.18 272.718,123.472 \n",
       "  \"/>\n",
       "<polyline clip-path=\"url(#clip992)\" style=\"stroke:#000000; stroke-linecap:butt; stroke-linejoin:round; stroke-width:2; stroke-opacity:0.1; fill:none\" points=\"\n",
       "  777.582,1423.18 777.582,123.472 \n",
       "  \"/>\n",
       "<polyline clip-path=\"url(#clip992)\" style=\"stroke:#000000; stroke-linecap:butt; stroke-linejoin:round; stroke-width:2; stroke-opacity:0.1; fill:none\" points=\"\n",
       "  1282.45,1423.18 1282.45,123.472 \n",
       "  \"/>\n",
       "<polyline clip-path=\"url(#clip992)\" style=\"stroke:#000000; stroke-linecap:butt; stroke-linejoin:round; stroke-width:2; stroke-opacity:0.1; fill:none\" points=\"\n",
       "  1787.31,1423.18 1787.31,123.472 \n",
       "  \"/>\n",
       "<polyline clip-path=\"url(#clip992)\" style=\"stroke:#000000; stroke-linecap:butt; stroke-linejoin:round; stroke-width:2; stroke-opacity:0.1; fill:none\" points=\"\n",
       "  2292.17,1423.18 2292.17,123.472 \n",
       "  \"/>\n",
       "<polyline clip-path=\"url(#clip990)\" style=\"stroke:#000000; stroke-linecap:butt; stroke-linejoin:round; stroke-width:4; stroke-opacity:1; fill:none\" points=\"\n",
       "  212.135,1423.18 2352.76,1423.18 \n",
       "  \"/>\n",
       "<polyline clip-path=\"url(#clip990)\" style=\"stroke:#000000; stroke-linecap:butt; stroke-linejoin:round; stroke-width:4; stroke-opacity:1; fill:none\" points=\"\n",
       "  272.718,1423.18 272.718,1404.28 \n",
       "  \"/>\n",
       "<polyline clip-path=\"url(#clip990)\" style=\"stroke:#000000; stroke-linecap:butt; stroke-linejoin:round; stroke-width:4; stroke-opacity:1; fill:none\" points=\"\n",
       "  777.582,1423.18 777.582,1404.28 \n",
       "  \"/>\n",
       "<polyline clip-path=\"url(#clip990)\" style=\"stroke:#000000; stroke-linecap:butt; stroke-linejoin:round; stroke-width:4; stroke-opacity:1; fill:none\" points=\"\n",
       "  1282.45,1423.18 1282.45,1404.28 \n",
       "  \"/>\n",
       "<polyline clip-path=\"url(#clip990)\" style=\"stroke:#000000; stroke-linecap:butt; stroke-linejoin:round; stroke-width:4; stroke-opacity:1; fill:none\" points=\"\n",
       "  1787.31,1423.18 1787.31,1404.28 \n",
       "  \"/>\n",
       "<polyline clip-path=\"url(#clip990)\" style=\"stroke:#000000; stroke-linecap:butt; stroke-linejoin:round; stroke-width:4; stroke-opacity:1; fill:none\" points=\"\n",
       "  2292.17,1423.18 2292.17,1404.28 \n",
       "  \"/>\n",
       "<path clip-path=\"url(#clip990)\" d=\"M242.661 1468.75 L272.336 1468.75 L272.336 1472.69 L242.661 1472.69 L242.661 1468.75 Z\" fill=\"#000000\" fill-rule=\"evenodd\" fill-opacity=\"1\" /><path clip-path=\"url(#clip990)\" d=\"M286.457 1481.64 L302.776 1481.64 L302.776 1485.58 L280.832 1485.58 L280.832 1481.64 Q283.494 1478.89 288.077 1474.26 Q292.684 1469.61 293.864 1468.27 Q296.11 1465.74 296.989 1464.01 Q297.892 1462.25 297.892 1460.56 Q297.892 1457.8 295.947 1456.07 Q294.026 1454.33 290.924 1454.33 Q288.725 1454.33 286.272 1455.09 Q283.841 1455.86 281.063 1457.41 L281.063 1452.69 Q283.887 1451.55 286.341 1450.97 Q288.795 1450.39 290.832 1450.39 Q296.202 1450.39 299.397 1453.08 Q302.591 1455.77 302.591 1460.26 Q302.591 1462.39 301.781 1464.31 Q300.994 1466.2 298.887 1468.8 Q298.309 1469.47 295.207 1472.69 Q292.105 1475.88 286.457 1481.64 Z\" fill=\"#000000\" fill-rule=\"evenodd\" fill-opacity=\"1\" /><path clip-path=\"url(#clip990)\" d=\"M747.339 1468.75 L777.015 1468.75 L777.015 1472.69 L747.339 1472.69 L747.339 1468.75 Z\" fill=\"#000000\" fill-rule=\"evenodd\" fill-opacity=\"1\" /><path clip-path=\"url(#clip990)\" d=\"M787.917 1481.64 L795.556 1481.64 L795.556 1455.28 L787.246 1456.95 L787.246 1452.69 L795.51 1451.02 L800.186 1451.02 L800.186 1481.64 L807.825 1481.64 L807.825 1485.58 L787.917 1485.58 L787.917 1481.64 Z\" fill=\"#000000\" fill-rule=\"evenodd\" fill-opacity=\"1\" /><path clip-path=\"url(#clip990)\" d=\"M1282.45 1454.1 Q1278.83 1454.1 1277.01 1457.66 Q1275.2 1461.2 1275.2 1468.33 Q1275.2 1475.44 1277.01 1479.01 Q1278.83 1482.55 1282.45 1482.55 Q1286.08 1482.55 1287.89 1479.01 Q1289.71 1475.44 1289.71 1468.33 Q1289.71 1461.2 1287.89 1457.66 Q1286.08 1454.1 1282.45 1454.1 M1282.45 1450.39 Q1288.26 1450.39 1291.31 1455 Q1294.39 1459.58 1294.39 1468.33 Q1294.39 1477.06 1291.31 1481.67 Q1288.26 1486.25 1282.45 1486.25 Q1276.64 1486.25 1273.56 1481.67 Q1270.5 1477.06 1270.5 1468.33 Q1270.5 1459.58 1273.56 1455 Q1276.64 1450.39 1282.45 1450.39 Z\" fill=\"#000000\" fill-rule=\"evenodd\" fill-opacity=\"1\" /><path clip-path=\"url(#clip990)\" d=\"M1777.69 1481.64 L1785.33 1481.64 L1785.33 1455.28 L1777.02 1456.95 L1777.02 1452.69 L1785.28 1451.02 L1789.96 1451.02 L1789.96 1481.64 L1797.6 1481.64 L1797.6 1485.58 L1777.69 1485.58 L1777.69 1481.64 Z\" fill=\"#000000\" fill-rule=\"evenodd\" fill-opacity=\"1\" /><path clip-path=\"url(#clip990)\" d=\"M2286.83 1481.64 L2303.14 1481.64 L2303.14 1485.58 L2281.2 1485.58 L2281.2 1481.64 Q2283.86 1478.89 2288.45 1474.26 Q2293.05 1469.61 2294.23 1468.27 Q2296.48 1465.74 2297.36 1464.01 Q2298.26 1462.25 2298.26 1460.56 Q2298.26 1457.8 2296.32 1456.07 Q2294.39 1454.33 2291.29 1454.33 Q2289.09 1454.33 2286.64 1455.09 Q2284.21 1455.86 2281.43 1457.41 L2281.43 1452.69 Q2284.26 1451.55 2286.71 1450.97 Q2289.16 1450.39 2291.2 1450.39 Q2296.57 1450.39 2299.76 1453.08 Q2302.96 1455.77 2302.96 1460.26 Q2302.96 1462.39 2302.15 1464.31 Q2301.36 1466.2 2299.26 1468.8 Q2298.68 1469.47 2295.58 1472.69 Q2292.47 1475.88 2286.83 1481.64 Z\" fill=\"#000000\" fill-rule=\"evenodd\" fill-opacity=\"1\" /><path clip-path=\"url(#clip990)\" d=\"M1244.27 1532.4 L1231.38 1549.74 L1244.94 1568.04 L1238.03 1568.04 L1227.65 1554.04 L1217.28 1568.04 L1210.37 1568.04 L1224.22 1549.39 L1211.55 1532.4 L1218.45 1532.4 L1227.91 1545.1 L1237.36 1532.4 L1244.27 1532.4 Z\" fill=\"#000000\" fill-rule=\"evenodd\" fill-opacity=\"1\" /><path clip-path=\"url(#clip990)\" d=\"M1273.39 1518.52 L1286.89 1518.52 L1286.89 1523.07 L1279.25 1523.07 L1279.25 1572.09 L1286.89 1572.09 L1286.89 1576.64 L1273.39 1576.64 L1273.39 1518.52 Z\" fill=\"#000000\" fill-rule=\"evenodd\" fill-opacity=\"1\" /><path clip-path=\"url(#clip990)\" d=\"M1301.3 1562.63 L1311.81 1562.63 L1311.81 1526.38 L1300.38 1528.67 L1300.38 1522.82 L1311.74 1520.52 L1318.17 1520.52 L1318.17 1562.63 L1328.68 1562.63 L1328.68 1568.04 L1301.3 1568.04 L1301.3 1562.63 Z\" fill=\"#000000\" fill-rule=\"evenodd\" fill-opacity=\"1\" /><path clip-path=\"url(#clip990)\" d=\"M1354.52 1518.52 L1354.52 1576.64 L1341.03 1576.64 L1341.03 1572.09 L1348.63 1572.09 L1348.63 1523.07 L1341.03 1523.07 L1341.03 1518.52 L1354.52 1518.52 Z\" fill=\"#000000\" fill-rule=\"evenodd\" fill-opacity=\"1\" /><polyline clip-path=\"url(#clip992)\" style=\"stroke:#000000; stroke-linecap:butt; stroke-linejoin:round; stroke-width:2; stroke-opacity:0.1; fill:none\" points=\"\n",
       "  212.135,1233.13 2352.76,1233.13 \n",
       "  \"/>\n",
       "<polyline clip-path=\"url(#clip992)\" style=\"stroke:#000000; stroke-linecap:butt; stroke-linejoin:round; stroke-width:2; stroke-opacity:0.1; fill:none\" points=\"\n",
       "  212.135,1003.23 2352.76,1003.23 \n",
       "  \"/>\n",
       "<polyline clip-path=\"url(#clip992)\" style=\"stroke:#000000; stroke-linecap:butt; stroke-linejoin:round; stroke-width:2; stroke-opacity:0.1; fill:none\" points=\"\n",
       "  212.135,773.326 2352.76,773.326 \n",
       "  \"/>\n",
       "<polyline clip-path=\"url(#clip992)\" style=\"stroke:#000000; stroke-linecap:butt; stroke-linejoin:round; stroke-width:2; stroke-opacity:0.1; fill:none\" points=\"\n",
       "  212.135,543.425 2352.76,543.425 \n",
       "  \"/>\n",
       "<polyline clip-path=\"url(#clip992)\" style=\"stroke:#000000; stroke-linecap:butt; stroke-linejoin:round; stroke-width:2; stroke-opacity:0.1; fill:none\" points=\"\n",
       "  212.135,313.524 2352.76,313.524 \n",
       "  \"/>\n",
       "<polyline clip-path=\"url(#clip990)\" style=\"stroke:#000000; stroke-linecap:butt; stroke-linejoin:round; stroke-width:4; stroke-opacity:1; fill:none\" points=\"\n",
       "  212.135,1423.18 212.135,123.472 \n",
       "  \"/>\n",
       "<polyline clip-path=\"url(#clip990)\" style=\"stroke:#000000; stroke-linecap:butt; stroke-linejoin:round; stroke-width:4; stroke-opacity:1; fill:none\" points=\"\n",
       "  212.135,1233.13 231.032,1233.13 \n",
       "  \"/>\n",
       "<polyline clip-path=\"url(#clip990)\" style=\"stroke:#000000; stroke-linecap:butt; stroke-linejoin:round; stroke-width:4; stroke-opacity:1; fill:none\" points=\"\n",
       "  212.135,1003.23 231.032,1003.23 \n",
       "  \"/>\n",
       "<polyline clip-path=\"url(#clip990)\" style=\"stroke:#000000; stroke-linecap:butt; stroke-linejoin:round; stroke-width:4; stroke-opacity:1; fill:none\" points=\"\n",
       "  212.135,773.326 231.032,773.326 \n",
       "  \"/>\n",
       "<polyline clip-path=\"url(#clip990)\" style=\"stroke:#000000; stroke-linecap:butt; stroke-linejoin:round; stroke-width:4; stroke-opacity:1; fill:none\" points=\"\n",
       "  212.135,543.425 231.032,543.425 \n",
       "  \"/>\n",
       "<polyline clip-path=\"url(#clip990)\" style=\"stroke:#000000; stroke-linecap:butt; stroke-linejoin:round; stroke-width:4; stroke-opacity:1; fill:none\" points=\"\n",
       "  212.135,313.524 231.032,313.524 \n",
       "  \"/>\n",
       "<path clip-path=\"url(#clip990)\" d=\"M114.26 1233.58 L143.936 1233.58 L143.936 1237.51 L114.26 1237.51 L114.26 1233.58 Z\" fill=\"#000000\" fill-rule=\"evenodd\" fill-opacity=\"1\" /><path clip-path=\"url(#clip990)\" d=\"M164.607 1231.26 Q161.459 1231.26 159.607 1233.42 Q157.778 1235.57 157.778 1239.32 Q157.778 1243.05 159.607 1245.22 Q161.459 1247.38 164.607 1247.38 Q167.755 1247.38 169.584 1245.22 Q171.436 1243.05 171.436 1239.32 Q171.436 1235.57 169.584 1233.42 Q167.755 1231.26 164.607 1231.26 M173.889 1216.61 L173.889 1220.87 Q172.13 1220.04 170.325 1219.6 Q168.542 1219.16 166.783 1219.16 Q162.153 1219.16 159.7 1222.28 Q157.269 1225.41 156.922 1231.73 Q158.288 1229.71 160.348 1228.65 Q162.408 1227.56 164.885 1227.56 Q170.093 1227.56 173.102 1230.73 Q176.135 1233.88 176.135 1239.32 Q176.135 1244.64 172.987 1247.86 Q169.839 1251.08 164.607 1251.08 Q158.612 1251.08 155.44 1246.5 Q152.269 1241.89 152.269 1233.16 Q152.269 1224.97 156.158 1220.11 Q160.047 1215.22 166.598 1215.22 Q168.357 1215.22 170.139 1215.57 Q171.945 1215.92 173.889 1216.61 Z\" fill=\"#000000\" fill-rule=\"evenodd\" fill-opacity=\"1\" /><path clip-path=\"url(#clip990)\" d=\"M115.07 1003.68 L144.746 1003.68 L144.746 1007.61 L115.07 1007.61 L115.07 1003.68 Z\" fill=\"#000000\" fill-rule=\"evenodd\" fill-opacity=\"1\" /><path clip-path=\"url(#clip990)\" d=\"M169.005 1001.87 Q172.362 1002.59 174.237 1004.86 Q176.135 1007.13 176.135 1010.46 Q176.135 1015.58 172.616 1018.38 Q169.098 1021.18 162.616 1021.18 Q160.44 1021.18 158.126 1020.74 Q155.834 1020.32 153.38 1019.47 L153.38 1014.95 Q155.325 1016.09 157.64 1016.66 Q159.954 1017.24 162.477 1017.24 Q166.876 1017.24 169.167 1015.51 Q171.482 1013.77 171.482 1010.46 Q171.482 1007.41 169.329 1005.69 Q167.2 1003.96 163.38 1003.96 L159.353 1003.96 L159.353 1000.11 L163.565 1000.11 Q167.015 1000.11 168.843 998.748 Q170.672 997.359 170.672 994.767 Q170.672 992.104 168.774 990.692 Q166.899 989.257 163.38 989.257 Q161.459 989.257 159.26 989.674 Q157.061 990.091 154.422 990.97 L154.422 986.804 Q157.084 986.063 159.399 985.692 Q161.737 985.322 163.797 985.322 Q169.121 985.322 172.223 987.753 Q175.325 990.16 175.325 994.28 Q175.325 997.151 173.681 999.141 Q172.038 1001.11 169.005 1001.87 Z\" fill=\"#000000\" fill-rule=\"evenodd\" fill-opacity=\"1\" /><path clip-path=\"url(#clip990)\" d=\"M164.19 759.125 Q160.579 759.125 158.751 762.689 Q156.945 766.231 156.945 773.361 Q156.945 780.467 158.751 784.032 Q160.579 787.574 164.19 787.574 Q167.825 787.574 169.63 784.032 Q171.459 780.467 171.459 773.361 Q171.459 766.231 169.63 762.689 Q167.825 759.125 164.19 759.125 M164.19 755.421 Q170.001 755.421 173.056 760.027 Q176.135 764.611 176.135 773.361 Q176.135 782.088 173.056 786.694 Q170.001 791.277 164.19 791.277 Q158.38 791.277 155.302 786.694 Q152.246 782.088 152.246 773.361 Q152.246 764.611 155.302 760.027 Q158.38 755.421 164.19 755.421 Z\" fill=\"#000000\" fill-rule=\"evenodd\" fill-opacity=\"1\" /><path clip-path=\"url(#clip990)\" d=\"M169.005 542.071 Q172.362 542.788 174.237 545.057 Q176.135 547.325 176.135 550.659 Q176.135 555.774 172.616 558.575 Q169.098 561.376 162.616 561.376 Q160.44 561.376 158.126 560.936 Q155.834 560.52 153.38 559.663 L153.38 555.149 Q155.325 556.284 157.64 556.862 Q159.954 557.441 162.477 557.441 Q166.876 557.441 169.167 555.705 Q171.482 553.969 171.482 550.659 Q171.482 547.603 169.329 545.89 Q167.2 544.154 163.38 544.154 L159.353 544.154 L159.353 540.311 L163.565 540.311 Q167.015 540.311 168.843 538.946 Q170.672 537.557 170.672 534.964 Q170.672 532.302 168.774 530.89 Q166.899 529.455 163.38 529.455 Q161.459 529.455 159.26 529.872 Q157.061 530.288 154.422 531.168 L154.422 527.001 Q157.084 526.261 159.399 525.89 Q161.737 525.52 163.797 525.52 Q169.121 525.52 172.223 527.95 Q175.325 530.358 175.325 534.478 Q175.325 537.348 173.681 539.339 Q172.038 541.307 169.005 542.071 Z\" fill=\"#000000\" fill-rule=\"evenodd\" fill-opacity=\"1\" /><path clip-path=\"url(#clip990)\" d=\"M164.607 311.66 Q161.459 311.66 159.607 313.813 Q157.778 315.966 157.778 319.716 Q157.778 323.443 159.607 325.619 Q161.459 327.771 164.607 327.771 Q167.755 327.771 169.584 325.619 Q171.436 323.443 171.436 319.716 Q171.436 315.966 169.584 313.813 Q167.755 311.66 164.607 311.66 M173.889 297.008 L173.889 301.267 Q172.13 300.434 170.325 299.994 Q168.542 299.554 166.783 299.554 Q162.153 299.554 159.7 302.679 Q157.269 305.804 156.922 312.123 Q158.288 310.109 160.348 309.045 Q162.408 307.957 164.885 307.957 Q170.093 307.957 173.102 311.128 Q176.135 314.276 176.135 319.716 Q176.135 325.04 172.987 328.257 Q169.839 331.475 164.607 331.475 Q158.612 331.475 155.44 326.892 Q152.269 322.285 152.269 313.558 Q152.269 305.364 156.158 300.503 Q160.047 295.619 166.598 295.619 Q168.357 295.619 170.139 295.966 Q171.945 296.313 173.889 297.008 Z\" fill=\"#000000\" fill-rule=\"evenodd\" fill-opacity=\"1\" /><path clip-path=\"url(#clip990)\" d=\"M67.3143 826.336 Q73.68 828.819 75.6216 831.174 Q77.5631 833.53 77.5631 837.476 L77.5631 842.155 L72.6615 842.155 L72.6615 838.718 Q72.6615 836.299 71.5157 834.962 Q70.3699 833.625 66.1048 832.002 L63.4312 830.952 L28.3562 845.37 L28.3562 839.163 L56.238 828.023 L28.3562 816.883 L28.3562 810.677 L67.3143 826.336 Z\" fill=\"#000000\" fill-rule=\"evenodd\" fill-opacity=\"1\" /><path clip-path=\"url(#clip990)\" d=\"M14.479 782.413 L14.479 768.918 L19.0304 768.918 L19.0304 776.557 L68.0464 776.557 L68.0464 768.918 L72.5979 768.918 L72.5979 782.413 L14.479 782.413 Z\" fill=\"#000000\" fill-rule=\"evenodd\" fill-opacity=\"1\" /><path clip-path=\"url(#clip990)\" d=\"M58.5933 754.499 L58.5933 743.996 L22.3406 743.996 L24.6323 755.422 L18.7758 755.422 L16.4842 744.06 L16.4842 737.63 L58.5933 737.63 L58.5933 727.127 L64.0042 727.127 L64.0042 754.499 L58.5933 754.499 Z\" fill=\"#000000\" fill-rule=\"evenodd\" fill-opacity=\"1\" /><path clip-path=\"url(#clip990)\" d=\"M14.479 701.282 L72.5979 701.282 L72.5979 714.777 L68.0464 714.777 L68.0464 707.17 L19.0304 707.17 L19.0304 714.777 L14.479 714.777 L14.479 701.282 Z\" fill=\"#000000\" fill-rule=\"evenodd\" fill-opacity=\"1\" /><path clip-path=\"url(#clip990)\" d=\"M1244.41 27.2059 L1228 49.2833 L1245.26 72.576 L1236.47 72.576 L1223.26 54.752 L1210.06 72.576 L1201.27 72.576 L1218.89 48.8377 L1202.76 27.2059 L1211.55 27.2059 L1223.59 43.369 L1235.62 27.2059 L1244.41 27.2059 Z\" fill=\"#000000\" fill-rule=\"evenodd\" fill-opacity=\"1\" /><path clip-path=\"url(#clip990)\" d=\"M1286.7 12.096 L1308.7 34.6595 L1300.55 34.6595 L1282.73 18.6585 L1264.9 34.6595 L1256.76 34.6595 L1278.76 12.096 L1286.7 12.096 Z\" fill=\"#000000\" fill-rule=\"evenodd\" fill-opacity=\"1\" /><path clip-path=\"url(#clip990)\" d=\"M1351.15 39.9662 Q1357.02 41.222 1360.3 45.1919 Q1363.63 49.1618 1363.63 54.9951 Q1363.63 63.9476 1357.47 68.8492 Q1351.31 73.7508 1339.97 73.7508 Q1336.16 73.7508 1332.11 72.9811 Q1328.1 72.2519 1323.81 70.7531 L1323.81 62.8538 Q1327.21 64.8388 1331.26 65.8515 Q1335.31 66.8642 1339.73 66.8642 Q1347.42 66.8642 1351.43 63.826 Q1355.48 60.7879 1355.48 54.9951 Q1355.48 49.6479 1351.72 46.6502 Q1347.99 43.612 1341.31 43.612 L1334.26 43.612 L1334.26 36.8875 L1341.63 36.8875 Q1347.66 36.8875 1350.87 34.4975 Q1354.07 32.067 1354.07 27.5299 Q1354.07 22.8714 1350.74 20.4004 Q1347.46 17.8888 1341.31 17.8888 Q1337.94 17.8888 1334.09 18.618 Q1330.25 19.3471 1325.63 20.8865 L1325.63 13.5948 Q1330.29 12.2985 1334.34 11.6504 Q1338.43 11.0023 1342.03 11.0023 Q1351.35 11.0023 1356.78 15.2557 Q1362.21 19.4686 1362.21 26.6793 Q1362.21 31.7024 1359.33 35.1862 Q1356.46 38.6294 1351.15 39.9662 Z\" fill=\"#000000\" fill-rule=\"evenodd\" fill-opacity=\"1\" /><polyline clip-path=\"url(#clip992)\" style=\"stroke:#009af9; stroke-linecap:butt; stroke-linejoin:round; stroke-width:4; stroke-opacity:1; fill:none\" points=\"\n",
       "  272.718,1386.4 277.649,1377.46 282.579,1368.61 287.51,1359.85 292.44,1351.17 338.029,1274.96 383.617,1205.77 429.206,1143.25 474.795,1087.06 529.589,1027.44 \n",
       "  584.383,975.899 630.71,938.185 677.038,905.468 777.687,849.912 870.477,814.964 969.957,791.498 1085.21,777.895 1187.64,773.833 1277.46,773.326 1375.39,772.848 \n",
       "  1473.9,769.147 1582.81,757.188 1686.44,734.058 1740.32,716.16 1794.2,693.514 1839.55,670.358 1884.9,643.109 1940.27,603.805 1995.64,557.295 2047.69,506.461 \n",
       "  2099.73,448.22 2141.43,395.884 2183.12,338.212 2224.81,274.947 2266.51,205.828 2272.92,194.654 2279.34,183.335 2285.76,171.87 2292.17,160.256 \n",
       "  \"/>\n",
       "</svg>\n"
      ]
     },
     "execution_count": 15,
     "metadata": {},
     "output_type": "execute_result"
    }
   ],
   "source": [
    "plot(f4, -2, 2, xlab=\"x [1]\", ylab=\"y [1]\", label=\"\", title=\"x^3\")"
   ]
  },
  {
   "cell_type": "code",
   "execution_count": 16,
   "id": "b6669947",
   "metadata": {},
   "outputs": [
    {
     "data": {
      "text/plain": [
       "Results of univariate zero finding:\n",
       "\n",
       "* Converged to: 7.62939453125e-6\n",
       "* Algorithm: FalsePosition{:anderson_bjork}()\n",
       "* iterations: 18\n",
       "* function evaluations ≈ 20\n",
       "* stopped as |f(x_n)| ≤ max(δ, |x|⋅ϵ) using δ = atol, ϵ = rtol\n",
       "\n",
       "Trace:\n",
       "x₁ = 0,\t fx₁ = 0\n",
       "x₂ = 2,\t fx₂ = 8\n",
       "x₃ = 1,\t fx₃ = 1\n",
       "x₄ = 0.5,\t fx₄ = 0.125\n",
       "x₅ = 0.25,\t fx₅ = 0.015625\n",
       "x₆ = 0.125,\t fx₆ = 0.001953125\n",
       "x₇ = 0.0625,\t fx₇ = 0.000244140625\n",
       "x₈ = 0.03125,\t fx₈ = 3.0517578125e-05\n",
       "x₉ = 0.015625,\t fx₉ = 3.814697265625e-06\n",
       "x₁₀ = 0.0078125,\t fx₁₀ = 4.76837158203125e-07\n",
       "x₁₁ = 0.00390625,\t fx₁₁ = 5.9604644775390625e-08\n",
       "x₁₂ = 0.001953125,\t fx₁₂ = 7.4505805969238281e-09\n",
       "x₁₃ = 0.0009765625,\t fx₁₃ = 9.3132257461547852e-10\n",
       "x₁₄ = 0.00048828125,\t fx₁₄ = 1.1641532182693481e-10\n",
       "x₁₅ = 0.000244140625,\t fx₁₅ = 1.4551915228366852e-11\n",
       "x₁₆ = 0.0001220703125,\t fx₁₆ = 1.8189894035458565e-12\n",
       "x₁₇ = 6.103515625e-05,\t fx₁₇ = 2.2737367544323206e-13\n",
       "x₁₈ = 3.0517578125e-05,\t fx₁₈ = 2.8421709430404007e-14\n",
       "x₁₉ = 1.52587890625e-05,\t fx₁₉ = 3.5527136788005009e-15\n",
       "x₂₀ = 7.62939453125e-06,\t fx₂₀ = 4.4408920985006262e-16\n",
       "\n"
      ]
     },
     "metadata": {},
     "output_type": "display_data"
    },
    {
     "data": {
      "text/plain": [
       "Algorithm has not been run"
      ]
     },
     "execution_count": 16,
     "metadata": {},
     "output_type": "execute_result"
    }
   ],
   "source": [
    "intervalFalsi(f4, -2, 2)"
   ]
  },
  {
   "cell_type": "code",
   "execution_count": 17,
   "id": "29a054a1",
   "metadata": {},
   "outputs": [
    {
     "data": {
      "text/plain": [
       "Results of univariate zero finding:\n",
       "\n",
       "* Convergence failed: \n",
       "* Algorithm Roots.Newton()\n",
       "\n",
       "Trace:\n",
       "x₁ = 0,\t fx₁ = 0\n",
       "x₂ = NaN,\t fx₂ = NaN\n",
       "\n"
      ]
     },
     "metadata": {},
     "output_type": "display_data"
    },
    {
     "ename": "LoadError",
     "evalue": "Roots.ConvergenceFailed(\"Algorithm failed to converge\")",
     "output_type": "error",
     "traceback": [
      "Roots.ConvergenceFailed(\"Algorithm failed to converge\")",
      "",
      "Stacktrace:",
      " [1] #find_zero#29",
      "   @ C:\\Users\\bchwa\\.julia\\packages\\Roots\\kyxnO\\src\\find_zero.jl:199 [inlined]",
      " [2] derivativeNewton(f::Function, start::Float64)",
      "   @ Main .\\In[2]:10",
      " [3] top-level scope",
      "   @ In[17]:1",
      " [4] eval",
      "   @ .\\boot.jl:373 [inlined]",
      " [5] include_string(mapexpr::typeof(REPL.softscope), mod::Module, code::String, filename::String)",
      "   @ Base .\\loading.jl:1196"
     ]
    }
   ],
   "source": [
    "derivativeNewton(f4, (-2 + 2) / 2)"
   ]
  },
  {
   "cell_type": "code",
   "execution_count": 18,
   "id": "dbe5d533",
   "metadata": {},
   "outputs": [
    {
     "data": {
      "text/plain": [
       "Results of univariate zero finding:\n",
       "\n",
       "* Converged to: 0.0\n",
       "* Algorithm: Secant()\n",
       "* iterations: 0\n",
       "* function evaluations ≈ 2\n",
       "* stopped as f(x_n) = 0\n",
       "\n",
       "Trace:\n",
       "x₁ = 6.0554544523933395e-06,\t fx₁ = 2.2204460492503136e-16\n",
       "x₂ = 0,\t fx₂ = 0\n",
       "\n"
      ]
     },
     "metadata": {},
     "output_type": "display_data"
    },
    {
     "data": {
      "text/plain": [
       "Algorithm has not been run"
      ]
     },
     "execution_count": 18,
     "metadata": {},
     "output_type": "execute_result"
    }
   ],
   "source": [
    "derivativeApproxSecant(f4, (-2 + 2) / 2)"
   ]
  },
  {
   "cell_type": "code",
   "execution_count": 19,
   "id": "e1c12b2f",
   "metadata": {},
   "outputs": [
    {
     "data": {
      "text/html": [
       "<div class=\"data-frame\"><p>11 rows × 6 columns</p><table class=\"data-frame\"><thead><tr><th></th><th>f</th><th>method</th><th>iterations</th><th>calls</th><th>x_zero</th><th>isZero</th></tr><tr><th></th><th title=\"String\">String</th><th title=\"String\">String</th><th title=\"Int64\">Int64</th><th title=\"Int64\">Int64</th><th title=\"Float64\">Float64</th><th title=\"Bool\">Bool</th></tr></thead><tbody><tr><th>1</th><td>sin(x) - x/2</td><td>interval</td><td>9</td><td>11</td><td>1.89549</td><td>1</td></tr><tr><th>2</th><td>sin(x) - x/2</td><td>derivative</td><td>1</td><td>2</td><td>0.0</td><td>1</td></tr><tr><th>3</th><td>sin(x) - x/2</td><td>derivativeApprox</td><td>0</td><td>2</td><td>0.0</td><td>1</td></tr><tr><th>4</th><td>x * exp(-x)</td><td>interval</td><td>40</td><td>42</td><td>9.09495e-12</td><td>0</td></tr><tr><th>5</th><td>x * exp(-x)</td><td>derivative</td><td>1</td><td>2</td><td>0.0</td><td>1</td></tr><tr><th>6</th><td>x * exp(-x)</td><td>derivativeApprox</td><td>0</td><td>2</td><td>0.0</td><td>1</td></tr><tr><th>7</th><td>(x + 3) * (x - 1)^2</td><td>interval</td><td>8</td><td>10</td><td>-3.0</td><td>1</td></tr><tr><th>8</th><td>(x + 3) * (x - 1)^2</td><td>derivative</td><td>26</td><td>52</td><td>1.0</td><td>0</td></tr><tr><th>9</th><td>(x + 3) * (x - 1)^2</td><td>derivativeApprox</td><td>37</td><td>39</td><td>1.0</td><td>0</td></tr><tr><th>10</th><td>x^3</td><td>interval</td><td>18</td><td>20</td><td>7.62939e-6</td><td>0</td></tr><tr><th>11</th><td>x^3</td><td>derivativeApprox</td><td>0</td><td>2</td><td>0.0</td><td>1</td></tr></tbody></table></div>"
      ],
      "text/latex": [
       "\\begin{tabular}{r|cccccc}\n",
       "\t& f & method & iterations & calls & x\\_zero & isZero\\\\\n",
       "\t\\hline\n",
       "\t& String & String & Int64 & Int64 & Float64 & Bool\\\\\n",
       "\t\\hline\n",
       "\t1 & sin(x) - x/2 & interval & 9 & 11 & 1.89549 & 1 \\\\\n",
       "\t2 & sin(x) - x/2 & derivative & 1 & 2 & 0.0 & 1 \\\\\n",
       "\t3 & sin(x) - x/2 & derivativeApprox & 0 & 2 & 0.0 & 1 \\\\\n",
       "\t4 & x * exp(-x) & interval & 40 & 42 & 9.09495e-12 & 0 \\\\\n",
       "\t5 & x * exp(-x) & derivative & 1 & 2 & 0.0 & 1 \\\\\n",
       "\t6 & x * exp(-x) & derivativeApprox & 0 & 2 & 0.0 & 1 \\\\\n",
       "\t7 & (x + 3) * (x - 1)\\^2 & interval & 8 & 10 & -3.0 & 1 \\\\\n",
       "\t8 & (x + 3) * (x - 1)\\^2 & derivative & 26 & 52 & 1.0 & 0 \\\\\n",
       "\t9 & (x + 3) * (x - 1)\\^2 & derivativeApprox & 37 & 39 & 1.0 & 0 \\\\\n",
       "\t10 & x\\^3 & interval & 18 & 20 & 7.62939e-6 & 0 \\\\\n",
       "\t11 & x\\^3 & derivativeApprox & 0 & 2 & 0.0 & 1 \\\\\n",
       "\\end{tabular}\n"
      ],
      "text/plain": [
       "\u001b[1m11×6 DataFrame\u001b[0m\n",
       "\u001b[1m Row \u001b[0m│\u001b[1m f                   \u001b[0m\u001b[1m method           \u001b[0m\u001b[1m iterations \u001b[0m\u001b[1m calls \u001b[0m\u001b[1m x_zero       \u001b[0m\u001b[1m\u001b[0m ⋯\n",
       "\u001b[1m     \u001b[0m│\u001b[90m String              \u001b[0m\u001b[90m String           \u001b[0m\u001b[90m Int64      \u001b[0m\u001b[90m Int64 \u001b[0m\u001b[90m Float64      \u001b[0m\u001b[90m\u001b[0m ⋯\n",
       "─────┼──────────────────────────────────────────────────────────────────────────\n",
       "   1 │ sin(x) - x/2         interval                   9     11   1.89549      ⋯\n",
       "   2 │ sin(x) - x/2         derivative                 1      2   0.0\n",
       "   3 │ sin(x) - x/2         derivativeApprox           0      2   0.0\n",
       "   4 │ x * exp(-x)          interval                  40     42   9.09495e-12\n",
       "   5 │ x * exp(-x)          derivative                 1      2   0.0          ⋯\n",
       "   6 │ x * exp(-x)          derivativeApprox           0      2   0.0\n",
       "   7 │ (x + 3) * (x - 1)^2  interval                   8     10  -3.0\n",
       "   8 │ (x + 3) * (x - 1)^2  derivative                26     52   1.0\n",
       "   9 │ (x + 3) * (x - 1)^2  derivativeApprox          37     39   1.0          ⋯\n",
       "  10 │ x^3                  interval                  18     20   7.62939e-6\n",
       "  11 │ x^3                  derivativeApprox           0      2   0.0\n",
       "\u001b[36m                                                                1 column omitted\u001b[0m"
      ]
     },
     "execution_count": 19,
     "metadata": {},
     "output_type": "execute_result"
    }
   ],
   "source": [
    "push!(df, [\"x^3\" \"interval\" 18 20 7.62939453125e-6 iszero(f4(7.62939453125e-6))])\n",
    "push!(df, [\"x^3\" \"derivativeApprox\" 0 2 0.0 iszero(f4(0.0))])"
   ]
  },
  {
   "cell_type": "code",
   "execution_count": 20,
   "id": "8fe67f23",
   "metadata": {},
   "outputs": [
    {
     "data": {
      "image/svg+xml": [
       "<?xml version=\"1.0\" encoding=\"utf-8\"?>\n",
       "<svg xmlns=\"http://www.w3.org/2000/svg\" xmlns:xlink=\"http://www.w3.org/1999/xlink\" width=\"600\" height=\"400\" viewBox=\"0 0 2400 1600\">\n",
       "<defs>\n",
       "  <clipPath id=\"clip030\">\n",
       "    <rect x=\"0\" y=\"0\" width=\"2400\" height=\"1600\"/>\n",
       "  </clipPath>\n",
       "</defs>\n",
       "<path clip-path=\"url(#clip030)\" d=\"\n",
       "M0 1600 L2400 1600 L2400 0 L0 0  Z\n",
       "  \" fill=\"#ffffff\" fill-rule=\"evenodd\" fill-opacity=\"1\"/>\n",
       "<defs>\n",
       "  <clipPath id=\"clip031\">\n",
       "    <rect x=\"480\" y=\"0\" width=\"1681\" height=\"1600\"/>\n",
       "  </clipPath>\n",
       "</defs>\n",
       "<path clip-path=\"url(#clip030)\" d=\"\n",
       "M242.135 1423.18 L2352.76 1423.18 L2352.76 123.472 L242.135 123.472  Z\n",
       "  \" fill=\"#ffffff\" fill-rule=\"evenodd\" fill-opacity=\"1\"/>\n",
       "<defs>\n",
       "  <clipPath id=\"clip032\">\n",
       "    <rect x=\"242\" y=\"123\" width=\"2112\" height=\"1301\"/>\n",
       "  </clipPath>\n",
       "</defs>\n",
       "<polyline clip-path=\"url(#clip032)\" style=\"stroke:#000000; stroke-linecap:butt; stroke-linejoin:round; stroke-width:2; stroke-opacity:0.1; fill:none\" points=\"\n",
       "  301.869,1423.18 301.869,123.472 \n",
       "  \"/>\n",
       "<polyline clip-path=\"url(#clip032)\" style=\"stroke:#000000; stroke-linecap:butt; stroke-linejoin:round; stroke-width:2; stroke-opacity:0.1; fill:none\" points=\"\n",
       "  799.657,1423.18 799.657,123.472 \n",
       "  \"/>\n",
       "<polyline clip-path=\"url(#clip032)\" style=\"stroke:#000000; stroke-linecap:butt; stroke-linejoin:round; stroke-width:2; stroke-opacity:0.1; fill:none\" points=\"\n",
       "  1297.45,1423.18 1297.45,123.472 \n",
       "  \"/>\n",
       "<polyline clip-path=\"url(#clip032)\" style=\"stroke:#000000; stroke-linecap:butt; stroke-linejoin:round; stroke-width:2; stroke-opacity:0.1; fill:none\" points=\"\n",
       "  1795.23,1423.18 1795.23,123.472 \n",
       "  \"/>\n",
       "<polyline clip-path=\"url(#clip032)\" style=\"stroke:#000000; stroke-linecap:butt; stroke-linejoin:round; stroke-width:2; stroke-opacity:0.1; fill:none\" points=\"\n",
       "  2293.02,1423.18 2293.02,123.472 \n",
       "  \"/>\n",
       "<polyline clip-path=\"url(#clip030)\" style=\"stroke:#000000; stroke-linecap:butt; stroke-linejoin:round; stroke-width:4; stroke-opacity:1; fill:none\" points=\"\n",
       "  242.135,1423.18 2352.76,1423.18 \n",
       "  \"/>\n",
       "<polyline clip-path=\"url(#clip030)\" style=\"stroke:#000000; stroke-linecap:butt; stroke-linejoin:round; stroke-width:4; stroke-opacity:1; fill:none\" points=\"\n",
       "  301.869,1423.18 301.869,1404.28 \n",
       "  \"/>\n",
       "<polyline clip-path=\"url(#clip030)\" style=\"stroke:#000000; stroke-linecap:butt; stroke-linejoin:round; stroke-width:4; stroke-opacity:1; fill:none\" points=\"\n",
       "  799.657,1423.18 799.657,1404.28 \n",
       "  \"/>\n",
       "<polyline clip-path=\"url(#clip030)\" style=\"stroke:#000000; stroke-linecap:butt; stroke-linejoin:round; stroke-width:4; stroke-opacity:1; fill:none\" points=\"\n",
       "  1297.45,1423.18 1297.45,1404.28 \n",
       "  \"/>\n",
       "<polyline clip-path=\"url(#clip030)\" style=\"stroke:#000000; stroke-linecap:butt; stroke-linejoin:round; stroke-width:4; stroke-opacity:1; fill:none\" points=\"\n",
       "  1795.23,1423.18 1795.23,1404.28 \n",
       "  \"/>\n",
       "<polyline clip-path=\"url(#clip030)\" style=\"stroke:#000000; stroke-linecap:butt; stroke-linejoin:round; stroke-width:4; stroke-opacity:1; fill:none\" points=\"\n",
       "  2293.02,1423.18 2293.02,1404.28 \n",
       "  \"/>\n",
       "<path clip-path=\"url(#clip030)\" d=\"M270.77 1468.75 L300.446 1468.75 L300.446 1472.69 L270.77 1472.69 L270.77 1468.75 Z\" fill=\"#000000\" fill-rule=\"evenodd\" fill-opacity=\"1\" /><path clip-path=\"url(#clip030)\" d=\"M323.385 1455.09 L311.58 1473.54 L323.385 1473.54 L323.385 1455.09 M322.158 1451.02 L328.038 1451.02 L328.038 1473.54 L332.969 1473.54 L332.969 1477.43 L328.038 1477.43 L328.038 1485.58 L323.385 1485.58 L323.385 1477.43 L307.784 1477.43 L307.784 1472.92 L322.158 1451.02 Z\" fill=\"#000000\" fill-rule=\"evenodd\" fill-opacity=\"1\" /><path clip-path=\"url(#clip030)\" d=\"M769.6 1468.75 L799.275 1468.75 L799.275 1472.69 L769.6 1472.69 L769.6 1468.75 Z\" fill=\"#000000\" fill-rule=\"evenodd\" fill-opacity=\"1\" /><path clip-path=\"url(#clip030)\" d=\"M813.396 1481.64 L829.715 1481.64 L829.715 1485.58 L807.771 1485.58 L807.771 1481.64 Q810.433 1478.89 815.016 1474.26 Q819.622 1469.61 820.803 1468.27 Q823.048 1465.74 823.928 1464.01 Q824.831 1462.25 824.831 1460.56 Q824.831 1457.8 822.886 1456.07 Q820.965 1454.33 817.863 1454.33 Q815.664 1454.33 813.21 1455.09 Q810.78 1455.86 808.002 1457.41 L808.002 1452.69 Q810.826 1451.55 813.28 1450.97 Q815.734 1450.39 817.771 1450.39 Q823.141 1450.39 826.335 1453.08 Q829.53 1455.77 829.53 1460.26 Q829.53 1462.39 828.72 1464.31 Q827.933 1466.2 825.826 1468.8 Q825.247 1469.47 822.146 1472.69 Q819.044 1475.88 813.396 1481.64 Z\" fill=\"#000000\" fill-rule=\"evenodd\" fill-opacity=\"1\" /><path clip-path=\"url(#clip030)\" d=\"M1297.45 1454.1 Q1293.83 1454.1 1292.01 1457.66 Q1290.2 1461.2 1290.2 1468.33 Q1290.2 1475.44 1292.01 1479.01 Q1293.83 1482.55 1297.45 1482.55 Q1301.08 1482.55 1302.89 1479.01 Q1304.71 1475.44 1304.71 1468.33 Q1304.71 1461.2 1302.89 1457.66 Q1301.08 1454.1 1297.45 1454.1 M1297.45 1450.39 Q1303.26 1450.39 1306.31 1455 Q1309.39 1459.58 1309.39 1468.33 Q1309.39 1477.06 1306.31 1481.67 Q1303.26 1486.25 1297.45 1486.25 Q1291.64 1486.25 1288.56 1481.67 Q1285.5 1477.06 1285.5 1468.33 Q1285.5 1459.58 1288.56 1455 Q1291.64 1450.39 1297.45 1450.39 Z\" fill=\"#000000\" fill-rule=\"evenodd\" fill-opacity=\"1\" /><path clip-path=\"url(#clip030)\" d=\"M1789.89 1481.64 L1806.21 1481.64 L1806.21 1485.58 L1784.26 1485.58 L1784.26 1481.64 Q1786.92 1478.89 1791.51 1474.26 Q1796.11 1469.61 1797.29 1468.27 Q1799.54 1465.74 1800.42 1464.01 Q1801.32 1462.25 1801.32 1460.56 Q1801.32 1457.8 1799.38 1456.07 Q1797.46 1454.33 1794.35 1454.33 Q1792.15 1454.33 1789.7 1455.09 Q1787.27 1455.86 1784.49 1457.41 L1784.49 1452.69 Q1787.32 1451.55 1789.77 1450.97 Q1792.22 1450.39 1794.26 1450.39 Q1799.63 1450.39 1802.83 1453.08 Q1806.02 1455.77 1806.02 1460.26 Q1806.02 1462.39 1805.21 1464.31 Q1804.42 1466.2 1802.32 1468.8 Q1801.74 1469.47 1798.64 1472.69 Q1795.53 1475.88 1789.89 1481.64 Z\" fill=\"#000000\" fill-rule=\"evenodd\" fill-opacity=\"1\" /><path clip-path=\"url(#clip030)\" d=\"M2296.03 1455.09 L2284.23 1473.54 L2296.03 1473.54 L2296.03 1455.09 M2294.8 1451.02 L2300.68 1451.02 L2300.68 1473.54 L2305.61 1473.54 L2305.61 1477.43 L2300.68 1477.43 L2300.68 1485.58 L2296.03 1485.58 L2296.03 1477.43 L2280.43 1477.43 L2280.43 1472.92 L2294.8 1451.02 Z\" fill=\"#000000\" fill-rule=\"evenodd\" fill-opacity=\"1\" /><path clip-path=\"url(#clip030)\" d=\"M1259.27 1532.4 L1246.38 1549.74 L1259.94 1568.04 L1253.03 1568.04 L1242.65 1554.04 L1232.28 1568.04 L1225.37 1568.04 L1239.21 1549.39 L1226.55 1532.4 L1233.45 1532.4 L1242.91 1545.1 L1252.36 1532.4 L1259.27 1532.4 Z\" fill=\"#000000\" fill-rule=\"evenodd\" fill-opacity=\"1\" /><path clip-path=\"url(#clip030)\" d=\"M1288.39 1518.52 L1301.89 1518.52 L1301.89 1523.07 L1294.25 1523.07 L1294.25 1572.09 L1301.89 1572.09 L1301.89 1576.64 L1288.39 1576.64 L1288.39 1518.52 Z\" fill=\"#000000\" fill-rule=\"evenodd\" fill-opacity=\"1\" /><path clip-path=\"url(#clip030)\" d=\"M1316.3 1562.63 L1326.81 1562.63 L1326.81 1526.38 L1315.38 1528.67 L1315.38 1522.82 L1326.74 1520.52 L1333.17 1520.52 L1333.17 1562.63 L1343.68 1562.63 L1343.68 1568.04 L1316.3 1568.04 L1316.3 1562.63 Z\" fill=\"#000000\" fill-rule=\"evenodd\" fill-opacity=\"1\" /><path clip-path=\"url(#clip030)\" d=\"M1369.52 1518.52 L1369.52 1576.64 L1356.03 1576.64 L1356.03 1572.09 L1363.63 1572.09 L1363.63 1523.07 L1356.03 1523.07 L1356.03 1518.52 L1369.52 1518.52 Z\" fill=\"#000000\" fill-rule=\"evenodd\" fill-opacity=\"1\" /><polyline clip-path=\"url(#clip032)\" style=\"stroke:#000000; stroke-linecap:butt; stroke-linejoin:round; stroke-width:2; stroke-opacity:0.1; fill:none\" points=\"\n",
       "  242.135,1265.97 2352.76,1265.97 \n",
       "  \"/>\n",
       "<polyline clip-path=\"url(#clip032)\" style=\"stroke:#000000; stroke-linecap:butt; stroke-linejoin:round; stroke-width:2; stroke-opacity:0.1; fill:none\" points=\"\n",
       "  242.135,992.279 2352.76,992.279 \n",
       "  \"/>\n",
       "<polyline clip-path=\"url(#clip032)\" style=\"stroke:#000000; stroke-linecap:butt; stroke-linejoin:round; stroke-width:2; stroke-opacity:0.1; fill:none\" points=\"\n",
       "  242.135,718.588 2352.76,718.588 \n",
       "  \"/>\n",
       "<polyline clip-path=\"url(#clip032)\" style=\"stroke:#000000; stroke-linecap:butt; stroke-linejoin:round; stroke-width:2; stroke-opacity:0.1; fill:none\" points=\"\n",
       "  242.135,444.896 2352.76,444.896 \n",
       "  \"/>\n",
       "<polyline clip-path=\"url(#clip032)\" style=\"stroke:#000000; stroke-linecap:butt; stroke-linejoin:round; stroke-width:2; stroke-opacity:0.1; fill:none\" points=\"\n",
       "  242.135,171.204 2352.76,171.204 \n",
       "  \"/>\n",
       "<polyline clip-path=\"url(#clip030)\" style=\"stroke:#000000; stroke-linecap:butt; stroke-linejoin:round; stroke-width:4; stroke-opacity:1; fill:none\" points=\"\n",
       "  242.135,1423.18 242.135,123.472 \n",
       "  \"/>\n",
       "<polyline clip-path=\"url(#clip030)\" style=\"stroke:#000000; stroke-linecap:butt; stroke-linejoin:round; stroke-width:4; stroke-opacity:1; fill:none\" points=\"\n",
       "  242.135,1265.97 261.032,1265.97 \n",
       "  \"/>\n",
       "<polyline clip-path=\"url(#clip030)\" style=\"stroke:#000000; stroke-linecap:butt; stroke-linejoin:round; stroke-width:4; stroke-opacity:1; fill:none\" points=\"\n",
       "  242.135,992.279 261.032,992.279 \n",
       "  \"/>\n",
       "<polyline clip-path=\"url(#clip030)\" style=\"stroke:#000000; stroke-linecap:butt; stroke-linejoin:round; stroke-width:4; stroke-opacity:1; fill:none\" points=\"\n",
       "  242.135,718.588 261.032,718.588 \n",
       "  \"/>\n",
       "<polyline clip-path=\"url(#clip030)\" style=\"stroke:#000000; stroke-linecap:butt; stroke-linejoin:round; stroke-width:4; stroke-opacity:1; fill:none\" points=\"\n",
       "  242.135,444.896 261.032,444.896 \n",
       "  \"/>\n",
       "<polyline clip-path=\"url(#clip030)\" style=\"stroke:#000000; stroke-linecap:butt; stroke-linejoin:round; stroke-width:4; stroke-opacity:1; fill:none\" points=\"\n",
       "  242.135,171.204 261.032,171.204 \n",
       "  \"/>\n",
       "<path clip-path=\"url(#clip030)\" d=\"M114.26 1266.42 L143.936 1266.42 L143.936 1270.36 L114.26 1270.36 L114.26 1266.42 Z\" fill=\"#000000\" fill-rule=\"evenodd\" fill-opacity=\"1\" /><path clip-path=\"url(#clip030)\" d=\"M154.075 1248.69 L172.431 1248.69 L172.431 1252.63 L158.357 1252.63 L158.357 1261.1 Q159.376 1260.75 160.394 1260.59 Q161.413 1260.4 162.431 1260.4 Q168.218 1260.4 171.598 1263.58 Q174.977 1266.75 174.977 1272.16 Q174.977 1277.74 171.505 1280.84 Q168.033 1283.92 161.714 1283.92 Q159.538 1283.92 157.269 1283.55 Q155.024 1283.18 152.616 1282.44 L152.616 1277.74 Q154.7 1278.88 156.922 1279.43 Q159.144 1279.99 161.621 1279.99 Q165.626 1279.99 167.964 1277.88 Q170.302 1275.77 170.302 1272.16 Q170.302 1268.55 167.964 1266.45 Q165.626 1264.34 161.621 1264.34 Q159.746 1264.34 157.871 1264.76 Q156.019 1265.17 154.075 1266.05 L154.075 1248.69 Z\" fill=\"#000000\" fill-rule=\"evenodd\" fill-opacity=\"1\" /><path clip-path=\"url(#clip030)\" d=\"M194.19 1251.77 Q190.579 1251.77 188.75 1255.33 Q186.945 1258.88 186.945 1266.01 Q186.945 1273.11 188.75 1276.68 Q190.579 1280.22 194.19 1280.22 Q197.825 1280.22 199.63 1276.68 Q201.459 1273.11 201.459 1266.01 Q201.459 1258.88 199.63 1255.33 Q197.825 1251.77 194.19 1251.77 M194.19 1248.07 Q200 1248.07 203.056 1252.67 Q206.135 1257.26 206.135 1266.01 Q206.135 1274.73 203.056 1279.34 Q200 1283.92 194.19 1283.92 Q188.38 1283.92 185.301 1279.34 Q182.246 1274.73 182.246 1266.01 Q182.246 1257.26 185.301 1252.67 Q188.38 1248.07 194.19 1248.07 Z\" fill=\"#000000\" fill-rule=\"evenodd\" fill-opacity=\"1\" /><path clip-path=\"url(#clip030)\" d=\"M115.256 992.731 L144.931 992.731 L144.931 996.666 L115.256 996.666 L115.256 992.731 Z\" fill=\"#000000\" fill-rule=\"evenodd\" fill-opacity=\"1\" /><path clip-path=\"url(#clip030)\" d=\"M159.052 1005.62 L175.371 1005.62 L175.371 1009.56 L153.427 1009.56 L153.427 1005.62 Q156.089 1002.87 160.672 998.24 Q165.278 993.587 166.459 992.245 Q168.704 989.722 169.584 987.985 Q170.487 986.226 170.487 984.536 Q170.487 981.782 168.542 980.046 Q166.621 978.31 163.519 978.31 Q161.32 978.31 158.866 979.073 Q156.436 979.837 153.658 981.388 L153.658 976.666 Q156.482 975.532 158.936 974.953 Q161.39 974.374 163.427 974.374 Q168.797 974.374 171.991 977.06 Q175.186 979.745 175.186 984.236 Q175.186 986.365 174.376 988.286 Q173.589 990.185 171.482 992.777 Q170.903 993.448 167.802 996.666 Q164.7 999.86 159.052 1005.62 Z\" fill=\"#000000\" fill-rule=\"evenodd\" fill-opacity=\"1\" /><path clip-path=\"url(#clip030)\" d=\"M185.232 974.999 L203.588 974.999 L203.588 978.935 L189.514 978.935 L189.514 987.407 Q190.533 987.06 191.551 986.898 Q192.57 986.712 193.588 986.712 Q199.375 986.712 202.755 989.884 Q206.135 993.055 206.135 998.472 Q206.135 1004.05 202.662 1007.15 Q199.19 1010.23 192.871 1010.23 Q190.695 1010.23 188.426 1009.86 Q186.181 1009.49 183.774 1008.75 L183.774 1004.05 Q185.857 1005.18 188.079 1005.74 Q190.301 1006.3 192.778 1006.3 Q196.783 1006.3 199.121 1004.19 Q201.459 1002.08 201.459 998.472 Q201.459 994.86 199.121 992.754 Q196.783 990.648 192.778 990.648 Q190.903 990.648 189.028 991.064 Q187.176 991.481 185.232 992.36 L185.232 974.999 Z\" fill=\"#000000\" fill-rule=\"evenodd\" fill-opacity=\"1\" /><path clip-path=\"url(#clip030)\" d=\"M194.19 704.386 Q190.579 704.386 188.75 707.951 Q186.945 711.493 186.945 718.622 Q186.945 725.729 188.75 729.294 Q190.579 732.835 194.19 732.835 Q197.825 732.835 199.63 729.294 Q201.459 725.729 201.459 718.622 Q201.459 711.493 199.63 707.951 Q197.825 704.386 194.19 704.386 M194.19 700.683 Q200 700.683 203.056 705.289 Q206.135 709.872 206.135 718.622 Q206.135 727.349 203.056 731.956 Q200 736.539 194.19 736.539 Q188.38 736.539 185.301 731.956 Q182.246 727.349 182.246 718.622 Q182.246 709.872 185.301 705.289 Q188.38 700.683 194.19 700.683 Z\" fill=\"#000000\" fill-rule=\"evenodd\" fill-opacity=\"1\" /><path clip-path=\"url(#clip030)\" d=\"M159.052 458.241 L175.371 458.241 L175.371 462.176 L153.427 462.176 L153.427 458.241 Q156.089 455.486 160.672 450.856 Q165.278 446.204 166.459 444.861 Q168.704 442.338 169.584 440.602 Q170.487 438.843 170.487 437.153 Q170.487 434.398 168.542 432.662 Q166.621 430.926 163.519 430.926 Q161.32 430.926 158.866 431.69 Q156.436 432.454 153.658 434.005 L153.658 429.282 Q156.482 428.148 158.936 427.57 Q161.39 426.991 163.427 426.991 Q168.797 426.991 171.991 429.676 Q175.186 432.361 175.186 436.852 Q175.186 438.981 174.376 440.903 Q173.589 442.801 171.482 445.393 Q170.903 446.065 167.802 449.282 Q164.7 452.477 159.052 458.241 Z\" fill=\"#000000\" fill-rule=\"evenodd\" fill-opacity=\"1\" /><path clip-path=\"url(#clip030)\" d=\"M185.232 427.616 L203.588 427.616 L203.588 431.551 L189.514 431.551 L189.514 440.023 Q190.533 439.676 191.551 439.514 Q192.57 439.329 193.588 439.329 Q199.375 439.329 202.755 442.5 Q206.135 445.671 206.135 451.088 Q206.135 456.667 202.662 459.768 Q199.19 462.847 192.871 462.847 Q190.695 462.847 188.426 462.477 Q186.181 462.106 183.774 461.366 L183.774 456.667 Q185.857 457.801 188.079 458.356 Q190.301 458.912 192.778 458.912 Q196.783 458.912 199.121 456.805 Q201.459 454.699 201.459 451.088 Q201.459 447.477 199.121 445.37 Q196.783 443.264 192.778 443.264 Q190.903 443.264 189.028 443.681 Q187.176 444.097 185.232 444.977 L185.232 427.616 Z\" fill=\"#000000\" fill-rule=\"evenodd\" fill-opacity=\"1\" /><path clip-path=\"url(#clip030)\" d=\"M154.075 153.924 L172.431 153.924 L172.431 157.859 L158.357 157.859 L158.357 166.331 Q159.376 165.984 160.394 165.822 Q161.413 165.637 162.431 165.637 Q168.218 165.637 171.598 168.808 Q174.977 171.979 174.977 177.396 Q174.977 182.975 171.505 186.077 Q168.033 189.155 161.714 189.155 Q159.538 189.155 157.269 188.785 Q155.024 188.415 152.616 187.674 L152.616 182.975 Q154.7 184.109 156.922 184.665 Q159.144 185.22 161.621 185.22 Q165.626 185.22 167.964 183.114 Q170.302 181.007 170.302 177.396 Q170.302 173.785 167.964 171.679 Q165.626 169.572 161.621 169.572 Q159.746 169.572 157.871 169.989 Q156.019 170.405 154.075 171.285 L154.075 153.924 Z\" fill=\"#000000\" fill-rule=\"evenodd\" fill-opacity=\"1\" /><path clip-path=\"url(#clip030)\" d=\"M194.19 157.003 Q190.579 157.003 188.75 160.567 Q186.945 164.109 186.945 171.239 Q186.945 178.345 188.75 181.91 Q190.579 185.452 194.19 185.452 Q197.825 185.452 199.63 181.91 Q201.459 178.345 201.459 171.239 Q201.459 164.109 199.63 160.567 Q197.825 157.003 194.19 157.003 M194.19 153.299 Q200 153.299 203.056 157.905 Q206.135 162.489 206.135 171.239 Q206.135 179.966 203.056 184.572 Q200 189.155 194.19 189.155 Q188.38 189.155 185.301 184.572 Q182.246 179.966 182.246 171.239 Q182.246 162.489 185.301 157.905 Q188.38 153.299 194.19 153.299 Z\" fill=\"#000000\" fill-rule=\"evenodd\" fill-opacity=\"1\" /><path clip-path=\"url(#clip030)\" d=\"M67.3143 826.336 Q73.68 828.819 75.6216 831.174 Q77.5631 833.53 77.5631 837.476 L77.5631 842.155 L72.6615 842.155 L72.6615 838.718 Q72.6615 836.299 71.5157 834.962 Q70.3699 833.625 66.1048 832.002 L63.4312 830.952 L28.3562 845.37 L28.3562 839.163 L56.238 828.023 L28.3562 816.883 L28.3562 810.677 L67.3143 826.336 Z\" fill=\"#000000\" fill-rule=\"evenodd\" fill-opacity=\"1\" /><path clip-path=\"url(#clip030)\" d=\"M14.479 782.413 L14.479 768.918 L19.0304 768.918 L19.0304 776.557 L68.0464 776.557 L68.0464 768.918 L72.5979 768.918 L72.5979 782.413 L14.479 782.413 Z\" fill=\"#000000\" fill-rule=\"evenodd\" fill-opacity=\"1\" /><path clip-path=\"url(#clip030)\" d=\"M58.5933 754.499 L58.5933 743.996 L22.3406 743.996 L24.6323 755.422 L18.7758 755.422 L16.4842 744.06 L16.4842 737.63 L58.5933 737.63 L58.5933 727.127 L64.0042 727.127 L64.0042 754.499 L58.5933 754.499 Z\" fill=\"#000000\" fill-rule=\"evenodd\" fill-opacity=\"1\" /><path clip-path=\"url(#clip030)\" d=\"M14.479 701.282 L72.5979 701.282 L72.5979 714.777 L68.0464 714.777 L68.0464 707.17 L19.0304 707.17 L19.0304 714.777 L14.479 714.777 L14.479 701.282 Z\" fill=\"#000000\" fill-rule=\"evenodd\" fill-opacity=\"1\" /><path clip-path=\"url(#clip030)\" d=\"M1052.59 27.2059 L1036.18 49.2833 L1053.44 72.576 L1044.65 72.576 L1031.44 54.752 L1018.24 72.576 L1009.45 72.576 L1027.07 48.8377 L1010.95 27.2059 L1019.74 27.2059 L1031.77 43.369 L1043.8 27.2059 L1052.59 27.2059 Z\" fill=\"#000000\" fill-rule=\"evenodd\" fill-opacity=\"1\" /><path clip-path=\"url(#clip030)\" d=\"M1094.88 12.096 L1116.88 34.6595 L1108.73 34.6595 L1090.91 18.6585 L1073.09 34.6595 L1064.94 34.6595 L1086.94 12.096 L1094.88 12.096 Z\" fill=\"#000000\" fill-rule=\"evenodd\" fill-opacity=\"1\" /><path clip-path=\"url(#clip030)\" d=\"M1159.33 39.9662 Q1165.2 41.222 1168.48 45.1919 Q1171.81 49.1618 1171.81 54.9951 Q1171.81 63.9476 1165.65 68.8492 Q1159.49 73.7508 1148.15 73.7508 Q1144.34 73.7508 1140.29 72.9811 Q1136.28 72.2519 1131.99 70.7531 L1131.99 62.8538 Q1135.39 64.8388 1139.44 65.8515 Q1143.49 66.8642 1147.91 66.8642 Q1155.6 66.8642 1159.61 63.826 Q1163.66 60.7879 1163.66 54.9951 Q1163.66 49.6479 1159.9 46.6502 Q1156.17 43.612 1149.49 43.612 L1142.44 43.612 L1142.44 36.8875 L1149.81 36.8875 Q1155.85 36.8875 1159.05 34.4975 Q1162.25 32.067 1162.25 27.5299 Q1162.25 22.8714 1158.92 20.4004 Q1155.64 17.8888 1149.49 17.8888 Q1146.12 17.8888 1142.28 18.618 Q1138.43 19.3471 1133.81 20.8865 L1133.81 13.5948 Q1138.47 12.2985 1142.52 11.6504 Q1146.61 11.0023 1150.22 11.0023 Q1159.53 11.0023 1164.96 15.2557 Q1170.39 19.4686 1170.39 26.6793 Q1170.39 31.7024 1167.51 35.1862 Q1164.64 38.6294 1159.33 39.9662 Z\" fill=\"#000000\" fill-rule=\"evenodd\" fill-opacity=\"1\" /><path clip-path=\"url(#clip030)\" d=\"M1208.87 46.5287 L1230.71 46.5287 L1230.71 53.1722 L1208.87 53.1722 L1208.87 46.5287 Z\" fill=\"#000000\" fill-rule=\"evenodd\" fill-opacity=\"1\" /><path clip-path=\"url(#clip030)\" d=\"M1277.05 65.6895 L1305.61 65.6895 L1305.61 72.576 L1267.21 72.576 L1267.21 65.6895 Q1271.86 60.8689 1279.88 52.7671 Q1287.95 44.6248 1290.01 42.2752 Q1293.94 37.8598 1295.48 34.8216 Q1297.06 31.7429 1297.06 28.7857 Q1297.06 23.9651 1293.66 20.927 Q1290.3 17.8888 1284.87 17.8888 Q1281.02 17.8888 1276.72 19.2256 Q1272.47 20.5624 1267.61 23.2765 L1267.61 15.0127 Q1272.55 13.0277 1276.85 12.015 Q1281.14 11.0023 1284.71 11.0023 Q1294.1 11.0023 1299.69 15.7013 Q1305.28 20.4004 1305.28 28.2591 Q1305.28 31.9859 1303.87 35.3482 Q1302.49 38.6699 1298.8 43.2069 Q1297.79 44.3817 1292.36 50.0125 Q1286.93 55.6027 1277.05 65.6895 Z\" fill=\"#000000\" fill-rule=\"evenodd\" fill-opacity=\"1\" /><path clip-path=\"url(#clip030)\" d=\"M1379.29 22.0612 L1364.75 29.92 L1379.29 37.8192 L1376.94 41.7891 L1363.33 33.5658 L1363.33 48.8377 L1358.72 48.8377 L1358.72 33.5658 L1345.1 41.7891 L1342.75 37.8192 L1357.3 29.92 L1342.75 22.0612 L1345.1 18.0508 L1358.72 26.2742 L1358.72 11.0023 L1363.33 11.0023 L1363.33 26.2742 L1376.94 18.0508 L1379.29 22.0612 Z\" fill=\"#000000\" fill-rule=\"evenodd\" fill-opacity=\"1\" /><path clip-path=\"url(#clip030)\" d=\"M1453.67 27.2059 L1437.26 49.2833 L1454.52 72.576 L1445.73 72.576 L1432.52 54.752 L1419.32 72.576 L1410.53 72.576 L1428.15 48.8377 L1412.03 27.2059 L1420.82 27.2059 L1432.85 43.369 L1444.88 27.2059 L1453.67 27.2059 Z\" fill=\"#000000\" fill-rule=\"evenodd\" fill-opacity=\"1\" /><path clip-path=\"url(#clip030)\" d=\"M1487.66 46.5287 L1509.49 46.5287 L1509.49 53.1722 L1487.66 53.1722 L1487.66 46.5287 Z\" fill=\"#000000\" fill-rule=\"evenodd\" fill-opacity=\"1\" /><path clip-path=\"url(#clip030)\" d=\"M1548.86 12.096 L1580.99 12.096 L1580.99 18.9825 L1556.36 18.9825 L1556.36 33.8088 Q1558.14 33.2012 1559.92 32.9176 Q1561.71 32.5936 1563.49 32.5936 Q1573.62 32.5936 1579.53 38.1433 Q1585.44 43.6931 1585.44 53.1722 Q1585.44 62.9348 1579.37 68.3631 Q1573.29 73.7508 1562.23 73.7508 Q1558.42 73.7508 1554.45 73.1026 Q1550.53 72.4545 1546.31 71.1582 L1546.31 62.9348 Q1549.96 64.9198 1553.85 65.892 Q1557.74 66.8642 1562.07 66.8642 Q1569.08 66.8642 1573.17 63.1779 Q1577.26 59.4916 1577.26 53.1722 Q1577.26 46.8528 1573.17 43.1664 Q1569.08 39.4801 1562.07 39.4801 Q1558.79 39.4801 1555.51 40.2093 Q1552.27 40.9384 1548.86 42.4778 L1548.86 12.096 Z\" fill=\"#000000\" fill-rule=\"evenodd\" fill-opacity=\"1\" /><polyline clip-path=\"url(#clip032)\" style=\"stroke:#009af9; stroke-linecap:butt; stroke-linejoin:round; stroke-width:4; stroke-opacity:1; fill:none\" points=\"\n",
       "  301.869,1386.4 306.731,1376.61 311.592,1366.92 316.453,1357.34 321.314,1347.85 366.264,1264.71 411.214,1189.58 456.164,1122.09 501.114,1061.83 555.14,998.445 \n",
       "  609.166,944.29 654.844,905.206 700.522,871.834 750.141,841.582 799.761,817.071 845.505,799.111 891.25,785.179 989.336,766.989 1102.98,761.44 1203.97,765.683 \n",
       "  1292.53,772.894 1389.09,780.841 1486.22,785.156 1593.6,780.935 1695.78,763.49 1748.9,747.709 1802.02,726.5 1846.74,703.97 1891.46,676.762 1946.05,636.646 \n",
       "  2000.64,588.294 2051.96,534.713 2103.28,472.666 2144.39,416.47 2185.5,354.176 2226.61,285.488 2267.72,210.112 2274.04,197.899 2280.37,185.519 2286.69,172.972 \n",
       "  2293.02,160.256 \n",
       "  \"/>\n",
       "</svg>\n"
      ]
     },
     "execution_count": 20,
     "metadata": {},
     "output_type": "execute_result"
    }
   ],
   "source": [
    "plot(f5, -4, 4, xlab=\"x [1]\", ylab=\"y [1]\", label=\"\", title=\"x^3 - 2 * x - 5\")"
   ]
  },
  {
   "cell_type": "code",
   "execution_count": 21,
   "id": "f1cda504",
   "metadata": {},
   "outputs": [
    {
     "data": {
      "text/plain": [
       "Results of univariate zero finding:\n",
       "\n",
       "* Converged to: 2.0945514815423265\n",
       "* Algorithm: FalsePosition{:anderson_bjork}()\n",
       "* iterations: 11\n",
       "* function evaluations ≈ 13\n",
       "* stopped as |f(x_n)| ≤ max(δ, |x|⋅ϵ) using δ = atol, ϵ = rtol\n",
       "\n",
       "Trace:\n",
       "x₁ = 0,\t fx₁ = -5\n",
       "x₂ = 4,\t fx₂ = 51\n",
       "x₃ = 0.35714285714285721,\t fx₃ = -5.6687317784256557\n",
       "x₄ = 0.72154804854050514,\t fx₄ = -6.0674353919397364\n",
       "x₅ = 1.3516846166235208,\t fx₅ = -5.2337720934477812\n",
       "x₆ = 2.9380352792144109,\t fx₆ = 14.485200698567038\n",
       "x₇ = 1.7727307794161751,\t fx₇ = -2.97452316447017\n",
       "x₈ = 1.9712577008899612,\t fx₈ = -1.2824900171327913\n",
       "x₉ = 2.1014663142878316,\t fx₉ = 0.077480258093860499\n",
       "x₁₀ = 2.0940480661423497,\t fx₁₀ = -0.0056172473168762949\n",
       "x₁₁ = 2.0945495268575081,\t fx₁₁ = -2.181706886883461e-05\n",
       "x₁₂ = 2.0945514815438702,\t fx₁₂ = 1.7227996806923329e-11\n",
       "x₁₃ = 2.0945514815423265,\t fx₁₃ = -8.8817841970012523e-16\n",
       "\n"
      ]
     },
     "metadata": {},
     "output_type": "display_data"
    },
    {
     "data": {
      "text/plain": [
       "Results of univariate zero finding:\n",
       "\n",
       "* Converged to: 2.0945514815423265\n",
       "* Algorithm: Roots.Newton()\n",
       "* iterations: 19\n",
       "* function evaluations ≈ 38\n",
       "* stopped as |f(x_n)| ≤ max(δ, |x|⋅ϵ) using δ = atol, ϵ = rtol\n",
       "\n",
       "Trace:\n",
       "x₁ = 0,\t fx₁ = -5\n",
       "x₂ = -2.5,\t fx₂ = -15.625\n",
       "x₃ = -1.5671641791044775,\t fx₃ = -5.714632451465107\n",
       "x₄ = -0.50259244508667966,\t fx₄ = -4.1217695422221725\n",
       "x₅ = -3.8207064676993294,\t fx₅ = -53.132487962368174\n",
       "x₆ = -2.5493933913606064,\t fx₆ = -16.470757614024016\n",
       "x₇ = -1.6081114997282251,\t fx₇ = -5.9423896750176617\n",
       "x₈ = -0.57610043366023933,\t fx₈ = -4.0390020905449111\n",
       "x₉ = -4.5977095833821693,\t fx₉ = -92.995257569234539\n",
       "x₁₀ = -3.083543146726655,\t fx₁₀ = -28.151976870282013\n",
       "x₁₁ = -2.0221942554643366,\t fx₁₁ = -9.2249089970538503\n",
       "x₁₂ = -1.1237641075795191,\t fx₁₂ = -4.1716125339957122\n",
       "x₁₃ = 1.2086516123957836,\t fx₁₃ = -5.6516581502357903\n",
       "x₁₄ = 3.5807900448965704,\t fx₁₄ = 33.751515208533078\n",
       "x₁₅ = 2.6552331980087693,\t fx₁₅ = 8.4096268679235848\n",
       "x₁₆ = 2.2161063074385283,\t fx₁₆ = 1.4513672740375592\n",
       "x₁₇ = 2.1021250154847473,\t fx₁₇ = 0.084892382341730688\n",
       "x₁₈ = 2.0945835767773091,\t fx₁₈ = 0.00035823543942559155\n",
       "x₁₉ = 2.0945514821222386,\t fx₁₉ = 6.4726526360914249e-09\n",
       "x₂₀ = 2.0945514815423265,\t fx₂₀ = -8.8817841970012523e-16\n",
       "\n"
      ]
     },
     "metadata": {},
     "output_type": "display_data"
    },
    {
     "data": {
      "text/plain": [
       "Results of univariate zero finding:\n",
       "\n",
       "* Converged to: 2.0945514815423265\n",
       "* Algorithm: Secant()\n",
       "* iterations: 12\n",
       "* function evaluations ≈ 14\n",
       "* stopped as |f(x_n)| ≤ max(δ, |x|⋅ϵ) using δ = atol, ϵ = rtol\n",
       "\n",
       "Trace:\n",
       "x₁ = 6.0554544523933395e-06,\t fx₁ = -5.0000121109089042\n",
       "x₂ = 0,\t fx₂ = -5\n",
       "x₃ = -2.5000000001244578,\t fx₃ = -15.625000002084668\n",
       "x₄ = 1.176470588063034,\t fx₄ = -5.724608182744042\n",
       "x₅ = 3.3022807576809083,\t fx₅ = 24.407002348308062\n",
       "x₆ = 1.5803464538888512,\t fx₆ = -4.2137856763281247\n",
       "x₇ = 1.8338636560934627,\t fx₇ = -2.5003413070038372\n",
       "x₈ = 2.2038082799496843,\t fx₈ = 1.2957754399762749\n",
       "x₉ = 2.0775305098770178,\t fx₉ = -0.18816298711778057\n",
       "x₁₀ = 2.0935424966209526,\t fx₁₀ = -0.011255326316085501\n",
       "x₁₁ = 2.0945612209371021,\t fx₁₁ = 0.00010870624432257614\n",
       "x₁₂ = 2.0945514760077542,\t fx₁₂ = -6.177378608640538e-08\n",
       "x₁₃ = 2.0945514815422963,\t fx₁₃ = -3.3839597790574771e-13\n",
       "x₁₄ = 2.0945514815423265,\t fx₁₄ = -8.8817841970012523e-16\n",
       "\n"
      ]
     },
     "metadata": {},
     "output_type": "display_data"
    },
    {
     "data": {
      "text/plain": [
       "Algorithm has not been run"
      ]
     },
     "execution_count": 21,
     "metadata": {},
     "output_type": "execute_result"
    }
   ],
   "source": [
    "test(f5, -4, 4)"
   ]
  },
  {
   "cell_type": "code",
   "execution_count": 22,
   "id": "5d978e99",
   "metadata": {},
   "outputs": [
    {
     "data": {
      "text/html": [
       "<div class=\"data-frame\"><p>14 rows × 6 columns</p><table class=\"data-frame\"><thead><tr><th></th><th>f</th><th>method</th><th>iterations</th><th>calls</th><th>x_zero</th><th>isZero</th></tr><tr><th></th><th title=\"String\">String</th><th title=\"String\">String</th><th title=\"Int64\">Int64</th><th title=\"Int64\">Int64</th><th title=\"Float64\">Float64</th><th title=\"Bool\">Bool</th></tr></thead><tbody><tr><th>1</th><td>sin(x) - x/2</td><td>interval</td><td>9</td><td>11</td><td>1.89549</td><td>1</td></tr><tr><th>2</th><td>sin(x) - x/2</td><td>derivative</td><td>1</td><td>2</td><td>0.0</td><td>1</td></tr><tr><th>3</th><td>sin(x) - x/2</td><td>derivativeApprox</td><td>0</td><td>2</td><td>0.0</td><td>1</td></tr><tr><th>4</th><td>x * exp(-x)</td><td>interval</td><td>40</td><td>42</td><td>9.09495e-12</td><td>0</td></tr><tr><th>5</th><td>x * exp(-x)</td><td>derivative</td><td>1</td><td>2</td><td>0.0</td><td>1</td></tr><tr><th>6</th><td>x * exp(-x)</td><td>derivativeApprox</td><td>0</td><td>2</td><td>0.0</td><td>1</td></tr><tr><th>7</th><td>(x + 3) * (x - 1)^2</td><td>interval</td><td>8</td><td>10</td><td>-3.0</td><td>1</td></tr><tr><th>8</th><td>(x + 3) * (x - 1)^2</td><td>derivative</td><td>26</td><td>52</td><td>1.0</td><td>0</td></tr><tr><th>9</th><td>(x + 3) * (x - 1)^2</td><td>derivativeApprox</td><td>37</td><td>39</td><td>1.0</td><td>0</td></tr><tr><th>10</th><td>x^3</td><td>interval</td><td>18</td><td>20</td><td>7.62939e-6</td><td>0</td></tr><tr><th>11</th><td>x^3</td><td>derivativeApprox</td><td>0</td><td>2</td><td>0.0</td><td>1</td></tr><tr><th>12</th><td>x^3 - 2 * x - 5</td><td>interval</td><td>11</td><td>13</td><td>2.09455</td><td>0</td></tr><tr><th>13</th><td>x^3 - 2 * x - 5</td><td>derivative</td><td>19</td><td>38</td><td>2.09455</td><td>0</td></tr><tr><th>14</th><td>x^3 - 2 * x - 5</td><td>derivativeApprox</td><td>12</td><td>14</td><td>2.09455</td><td>0</td></tr></tbody></table></div>"
      ],
      "text/latex": [
       "\\begin{tabular}{r|cccccc}\n",
       "\t& f & method & iterations & calls & x\\_zero & isZero\\\\\n",
       "\t\\hline\n",
       "\t& String & String & Int64 & Int64 & Float64 & Bool\\\\\n",
       "\t\\hline\n",
       "\t1 & sin(x) - x/2 & interval & 9 & 11 & 1.89549 & 1 \\\\\n",
       "\t2 & sin(x) - x/2 & derivative & 1 & 2 & 0.0 & 1 \\\\\n",
       "\t3 & sin(x) - x/2 & derivativeApprox & 0 & 2 & 0.0 & 1 \\\\\n",
       "\t4 & x * exp(-x) & interval & 40 & 42 & 9.09495e-12 & 0 \\\\\n",
       "\t5 & x * exp(-x) & derivative & 1 & 2 & 0.0 & 1 \\\\\n",
       "\t6 & x * exp(-x) & derivativeApprox & 0 & 2 & 0.0 & 1 \\\\\n",
       "\t7 & (x + 3) * (x - 1)\\^2 & interval & 8 & 10 & -3.0 & 1 \\\\\n",
       "\t8 & (x + 3) * (x - 1)\\^2 & derivative & 26 & 52 & 1.0 & 0 \\\\\n",
       "\t9 & (x + 3) * (x - 1)\\^2 & derivativeApprox & 37 & 39 & 1.0 & 0 \\\\\n",
       "\t10 & x\\^3 & interval & 18 & 20 & 7.62939e-6 & 0 \\\\\n",
       "\t11 & x\\^3 & derivativeApprox & 0 & 2 & 0.0 & 1 \\\\\n",
       "\t12 & x\\^3 - 2 * x - 5 & interval & 11 & 13 & 2.09455 & 0 \\\\\n",
       "\t13 & x\\^3 - 2 * x - 5 & derivative & 19 & 38 & 2.09455 & 0 \\\\\n",
       "\t14 & x\\^3 - 2 * x - 5 & derivativeApprox & 12 & 14 & 2.09455 & 0 \\\\\n",
       "\\end{tabular}\n"
      ],
      "text/plain": [
       "\u001b[1m14×6 DataFrame\u001b[0m\n",
       "\u001b[1m Row \u001b[0m│\u001b[1m f                   \u001b[0m\u001b[1m method           \u001b[0m\u001b[1m iterations \u001b[0m\u001b[1m calls \u001b[0m\u001b[1m x_zero       \u001b[0m\u001b[1m\u001b[0m ⋯\n",
       "\u001b[1m     \u001b[0m│\u001b[90m String              \u001b[0m\u001b[90m String           \u001b[0m\u001b[90m Int64      \u001b[0m\u001b[90m Int64 \u001b[0m\u001b[90m Float64      \u001b[0m\u001b[90m\u001b[0m ⋯\n",
       "─────┼──────────────────────────────────────────────────────────────────────────\n",
       "   1 │ sin(x) - x/2         interval                   9     11   1.89549      ⋯\n",
       "   2 │ sin(x) - x/2         derivative                 1      2   0.0\n",
       "   3 │ sin(x) - x/2         derivativeApprox           0      2   0.0\n",
       "   4 │ x * exp(-x)          interval                  40     42   9.09495e-12\n",
       "   5 │ x * exp(-x)          derivative                 1      2   0.0          ⋯\n",
       "   6 │ x * exp(-x)          derivativeApprox           0      2   0.0\n",
       "   7 │ (x + 3) * (x - 1)^2  interval                   8     10  -3.0\n",
       "   8 │ (x + 3) * (x - 1)^2  derivative                26     52   1.0\n",
       "   9 │ (x + 3) * (x - 1)^2  derivativeApprox          37     39   1.0          ⋯\n",
       "  10 │ x^3                  interval                  18     20   7.62939e-6\n",
       "  11 │ x^3                  derivativeApprox           0      2   0.0\n",
       "  12 │ x^3 - 2 * x - 5      interval                  11     13   2.09455\n",
       "  13 │ x^3 - 2 * x - 5      derivative                19     38   2.09455      ⋯\n",
       "  14 │ x^3 - 2 * x - 5      derivativeApprox          12     14   2.09455\n",
       "\u001b[36m                                                                1 column omitted\u001b[0m"
      ]
     },
     "execution_count": 22,
     "metadata": {},
     "output_type": "execute_result"
    }
   ],
   "source": [
    "push!(df, [\"x^3 - 2 * x - 5\" \"interval\" 11 13 2.0945514815423265 iszero(f5(2.0945514815423265))])\n",
    "push!(df, [\"x^3 - 2 * x - 5\" \"derivative\" 19 38 2.0945514815423265 iszero(f5(2.0945514815423265))])\n",
    "push!(df, [\"x^3 - 2 * x - 5\" \"derivativeApprox\" 12 14 2.0945514815423265 iszero(f5(2.0945514815423265))])"
   ]
  },
  {
   "cell_type": "code",
   "execution_count": 23,
   "id": "5b254d54",
   "metadata": {},
   "outputs": [
    {
     "data": {
      "image/svg+xml": [
       "<?xml version=\"1.0\" encoding=\"utf-8\"?>\n",
       "<svg xmlns=\"http://www.w3.org/2000/svg\" xmlns:xlink=\"http://www.w3.org/1999/xlink\" width=\"600\" height=\"400\" viewBox=\"0 0 2400 1600\">\n",
       "<defs>\n",
       "  <clipPath id=\"clip070\">\n",
       "    <rect x=\"0\" y=\"0\" width=\"2400\" height=\"1600\"/>\n",
       "  </clipPath>\n",
       "</defs>\n",
       "<path clip-path=\"url(#clip070)\" d=\"\n",
       "M0 1600 L2400 1600 L2400 0 L0 0  Z\n",
       "  \" fill=\"#ffffff\" fill-rule=\"evenodd\" fill-opacity=\"1\"/>\n",
       "<defs>\n",
       "  <clipPath id=\"clip071\">\n",
       "    <rect x=\"480\" y=\"0\" width=\"1681\" height=\"1600\"/>\n",
       "  </clipPath>\n",
       "</defs>\n",
       "<path clip-path=\"url(#clip070)\" d=\"\n",
       "M272.297 1423.18 L2352.76 1423.18 L2352.76 123.472 L272.297 123.472  Z\n",
       "  \" fill=\"#ffffff\" fill-rule=\"evenodd\" fill-opacity=\"1\"/>\n",
       "<defs>\n",
       "  <clipPath id=\"clip072\">\n",
       "    <rect x=\"272\" y=\"123\" width=\"2081\" height=\"1301\"/>\n",
       "  </clipPath>\n",
       "</defs>\n",
       "<polyline clip-path=\"url(#clip072)\" style=\"stroke:#000000; stroke-linecap:butt; stroke-linejoin:round; stroke-width:2; stroke-opacity:0.1; fill:none\" points=\"\n",
       "  331.177,1423.18 331.177,123.472 \n",
       "  \"/>\n",
       "<polyline clip-path=\"url(#clip072)\" style=\"stroke:#000000; stroke-linecap:butt; stroke-linejoin:round; stroke-width:2; stroke-opacity:0.1; fill:none\" points=\"\n",
       "  821.852,1423.18 821.852,123.472 \n",
       "  \"/>\n",
       "<polyline clip-path=\"url(#clip072)\" style=\"stroke:#000000; stroke-linecap:butt; stroke-linejoin:round; stroke-width:2; stroke-opacity:0.1; fill:none\" points=\"\n",
       "  1312.53,1423.18 1312.53,123.472 \n",
       "  \"/>\n",
       "<polyline clip-path=\"url(#clip072)\" style=\"stroke:#000000; stroke-linecap:butt; stroke-linejoin:round; stroke-width:2; stroke-opacity:0.1; fill:none\" points=\"\n",
       "  1803.2,1423.18 1803.2,123.472 \n",
       "  \"/>\n",
       "<polyline clip-path=\"url(#clip072)\" style=\"stroke:#000000; stroke-linecap:butt; stroke-linejoin:round; stroke-width:2; stroke-opacity:0.1; fill:none\" points=\"\n",
       "  2293.87,1423.18 2293.87,123.472 \n",
       "  \"/>\n",
       "<polyline clip-path=\"url(#clip070)\" style=\"stroke:#000000; stroke-linecap:butt; stroke-linejoin:round; stroke-width:4; stroke-opacity:1; fill:none\" points=\"\n",
       "  272.297,1423.18 2352.76,1423.18 \n",
       "  \"/>\n",
       "<polyline clip-path=\"url(#clip070)\" style=\"stroke:#000000; stroke-linecap:butt; stroke-linejoin:round; stroke-width:4; stroke-opacity:1; fill:none\" points=\"\n",
       "  331.177,1423.18 331.177,1404.28 \n",
       "  \"/>\n",
       "<polyline clip-path=\"url(#clip070)\" style=\"stroke:#000000; stroke-linecap:butt; stroke-linejoin:round; stroke-width:4; stroke-opacity:1; fill:none\" points=\"\n",
       "  821.852,1423.18 821.852,1404.28 \n",
       "  \"/>\n",
       "<polyline clip-path=\"url(#clip070)\" style=\"stroke:#000000; stroke-linecap:butt; stroke-linejoin:round; stroke-width:4; stroke-opacity:1; fill:none\" points=\"\n",
       "  1312.53,1423.18 1312.53,1404.28 \n",
       "  \"/>\n",
       "<polyline clip-path=\"url(#clip070)\" style=\"stroke:#000000; stroke-linecap:butt; stroke-linejoin:round; stroke-width:4; stroke-opacity:1; fill:none\" points=\"\n",
       "  1803.2,1423.18 1803.2,1404.28 \n",
       "  \"/>\n",
       "<polyline clip-path=\"url(#clip070)\" style=\"stroke:#000000; stroke-linecap:butt; stroke-linejoin:round; stroke-width:4; stroke-opacity:1; fill:none\" points=\"\n",
       "  2293.87,1423.18 2293.87,1404.28 \n",
       "  \"/>\n",
       "<path clip-path=\"url(#clip070)\" d=\"M300.935 1468.75 L330.61 1468.75 L330.61 1472.69 L300.935 1472.69 L300.935 1468.75 Z\" fill=\"#000000\" fill-rule=\"evenodd\" fill-opacity=\"1\" /><path clip-path=\"url(#clip070)\" d=\"M341.513 1481.64 L349.152 1481.64 L349.152 1455.28 L340.842 1456.95 L340.842 1452.69 L349.106 1451.02 L353.782 1451.02 L353.782 1481.64 L361.42 1481.64 L361.42 1485.58 L341.513 1485.58 L341.513 1481.64 Z\" fill=\"#000000\" fill-rule=\"evenodd\" fill-opacity=\"1\" /><path clip-path=\"url(#clip070)\" d=\"M821.852 1454.1 Q818.241 1454.1 816.412 1457.66 Q814.607 1461.2 814.607 1468.33 Q814.607 1475.44 816.412 1479.01 Q818.241 1482.55 821.852 1482.55 Q825.486 1482.55 827.292 1479.01 Q829.12 1475.44 829.12 1468.33 Q829.12 1461.2 827.292 1457.66 Q825.486 1454.1 821.852 1454.1 M821.852 1450.39 Q827.662 1450.39 830.718 1455 Q833.796 1459.58 833.796 1468.33 Q833.796 1477.06 830.718 1481.67 Q827.662 1486.25 821.852 1486.25 Q816.042 1486.25 812.963 1481.67 Q809.907 1477.06 809.907 1468.33 Q809.907 1459.58 812.963 1455 Q816.042 1450.39 821.852 1450.39 Z\" fill=\"#000000\" fill-rule=\"evenodd\" fill-opacity=\"1\" /><path clip-path=\"url(#clip070)\" d=\"M1302.91 1481.64 L1310.55 1481.64 L1310.55 1455.28 L1302.24 1456.95 L1302.24 1452.69 L1310.5 1451.02 L1315.18 1451.02 L1315.18 1481.64 L1322.82 1481.64 L1322.82 1485.58 L1302.91 1485.58 L1302.91 1481.64 Z\" fill=\"#000000\" fill-rule=\"evenodd\" fill-opacity=\"1\" /><path clip-path=\"url(#clip070)\" d=\"M1797.85 1481.64 L1814.17 1481.64 L1814.17 1485.58 L1792.23 1485.58 L1792.23 1481.64 Q1794.89 1478.89 1799.47 1474.26 Q1804.08 1469.61 1805.26 1468.27 Q1807.51 1465.74 1808.39 1464.01 Q1809.29 1462.25 1809.29 1460.56 Q1809.29 1457.8 1807.34 1456.07 Q1805.42 1454.33 1802.32 1454.33 Q1800.12 1454.33 1797.67 1455.09 Q1795.24 1455.86 1792.46 1457.41 L1792.46 1452.69 Q1795.28 1451.55 1797.74 1450.97 Q1800.19 1450.39 1802.23 1450.39 Q1807.6 1450.39 1810.79 1453.08 Q1813.99 1455.77 1813.99 1460.26 Q1813.99 1462.39 1813.18 1464.31 Q1812.39 1466.2 1810.28 1468.8 Q1809.71 1469.47 1806.6 1472.69 Q1803.5 1475.88 1797.85 1481.64 Z\" fill=\"#000000\" fill-rule=\"evenodd\" fill-opacity=\"1\" /><path clip-path=\"url(#clip070)\" d=\"M2298.12 1466.95 Q2301.48 1467.66 2303.35 1469.93 Q2305.25 1472.2 2305.25 1475.53 Q2305.25 1480.65 2301.73 1483.45 Q2298.22 1486.25 2291.73 1486.25 Q2289.56 1486.25 2287.24 1485.81 Q2284.95 1485.39 2282.5 1484.54 L2282.5 1480.02 Q2284.44 1481.16 2286.76 1481.74 Q2289.07 1482.32 2291.59 1482.32 Q2295.99 1482.32 2298.28 1480.58 Q2300.6 1478.84 2300.6 1475.53 Q2300.6 1472.48 2298.45 1470.77 Q2296.32 1469.03 2292.5 1469.03 L2288.47 1469.03 L2288.47 1465.19 L2292.68 1465.19 Q2296.13 1465.19 2297.96 1463.82 Q2299.79 1462.43 2299.79 1459.84 Q2299.79 1457.18 2297.89 1455.77 Q2296.02 1454.33 2292.5 1454.33 Q2290.58 1454.33 2288.38 1454.75 Q2286.18 1455.16 2283.54 1456.04 L2283.54 1451.88 Q2286.2 1451.14 2288.52 1450.77 Q2290.85 1450.39 2292.91 1450.39 Q2298.24 1450.39 2301.34 1452.83 Q2304.44 1455.23 2304.44 1459.35 Q2304.44 1462.22 2302.8 1464.21 Q2301.16 1466.18 2298.12 1466.95 Z\" fill=\"#000000\" fill-rule=\"evenodd\" fill-opacity=\"1\" /><path clip-path=\"url(#clip070)\" d=\"M1274.35 1532.4 L1261.46 1549.74 L1275.02 1568.04 L1268.11 1568.04 L1257.73 1554.04 L1247.36 1568.04 L1240.45 1568.04 L1254.3 1549.39 L1241.63 1532.4 L1248.53 1532.4 L1257.99 1545.1 L1267.44 1532.4 L1274.35 1532.4 Z\" fill=\"#000000\" fill-rule=\"evenodd\" fill-opacity=\"1\" /><path clip-path=\"url(#clip070)\" d=\"M1303.47 1518.52 L1316.97 1518.52 L1316.97 1523.07 L1309.33 1523.07 L1309.33 1572.09 L1316.97 1572.09 L1316.97 1576.64 L1303.47 1576.64 L1303.47 1518.52 Z\" fill=\"#000000\" fill-rule=\"evenodd\" fill-opacity=\"1\" /><path clip-path=\"url(#clip070)\" d=\"M1331.38 1562.63 L1341.89 1562.63 L1341.89 1526.38 L1330.46 1528.67 L1330.46 1522.82 L1341.82 1520.52 L1348.25 1520.52 L1348.25 1562.63 L1358.76 1562.63 L1358.76 1568.04 L1331.38 1568.04 L1331.38 1562.63 Z\" fill=\"#000000\" fill-rule=\"evenodd\" fill-opacity=\"1\" /><path clip-path=\"url(#clip070)\" d=\"M1384.6 1518.52 L1384.6 1576.64 L1371.11 1576.64 L1371.11 1572.09 L1378.71 1572.09 L1378.71 1523.07 L1371.11 1523.07 L1371.11 1518.52 L1384.6 1518.52 Z\" fill=\"#000000\" fill-rule=\"evenodd\" fill-opacity=\"1\" /><polyline clip-path=\"url(#clip072)\" style=\"stroke:#000000; stroke-linecap:butt; stroke-linejoin:round; stroke-width:2; stroke-opacity:0.1; fill:none\" points=\"\n",
       "  272.297,1252.29 2352.76,1252.29 \n",
       "  \"/>\n",
       "<polyline clip-path=\"url(#clip072)\" style=\"stroke:#000000; stroke-linecap:butt; stroke-linejoin:round; stroke-width:2; stroke-opacity:0.1; fill:none\" points=\"\n",
       "  272.297,1012.81 2352.76,1012.81 \n",
       "  \"/>\n",
       "<polyline clip-path=\"url(#clip072)\" style=\"stroke:#000000; stroke-linecap:butt; stroke-linejoin:round; stroke-width:2; stroke-opacity:0.1; fill:none\" points=\"\n",
       "  272.297,773.326 2352.76,773.326 \n",
       "  \"/>\n",
       "<polyline clip-path=\"url(#clip072)\" style=\"stroke:#000000; stroke-linecap:butt; stroke-linejoin:round; stroke-width:2; stroke-opacity:0.1; fill:none\" points=\"\n",
       "  272.297,533.846 2352.76,533.846 \n",
       "  \"/>\n",
       "<polyline clip-path=\"url(#clip072)\" style=\"stroke:#000000; stroke-linecap:butt; stroke-linejoin:round; stroke-width:2; stroke-opacity:0.1; fill:none\" points=\"\n",
       "  272.297,294.365 2352.76,294.365 \n",
       "  \"/>\n",
       "<polyline clip-path=\"url(#clip070)\" style=\"stroke:#000000; stroke-linecap:butt; stroke-linejoin:round; stroke-width:4; stroke-opacity:1; fill:none\" points=\"\n",
       "  272.297,1423.18 272.297,123.472 \n",
       "  \"/>\n",
       "<polyline clip-path=\"url(#clip070)\" style=\"stroke:#000000; stroke-linecap:butt; stroke-linejoin:round; stroke-width:4; stroke-opacity:1; fill:none\" points=\"\n",
       "  272.297,1252.29 291.194,1252.29 \n",
       "  \"/>\n",
       "<polyline clip-path=\"url(#clip070)\" style=\"stroke:#000000; stroke-linecap:butt; stroke-linejoin:round; stroke-width:4; stroke-opacity:1; fill:none\" points=\"\n",
       "  272.297,1012.81 291.194,1012.81 \n",
       "  \"/>\n",
       "<polyline clip-path=\"url(#clip070)\" style=\"stroke:#000000; stroke-linecap:butt; stroke-linejoin:round; stroke-width:4; stroke-opacity:1; fill:none\" points=\"\n",
       "  272.297,773.326 291.194,773.326 \n",
       "  \"/>\n",
       "<polyline clip-path=\"url(#clip070)\" style=\"stroke:#000000; stroke-linecap:butt; stroke-linejoin:round; stroke-width:4; stroke-opacity:1; fill:none\" points=\"\n",
       "  272.297,533.846 291.194,533.846 \n",
       "  \"/>\n",
       "<polyline clip-path=\"url(#clip070)\" style=\"stroke:#000000; stroke-linecap:butt; stroke-linejoin:round; stroke-width:4; stroke-opacity:1; fill:none\" points=\"\n",
       "  272.297,294.365 291.194,294.365 \n",
       "  \"/>\n",
       "<path clip-path=\"url(#clip070)\" d=\"M114.26 1252.74 L143.936 1252.74 L143.936 1256.67 L114.26 1256.67 L114.26 1252.74 Z\" fill=\"#000000\" fill-rule=\"evenodd\" fill-opacity=\"1\" /><path clip-path=\"url(#clip070)\" d=\"M154.839 1265.63 L162.477 1265.63 L162.477 1239.27 L154.167 1240.93 L154.167 1236.67 L162.431 1235.01 L167.107 1235.01 L167.107 1265.63 L174.746 1265.63 L174.746 1269.57 L154.839 1269.57 L154.839 1265.63 Z\" fill=\"#000000\" fill-rule=\"evenodd\" fill-opacity=\"1\" /><path clip-path=\"url(#clip070)\" d=\"M194.19 1238.09 Q190.579 1238.09 188.75 1241.65 Q186.945 1245.19 186.945 1252.32 Q186.945 1259.43 188.75 1262.99 Q190.579 1266.53 194.19 1266.53 Q197.825 1266.53 199.63 1262.99 Q201.459 1259.43 201.459 1252.32 Q201.459 1245.19 199.63 1241.65 Q197.825 1238.09 194.19 1238.09 M194.19 1234.38 Q200 1234.38 203.056 1238.99 Q206.135 1243.57 206.135 1252.32 Q206.135 1261.05 203.056 1265.65 Q200 1270.24 194.19 1270.24 Q188.38 1270.24 185.301 1265.65 Q182.246 1261.05 182.246 1252.32 Q182.246 1243.57 185.301 1238.99 Q188.38 1234.38 194.19 1234.38 Z\" fill=\"#000000\" fill-rule=\"evenodd\" fill-opacity=\"1\" /><path clip-path=\"url(#clip070)\" d=\"M224.352 1238.09 Q220.741 1238.09 218.912 1241.65 Q217.107 1245.19 217.107 1252.32 Q217.107 1259.43 218.912 1262.99 Q220.741 1266.53 224.352 1266.53 Q227.986 1266.53 229.792 1262.99 Q231.621 1259.43 231.621 1252.32 Q231.621 1245.19 229.792 1241.65 Q227.986 1238.09 224.352 1238.09 M224.352 1234.38 Q230.162 1234.38 233.218 1238.99 Q236.297 1243.57 236.297 1252.32 Q236.297 1261.05 233.218 1265.65 Q230.162 1270.24 224.352 1270.24 Q218.542 1270.24 215.463 1265.65 Q212.408 1261.05 212.408 1252.32 Q212.408 1243.57 215.463 1238.99 Q218.542 1234.38 224.352 1234.38 Z\" fill=\"#000000\" fill-rule=\"evenodd\" fill-opacity=\"1\" /><path clip-path=\"url(#clip070)\" d=\"M144.422 1013.26 L174.098 1013.26 L174.098 1017.19 L144.422 1017.19 L144.422 1013.26 Z\" fill=\"#000000\" fill-rule=\"evenodd\" fill-opacity=\"1\" /><path clip-path=\"url(#clip070)\" d=\"M184.237 995.526 L202.593 995.526 L202.593 999.461 L188.519 999.461 L188.519 1007.93 Q189.538 1007.59 190.556 1007.42 Q191.575 1007.24 192.593 1007.24 Q198.38 1007.24 201.76 1010.41 Q205.139 1013.58 205.139 1019 Q205.139 1024.58 201.667 1027.68 Q198.195 1030.76 191.875 1030.76 Q189.7 1030.76 187.431 1030.39 Q185.186 1030.02 182.778 1029.28 L182.778 1024.58 Q184.862 1025.71 187.084 1026.27 Q189.306 1026.82 191.783 1026.82 Q195.787 1026.82 198.125 1024.72 Q200.463 1022.61 200.463 1019 Q200.463 1015.39 198.125 1013.28 Q195.787 1011.17 191.783 1011.17 Q189.908 1011.17 188.033 1011.59 Q186.181 1012.01 184.237 1012.89 L184.237 995.526 Z\" fill=\"#000000\" fill-rule=\"evenodd\" fill-opacity=\"1\" /><path clip-path=\"url(#clip070)\" d=\"M224.352 998.605 Q220.741 998.605 218.912 1002.17 Q217.107 1005.71 217.107 1012.84 Q217.107 1019.95 218.912 1023.51 Q220.741 1027.05 224.352 1027.05 Q227.986 1027.05 229.792 1023.51 Q231.621 1019.95 231.621 1012.84 Q231.621 1005.71 229.792 1002.17 Q227.986 998.605 224.352 998.605 M224.352 994.901 Q230.162 994.901 233.218 999.508 Q236.297 1004.09 236.297 1012.84 Q236.297 1021.57 233.218 1026.17 Q230.162 1030.76 224.352 1030.76 Q218.542 1030.76 215.463 1026.17 Q212.408 1021.57 212.408 1012.84 Q212.408 1004.09 215.463 999.508 Q218.542 994.901 224.352 994.901 Z\" fill=\"#000000\" fill-rule=\"evenodd\" fill-opacity=\"1\" /><path clip-path=\"url(#clip070)\" d=\"M224.352 759.125 Q220.741 759.125 218.912 762.689 Q217.107 766.231 217.107 773.361 Q217.107 780.467 218.912 784.032 Q220.741 787.574 224.352 787.574 Q227.986 787.574 229.792 784.032 Q231.621 780.467 231.621 773.361 Q231.621 766.231 229.792 762.689 Q227.986 759.125 224.352 759.125 M224.352 755.421 Q230.162 755.421 233.218 760.027 Q236.297 764.611 236.297 773.361 Q236.297 782.088 233.218 786.694 Q230.162 791.277 224.352 791.277 Q218.542 791.277 215.463 786.694 Q212.408 782.088 212.408 773.361 Q212.408 764.611 215.463 760.027 Q218.542 755.421 224.352 755.421 Z\" fill=\"#000000\" fill-rule=\"evenodd\" fill-opacity=\"1\" /><path clip-path=\"url(#clip070)\" d=\"M184.237 516.566 L202.593 516.566 L202.593 520.501 L188.519 520.501 L188.519 528.973 Q189.538 528.626 190.556 528.464 Q191.575 528.279 192.593 528.279 Q198.38 528.279 201.76 531.45 Q205.139 534.621 205.139 540.038 Q205.139 545.616 201.667 548.718 Q198.195 551.797 191.875 551.797 Q189.7 551.797 187.431 551.427 Q185.186 551.056 182.778 550.315 L182.778 545.616 Q184.862 546.751 187.084 547.306 Q189.306 547.862 191.783 547.862 Q195.787 547.862 198.125 545.755 Q200.463 543.649 200.463 540.038 Q200.463 536.427 198.125 534.32 Q195.787 532.214 191.783 532.214 Q189.908 532.214 188.033 532.63 Q186.181 533.047 184.237 533.927 L184.237 516.566 Z\" fill=\"#000000\" fill-rule=\"evenodd\" fill-opacity=\"1\" /><path clip-path=\"url(#clip070)\" d=\"M224.352 519.644 Q220.741 519.644 218.912 523.209 Q217.107 526.751 217.107 533.88 Q217.107 540.987 218.912 544.552 Q220.741 548.093 224.352 548.093 Q227.986 548.093 229.792 544.552 Q231.621 540.987 231.621 533.88 Q231.621 526.751 229.792 523.209 Q227.986 519.644 224.352 519.644 M224.352 515.941 Q230.162 515.941 233.218 520.547 Q236.297 525.13 236.297 533.88 Q236.297 542.607 233.218 547.214 Q230.162 551.797 224.352 551.797 Q218.542 551.797 215.463 547.214 Q212.408 542.607 212.408 533.88 Q212.408 525.13 215.463 520.547 Q218.542 515.941 224.352 515.941 Z\" fill=\"#000000\" fill-rule=\"evenodd\" fill-opacity=\"1\" /><path clip-path=\"url(#clip070)\" d=\"M154.839 307.71 L162.477 307.71 L162.477 281.345 L154.167 283.011 L154.167 278.752 L162.431 277.085 L167.107 277.085 L167.107 307.71 L174.746 307.71 L174.746 311.645 L154.839 311.645 L154.839 307.71 Z\" fill=\"#000000\" fill-rule=\"evenodd\" fill-opacity=\"1\" /><path clip-path=\"url(#clip070)\" d=\"M194.19 280.164 Q190.579 280.164 188.75 283.729 Q186.945 287.27 186.945 294.4 Q186.945 301.506 188.75 305.071 Q190.579 308.613 194.19 308.613 Q197.825 308.613 199.63 305.071 Q201.459 301.506 201.459 294.4 Q201.459 287.27 199.63 283.729 Q197.825 280.164 194.19 280.164 M194.19 276.46 Q200 276.46 203.056 281.067 Q206.135 285.65 206.135 294.4 Q206.135 303.127 203.056 307.733 Q200 312.317 194.19 312.317 Q188.38 312.317 185.301 307.733 Q182.246 303.127 182.246 294.4 Q182.246 285.65 185.301 281.067 Q188.38 276.46 194.19 276.46 Z\" fill=\"#000000\" fill-rule=\"evenodd\" fill-opacity=\"1\" /><path clip-path=\"url(#clip070)\" d=\"M224.352 280.164 Q220.741 280.164 218.912 283.729 Q217.107 287.27 217.107 294.4 Q217.107 301.506 218.912 305.071 Q220.741 308.613 224.352 308.613 Q227.986 308.613 229.792 305.071 Q231.621 301.506 231.621 294.4 Q231.621 287.27 229.792 283.729 Q227.986 280.164 224.352 280.164 M224.352 276.46 Q230.162 276.46 233.218 281.067 Q236.297 285.65 236.297 294.4 Q236.297 303.127 233.218 307.733 Q230.162 312.317 224.352 312.317 Q218.542 312.317 215.463 307.733 Q212.408 303.127 212.408 294.4 Q212.408 285.65 215.463 281.067 Q218.542 276.46 224.352 276.46 Z\" fill=\"#000000\" fill-rule=\"evenodd\" fill-opacity=\"1\" /><path clip-path=\"url(#clip070)\" d=\"M67.3143 826.336 Q73.68 828.819 75.6216 831.174 Q77.5631 833.53 77.5631 837.476 L77.5631 842.155 L72.6615 842.155 L72.6615 838.718 Q72.6615 836.299 71.5157 834.962 Q70.3699 833.625 66.1048 832.002 L63.4312 830.952 L28.3562 845.37 L28.3562 839.163 L56.238 828.023 L28.3562 816.883 L28.3562 810.677 L67.3143 826.336 Z\" fill=\"#000000\" fill-rule=\"evenodd\" fill-opacity=\"1\" /><path clip-path=\"url(#clip070)\" d=\"M14.479 782.413 L14.479 768.918 L19.0304 768.918 L19.0304 776.557 L68.0464 776.557 L68.0464 768.918 L72.5979 768.918 L72.5979 782.413 L14.479 782.413 Z\" fill=\"#000000\" fill-rule=\"evenodd\" fill-opacity=\"1\" /><path clip-path=\"url(#clip070)\" d=\"M58.5933 754.499 L58.5933 743.996 L22.3406 743.996 L24.6323 755.422 L18.7758 755.422 L16.4842 744.06 L16.4842 737.63 L58.5933 737.63 L58.5933 727.127 L64.0042 727.127 L64.0042 754.499 L58.5933 754.499 Z\" fill=\"#000000\" fill-rule=\"evenodd\" fill-opacity=\"1\" /><path clip-path=\"url(#clip070)\" d=\"M14.479 701.282 L72.5979 701.282 L72.5979 714.777 L68.0464 714.777 L68.0464 707.17 L19.0304 707.17 L19.0304 714.777 L14.479 714.777 L14.479 701.282 Z\" fill=\"#000000\" fill-rule=\"evenodd\" fill-opacity=\"1\" /><path clip-path=\"url(#clip070)\" d=\"M1152.43 9.62495 Q1147.01 18.942 1144.37 28.0566 Q1141.74 37.1711 1141.74 46.5287 Q1141.74 55.8863 1144.37 65.0818 Q1147.05 74.2369 1152.43 83.5134 L1145.95 83.5134 Q1139.88 73.9938 1136.84 64.7983 Q1133.84 55.6027 1133.84 46.5287 Q1133.84 37.4952 1136.84 28.3401 Q1139.84 19.1851 1145.95 9.62495 L1152.43 9.62495 Z\" fill=\"#000000\" fill-rule=\"evenodd\" fill-opacity=\"1\" /><path clip-path=\"url(#clip070)\" d=\"M1204.61 27.2059 L1188.2 49.2833 L1205.46 72.576 L1196.67 72.576 L1183.46 54.752 L1170.26 72.576 L1161.47 72.576 L1179.09 48.8377 L1162.97 27.2059 L1171.76 27.2059 L1183.79 43.369 L1195.82 27.2059 L1204.61 27.2059 Z\" fill=\"#000000\" fill-rule=\"evenodd\" fill-opacity=\"1\" /><path clip-path=\"url(#clip070)\" d=\"M1238.6 46.5287 L1260.43 46.5287 L1260.43 53.1722 L1238.6 53.1722 L1238.6 46.5287 Z\" fill=\"#000000\" fill-rule=\"evenodd\" fill-opacity=\"1\" /><path clip-path=\"url(#clip070)\" d=\"M1301.14 65.6895 L1314.51 65.6895 L1314.51 19.5497 L1299.97 22.4663 L1299.97 15.0127 L1314.43 12.096 L1322.61 12.096 L1322.61 65.6895 L1335.98 65.6895 L1335.98 72.576 L1301.14 72.576 L1301.14 65.6895 Z\" fill=\"#000000\" fill-rule=\"evenodd\" fill-opacity=\"1\" /><path clip-path=\"url(#clip070)\" d=\"M1350.28 9.62495 L1356.76 9.62495 Q1362.84 19.1851 1365.84 28.3401 Q1368.87 37.4952 1368.87 46.5287 Q1368.87 55.6027 1365.84 64.7983 Q1362.84 73.9938 1356.76 83.5134 L1350.28 83.5134 Q1355.67 74.2369 1358.3 65.0818 Q1360.98 55.8863 1360.98 46.5287 Q1360.98 37.1711 1358.3 28.0566 Q1355.67 18.942 1350.28 9.62495 Z\" fill=\"#000000\" fill-rule=\"evenodd\" fill-opacity=\"1\" /><path clip-path=\"url(#clip070)\" d=\"M1414.73 12.096 L1436.73 34.6595 L1428.58 34.6595 L1410.76 18.6585 L1392.94 34.6595 L1384.79 34.6595 L1406.79 12.096 L1414.73 12.096 Z\" fill=\"#000000\" fill-rule=\"evenodd\" fill-opacity=\"1\" /><path clip-path=\"url(#clip070)\" d=\"M1452.32 12.096 L1491.21 12.096 L1491.21 15.5798 L1469.26 72.576 L1460.71 72.576 L1481.37 18.9825 L1452.32 18.9825 L1452.32 12.096 Z\" fill=\"#000000\" fill-rule=\"evenodd\" fill-opacity=\"1\" /><polyline clip-path=\"url(#clip072)\" style=\"stroke:#009af9; stroke-linecap:butt; stroke-linejoin:round; stroke-width:4; stroke-opacity:1; fill:none\" points=\"\n",
       "  331.177,1386.4 335.969,1365.75 340.761,1345.69 345.553,1326.23 350.345,1307.33 372.499,1226.99 394.652,1157.23 416.806,1096.88 438.96,1044.86 461.113,1000.17 \n",
       "  483.267,961.942 505.421,929.374 527.575,901.75 554.202,874.189 580.828,851.862 607.455,833.912 634.082,819.601 679.108,801.94 724.133,790.403 821.954,778.109 \n",
       "  912.136,774.48 1008.82,773.493 1120.84,773.333 1220.39,773.326 1307.68,773.326 1402.86,773.326 1498.6,773.321 1604.45,773.2 1705.17,772.32 1809.89,768.06 \n",
       "  1898.05,756.824 1951.86,742.788 2005.67,719.558 2030.97,704.225 2056.26,685.289 2081.55,662.067 2106.85,633.782 2127.11,606.876 2147.37,575.642 2167.63,539.513 \n",
       "  2187.89,497.865 2208.15,450.014 2228.41,395.208 2248.67,332.624 2268.93,261.364 2275.17,237.535 2281.4,212.761 2287.64,187.012 2293.87,160.256 \n",
       "  \"/>\n",
       "</svg>\n"
      ]
     },
     "execution_count": 23,
     "metadata": {},
     "output_type": "execute_result"
    }
   ],
   "source": [
    "plot(f6, -1, 3, xlab=\"x [1]\", ylab=\"y [1]\", label=\"\", title=\"(x - 1)^7\")"
   ]
  },
  {
   "cell_type": "code",
   "execution_count": 24,
   "id": "e011b7b9",
   "metadata": {
    "scrolled": false
   },
   "outputs": [
    {
     "data": {
      "text/plain": [
       "Results of univariate zero finding:\n",
       "\n",
       "* Converged to: 0.983422653204087\n",
       "* Algorithm: FalsePosition{:anderson_bjork}()\n",
       "* iterations: 40\n",
       "* function evaluations ≈ 42\n",
       "\n",
       "Trace:\n",
       "x₁ = 0,\t fx₁ = -1\n",
       "x₂ = 3,\t fx₂ = 128\n",
       "x₃ = 0.023255813953488413,\t fx₃ = -0.84813667581153707\n",
       "x₄ = 0.0428500896941384,\t fx₄ = -0.73596937147355734\n",
       "x₅ = 0.16605846167149679,\t fx₅ = -0.28051057924708173\n",
       "x₆ = 0.2399618867241059,\t fx₆ = -0.14650336443183945\n",
       "x₇ = 0.31845894029425714,\t fx₇ = -0.068303691571876518\n",
       "x₈ = 0.38531301008572028,\t fx₈ = -0.033157222870663326\n",
       "x₉ = 0.44689770753223368,\t fx₉ = -0.015835734418894073\n",
       "x₁₀ = 0.50198515042378333,\t fx₁₀ = -0.0075979432916675636\n",
       "x₁₁ = 0.55178099854459339,\t fx₁₁ = -0.0036343926555306256\n",
       "x₁₂ = 0.59660548983223605,\t fx₁₂ = -0.0017382405817845477\n",
       "x₁₃ = 0.63700625552872203,\t fx₁₃ = -0.0008304127064310765\n",
       "x₁₄ = 0.67339277938926501,\t fx₁₄ = -0.0003964427435927322\n",
       "x₁₅ = 0.70616459852488112,\t fx₁₅ = -0.00018911624265572277\n",
       "x₁₆ = 0.73567338717228314,\t fx₁₆ = -9.0154256391219376e-05\n",
       "x₁₇ = 0.76224045118011197,\t fx₁₇ = -4.2950257870593721e-05\n",
       "x₁₈ = 0.78615511711887898,\t fx₁₈ = -2.0449939948811293e-05\n",
       "x₁₉ = 0.80767919812341604,\t fx₁₉ = -9.7315905442006923e-06\n",
       "x₂₀ = 0.82704905238514903,\t fx₂₀ = -4.6287169198452833e-06\n",
       "x₂₁ = 0.84447814069060101,\t fx₂₁ = -2.2005947783607544e-06\n",
       "x₂₂ = 0.86015912308663423,\t fx₂₂ = -1.0457767221789241e-06\n",
       "x₂₃ = 0.87426584623260117,\t fx₂₃ = -4.9678999667567043e-07\n",
       "x₂₄ = 0.88695512423634926,\t fx₂₄ = -2.3591533195959281e-07\n",
       "x₂₅ = 0.89836836689172572,\t fx₂₅ = -1.1199595306611164e-07\n",
       "x₂₆ = 0.9086330558853406,\t fx₂₆ = -5.3152500141256765e-08\n",
       "x₂₇ = 0.91786408624608118,\t fx₂₇ = -2.5219220038866719e-08\n",
       "x₂₈ = 0.92616498318987872,\t fx₂₈ = -1.1962904799575981e-08\n",
       "x₂₉ = 0.9336290056790858,\t fx₂₉ = -5.6734635337581518e-09\n",
       "x₃₀ = 0.94034014644375874,\t fx₃₀ = -2.6901424703968077e-09\n",
       "x₃₁ = 0.94637403767077632,\t fx₃₁ = -1.2753391489492271e-09\n",
       "x₃₂ = 0.95179877075035091,\t fx₃₂ = -6.0451460480665837e-10\n",
       "x₃₃ = 0.9566756378189637,\t fx₃₃ = -2.8650040775857118e-10\n",
       "x₃₄ = 0.96105980219523712,\t fx₃₄ = -1.3576476522833122e-10\n",
       "x₃₅ = 0.96500090422030649,\t fx₃₅ = -6.4327662397008689e-11\n",
       "x₃₆ = 0.96854360846596754,\t fx₃₆ = -3.0476305094355937e-11\n",
       "x₃₇ = 0.97172809776621238,\t fx₃₇ = -1.4437274449982703e-11\n",
       "x₃₈ = 0.97459051905650129,\t fx₃₈ = -6.8386527929888076e-12\n",
       "x₃₉ = 0.97716338556907401,\t fx₃₉ = -3.2390826951021448e-12\n",
       "x₄₀ = 0.97947593952966716,\t fx₄₀ = -1.5340623060513423e-12\n",
       "x₄₁ = 0.98155447912945892,\t fx₄₁ = -7.2650141479072998e-13\n",
       "x₄₂ = 0.98342265320408695,\t fx₄₂ = -3.4403700688634019e-13\n",
       "\n"
      ]
     },
     "metadata": {},
     "output_type": "display_data"
    },
    {
     "data": {
      "text/plain": [
       "Results of univariate zero finding:\n",
       "\n",
       "* Converged to: 0.9938233080518548\n",
       "* Algorithm: Roots.Newton()\n",
       "* iterations: 33\n",
       "* function evaluations ≈ 66\n",
       "* stopped as |f(x_n)| ≤ max(δ, |x|⋅ϵ) using δ = atol, ϵ = rtol\n",
       "\n",
       "Trace:\n",
       "x₁ = 0,\t fx₁ = -1\n",
       "x₂ = 0.14285714285714285,\t fx₂ = -0.33991667708911394\n",
       "x₃ = 0.26530612244897961,\t fx₃ = -0.11554334736330474\n",
       "x₄ = 0.37026239067055394,\t fx₄ = -0.03927511069548776\n",
       "x₅ = 0.46022490628904622,\t fx₅ = -0.013350265119917321\n",
       "x₆ = 0.53733563396203965,\t fx₆ = -0.0045379777578209921\n",
       "x₇ = 0.60343054339603397,\t fx₇ = -0.0015425343201428191\n",
       "x₈ = 0.66008332291088623,\t fx₈ = -0.00052433314039886255\n",
       "x₉ = 0.7086428482093311,\t fx₉ = -0.00017822957877208092\n",
       "x₁₀ = 0.7502652984651409,\t fx₁₀ = -6.0583206175198271e-05\n",
       "x₁₁ = 0.78594168439869216,\t fx₁₁ = -2.0593242130478093e-05\n",
       "x₁₂ = 0.81652144377030755,\t fx₁₂ = -6.9999864354836591e-06\n",
       "x₁₃ = 0.84273266608883501,\t fx₁₃ = -2.3794121288184786e-06\n",
       "x₁₄ = 0.86519942807614425,\t fx₁₄ = -8.0880186425351355e-07\n",
       "x₁₅ = 0.88445665263669504,\t fx₁₅ = -2.7492524212053532e-07\n",
       "x₁₆ = 0.90096284511716718,\t fx₁₆ = -9.3451674749532405e-08\n",
       "x₁₇ = 0.91511101010042906,\t fx₁₇ = -3.1765782749273564e-08\n",
       "x₁₈ = 0.9272380086575106,\t fx₁₈ = -1.0797719317267779e-08\n",
       "x₁₉ = 0.93763257884929485,\t fx₁₉ = -3.670324870466578e-09\n",
       "x₂₀ = 0.94654221044225273,\t fx₂₀ = -1.247604633806531e-09\n",
       "x₂₁ = 0.9541790375219309,\t fx₂₁ = -4.2408162144449762e-10\n",
       "x₂₂ = 0.96072488930451216,\t fx₂₂ = -1.441524155759779e-10\n",
       "x₂₃ = 0.96633561940386759,\t fx₂₃ = -4.8999810096955247e-11\n",
       "x₂₄ = 0.97114481663188645,\t fx₂₄ = -1.6655852626154825e-11\n",
       "x₂₅ = 0.97526698568447412,\t fx₂₅ = -5.6616020787685109e-12\n",
       "x₂₆ = 0.97880027344383491,\t fx₂₆ = -1.9244729656158414e-12\n",
       "x₂₇ = 0.98182880580900134,\t fx₂₇ = -6.5416045561997299e-13\n",
       "x₂₈ = 0.98442469069342975,\t fx₂₈ = -2.2236004835743872e-13\n",
       "x₂₉ = 0.98664973488008267,\t fx₂₉ = -7.5583888755033955e-14\n",
       "x₃₀ = 0.98855691561149939,\t fx₃₀ = -2.5692224307085119e-14\n",
       "x₃₁ = 0.99019164195271381,\t fx₃₁ = -8.7332155134922347e-15\n",
       "x₃₂ = 0.99159283595946901,\t fx₃₂ = -2.9685655976493002e-15\n",
       "x₃₃ = 0.99279385939383058,\t fx₃₃ = -1.0090649536740092e-15\n",
       "x₃₄ = 0.99382330805185481,\t fx₃₄ = -3.4299800601993736e-16\n",
       "\n"
      ]
     },
     "metadata": {},
     "output_type": "display_data"
    },
    {
     "data": {
      "text/plain": [
       "Results of univariate zero finding:\n",
       "\n",
       "* Converged to: 0.9865580170713792\n",
       "* Algorithm: Secant()\n",
       "* iterations: 40\n",
       "* function evaluations ≈ 42\n",
       "\n",
       "Trace:\n",
       "x₁ = 6.0554544523933395e-06,\t fx₁ = -0.9999576125888644\n",
       "x₂ = 0,\t fx₂ = -1\n",
       "x₃ = 0.14285973807225885,\t fx₃ = -0.33990947287321355\n",
       "x₄ = 0.21642446331428594,\t fx₄ = -0.1813702625538253\n",
       "x₅ = 0.30058316137369456,\t fx₅ = -0.081875240159861973\n",
       "x₆ = 0.36983801904759422,\t fx₆ = -0.039460754412856125\n",
       "x₇ = 0.43426999039973957,\t fx₇ = -0.018546609072015573\n",
       "x₈ = 0.49140809310164607,\t fx₈ = -0.0088020962960889248\n",
       "x₉ = 0.54302022535729633,\t fx₉ = -0.0041617774635777137\n",
       "x₁₀ = 0.5893097620511607,\t fx₁₀ = -0.0019706098941453969\n",
       "x₁₁ = 0.63093990493793606,\t fx₁₁ = -0.00093256610145046361\n",
       "x₁₂ = 0.6683399263319808,\t fx₁₂ = -0.00044142034927470685\n",
       "x₁₃ = 0.70195343196346782,\t fx₁₃ = -0.00020892426235644384\n",
       "x₁₄ = 0.73215900214040375,\t fx₁₄ = -9.8887040655527031e-05\n",
       "x₁₅ = 0.75930381186877538,\t fx₁₅ = -4.6804163449333489e-05\n",
       "x₁₆ = 0.78369743563687011,\t fx₁₆ = -2.2152955625547021e-05\n",
       "x₁₇ = 0.8056189118072774,\t fx₁₇ = -1.0485232466340562e-05\n",
       "x₁₈ = 0.82531870846132294,\t fx₁₈ = -4.9627769916186816e-06\n",
       "x₁₉ = 0.84302201055615555,\t fx₁₉ = -2.3489368260848753e-06\n",
       "x₂₀ = 0.85893114638710089,\t fx₂₀ = -1.1117777023314805e-06\n",
       "x₂₁ = 0.87322795117203933,\t fx₂₁ = -5.2621662482354959e-07\n",
       "x₂₂ = 0.8860758275911983,\t fx₂₂ = -2.490641250121354e-07\n",
       "x₂₃ = 0.89762161953166153,\t fx₂₃ = -1.178847931846179e-07\n",
       "x₂₄ = 0.90799728829054616,\t fx₂₄ = -5.5796170951583217e-08\n",
       "x₂₅ = 0.9173214215533988,\t fx₂₅ = -2.6408942204588513e-08\n",
       "x₂₆ = 0.92570058852305526,\t fx₂₆ = -1.2499643196244249e-08\n",
       "x₂₇ = 0.93323055803047827,\t fx₂₇ = -5.9162187868690513e-09\n",
       "x₂₈ = 0.93999739308381725,\t fx₂₈ = -2.8002115089541522e-09\n",
       "x₂₉ = 0.94607843452741547,\t fx₂₉ = -1.3253709467478543e-09\n",
       "x₃₀ = 0.95154318499729529,\t fx₃₀ = -6.2731266580400359e-10\n",
       "x₃₁ = 0.95645410329566261,\t fx₃₁ = -2.9691399350690495e-10\n",
       "x₃₂ = 0.96086731825689953,\t fx₃₂ = -1.4053266312953033e-10\n",
       "x₃₃ = 0.96483327026644605,\t fx₃₃ = -6.6515657187474011e-11\n",
       "x₃₄ = 0.96839728776393141,\t fx₃₄ = -3.1482593103671633e-11\n",
       "x₃₅ = 0.97160010531992058,\t fx₃₅ = -1.4901058043187095e-11\n",
       "x₃₆ = 0.97447832920748256,\t fx₃₆ = -7.0528348816520733e-12\n",
       "x₃₇ = 0.97706485578981672,\t fx₃₇ = -3.3381844244671838e-12\n",
       "x₃₈ = 0.97938924750584422,\t fx₃₈ = -1.5799994525243626e-12\n",
       "x₃₉ = 0.98147807075105564,\t fx₃₉ = -7.4783114188659988e-13\n",
       "x₄₀ = 0.98335519951539008,\t fx₄₀ = -3.5395671554308929e-13\n",
       "x₄₁ = 0.98504208824854134,\t fx₄₁ = -1.6753161169777762e-13\n",
       "x₄₂ = 0.98655801707137925,\t fx₄₂ = -7.9294556892333009e-14\n",
       "\n"
      ]
     },
     "metadata": {},
     "output_type": "display_data"
    },
    {
     "data": {
      "text/plain": [
       "Algorithm has not been run"
      ]
     },
     "execution_count": 24,
     "metadata": {},
     "output_type": "execute_result"
    }
   ],
   "source": [
    "test(f6, -1, 3)"
   ]
  },
  {
   "cell_type": "code",
   "execution_count": 25,
   "id": "1323669b",
   "metadata": {},
   "outputs": [
    {
     "data": {
      "text/html": [
       "<div class=\"data-frame\"><p>17 rows × 6 columns</p><table class=\"data-frame\"><thead><tr><th></th><th>f</th><th>method</th><th>iterations</th><th>calls</th><th>x_zero</th><th>isZero</th></tr><tr><th></th><th title=\"String\">String</th><th title=\"String\">String</th><th title=\"Int64\">Int64</th><th title=\"Int64\">Int64</th><th title=\"Float64\">Float64</th><th title=\"Bool\">Bool</th></tr></thead><tbody><tr><th>1</th><td>sin(x) - x/2</td><td>interval</td><td>9</td><td>11</td><td>1.89549</td><td>1</td></tr><tr><th>2</th><td>sin(x) - x/2</td><td>derivative</td><td>1</td><td>2</td><td>0.0</td><td>1</td></tr><tr><th>3</th><td>sin(x) - x/2</td><td>derivativeApprox</td><td>0</td><td>2</td><td>0.0</td><td>1</td></tr><tr><th>4</th><td>x * exp(-x)</td><td>interval</td><td>40</td><td>42</td><td>9.09495e-12</td><td>0</td></tr><tr><th>5</th><td>x * exp(-x)</td><td>derivative</td><td>1</td><td>2</td><td>0.0</td><td>1</td></tr><tr><th>6</th><td>x * exp(-x)</td><td>derivativeApprox</td><td>0</td><td>2</td><td>0.0</td><td>1</td></tr><tr><th>7</th><td>(x + 3) * (x - 1)^2</td><td>interval</td><td>8</td><td>10</td><td>-3.0</td><td>1</td></tr><tr><th>8</th><td>(x + 3) * (x - 1)^2</td><td>derivative</td><td>26</td><td>52</td><td>1.0</td><td>0</td></tr><tr><th>9</th><td>(x + 3) * (x - 1)^2</td><td>derivativeApprox</td><td>37</td><td>39</td><td>1.0</td><td>0</td></tr><tr><th>10</th><td>x^3</td><td>interval</td><td>18</td><td>20</td><td>7.62939e-6</td><td>0</td></tr><tr><th>11</th><td>x^3</td><td>derivativeApprox</td><td>0</td><td>2</td><td>0.0</td><td>1</td></tr><tr><th>12</th><td>x^3 - 2 * x - 5</td><td>interval</td><td>11</td><td>13</td><td>2.09455</td><td>0</td></tr><tr><th>13</th><td>x^3 - 2 * x - 5</td><td>derivative</td><td>19</td><td>38</td><td>2.09455</td><td>0</td></tr><tr><th>14</th><td>x^3 - 2 * x - 5</td><td>derivativeApprox</td><td>12</td><td>14</td><td>2.09455</td><td>0</td></tr><tr><th>15</th><td>(x - 1)^7</td><td>interval</td><td>40</td><td>42</td><td>0.983423</td><td>0</td></tr><tr><th>16</th><td>(x - 1)^7</td><td>derivative</td><td>33</td><td>66</td><td>0.993823</td><td>0</td></tr><tr><th>17</th><td>(x - 1)^7</td><td>derivativeApprox</td><td>40</td><td>42</td><td>0.986558</td><td>0</td></tr></tbody></table></div>"
      ],
      "text/latex": [
       "\\begin{tabular}{r|cccccc}\n",
       "\t& f & method & iterations & calls & x\\_zero & isZero\\\\\n",
       "\t\\hline\n",
       "\t& String & String & Int64 & Int64 & Float64 & Bool\\\\\n",
       "\t\\hline\n",
       "\t1 & sin(x) - x/2 & interval & 9 & 11 & 1.89549 & 1 \\\\\n",
       "\t2 & sin(x) - x/2 & derivative & 1 & 2 & 0.0 & 1 \\\\\n",
       "\t3 & sin(x) - x/2 & derivativeApprox & 0 & 2 & 0.0 & 1 \\\\\n",
       "\t4 & x * exp(-x) & interval & 40 & 42 & 9.09495e-12 & 0 \\\\\n",
       "\t5 & x * exp(-x) & derivative & 1 & 2 & 0.0 & 1 \\\\\n",
       "\t6 & x * exp(-x) & derivativeApprox & 0 & 2 & 0.0 & 1 \\\\\n",
       "\t7 & (x + 3) * (x - 1)\\^2 & interval & 8 & 10 & -3.0 & 1 \\\\\n",
       "\t8 & (x + 3) * (x - 1)\\^2 & derivative & 26 & 52 & 1.0 & 0 \\\\\n",
       "\t9 & (x + 3) * (x - 1)\\^2 & derivativeApprox & 37 & 39 & 1.0 & 0 \\\\\n",
       "\t10 & x\\^3 & interval & 18 & 20 & 7.62939e-6 & 0 \\\\\n",
       "\t11 & x\\^3 & derivativeApprox & 0 & 2 & 0.0 & 1 \\\\\n",
       "\t12 & x\\^3 - 2 * x - 5 & interval & 11 & 13 & 2.09455 & 0 \\\\\n",
       "\t13 & x\\^3 - 2 * x - 5 & derivative & 19 & 38 & 2.09455 & 0 \\\\\n",
       "\t14 & x\\^3 - 2 * x - 5 & derivativeApprox & 12 & 14 & 2.09455 & 0 \\\\\n",
       "\t15 & (x - 1)\\^7 & interval & 40 & 42 & 0.983423 & 0 \\\\\n",
       "\t16 & (x - 1)\\^7 & derivative & 33 & 66 & 0.993823 & 0 \\\\\n",
       "\t17 & (x - 1)\\^7 & derivativeApprox & 40 & 42 & 0.986558 & 0 \\\\\n",
       "\\end{tabular}\n"
      ],
      "text/plain": [
       "\u001b[1m17×6 DataFrame\u001b[0m\n",
       "\u001b[1m Row \u001b[0m│\u001b[1m f                   \u001b[0m\u001b[1m method           \u001b[0m\u001b[1m iterations \u001b[0m\u001b[1m calls \u001b[0m\u001b[1m x_zero       \u001b[0m\u001b[1m\u001b[0m ⋯\n",
       "\u001b[1m     \u001b[0m│\u001b[90m String              \u001b[0m\u001b[90m String           \u001b[0m\u001b[90m Int64      \u001b[0m\u001b[90m Int64 \u001b[0m\u001b[90m Float64      \u001b[0m\u001b[90m\u001b[0m ⋯\n",
       "─────┼──────────────────────────────────────────────────────────────────────────\n",
       "   1 │ sin(x) - x/2         interval                   9     11   1.89549      ⋯\n",
       "   2 │ sin(x) - x/2         derivative                 1      2   0.0\n",
       "   3 │ sin(x) - x/2         derivativeApprox           0      2   0.0\n",
       "   4 │ x * exp(-x)          interval                  40     42   9.09495e-12\n",
       "   5 │ x * exp(-x)          derivative                 1      2   0.0          ⋯\n",
       "   6 │ x * exp(-x)          derivativeApprox           0      2   0.0\n",
       "   7 │ (x + 3) * (x - 1)^2  interval                   8     10  -3.0\n",
       "   8 │ (x + 3) * (x - 1)^2  derivative                26     52   1.0\n",
       "   9 │ (x + 3) * (x - 1)^2  derivativeApprox          37     39   1.0          ⋯\n",
       "  10 │ x^3                  interval                  18     20   7.62939e-6\n",
       "  11 │ x^3                  derivativeApprox           0      2   0.0\n",
       "  12 │ x^3 - 2 * x - 5      interval                  11     13   2.09455\n",
       "  13 │ x^3 - 2 * x - 5      derivative                19     38   2.09455      ⋯\n",
       "  14 │ x^3 - 2 * x - 5      derivativeApprox          12     14   2.09455\n",
       "  15 │ (x - 1)^7            interval                  40     42   0.983423\n",
       "  16 │ (x - 1)^7            derivative                33     66   0.993823\n",
       "  17 │ (x - 1)^7            derivativeApprox          40     42   0.986558     ⋯\n",
       "\u001b[36m                                                                1 column omitted\u001b[0m"
      ]
     },
     "execution_count": 25,
     "metadata": {},
     "output_type": "execute_result"
    }
   ],
   "source": [
    "push!(df, [\"(x - 1)^7\" \"interval\" 40 42 0.983422653204087 iszero(f6(0.983422653204087))])\n",
    "push!(df, [\"(x - 1)^7\" \"derivative\" 33 66 0.9938233080518548 iszero(f6(0.9938233080518548))])\n",
    "push!(df, [\"(x - 1)^7\" \"derivativeApprox\" 40 42 0.9865580170713792 iszero(f6(0.9865580170713792))])"
   ]
  },
  {
   "cell_type": "markdown",
   "id": "4ee099f8",
   "metadata": {},
   "source": [
    "## zad.2\n",
    "Zademonstrować wybrany, ciekawy przykład trudnej funkcji z p.1 i działania metod na niej."
   ]
  },
  {
   "cell_type": "markdown",
   "id": "b042a4b3",
   "metadata": {},
   "source": [
    "$f(x) = x \\cdot e^{-x}$"
   ]
  },
  {
   "cell_type": "code",
   "execution_count": 26,
   "id": "ce9d5113",
   "metadata": {},
   "outputs": [
    {
     "data": {
      "text/plain": [
       "DD (generic function with 1 method)"
      ]
     },
     "execution_count": 26,
     "metadata": {},
     "output_type": "execute_result"
    }
   ],
   "source": [
    "f(x) = x * exp(-x)\n",
    "D(f) = x -> ForwardDiff.derivative(f, float(x))\n",
    "DD(f) = x -> ForwardDiff.derivative(D(f), float(x))"
   ]
  },
  {
   "cell_type": "code",
   "execution_count": 27,
   "id": "e18e98d5",
   "metadata": {
    "scrolled": false
   },
   "outputs": [
    {
     "data": {
      "image/svg+xml": [
       "<?xml version=\"1.0\" encoding=\"utf-8\"?>\n",
       "<svg xmlns=\"http://www.w3.org/2000/svg\" xmlns:xlink=\"http://www.w3.org/1999/xlink\" width=\"600\" height=\"400\" viewBox=\"0 0 2400 1600\">\n",
       "<defs>\n",
       "  <clipPath id=\"clip110\">\n",
       "    <rect x=\"0\" y=\"0\" width=\"2400\" height=\"1600\"/>\n",
       "  </clipPath>\n",
       "</defs>\n",
       "<path clip-path=\"url(#clip110)\" d=\"\n",
       "M0 1600 L2400 1600 L2400 0 L0 0  Z\n",
       "  \" fill=\"#ffffff\" fill-rule=\"evenodd\" fill-opacity=\"1\"/>\n",
       "<defs>\n",
       "  <clipPath id=\"clip111\">\n",
       "    <rect x=\"480\" y=\"0\" width=\"1681\" height=\"1600\"/>\n",
       "  </clipPath>\n",
       "</defs>\n",
       "<path clip-path=\"url(#clip110)\" d=\"\n",
       "M242.135 1423.18 L2352.76 1423.18 L2352.76 123.472 L242.135 123.472  Z\n",
       "  \" fill=\"#ffffff\" fill-rule=\"evenodd\" fill-opacity=\"1\"/>\n",
       "<defs>\n",
       "  <clipPath id=\"clip112\">\n",
       "    <rect x=\"242\" y=\"123\" width=\"2112\" height=\"1301\"/>\n",
       "  </clipPath>\n",
       "</defs>\n",
       "<polyline clip-path=\"url(#clip112)\" style=\"stroke:#000000; stroke-linecap:butt; stroke-linejoin:round; stroke-width:2; stroke-opacity:0.1; fill:none\" points=\"\n",
       "  633.728,1423.18 633.728,123.472 \n",
       "  \"/>\n",
       "<polyline clip-path=\"url(#clip112)\" style=\"stroke:#000000; stroke-linecap:butt; stroke-linejoin:round; stroke-width:2; stroke-opacity:0.1; fill:none\" points=\"\n",
       "  1048.55,1423.18 1048.55,123.472 \n",
       "  \"/>\n",
       "<polyline clip-path=\"url(#clip112)\" style=\"stroke:#000000; stroke-linecap:butt; stroke-linejoin:round; stroke-width:2; stroke-opacity:0.1; fill:none\" points=\"\n",
       "  1463.37,1423.18 1463.37,123.472 \n",
       "  \"/>\n",
       "<polyline clip-path=\"url(#clip112)\" style=\"stroke:#000000; stroke-linecap:butt; stroke-linejoin:round; stroke-width:2; stroke-opacity:0.1; fill:none\" points=\"\n",
       "  1878.2,1423.18 1878.2,123.472 \n",
       "  \"/>\n",
       "<polyline clip-path=\"url(#clip112)\" style=\"stroke:#000000; stroke-linecap:butt; stroke-linejoin:round; stroke-width:2; stroke-opacity:0.1; fill:none\" points=\"\n",
       "  2293.02,1423.18 2293.02,123.472 \n",
       "  \"/>\n",
       "<polyline clip-path=\"url(#clip110)\" style=\"stroke:#000000; stroke-linecap:butt; stroke-linejoin:round; stroke-width:4; stroke-opacity:1; fill:none\" points=\"\n",
       "  242.135,1423.18 2352.76,1423.18 \n",
       "  \"/>\n",
       "<polyline clip-path=\"url(#clip110)\" style=\"stroke:#000000; stroke-linecap:butt; stroke-linejoin:round; stroke-width:4; stroke-opacity:1; fill:none\" points=\"\n",
       "  633.728,1423.18 633.728,1404.28 \n",
       "  \"/>\n",
       "<polyline clip-path=\"url(#clip110)\" style=\"stroke:#000000; stroke-linecap:butt; stroke-linejoin:round; stroke-width:4; stroke-opacity:1; fill:none\" points=\"\n",
       "  1048.55,1423.18 1048.55,1404.28 \n",
       "  \"/>\n",
       "<polyline clip-path=\"url(#clip110)\" style=\"stroke:#000000; stroke-linecap:butt; stroke-linejoin:round; stroke-width:4; stroke-opacity:1; fill:none\" points=\"\n",
       "  1463.37,1423.18 1463.37,1404.28 \n",
       "  \"/>\n",
       "<polyline clip-path=\"url(#clip110)\" style=\"stroke:#000000; stroke-linecap:butt; stroke-linejoin:round; stroke-width:4; stroke-opacity:1; fill:none\" points=\"\n",
       "  1878.2,1423.18 1878.2,1404.28 \n",
       "  \"/>\n",
       "<polyline clip-path=\"url(#clip110)\" style=\"stroke:#000000; stroke-linecap:butt; stroke-linejoin:round; stroke-width:4; stroke-opacity:1; fill:none\" points=\"\n",
       "  2293.02,1423.18 2293.02,1404.28 \n",
       "  \"/>\n",
       "<path clip-path=\"url(#clip110)\" d=\"M611.112 1454.1 Q607.501 1454.1 605.673 1457.66 Q603.867 1461.2 603.867 1468.33 Q603.867 1475.44 605.673 1479.01 Q607.501 1482.55 611.112 1482.55 Q614.747 1482.55 616.552 1479.01 Q618.381 1475.44 618.381 1468.33 Q618.381 1461.2 616.552 1457.66 Q614.747 1454.1 611.112 1454.1 M611.112 1450.39 Q616.922 1450.39 619.978 1455 Q623.057 1459.58 623.057 1468.33 Q623.057 1477.06 619.978 1481.67 Q616.922 1486.25 611.112 1486.25 Q605.302 1486.25 602.223 1481.67 Q599.168 1477.06 599.168 1468.33 Q599.168 1459.58 602.223 1455 Q605.302 1450.39 611.112 1450.39 Z\" fill=\"#000000\" fill-rule=\"evenodd\" fill-opacity=\"1\" /><path clip-path=\"url(#clip110)\" d=\"M631.274 1479.7 L636.158 1479.7 L636.158 1485.58 L631.274 1485.58 L631.274 1479.7 Z\" fill=\"#000000\" fill-rule=\"evenodd\" fill-opacity=\"1\" /><path clip-path=\"url(#clip110)\" d=\"M656.344 1454.1 Q652.732 1454.1 650.904 1457.66 Q649.098 1461.2 649.098 1468.33 Q649.098 1475.44 650.904 1479.01 Q652.732 1482.55 656.344 1482.55 Q659.978 1482.55 661.783 1479.01 Q663.612 1475.44 663.612 1468.33 Q663.612 1461.2 661.783 1457.66 Q659.978 1454.1 656.344 1454.1 M656.344 1450.39 Q662.154 1450.39 665.209 1455 Q668.288 1459.58 668.288 1468.33 Q668.288 1477.06 665.209 1481.67 Q662.154 1486.25 656.344 1486.25 Q650.533 1486.25 647.455 1481.67 Q644.399 1477.06 644.399 1468.33 Q644.399 1459.58 647.455 1455 Q650.533 1450.39 656.344 1450.39 Z\" fill=\"#000000\" fill-rule=\"evenodd\" fill-opacity=\"1\" /><path clip-path=\"url(#clip110)\" d=\"M1020.29 1481.64 L1036.61 1481.64 L1036.61 1485.58 L1014.66 1485.58 L1014.66 1481.64 Q1017.32 1478.89 1021.91 1474.26 Q1026.51 1469.61 1027.69 1468.27 Q1029.94 1465.74 1030.82 1464.01 Q1031.72 1462.25 1031.72 1460.56 Q1031.72 1457.8 1029.78 1456.07 Q1027.86 1454.33 1024.76 1454.33 Q1022.56 1454.33 1020.1 1455.09 Q1017.67 1455.86 1014.89 1457.41 L1014.89 1452.69 Q1017.72 1451.55 1020.17 1450.97 Q1022.63 1450.39 1024.66 1450.39 Q1030.03 1450.39 1033.23 1453.08 Q1036.42 1455.77 1036.42 1460.26 Q1036.42 1462.39 1035.61 1464.31 Q1034.82 1466.2 1032.72 1468.8 Q1032.14 1469.47 1029.04 1472.69 Q1025.94 1475.88 1020.29 1481.64 Z\" fill=\"#000000\" fill-rule=\"evenodd\" fill-opacity=\"1\" /><path clip-path=\"url(#clip110)\" d=\"M1046.42 1479.7 L1051.31 1479.7 L1051.31 1485.58 L1046.42 1485.58 L1046.42 1479.7 Z\" fill=\"#000000\" fill-rule=\"evenodd\" fill-opacity=\"1\" /><path clip-path=\"url(#clip110)\" d=\"M1061.54 1451.02 L1079.89 1451.02 L1079.89 1454.96 L1065.82 1454.96 L1065.82 1463.43 Q1066.84 1463.08 1067.86 1462.92 Q1068.88 1462.73 1069.89 1462.73 Q1075.68 1462.73 1079.06 1465.9 Q1082.44 1469.08 1082.44 1474.49 Q1082.44 1480.07 1078.97 1483.17 Q1075.5 1486.25 1069.18 1486.25 Q1067 1486.25 1064.73 1485.88 Q1062.49 1485.51 1060.08 1484.77 L1060.08 1480.07 Q1062.16 1481.2 1064.38 1481.76 Q1066.61 1482.32 1069.08 1482.32 Q1073.09 1482.32 1075.43 1480.21 Q1077.76 1478.1 1077.76 1474.49 Q1077.76 1470.88 1075.43 1468.77 Q1073.09 1466.67 1069.08 1466.67 Q1067.21 1466.67 1065.33 1467.08 Q1063.48 1467.5 1061.54 1468.38 L1061.54 1451.02 Z\" fill=\"#000000\" fill-rule=\"evenodd\" fill-opacity=\"1\" /><path clip-path=\"url(#clip110)\" d=\"M1430.54 1451.02 L1448.9 1451.02 L1448.9 1454.96 L1434.82 1454.96 L1434.82 1463.43 Q1435.84 1463.08 1436.86 1462.92 Q1437.88 1462.73 1438.9 1462.73 Q1444.68 1462.73 1448.06 1465.9 Q1451.44 1469.08 1451.44 1474.49 Q1451.44 1480.07 1447.97 1483.17 Q1444.5 1486.25 1438.18 1486.25 Q1436 1486.25 1433.73 1485.88 Q1431.49 1485.51 1429.08 1484.77 L1429.08 1480.07 Q1431.16 1481.2 1433.39 1481.76 Q1435.61 1482.32 1438.09 1482.32 Q1442.09 1482.32 1444.43 1480.21 Q1446.77 1478.1 1446.77 1474.49 Q1446.77 1470.88 1444.43 1468.77 Q1442.09 1466.67 1438.09 1466.67 Q1436.21 1466.67 1434.34 1467.08 Q1432.48 1467.5 1430.54 1468.38 L1430.54 1451.02 Z\" fill=\"#000000\" fill-rule=\"evenodd\" fill-opacity=\"1\" /><path clip-path=\"url(#clip110)\" d=\"M1460.65 1479.7 L1465.54 1479.7 L1465.54 1485.58 L1460.65 1485.58 L1460.65 1479.7 Z\" fill=\"#000000\" fill-rule=\"evenodd\" fill-opacity=\"1\" /><path clip-path=\"url(#clip110)\" d=\"M1485.72 1454.1 Q1482.11 1454.1 1480.28 1457.66 Q1478.48 1461.2 1478.48 1468.33 Q1478.48 1475.44 1480.28 1479.01 Q1482.11 1482.55 1485.72 1482.55 Q1489.36 1482.55 1491.16 1479.01 Q1492.99 1475.44 1492.99 1468.33 Q1492.99 1461.2 1491.16 1457.66 Q1489.36 1454.1 1485.72 1454.1 M1485.72 1450.39 Q1491.53 1450.39 1494.59 1455 Q1497.67 1459.58 1497.67 1468.33 Q1497.67 1477.06 1494.59 1481.67 Q1491.53 1486.25 1485.72 1486.25 Q1479.91 1486.25 1476.84 1481.67 Q1473.78 1477.06 1473.78 1468.33 Q1473.78 1459.58 1476.84 1455 Q1479.91 1450.39 1485.72 1450.39 Z\" fill=\"#000000\" fill-rule=\"evenodd\" fill-opacity=\"1\" /><path clip-path=\"url(#clip110)\" d=\"M1844.52 1451.02 L1866.74 1451.02 L1866.74 1453.01 L1854.19 1485.58 L1849.31 1485.58 L1861.11 1454.96 L1844.52 1454.96 L1844.52 1451.02 Z\" fill=\"#000000\" fill-rule=\"evenodd\" fill-opacity=\"1\" /><path clip-path=\"url(#clip110)\" d=\"M1875.86 1479.7 L1880.74 1479.7 L1880.74 1485.58 L1875.86 1485.58 L1875.86 1479.7 Z\" fill=\"#000000\" fill-rule=\"evenodd\" fill-opacity=\"1\" /><path clip-path=\"url(#clip110)\" d=\"M1890.98 1451.02 L1909.33 1451.02 L1909.33 1454.96 L1895.26 1454.96 L1895.26 1463.43 Q1896.28 1463.08 1897.3 1462.92 Q1898.31 1462.73 1899.33 1462.73 Q1905.12 1462.73 1908.5 1465.9 Q1911.88 1469.08 1911.88 1474.49 Q1911.88 1480.07 1908.41 1483.17 Q1904.93 1486.25 1898.61 1486.25 Q1896.44 1486.25 1894.17 1485.88 Q1891.92 1485.51 1889.52 1484.77 L1889.52 1480.07 Q1891.6 1481.2 1893.82 1481.76 Q1896.05 1482.32 1898.52 1482.32 Q1902.53 1482.32 1904.86 1480.21 Q1907.2 1478.1 1907.2 1474.49 Q1907.2 1470.88 1904.86 1468.77 Q1902.53 1466.67 1898.52 1466.67 Q1896.65 1466.67 1894.77 1467.08 Q1892.92 1467.5 1890.98 1468.38 L1890.98 1451.02 Z\" fill=\"#000000\" fill-rule=\"evenodd\" fill-opacity=\"1\" /><path clip-path=\"url(#clip110)\" d=\"M2245.09 1481.64 L2252.73 1481.64 L2252.73 1455.28 L2244.42 1456.95 L2244.42 1452.69 L2252.69 1451.02 L2257.36 1451.02 L2257.36 1481.64 L2265 1481.64 L2265 1485.58 L2245.09 1485.58 L2245.09 1481.64 Z\" fill=\"#000000\" fill-rule=\"evenodd\" fill-opacity=\"1\" /><path clip-path=\"url(#clip110)\" d=\"M2284.44 1454.1 Q2280.83 1454.1 2279.01 1457.66 Q2277.2 1461.2 2277.2 1468.33 Q2277.2 1475.44 2279.01 1479.01 Q2280.83 1482.55 2284.44 1482.55 Q2288.08 1482.55 2289.88 1479.01 Q2291.71 1475.44 2291.71 1468.33 Q2291.71 1461.2 2289.88 1457.66 Q2288.08 1454.1 2284.44 1454.1 M2284.44 1450.39 Q2290.26 1450.39 2293.31 1455 Q2296.39 1459.58 2296.39 1468.33 Q2296.39 1477.06 2293.31 1481.67 Q2290.26 1486.25 2284.44 1486.25 Q2278.63 1486.25 2275.56 1481.67 Q2272.5 1477.06 2272.5 1468.33 Q2272.5 1459.58 2275.56 1455 Q2278.63 1450.39 2284.44 1450.39 Z\" fill=\"#000000\" fill-rule=\"evenodd\" fill-opacity=\"1\" /><path clip-path=\"url(#clip110)\" d=\"M2304.61 1479.7 L2309.49 1479.7 L2309.49 1485.58 L2304.61 1485.58 L2304.61 1479.7 Z\" fill=\"#000000\" fill-rule=\"evenodd\" fill-opacity=\"1\" /><path clip-path=\"url(#clip110)\" d=\"M2329.68 1454.1 Q2326.07 1454.1 2324.24 1457.66 Q2322.43 1461.2 2322.43 1468.33 Q2322.43 1475.44 2324.24 1479.01 Q2326.07 1482.55 2329.68 1482.55 Q2333.31 1482.55 2335.12 1479.01 Q2336.94 1475.44 2336.94 1468.33 Q2336.94 1461.2 2335.12 1457.66 Q2333.31 1454.1 2329.68 1454.1 M2329.68 1450.39 Q2335.49 1450.39 2338.54 1455 Q2341.62 1459.58 2341.62 1468.33 Q2341.62 1477.06 2338.54 1481.67 Q2335.49 1486.25 2329.68 1486.25 Q2323.87 1486.25 2320.79 1481.67 Q2317.73 1477.06 2317.73 1468.33 Q2317.73 1459.58 2320.79 1455 Q2323.87 1450.39 2329.68 1450.39 Z\" fill=\"#000000\" fill-rule=\"evenodd\" fill-opacity=\"1\" /><path clip-path=\"url(#clip110)\" d=\"M1259.27 1532.4 L1246.38 1549.74 L1259.94 1568.04 L1253.03 1568.04 L1242.65 1554.04 L1232.28 1568.04 L1225.37 1568.04 L1239.21 1549.39 L1226.55 1532.4 L1233.45 1532.4 L1242.91 1545.1 L1252.36 1532.4 L1259.27 1532.4 Z\" fill=\"#000000\" fill-rule=\"evenodd\" fill-opacity=\"1\" /><path clip-path=\"url(#clip110)\" d=\"M1288.39 1518.52 L1301.89 1518.52 L1301.89 1523.07 L1294.25 1523.07 L1294.25 1572.09 L1301.89 1572.09 L1301.89 1576.64 L1288.39 1576.64 L1288.39 1518.52 Z\" fill=\"#000000\" fill-rule=\"evenodd\" fill-opacity=\"1\" /><path clip-path=\"url(#clip110)\" d=\"M1316.3 1562.63 L1326.81 1562.63 L1326.81 1526.38 L1315.38 1528.67 L1315.38 1522.82 L1326.74 1520.52 L1333.17 1520.52 L1333.17 1562.63 L1343.68 1562.63 L1343.68 1568.04 L1316.3 1568.04 L1316.3 1562.63 Z\" fill=\"#000000\" fill-rule=\"evenodd\" fill-opacity=\"1\" /><path clip-path=\"url(#clip110)\" d=\"M1369.52 1518.52 L1369.52 1576.64 L1356.03 1576.64 L1356.03 1572.09 L1363.63 1572.09 L1363.63 1523.07 L1356.03 1523.07 L1356.03 1518.52 L1369.52 1518.52 Z\" fill=\"#000000\" fill-rule=\"evenodd\" fill-opacity=\"1\" /><polyline clip-path=\"url(#clip112)\" style=\"stroke:#000000; stroke-linecap:butt; stroke-linejoin:round; stroke-width:2; stroke-opacity:0.1; fill:none\" points=\"\n",
       "  242.135,1404.36 2352.76,1404.36 \n",
       "  \"/>\n",
       "<polyline clip-path=\"url(#clip112)\" style=\"stroke:#000000; stroke-linecap:butt; stroke-linejoin:round; stroke-width:2; stroke-opacity:0.1; fill:none\" points=\"\n",
       "  242.135,999.585 2352.76,999.585 \n",
       "  \"/>\n",
       "<polyline clip-path=\"url(#clip112)\" style=\"stroke:#000000; stroke-linecap:butt; stroke-linejoin:round; stroke-width:2; stroke-opacity:0.1; fill:none\" points=\"\n",
       "  242.135,594.811 2352.76,594.811 \n",
       "  \"/>\n",
       "<polyline clip-path=\"url(#clip112)\" style=\"stroke:#000000; stroke-linecap:butt; stroke-linejoin:round; stroke-width:2; stroke-opacity:0.1; fill:none\" points=\"\n",
       "  242.135,190.038 2352.76,190.038 \n",
       "  \"/>\n",
       "<polyline clip-path=\"url(#clip110)\" style=\"stroke:#000000; stroke-linecap:butt; stroke-linejoin:round; stroke-width:4; stroke-opacity:1; fill:none\" points=\"\n",
       "  242.135,1423.18 242.135,123.472 \n",
       "  \"/>\n",
       "<polyline clip-path=\"url(#clip110)\" style=\"stroke:#000000; stroke-linecap:butt; stroke-linejoin:round; stroke-width:4; stroke-opacity:1; fill:none\" points=\"\n",
       "  242.135,1404.36 261.032,1404.36 \n",
       "  \"/>\n",
       "<polyline clip-path=\"url(#clip110)\" style=\"stroke:#000000; stroke-linecap:butt; stroke-linejoin:round; stroke-width:4; stroke-opacity:1; fill:none\" points=\"\n",
       "  242.135,999.585 261.032,999.585 \n",
       "  \"/>\n",
       "<polyline clip-path=\"url(#clip110)\" style=\"stroke:#000000; stroke-linecap:butt; stroke-linejoin:round; stroke-width:4; stroke-opacity:1; fill:none\" points=\"\n",
       "  242.135,594.811 261.032,594.811 \n",
       "  \"/>\n",
       "<polyline clip-path=\"url(#clip110)\" style=\"stroke:#000000; stroke-linecap:butt; stroke-linejoin:round; stroke-width:4; stroke-opacity:1; fill:none\" points=\"\n",
       "  242.135,190.038 261.032,190.038 \n",
       "  \"/>\n",
       "<path clip-path=\"url(#clip110)\" d=\"M115.256 1404.81 L144.931 1404.81 L144.931 1408.75 L115.256 1408.75 L115.256 1404.81 Z\" fill=\"#000000\" fill-rule=\"evenodd\" fill-opacity=\"1\" /><path clip-path=\"url(#clip110)\" d=\"M155.834 1417.7 L163.473 1417.7 L163.473 1391.34 L155.163 1393 L155.163 1388.75 L163.427 1387.08 L168.102 1387.08 L168.102 1417.7 L175.741 1417.7 L175.741 1421.64 L155.834 1421.64 L155.834 1417.7 Z\" fill=\"#000000\" fill-rule=\"evenodd\" fill-opacity=\"1\" /><path clip-path=\"url(#clip110)\" d=\"M185.232 1387.08 L203.588 1387.08 L203.588 1391.01 L189.514 1391.01 L189.514 1399.49 Q190.533 1399.14 191.551 1398.98 Q192.57 1398.79 193.588 1398.79 Q199.375 1398.79 202.755 1401.96 Q206.135 1405.13 206.135 1410.55 Q206.135 1416.13 202.662 1419.23 Q199.19 1422.31 192.871 1422.31 Q190.695 1422.31 188.426 1421.94 Q186.181 1421.57 183.774 1420.83 L183.774 1416.13 Q185.857 1417.26 188.079 1417.82 Q190.301 1418.37 192.778 1418.37 Q196.783 1418.37 199.121 1416.27 Q201.459 1414.16 201.459 1410.55 Q201.459 1406.94 199.121 1404.83 Q196.783 1402.73 192.778 1402.73 Q190.903 1402.73 189.028 1403.14 Q187.176 1403.56 185.232 1404.44 L185.232 1387.08 Z\" fill=\"#000000\" fill-rule=\"evenodd\" fill-opacity=\"1\" /><path clip-path=\"url(#clip110)\" d=\"M114.26 1000.04 L143.936 1000.04 L143.936 1003.97 L114.26 1003.97 L114.26 1000.04 Z\" fill=\"#000000\" fill-rule=\"evenodd\" fill-opacity=\"1\" /><path clip-path=\"url(#clip110)\" d=\"M154.839 1012.93 L162.477 1012.93 L162.477 986.564 L154.167 988.231 L154.167 983.972 L162.431 982.305 L167.107 982.305 L167.107 1012.93 L174.746 1012.93 L174.746 1016.86 L154.839 1016.86 L154.839 1012.93 Z\" fill=\"#000000\" fill-rule=\"evenodd\" fill-opacity=\"1\" /><path clip-path=\"url(#clip110)\" d=\"M194.19 985.384 Q190.579 985.384 188.75 988.948 Q186.945 992.49 186.945 999.62 Q186.945 1006.73 188.75 1010.29 Q190.579 1013.83 194.19 1013.83 Q197.825 1013.83 199.63 1010.29 Q201.459 1006.73 201.459 999.62 Q201.459 992.49 199.63 988.948 Q197.825 985.384 194.19 985.384 M194.19 981.68 Q200 981.68 203.056 986.286 Q206.135 990.87 206.135 999.62 Q206.135 1008.35 203.056 1012.95 Q200 1017.54 194.19 1017.54 Q188.38 1017.54 185.301 1012.95 Q182.246 1008.35 182.246 999.62 Q182.246 990.87 185.301 986.286 Q188.38 981.68 194.19 981.68 Z\" fill=\"#000000\" fill-rule=\"evenodd\" fill-opacity=\"1\" /><path clip-path=\"url(#clip110)\" d=\"M145.417 595.263 L175.093 595.263 L175.093 599.198 L145.417 599.198 L145.417 595.263 Z\" fill=\"#000000\" fill-rule=\"evenodd\" fill-opacity=\"1\" /><path clip-path=\"url(#clip110)\" d=\"M185.232 577.531 L203.588 577.531 L203.588 581.467 L189.514 581.467 L189.514 589.939 Q190.533 589.592 191.551 589.43 Q192.57 589.244 193.588 589.244 Q199.375 589.244 202.755 592.416 Q206.135 595.587 206.135 601.004 Q206.135 606.582 202.662 609.684 Q199.19 612.763 192.871 612.763 Q190.695 612.763 188.426 612.392 Q186.181 612.022 183.774 611.281 L183.774 606.582 Q185.857 607.716 188.079 608.272 Q190.301 608.828 192.778 608.828 Q196.783 608.828 199.121 606.721 Q201.459 604.615 201.459 601.004 Q201.459 597.392 199.121 595.286 Q196.783 593.179 192.778 593.179 Q190.903 593.179 189.028 593.596 Q187.176 594.013 185.232 594.892 L185.232 577.531 Z\" fill=\"#000000\" fill-rule=\"evenodd\" fill-opacity=\"1\" /><path clip-path=\"url(#clip110)\" d=\"M194.19 175.837 Q190.579 175.837 188.75 179.401 Q186.945 182.943 186.945 190.073 Q186.945 197.179 188.75 200.744 Q190.579 204.285 194.19 204.285 Q197.825 204.285 199.63 200.744 Q201.459 197.179 201.459 190.073 Q201.459 182.943 199.63 179.401 Q197.825 175.837 194.19 175.837 M194.19 172.133 Q200 172.133 203.056 176.739 Q206.135 181.323 206.135 190.073 Q206.135 198.799 203.056 203.406 Q200 207.989 194.19 207.989 Q188.38 207.989 185.301 203.406 Q182.246 198.799 182.246 190.073 Q182.246 181.323 185.301 176.739 Q188.38 172.133 194.19 172.133 Z\" fill=\"#000000\" fill-rule=\"evenodd\" fill-opacity=\"1\" /><path clip-path=\"url(#clip110)\" d=\"M67.3143 826.336 Q73.68 828.819 75.6216 831.174 Q77.5631 833.53 77.5631 837.476 L77.5631 842.155 L72.6615 842.155 L72.6615 838.718 Q72.6615 836.299 71.5157 834.962 Q70.3699 833.625 66.1048 832.002 L63.4312 830.952 L28.3562 845.37 L28.3562 839.163 L56.238 828.023 L28.3562 816.883 L28.3562 810.677 L67.3143 826.336 Z\" fill=\"#000000\" fill-rule=\"evenodd\" fill-opacity=\"1\" /><path clip-path=\"url(#clip110)\" d=\"M14.479 782.413 L14.479 768.918 L19.0304 768.918 L19.0304 776.557 L68.0464 776.557 L68.0464 768.918 L72.5979 768.918 L72.5979 782.413 L14.479 782.413 Z\" fill=\"#000000\" fill-rule=\"evenodd\" fill-opacity=\"1\" /><path clip-path=\"url(#clip110)\" d=\"M58.5933 754.499 L58.5933 743.996 L22.3406 743.996 L24.6323 755.422 L18.7758 755.422 L16.4842 744.06 L16.4842 737.63 L58.5933 737.63 L58.5933 727.127 L64.0042 727.127 L64.0042 754.499 L58.5933 754.499 Z\" fill=\"#000000\" fill-rule=\"evenodd\" fill-opacity=\"1\" /><path clip-path=\"url(#clip110)\" d=\"M14.479 701.282 L72.5979 701.282 L72.5979 714.777 L68.0464 714.777 L68.0464 707.17 L19.0304 707.17 L19.0304 714.777 L14.479 714.777 L14.479 701.282 Z\" fill=\"#000000\" fill-rule=\"evenodd\" fill-opacity=\"1\" /><path clip-path=\"url(#clip110)\" d=\"M1259.33 9.54393 L1259.33 15.7418 L1252.2 15.7418 Q1248.19 15.7418 1246.61 17.3622 Q1245.07 18.9825 1245.07 23.1955 L1245.07 27.2059 L1257.34 27.2059 L1257.34 32.9987 L1245.07 32.9987 L1245.07 72.576 L1237.57 72.576 L1237.57 32.9987 L1230.44 32.9987 L1230.44 27.2059 L1237.57 27.2059 L1237.57 24.0462 Q1237.57 16.471 1241.1 13.0277 Q1244.62 9.54393 1252.28 9.54393 L1259.33 9.54393 Z\" fill=\"#000000\" fill-rule=\"evenodd\" fill-opacity=\"1\" /><path clip-path=\"url(#clip110)\" d=\"M1283.47 9.62495 Q1278.04 18.942 1275.41 28.0566 Q1272.78 37.1711 1272.78 46.5287 Q1272.78 55.8863 1275.41 65.0818 Q1278.08 74.2369 1283.47 83.5134 L1276.99 83.5134 Q1270.91 73.9938 1267.87 64.7983 Q1264.88 55.6027 1264.88 46.5287 Q1264.88 37.4952 1267.87 28.3401 Q1270.87 19.1851 1276.99 9.62495 L1283.47 9.62495 Z\" fill=\"#000000\" fill-rule=\"evenodd\" fill-opacity=\"1\" /><path clip-path=\"url(#clip110)\" d=\"M1335.65 27.2059 L1319.24 49.2833 L1336.5 72.576 L1327.71 72.576 L1314.5 54.752 L1301.29 72.576 L1292.5 72.576 L1310.12 48.8377 L1294 27.2059 L1302.79 27.2059 L1314.82 43.369 L1326.85 27.2059 L1335.65 27.2059 Z\" fill=\"#000000\" fill-rule=\"evenodd\" fill-opacity=\"1\" /><path clip-path=\"url(#clip110)\" d=\"M1345.85 9.62495 L1352.34 9.62495 Q1358.41 19.1851 1361.41 28.3401 Q1364.45 37.4952 1364.45 46.5287 Q1364.45 55.6027 1361.41 64.7983 Q1358.41 73.9938 1352.34 83.5134 L1345.85 83.5134 Q1351.24 74.2369 1353.87 65.0818 Q1356.55 55.8863 1356.55 46.5287 Q1356.55 37.1711 1353.87 28.0566 Q1351.24 18.942 1345.85 9.62495 Z\" fill=\"#000000\" fill-rule=\"evenodd\" fill-opacity=\"1\" /><polyline clip-path=\"url(#clip112)\" style=\"stroke:#009af9; stroke-linecap:butt; stroke-linejoin:round; stroke-width:4; stroke-opacity:1; fill:none\" points=\"\n",
       "  301.869,1386.4 306.731,1334.83 311.592,1285.25 316.453,1237.58 321.314,1191.75 332.552,1092.48 343.789,1001.92 355.027,919.352 366.264,844.114 377.502,775.603 \n",
       "  388.739,713.259 399.977,656.569 411.214,605.06 422.452,558.297 433.689,515.878 444.926,477.435 456.164,442.63 478.639,382.711 501.114,333.92 528.127,287.398 \n",
       "  555.14,251.608 582.153,224.374 609.166,203.933 654.844,180.967 700.522,168.249 799.761,160.256 891.25,163.424 989.336,169.689 1102.98,176.501 1203.97,181.087 \n",
       "  1292.53,183.974 1389.09,186.152 1486.22,187.596 1593.6,188.598 1695.78,189.177 1802.02,189.539 1891.46,189.725 2000.64,189.862 2103.28,189.936 2267.72,189.996 \n",
       "  2293.02,190.001 \n",
       "  \"/>\n",
       "</svg>\n"
      ]
     },
     "execution_count": 27,
     "metadata": {},
     "output_type": "execute_result"
    }
   ],
   "source": [
    "plot(f, -2, 10, ylab = \"y [1]\", xlab = \"x [1]\", label = \"\", title = \"f(x)\")"
   ]
  },
  {
   "cell_type": "code",
   "execution_count": 28,
   "id": "cd222a17",
   "metadata": {},
   "outputs": [
    {
     "data": {
      "image/svg+xml": [
       "<?xml version=\"1.0\" encoding=\"utf-8\"?>\n",
       "<svg xmlns=\"http://www.w3.org/2000/svg\" xmlns:xlink=\"http://www.w3.org/1999/xlink\" width=\"600\" height=\"400\" viewBox=\"0 0 2400 1600\">\n",
       "<defs>\n",
       "  <clipPath id=\"clip150\">\n",
       "    <rect x=\"0\" y=\"0\" width=\"2400\" height=\"1600\"/>\n",
       "  </clipPath>\n",
       "</defs>\n",
       "<path clip-path=\"url(#clip150)\" d=\"\n",
       "M0 1600 L2400 1600 L2400 0 L0 0  Z\n",
       "  \" fill=\"#ffffff\" fill-rule=\"evenodd\" fill-opacity=\"1\"/>\n",
       "<defs>\n",
       "  <clipPath id=\"clip151\">\n",
       "    <rect x=\"480\" y=\"0\" width=\"1681\" height=\"1600\"/>\n",
       "  </clipPath>\n",
       "</defs>\n",
       "<path clip-path=\"url(#clip150)\" d=\"\n",
       "M203.964 1423.18 L2352.76 1423.18 L2352.76 123.472 L203.964 123.472  Z\n",
       "  \" fill=\"#ffffff\" fill-rule=\"evenodd\" fill-opacity=\"1\"/>\n",
       "<defs>\n",
       "  <clipPath id=\"clip152\">\n",
       "    <rect x=\"203\" y=\"123\" width=\"2150\" height=\"1301\"/>\n",
       "  </clipPath>\n",
       "</defs>\n",
       "<polyline clip-path=\"url(#clip152)\" style=\"stroke:#000000; stroke-linecap:butt; stroke-linejoin:round; stroke-width:2; stroke-opacity:0.1; fill:none\" points=\"\n",
       "  602.639,1423.18 602.639,123.472 \n",
       "  \"/>\n",
       "<polyline clip-path=\"url(#clip152)\" style=\"stroke:#000000; stroke-linecap:butt; stroke-linejoin:round; stroke-width:2; stroke-opacity:0.1; fill:none\" points=\"\n",
       "  1024.96,1423.18 1024.96,123.472 \n",
       "  \"/>\n",
       "<polyline clip-path=\"url(#clip152)\" style=\"stroke:#000000; stroke-linecap:butt; stroke-linejoin:round; stroke-width:2; stroke-opacity:0.1; fill:none\" points=\"\n",
       "  1447.29,1423.18 1447.29,123.472 \n",
       "  \"/>\n",
       "<polyline clip-path=\"url(#clip152)\" style=\"stroke:#000000; stroke-linecap:butt; stroke-linejoin:round; stroke-width:2; stroke-opacity:0.1; fill:none\" points=\"\n",
       "  1869.62,1423.18 1869.62,123.472 \n",
       "  \"/>\n",
       "<polyline clip-path=\"url(#clip152)\" style=\"stroke:#000000; stroke-linecap:butt; stroke-linejoin:round; stroke-width:2; stroke-opacity:0.1; fill:none\" points=\"\n",
       "  2291.94,1423.18 2291.94,123.472 \n",
       "  \"/>\n",
       "<polyline clip-path=\"url(#clip150)\" style=\"stroke:#000000; stroke-linecap:butt; stroke-linejoin:round; stroke-width:4; stroke-opacity:1; fill:none\" points=\"\n",
       "  203.964,1423.18 2352.76,1423.18 \n",
       "  \"/>\n",
       "<polyline clip-path=\"url(#clip150)\" style=\"stroke:#000000; stroke-linecap:butt; stroke-linejoin:round; stroke-width:4; stroke-opacity:1; fill:none\" points=\"\n",
       "  602.639,1423.18 602.639,1404.28 \n",
       "  \"/>\n",
       "<polyline clip-path=\"url(#clip150)\" style=\"stroke:#000000; stroke-linecap:butt; stroke-linejoin:round; stroke-width:4; stroke-opacity:1; fill:none\" points=\"\n",
       "  1024.96,1423.18 1024.96,1404.28 \n",
       "  \"/>\n",
       "<polyline clip-path=\"url(#clip150)\" style=\"stroke:#000000; stroke-linecap:butt; stroke-linejoin:round; stroke-width:4; stroke-opacity:1; fill:none\" points=\"\n",
       "  1447.29,1423.18 1447.29,1404.28 \n",
       "  \"/>\n",
       "<polyline clip-path=\"url(#clip150)\" style=\"stroke:#000000; stroke-linecap:butt; stroke-linejoin:round; stroke-width:4; stroke-opacity:1; fill:none\" points=\"\n",
       "  1869.62,1423.18 1869.62,1404.28 \n",
       "  \"/>\n",
       "<polyline clip-path=\"url(#clip150)\" style=\"stroke:#000000; stroke-linecap:butt; stroke-linejoin:round; stroke-width:4; stroke-opacity:1; fill:none\" points=\"\n",
       "  2291.94,1423.18 2291.94,1404.28 \n",
       "  \"/>\n",
       "<path clip-path=\"url(#clip150)\" d=\"M580.023 1454.1 Q576.412 1454.1 574.583 1457.66 Q572.778 1461.2 572.778 1468.33 Q572.778 1475.44 574.583 1479.01 Q576.412 1482.55 580.023 1482.55 Q583.658 1482.55 585.463 1479.01 Q587.292 1475.44 587.292 1468.33 Q587.292 1461.2 585.463 1457.66 Q583.658 1454.1 580.023 1454.1 M580.023 1450.39 Q585.833 1450.39 588.889 1455 Q591.968 1459.58 591.968 1468.33 Q591.968 1477.06 588.889 1481.67 Q585.833 1486.25 580.023 1486.25 Q574.213 1486.25 571.134 1481.67 Q568.079 1477.06 568.079 1468.33 Q568.079 1459.58 571.134 1455 Q574.213 1450.39 580.023 1450.39 Z\" fill=\"#000000\" fill-rule=\"evenodd\" fill-opacity=\"1\" /><path clip-path=\"url(#clip150)\" d=\"M600.185 1479.7 L605.069 1479.7 L605.069 1485.58 L600.185 1485.58 L600.185 1479.7 Z\" fill=\"#000000\" fill-rule=\"evenodd\" fill-opacity=\"1\" /><path clip-path=\"url(#clip150)\" d=\"M625.254 1454.1 Q621.643 1454.1 619.815 1457.66 Q618.009 1461.2 618.009 1468.33 Q618.009 1475.44 619.815 1479.01 Q621.643 1482.55 625.254 1482.55 Q628.889 1482.55 630.694 1479.01 Q632.523 1475.44 632.523 1468.33 Q632.523 1461.2 630.694 1457.66 Q628.889 1454.1 625.254 1454.1 M625.254 1450.39 Q631.065 1450.39 634.12 1455 Q637.199 1459.58 637.199 1468.33 Q637.199 1477.06 634.12 1481.67 Q631.065 1486.25 625.254 1486.25 Q619.444 1486.25 616.366 1481.67 Q613.31 1477.06 613.31 1468.33 Q613.31 1459.58 616.366 1455 Q619.444 1450.39 625.254 1450.39 Z\" fill=\"#000000\" fill-rule=\"evenodd\" fill-opacity=\"1\" /><path clip-path=\"url(#clip150)\" d=\"M996.701 1481.64 L1013.02 1481.64 L1013.02 1485.58 L991.076 1485.58 L991.076 1481.64 Q993.738 1478.89 998.321 1474.26 Q1002.93 1469.61 1004.11 1468.27 Q1006.35 1465.74 1007.23 1464.01 Q1008.14 1462.25 1008.14 1460.56 Q1008.14 1457.8 1006.19 1456.07 Q1004.27 1454.33 1001.17 1454.33 Q998.969 1454.33 996.515 1455.09 Q994.085 1455.86 991.307 1457.41 L991.307 1452.69 Q994.131 1451.55 996.585 1450.97 Q999.039 1450.39 1001.08 1450.39 Q1006.45 1450.39 1009.64 1453.08 Q1012.83 1455.77 1012.83 1460.26 Q1012.83 1462.39 1012.02 1464.31 Q1011.24 1466.2 1009.13 1468.8 Q1008.55 1469.47 1005.45 1472.69 Q1002.35 1475.88 996.701 1481.64 Z\" fill=\"#000000\" fill-rule=\"evenodd\" fill-opacity=\"1\" /><path clip-path=\"url(#clip150)\" d=\"M1022.83 1479.7 L1027.72 1479.7 L1027.72 1485.58 L1022.83 1485.58 L1022.83 1479.7 Z\" fill=\"#000000\" fill-rule=\"evenodd\" fill-opacity=\"1\" /><path clip-path=\"url(#clip150)\" d=\"M1037.95 1451.02 L1056.31 1451.02 L1056.31 1454.96 L1042.23 1454.96 L1042.23 1463.43 Q1043.25 1463.08 1044.27 1462.92 Q1045.29 1462.73 1046.31 1462.73 Q1052.09 1462.73 1055.47 1465.9 Q1058.85 1469.08 1058.85 1474.49 Q1058.85 1480.07 1055.38 1483.17 Q1051.91 1486.25 1045.59 1486.25 Q1043.41 1486.25 1041.14 1485.88 Q1038.9 1485.51 1036.49 1484.77 L1036.49 1480.07 Q1038.58 1481.2 1040.8 1481.76 Q1043.02 1482.32 1045.5 1482.32 Q1049.5 1482.32 1051.84 1480.21 Q1054.18 1478.1 1054.18 1474.49 Q1054.18 1470.88 1051.84 1468.77 Q1049.5 1466.67 1045.5 1466.67 Q1043.62 1466.67 1041.75 1467.08 Q1039.89 1467.5 1037.95 1468.38 L1037.95 1451.02 Z\" fill=\"#000000\" fill-rule=\"evenodd\" fill-opacity=\"1\" /><path clip-path=\"url(#clip150)\" d=\"M1414.45 1451.02 L1432.81 1451.02 L1432.81 1454.96 L1418.74 1454.96 L1418.74 1463.43 Q1419.76 1463.08 1420.77 1462.92 Q1421.79 1462.73 1422.81 1462.73 Q1428.6 1462.73 1431.98 1465.9 Q1435.36 1469.08 1435.36 1474.49 Q1435.36 1480.07 1431.88 1483.17 Q1428.41 1486.25 1422.09 1486.25 Q1419.92 1486.25 1417.65 1485.88 Q1415.4 1485.51 1413 1484.77 L1413 1480.07 Q1415.08 1481.2 1417.3 1481.76 Q1419.52 1482.32 1422 1482.32 Q1426.01 1482.32 1428.34 1480.21 Q1430.68 1478.1 1430.68 1474.49 Q1430.68 1470.88 1428.34 1468.77 Q1426.01 1466.67 1422 1466.67 Q1420.13 1466.67 1418.25 1467.08 Q1416.4 1467.5 1414.45 1468.38 L1414.45 1451.02 Z\" fill=\"#000000\" fill-rule=\"evenodd\" fill-opacity=\"1\" /><path clip-path=\"url(#clip150)\" d=\"M1444.57 1479.7 L1449.45 1479.7 L1449.45 1485.58 L1444.57 1485.58 L1444.57 1479.7 Z\" fill=\"#000000\" fill-rule=\"evenodd\" fill-opacity=\"1\" /><path clip-path=\"url(#clip150)\" d=\"M1469.64 1454.1 Q1466.03 1454.1 1464.2 1457.66 Q1462.39 1461.2 1462.39 1468.33 Q1462.39 1475.44 1464.2 1479.01 Q1466.03 1482.55 1469.64 1482.55 Q1473.27 1482.55 1475.08 1479.01 Q1476.91 1475.44 1476.91 1468.33 Q1476.91 1461.2 1475.08 1457.66 Q1473.27 1454.1 1469.64 1454.1 M1469.64 1450.39 Q1475.45 1450.39 1478.51 1455 Q1481.58 1459.58 1481.58 1468.33 Q1481.58 1477.06 1478.51 1481.67 Q1475.45 1486.25 1469.64 1486.25 Q1463.83 1486.25 1460.75 1481.67 Q1457.69 1477.06 1457.69 1468.33 Q1457.69 1459.58 1460.75 1455 Q1463.83 1450.39 1469.64 1450.39 Z\" fill=\"#000000\" fill-rule=\"evenodd\" fill-opacity=\"1\" /><path clip-path=\"url(#clip150)\" d=\"M1835.94 1451.02 L1858.16 1451.02 L1858.16 1453.01 L1845.61 1485.58 L1840.73 1485.58 L1852.53 1454.96 L1835.94 1454.96 L1835.94 1451.02 Z\" fill=\"#000000\" fill-rule=\"evenodd\" fill-opacity=\"1\" /><path clip-path=\"url(#clip150)\" d=\"M1867.28 1479.7 L1872.16 1479.7 L1872.16 1485.58 L1867.28 1485.58 L1867.28 1479.7 Z\" fill=\"#000000\" fill-rule=\"evenodd\" fill-opacity=\"1\" /><path clip-path=\"url(#clip150)\" d=\"M1882.39 1451.02 L1900.75 1451.02 L1900.75 1454.96 L1886.68 1454.96 L1886.68 1463.43 Q1887.69 1463.08 1888.71 1462.92 Q1889.73 1462.73 1890.75 1462.73 Q1896.54 1462.73 1899.92 1465.9 Q1903.3 1469.08 1903.3 1474.49 Q1903.3 1480.07 1899.82 1483.17 Q1896.35 1486.25 1890.03 1486.25 Q1887.86 1486.25 1885.59 1485.88 Q1883.34 1485.51 1880.93 1484.77 L1880.93 1480.07 Q1883.02 1481.2 1885.24 1481.76 Q1887.46 1482.32 1889.94 1482.32 Q1893.94 1482.32 1896.28 1480.21 Q1898.62 1478.1 1898.62 1474.49 Q1898.62 1470.88 1896.28 1468.77 Q1893.94 1466.67 1889.94 1466.67 Q1888.06 1466.67 1886.19 1467.08 Q1884.34 1467.5 1882.39 1468.38 L1882.39 1451.02 Z\" fill=\"#000000\" fill-rule=\"evenodd\" fill-opacity=\"1\" /><path clip-path=\"url(#clip150)\" d=\"M2244.01 1481.64 L2251.65 1481.64 L2251.65 1455.28 L2243.34 1456.95 L2243.34 1452.69 L2251.61 1451.02 L2256.28 1451.02 L2256.28 1481.64 L2263.92 1481.64 L2263.92 1485.58 L2244.01 1485.58 L2244.01 1481.64 Z\" fill=\"#000000\" fill-rule=\"evenodd\" fill-opacity=\"1\" /><path clip-path=\"url(#clip150)\" d=\"M2283.36 1454.1 Q2279.75 1454.1 2277.92 1457.66 Q2276.12 1461.2 2276.12 1468.33 Q2276.12 1475.44 2277.92 1479.01 Q2279.75 1482.55 2283.36 1482.55 Q2287 1482.55 2288.8 1479.01 Q2290.63 1475.44 2290.63 1468.33 Q2290.63 1461.2 2288.8 1457.66 Q2287 1454.1 2283.36 1454.1 M2283.36 1450.39 Q2289.17 1450.39 2292.23 1455 Q2295.31 1459.58 2295.31 1468.33 Q2295.31 1477.06 2292.23 1481.67 Q2289.17 1486.25 2283.36 1486.25 Q2277.55 1486.25 2274.48 1481.67 Q2271.42 1477.06 2271.42 1468.33 Q2271.42 1459.58 2274.48 1455 Q2277.55 1450.39 2283.36 1450.39 Z\" fill=\"#000000\" fill-rule=\"evenodd\" fill-opacity=\"1\" /><path clip-path=\"url(#clip150)\" d=\"M2303.53 1479.7 L2308.41 1479.7 L2308.41 1485.58 L2303.53 1485.58 L2303.53 1479.7 Z\" fill=\"#000000\" fill-rule=\"evenodd\" fill-opacity=\"1\" /><path clip-path=\"url(#clip150)\" d=\"M2328.6 1454.1 Q2324.98 1454.1 2323.16 1457.66 Q2321.35 1461.2 2321.35 1468.33 Q2321.35 1475.44 2323.16 1479.01 Q2324.98 1482.55 2328.6 1482.55 Q2332.23 1482.55 2334.04 1479.01 Q2335.86 1475.44 2335.86 1468.33 Q2335.86 1461.2 2334.04 1457.66 Q2332.23 1454.1 2328.6 1454.1 M2328.6 1450.39 Q2334.41 1450.39 2337.46 1455 Q2340.54 1459.58 2340.54 1468.33 Q2340.54 1477.06 2337.46 1481.67 Q2334.41 1486.25 2328.6 1486.25 Q2322.79 1486.25 2319.71 1481.67 Q2316.65 1477.06 2316.65 1468.33 Q2316.65 1459.58 2319.71 1455 Q2322.79 1450.39 2328.6 1450.39 Z\" fill=\"#000000\" fill-rule=\"evenodd\" fill-opacity=\"1\" /><path clip-path=\"url(#clip150)\" d=\"M1240.18 1532.4 L1227.29 1549.74 L1240.85 1568.04 L1233.94 1568.04 L1223.57 1554.04 L1213.19 1568.04 L1206.28 1568.04 L1220.13 1549.39 L1207.46 1532.4 L1214.37 1532.4 L1223.82 1545.1 L1233.27 1532.4 L1240.18 1532.4 Z\" fill=\"#000000\" fill-rule=\"evenodd\" fill-opacity=\"1\" /><path clip-path=\"url(#clip150)\" d=\"M1269.3 1518.52 L1282.8 1518.52 L1282.8 1523.07 L1275.16 1523.07 L1275.16 1572.09 L1282.8 1572.09 L1282.8 1576.64 L1269.3 1576.64 L1269.3 1518.52 Z\" fill=\"#000000\" fill-rule=\"evenodd\" fill-opacity=\"1\" /><path clip-path=\"url(#clip150)\" d=\"M1297.22 1562.63 L1307.72 1562.63 L1307.72 1526.38 L1296.3 1528.67 L1296.3 1522.82 L1307.66 1520.52 L1314.09 1520.52 L1314.09 1562.63 L1324.59 1562.63 L1324.59 1568.04 L1297.22 1568.04 L1297.22 1562.63 Z\" fill=\"#000000\" fill-rule=\"evenodd\" fill-opacity=\"1\" /><path clip-path=\"url(#clip150)\" d=\"M1350.44 1518.52 L1350.44 1576.64 L1336.94 1576.64 L1336.94 1572.09 L1344.55 1572.09 L1344.55 1523.07 L1336.94 1523.07 L1336.94 1518.52 L1350.44 1518.52 Z\" fill=\"#000000\" fill-rule=\"evenodd\" fill-opacity=\"1\" /><polyline clip-path=\"url(#clip152)\" style=\"stroke:#000000; stroke-linecap:butt; stroke-linejoin:round; stroke-width:2; stroke-opacity:0.1; fill:none\" points=\"\n",
       "  203.964,1379.02 2352.76,1379.02 \n",
       "  \"/>\n",
       "<polyline clip-path=\"url(#clip152)\" style=\"stroke:#000000; stroke-linecap:butt; stroke-linejoin:round; stroke-width:2; stroke-opacity:0.1; fill:none\" points=\"\n",
       "  203.964,1104.12 2352.76,1104.12 \n",
       "  \"/>\n",
       "<polyline clip-path=\"url(#clip152)\" style=\"stroke:#000000; stroke-linecap:butt; stroke-linejoin:round; stroke-width:2; stroke-opacity:0.1; fill:none\" points=\"\n",
       "  203.964,829.217 2352.76,829.217 \n",
       "  \"/>\n",
       "<polyline clip-path=\"url(#clip152)\" style=\"stroke:#000000; stroke-linecap:butt; stroke-linejoin:round; stroke-width:2; stroke-opacity:0.1; fill:none\" points=\"\n",
       "  203.964,554.313 2352.76,554.313 \n",
       "  \"/>\n",
       "<polyline clip-path=\"url(#clip152)\" style=\"stroke:#000000; stroke-linecap:butt; stroke-linejoin:round; stroke-width:2; stroke-opacity:0.1; fill:none\" points=\"\n",
       "  203.964,279.409 2352.76,279.409 \n",
       "  \"/>\n",
       "<polyline clip-path=\"url(#clip150)\" style=\"stroke:#000000; stroke-linecap:butt; stroke-linejoin:round; stroke-width:4; stroke-opacity:1; fill:none\" points=\"\n",
       "  203.964,1423.18 203.964,123.472 \n",
       "  \"/>\n",
       "<polyline clip-path=\"url(#clip150)\" style=\"stroke:#000000; stroke-linecap:butt; stroke-linejoin:round; stroke-width:4; stroke-opacity:1; fill:none\" points=\"\n",
       "  203.964,1379.02 222.861,1379.02 \n",
       "  \"/>\n",
       "<polyline clip-path=\"url(#clip150)\" style=\"stroke:#000000; stroke-linecap:butt; stroke-linejoin:round; stroke-width:4; stroke-opacity:1; fill:none\" points=\"\n",
       "  203.964,1104.12 222.861,1104.12 \n",
       "  \"/>\n",
       "<polyline clip-path=\"url(#clip150)\" style=\"stroke:#000000; stroke-linecap:butt; stroke-linejoin:round; stroke-width:4; stroke-opacity:1; fill:none\" points=\"\n",
       "  203.964,829.217 222.861,829.217 \n",
       "  \"/>\n",
       "<polyline clip-path=\"url(#clip150)\" style=\"stroke:#000000; stroke-linecap:butt; stroke-linejoin:round; stroke-width:4; stroke-opacity:1; fill:none\" points=\"\n",
       "  203.964,554.313 222.861,554.313 \n",
       "  \"/>\n",
       "<polyline clip-path=\"url(#clip150)\" style=\"stroke:#000000; stroke-linecap:butt; stroke-linejoin:round; stroke-width:4; stroke-opacity:1; fill:none\" points=\"\n",
       "  203.964,279.409 222.861,279.409 \n",
       "  \"/>\n",
       "<path clip-path=\"url(#clip150)\" d=\"M156.019 1364.82 Q152.408 1364.82 150.579 1368.39 Q148.774 1371.93 148.774 1379.06 Q148.774 1386.17 150.579 1389.73 Q152.408 1393.27 156.019 1393.27 Q159.653 1393.27 161.459 1389.73 Q163.288 1386.17 163.288 1379.06 Q163.288 1371.93 161.459 1368.39 Q159.653 1364.82 156.019 1364.82 M156.019 1361.12 Q161.829 1361.12 164.885 1365.73 Q167.964 1370.31 167.964 1379.06 Q167.964 1387.79 164.885 1392.39 Q161.829 1396.98 156.019 1396.98 Q150.209 1396.98 147.13 1392.39 Q144.075 1387.79 144.075 1379.06 Q144.075 1370.31 147.13 1365.73 Q150.209 1361.12 156.019 1361.12 Z\" fill=\"#000000\" fill-rule=\"evenodd\" fill-opacity=\"1\" /><path clip-path=\"url(#clip150)\" d=\"M147.061 1086.84 L165.417 1086.84 L165.417 1090.78 L151.343 1090.78 L151.343 1099.25 Q152.362 1098.9 153.38 1098.74 Q154.399 1098.55 155.417 1098.55 Q161.204 1098.55 164.584 1101.72 Q167.964 1104.9 167.964 1110.31 Q167.964 1115.89 164.491 1118.99 Q161.019 1122.07 154.7 1122.07 Q152.524 1122.07 150.255 1121.7 Q148.01 1121.33 145.603 1120.59 L145.603 1115.89 Q147.686 1117.03 149.908 1117.58 Q152.13 1118.14 154.607 1118.14 Q158.612 1118.14 160.95 1116.03 Q163.288 1113.92 163.288 1110.31 Q163.288 1106.7 160.95 1104.59 Q158.612 1102.49 154.607 1102.49 Q152.732 1102.49 150.857 1102.91 Q149.005 1103.32 147.061 1104.2 L147.061 1086.84 Z\" fill=\"#000000\" fill-rule=\"evenodd\" fill-opacity=\"1\" /><path clip-path=\"url(#clip150)\" d=\"M116.668 842.561 L124.306 842.561 L124.306 816.196 L115.996 817.862 L115.996 813.603 L124.26 811.937 L128.936 811.937 L128.936 842.561 L136.575 842.561 L136.575 846.497 L116.668 846.497 L116.668 842.561 Z\" fill=\"#000000\" fill-rule=\"evenodd\" fill-opacity=\"1\" /><path clip-path=\"url(#clip150)\" d=\"M156.019 815.015 Q152.408 815.015 150.579 818.58 Q148.774 822.122 148.774 829.251 Q148.774 836.358 150.579 839.922 Q152.408 843.464 156.019 843.464 Q159.653 843.464 161.459 839.922 Q163.288 836.358 163.288 829.251 Q163.288 822.122 161.459 818.58 Q159.653 815.015 156.019 815.015 M156.019 811.312 Q161.829 811.312 164.885 815.918 Q167.964 820.501 167.964 829.251 Q167.964 837.978 164.885 842.584 Q161.829 847.168 156.019 847.168 Q150.209 847.168 147.13 842.584 Q144.075 837.978 144.075 829.251 Q144.075 820.501 147.13 815.918 Q150.209 811.312 156.019 811.312 Z\" fill=\"#000000\" fill-rule=\"evenodd\" fill-opacity=\"1\" /><path clip-path=\"url(#clip150)\" d=\"M117.663 567.658 L125.302 567.658 L125.302 541.292 L116.992 542.959 L116.992 538.699 L125.255 537.033 L129.931 537.033 L129.931 567.658 L137.57 567.658 L137.57 571.593 L117.663 571.593 L117.663 567.658 Z\" fill=\"#000000\" fill-rule=\"evenodd\" fill-opacity=\"1\" /><path clip-path=\"url(#clip150)\" d=\"M147.061 537.033 L165.417 537.033 L165.417 540.968 L151.343 540.968 L151.343 549.44 Q152.362 549.093 153.38 548.931 Q154.399 548.746 155.417 548.746 Q161.204 548.746 164.584 551.917 Q167.964 555.088 167.964 560.505 Q167.964 566.083 164.491 569.185 Q161.019 572.264 154.7 572.264 Q152.524 572.264 150.255 571.894 Q148.01 571.523 145.603 570.783 L145.603 566.083 Q147.686 567.218 149.908 567.773 Q152.13 568.329 154.607 568.329 Q158.612 568.329 160.95 566.222 Q163.288 564.116 163.288 560.505 Q163.288 556.894 160.95 554.787 Q158.612 552.681 154.607 552.681 Q152.732 552.681 150.857 553.097 Q149.005 553.514 147.061 554.394 L147.061 537.033 Z\" fill=\"#000000\" fill-rule=\"evenodd\" fill-opacity=\"1\" /><path clip-path=\"url(#clip150)\" d=\"M119.885 292.754 L136.204 292.754 L136.204 296.689 L114.26 296.689 L114.26 292.754 Q116.922 289.999 121.505 285.369 Q126.112 280.717 127.292 279.374 Q129.538 276.851 130.417 275.115 Q131.32 273.356 131.32 271.666 Q131.32 268.911 129.376 267.175 Q127.455 265.439 124.353 265.439 Q122.154 265.439 119.7 266.203 Q117.269 266.967 114.492 268.518 L114.492 263.796 Q117.316 262.661 119.769 262.083 Q122.223 261.504 124.26 261.504 Q129.63 261.504 132.825 264.189 Q136.019 266.874 136.019 271.365 Q136.019 273.495 135.209 275.416 Q134.422 277.314 132.316 279.907 Q131.737 280.578 128.635 283.795 Q125.533 286.99 119.885 292.754 Z\" fill=\"#000000\" fill-rule=\"evenodd\" fill-opacity=\"1\" /><path clip-path=\"url(#clip150)\" d=\"M156.019 265.208 Q152.408 265.208 150.579 268.772 Q148.774 272.314 148.774 279.444 Q148.774 286.55 150.579 290.115 Q152.408 293.656 156.019 293.656 Q159.653 293.656 161.459 290.115 Q163.288 286.55 163.288 279.444 Q163.288 272.314 161.459 268.772 Q159.653 265.208 156.019 265.208 M156.019 261.504 Q161.829 261.504 164.885 266.11 Q167.964 270.694 167.964 279.444 Q167.964 288.17 164.885 292.777 Q161.829 297.36 156.019 297.36 Q150.209 297.36 147.13 292.777 Q144.075 288.17 144.075 279.444 Q144.075 270.694 147.13 266.11 Q150.209 261.504 156.019 261.504 Z\" fill=\"#000000\" fill-rule=\"evenodd\" fill-opacity=\"1\" /><path clip-path=\"url(#clip150)\" d=\"M67.3143 826.336 Q73.68 828.819 75.6216 831.174 Q77.5631 833.53 77.5631 837.476 L77.5631 842.155 L72.6615 842.155 L72.6615 838.718 Q72.6615 836.299 71.5157 834.962 Q70.3699 833.625 66.1048 832.002 L63.4312 830.952 L28.3562 845.37 L28.3562 839.163 L56.238 828.023 L28.3562 816.883 L28.3562 810.677 L67.3143 826.336 Z\" fill=\"#000000\" fill-rule=\"evenodd\" fill-opacity=\"1\" /><path clip-path=\"url(#clip150)\" d=\"M14.479 782.413 L14.479 768.918 L19.0304 768.918 L19.0304 776.557 L68.0464 776.557 L68.0464 768.918 L72.5979 768.918 L72.5979 782.413 L14.479 782.413 Z\" fill=\"#000000\" fill-rule=\"evenodd\" fill-opacity=\"1\" /><path clip-path=\"url(#clip150)\" d=\"M58.5933 754.499 L58.5933 743.996 L22.3406 743.996 L24.6323 755.422 L18.7758 755.422 L16.4842 744.06 L16.4842 737.63 L58.5933 737.63 L58.5933 727.127 L64.0042 727.127 L64.0042 754.499 L58.5933 754.499 Z\" fill=\"#000000\" fill-rule=\"evenodd\" fill-opacity=\"1\" /><path clip-path=\"url(#clip150)\" d=\"M14.479 701.282 L72.5979 701.282 L72.5979 714.777 L68.0464 714.777 L68.0464 707.17 L19.0304 707.17 L19.0304 714.777 L14.479 714.777 L14.479 701.282 Z\" fill=\"#000000\" fill-rule=\"evenodd\" fill-opacity=\"1\" /><path clip-path=\"url(#clip150)\" d=\"M1126.03 34.0924 L1126.03 9.54393 L1133.48 9.54393 L1133.48 72.576 L1126.03 72.576 L1126.03 65.7705 Q1123.68 69.8214 1120.07 71.8063 Q1116.51 73.7508 1111.48 73.7508 Q1103.26 73.7508 1098.07 67.1883 Q1092.93 60.6258 1092.93 49.9314 Q1092.93 39.2371 1098.07 32.6746 Q1103.26 26.1121 1111.48 26.1121 Q1116.51 26.1121 1120.07 28.0971 Q1123.68 30.0415 1126.03 34.0924 M1100.63 49.9314 Q1100.63 58.1548 1103.99 62.8538 Q1107.39 67.5124 1113.31 67.5124 Q1119.22 67.5124 1122.62 62.8538 Q1126.03 58.1548 1126.03 49.9314 Q1126.03 41.7081 1122.62 37.0496 Q1119.22 32.3505 1113.31 32.3505 Q1107.39 32.3505 1103.99 37.0496 Q1100.63 41.7081 1100.63 49.9314 Z\" fill=\"#000000\" fill-rule=\"evenodd\" fill-opacity=\"1\" /><path clip-path=\"url(#clip150)\" d=\"M1171.8 9.54393 L1171.8 15.7418 L1164.67 15.7418 Q1160.66 15.7418 1159.08 17.3622 Q1157.54 18.9825 1157.54 23.1955 L1157.54 27.2059 L1169.82 27.2059 L1169.82 32.9987 L1157.54 32.9987 L1157.54 72.576 L1150.05 72.576 L1150.05 32.9987 L1142.92 32.9987 L1142.92 27.2059 L1150.05 27.2059 L1150.05 24.0462 Q1150.05 16.471 1153.57 13.0277 Q1157.1 9.54393 1164.75 9.54393 L1171.8 9.54393 Z\" fill=\"#000000\" fill-rule=\"evenodd\" fill-opacity=\"1\" /><path clip-path=\"url(#clip150)\" d=\"M1195.94 9.62495 Q1190.52 18.942 1187.88 28.0566 Q1185.25 37.1711 1185.25 46.5287 Q1185.25 55.8863 1187.88 65.0818 Q1190.56 74.2369 1195.94 83.5134 L1189.46 83.5134 Q1183.39 73.9938 1180.35 64.7983 Q1177.35 55.6027 1177.35 46.5287 Q1177.35 37.4952 1180.35 28.3401 Q1183.35 19.1851 1189.46 9.62495 L1195.94 9.62495 Z\" fill=\"#000000\" fill-rule=\"evenodd\" fill-opacity=\"1\" /><path clip-path=\"url(#clip150)\" d=\"M1248.12 27.2059 L1231.71 49.2833 L1248.97 72.576 L1240.18 72.576 L1226.97 54.752 L1213.77 72.576 L1204.98 72.576 L1222.6 48.8377 L1206.48 27.2059 L1215.27 27.2059 L1227.3 43.369 L1239.33 27.2059 L1248.12 27.2059 Z\" fill=\"#000000\" fill-rule=\"evenodd\" fill-opacity=\"1\" /><path clip-path=\"url(#clip150)\" d=\"M1258.33 9.62495 L1264.81 9.62495 Q1270.89 19.1851 1273.88 28.3401 Q1276.92 37.4952 1276.92 46.5287 Q1276.92 55.6027 1273.88 64.7983 Q1270.89 73.9938 1264.81 83.5134 L1258.33 83.5134 Q1263.72 74.2369 1266.35 65.0818 Q1269.02 55.8863 1269.02 46.5287 Q1269.02 37.1711 1266.35 28.0566 Q1263.72 18.942 1258.33 9.62495 Z\" fill=\"#000000\" fill-rule=\"evenodd\" fill-opacity=\"1\" /><path clip-path=\"url(#clip150)\" d=\"M1331.49 12.096 L1338.37 12.096 L1317.31 80.2727 L1310.42 80.2727 L1331.49 12.096 Z\" fill=\"#000000\" fill-rule=\"evenodd\" fill-opacity=\"1\" /><path clip-path=\"url(#clip150)\" d=\"M1402.42 34.0924 L1402.42 9.54393 L1409.87 9.54393 L1409.87 72.576 L1402.42 72.576 L1402.42 65.7705 Q1400.07 69.8214 1396.46 71.8063 Q1392.9 73.7508 1387.88 73.7508 Q1379.65 73.7508 1374.47 67.1883 Q1369.32 60.6258 1369.32 49.9314 Q1369.32 39.2371 1374.47 32.6746 Q1379.65 26.1121 1387.88 26.1121 Q1392.9 26.1121 1396.46 28.0971 Q1400.07 30.0415 1402.42 34.0924 M1377.02 49.9314 Q1377.02 58.1548 1380.38 62.8538 Q1383.78 67.5124 1389.7 67.5124 Q1395.61 67.5124 1399.02 62.8538 Q1402.42 58.1548 1402.42 49.9314 Q1402.42 41.7081 1399.02 37.0496 Q1395.61 32.3505 1389.7 32.3505 Q1383.78 32.3505 1380.38 37.0496 Q1377.02 41.7081 1377.02 49.9314 Z\" fill=\"#000000\" fill-rule=\"evenodd\" fill-opacity=\"1\" /><path clip-path=\"url(#clip150)\" d=\"M1462.94 27.2059 L1446.53 49.2833 L1463.79 72.576 L1455 72.576 L1441.79 54.752 L1428.59 72.576 L1419.8 72.576 L1437.42 48.8377 L1421.3 27.2059 L1430.09 27.2059 L1442.12 43.369 L1454.15 27.2059 L1462.94 27.2059 Z\" fill=\"#000000\" fill-rule=\"evenodd\" fill-opacity=\"1\" /><polyline clip-path=\"url(#clip152)\" style=\"stroke:#009af9; stroke-linecap:butt; stroke-linejoin:round; stroke-width:4; stroke-opacity:1; fill:none\" points=\"\n",
       "  264.778,160.256 269.728,207.004 274.677,252.068 279.626,295.507 284.575,337.376 296.016,428.454 307.457,512.07 318.897,588.812 330.338,659.22 341.779,723.796 \n",
       "  353.219,783.001 364.66,837.262 376.101,886.972 398.982,974.167 421.864,1047.17 444.745,1108.17 467.626,1159.04 495.128,1209 522.629,1248.92 550.131,1280.68 \n",
       "  577.632,1305.83 624.137,1336.77 670.641,1357.06 721.158,1370.89 771.674,1379.04 818.246,1383.26 864.818,1385.45 964.679,1386.4 1080.38,1384.97 1183.19,1383.33 \n",
       "  1273.36,1382.11 1371.66,1381.08 1470.54,1380.36 1579.88,1379.83 1683.9,1379.52 1792.06,1379.31 1883.11,1379.21 1994.27,1379.13 2098.77,1379.09 2266.18,1379.05 \n",
       "  2291.94,1379.05 \n",
       "  \"/>\n",
       "</svg>\n"
      ]
     },
     "execution_count": 28,
     "metadata": {},
     "output_type": "execute_result"
    }
   ],
   "source": [
    "plot(D(f), -2, 10, ylab = \"y [1]\", xlab = \"x [1]\", label = \"\", title = \"df(x) / dx\")"
   ]
  },
  {
   "cell_type": "code",
   "execution_count": 29,
   "id": "052a48c1",
   "metadata": {},
   "outputs": [
    {
     "data": {
      "image/svg+xml": [
       "<?xml version=\"1.0\" encoding=\"utf-8\"?>\n",
       "<svg xmlns=\"http://www.w3.org/2000/svg\" xmlns:xlink=\"http://www.w3.org/1999/xlink\" width=\"600\" height=\"400\" viewBox=\"0 0 2400 1600\">\n",
       "<defs>\n",
       "  <clipPath id=\"clip190\">\n",
       "    <rect x=\"0\" y=\"0\" width=\"2400\" height=\"1600\"/>\n",
       "  </clipPath>\n",
       "</defs>\n",
       "<path clip-path=\"url(#clip190)\" d=\"\n",
       "M0 1600 L2400 1600 L2400 0 L0 0  Z\n",
       "  \" fill=\"#ffffff\" fill-rule=\"evenodd\" fill-opacity=\"1\"/>\n",
       "<defs>\n",
       "  <clipPath id=\"clip191\">\n",
       "    <rect x=\"480\" y=\"0\" width=\"1681\" height=\"1600\"/>\n",
       "  </clipPath>\n",
       "</defs>\n",
       "<path clip-path=\"url(#clip190)\" d=\"\n",
       "M242.135 1423.18 L2352.76 1423.18 L2352.76 123.472 L242.135 123.472  Z\n",
       "  \" fill=\"#ffffff\" fill-rule=\"evenodd\" fill-opacity=\"1\"/>\n",
       "<defs>\n",
       "  <clipPath id=\"clip192\">\n",
       "    <rect x=\"242\" y=\"123\" width=\"2112\" height=\"1301\"/>\n",
       "  </clipPath>\n",
       "</defs>\n",
       "<polyline clip-path=\"url(#clip192)\" style=\"stroke:#000000; stroke-linecap:butt; stroke-linejoin:round; stroke-width:2; stroke-opacity:0.1; fill:none\" points=\"\n",
       "  633.728,1423.18 633.728,123.472 \n",
       "  \"/>\n",
       "<polyline clip-path=\"url(#clip192)\" style=\"stroke:#000000; stroke-linecap:butt; stroke-linejoin:round; stroke-width:2; stroke-opacity:0.1; fill:none\" points=\"\n",
       "  1048.55,1423.18 1048.55,123.472 \n",
       "  \"/>\n",
       "<polyline clip-path=\"url(#clip192)\" style=\"stroke:#000000; stroke-linecap:butt; stroke-linejoin:round; stroke-width:2; stroke-opacity:0.1; fill:none\" points=\"\n",
       "  1463.37,1423.18 1463.37,123.472 \n",
       "  \"/>\n",
       "<polyline clip-path=\"url(#clip192)\" style=\"stroke:#000000; stroke-linecap:butt; stroke-linejoin:round; stroke-width:2; stroke-opacity:0.1; fill:none\" points=\"\n",
       "  1878.2,1423.18 1878.2,123.472 \n",
       "  \"/>\n",
       "<polyline clip-path=\"url(#clip192)\" style=\"stroke:#000000; stroke-linecap:butt; stroke-linejoin:round; stroke-width:2; stroke-opacity:0.1; fill:none\" points=\"\n",
       "  2293.02,1423.18 2293.02,123.472 \n",
       "  \"/>\n",
       "<polyline clip-path=\"url(#clip190)\" style=\"stroke:#000000; stroke-linecap:butt; stroke-linejoin:round; stroke-width:4; stroke-opacity:1; fill:none\" points=\"\n",
       "  242.135,1423.18 2352.76,1423.18 \n",
       "  \"/>\n",
       "<polyline clip-path=\"url(#clip190)\" style=\"stroke:#000000; stroke-linecap:butt; stroke-linejoin:round; stroke-width:4; stroke-opacity:1; fill:none\" points=\"\n",
       "  633.728,1423.18 633.728,1404.28 \n",
       "  \"/>\n",
       "<polyline clip-path=\"url(#clip190)\" style=\"stroke:#000000; stroke-linecap:butt; stroke-linejoin:round; stroke-width:4; stroke-opacity:1; fill:none\" points=\"\n",
       "  1048.55,1423.18 1048.55,1404.28 \n",
       "  \"/>\n",
       "<polyline clip-path=\"url(#clip190)\" style=\"stroke:#000000; stroke-linecap:butt; stroke-linejoin:round; stroke-width:4; stroke-opacity:1; fill:none\" points=\"\n",
       "  1463.37,1423.18 1463.37,1404.28 \n",
       "  \"/>\n",
       "<polyline clip-path=\"url(#clip190)\" style=\"stroke:#000000; stroke-linecap:butt; stroke-linejoin:round; stroke-width:4; stroke-opacity:1; fill:none\" points=\"\n",
       "  1878.2,1423.18 1878.2,1404.28 \n",
       "  \"/>\n",
       "<polyline clip-path=\"url(#clip190)\" style=\"stroke:#000000; stroke-linecap:butt; stroke-linejoin:round; stroke-width:4; stroke-opacity:1; fill:none\" points=\"\n",
       "  2293.02,1423.18 2293.02,1404.28 \n",
       "  \"/>\n",
       "<path clip-path=\"url(#clip190)\" d=\"M611.112 1454.1 Q607.501 1454.1 605.673 1457.66 Q603.867 1461.2 603.867 1468.33 Q603.867 1475.44 605.673 1479.01 Q607.501 1482.55 611.112 1482.55 Q614.747 1482.55 616.552 1479.01 Q618.381 1475.44 618.381 1468.33 Q618.381 1461.2 616.552 1457.66 Q614.747 1454.1 611.112 1454.1 M611.112 1450.39 Q616.922 1450.39 619.978 1455 Q623.057 1459.58 623.057 1468.33 Q623.057 1477.06 619.978 1481.67 Q616.922 1486.25 611.112 1486.25 Q605.302 1486.25 602.223 1481.67 Q599.168 1477.06 599.168 1468.33 Q599.168 1459.58 602.223 1455 Q605.302 1450.39 611.112 1450.39 Z\" fill=\"#000000\" fill-rule=\"evenodd\" fill-opacity=\"1\" /><path clip-path=\"url(#clip190)\" d=\"M631.274 1479.7 L636.158 1479.7 L636.158 1485.58 L631.274 1485.58 L631.274 1479.7 Z\" fill=\"#000000\" fill-rule=\"evenodd\" fill-opacity=\"1\" /><path clip-path=\"url(#clip190)\" d=\"M656.344 1454.1 Q652.732 1454.1 650.904 1457.66 Q649.098 1461.2 649.098 1468.33 Q649.098 1475.44 650.904 1479.01 Q652.732 1482.55 656.344 1482.55 Q659.978 1482.55 661.783 1479.01 Q663.612 1475.44 663.612 1468.33 Q663.612 1461.2 661.783 1457.66 Q659.978 1454.1 656.344 1454.1 M656.344 1450.39 Q662.154 1450.39 665.209 1455 Q668.288 1459.58 668.288 1468.33 Q668.288 1477.06 665.209 1481.67 Q662.154 1486.25 656.344 1486.25 Q650.533 1486.25 647.455 1481.67 Q644.399 1477.06 644.399 1468.33 Q644.399 1459.58 647.455 1455 Q650.533 1450.39 656.344 1450.39 Z\" fill=\"#000000\" fill-rule=\"evenodd\" fill-opacity=\"1\" /><path clip-path=\"url(#clip190)\" d=\"M1020.29 1481.64 L1036.61 1481.64 L1036.61 1485.58 L1014.66 1485.58 L1014.66 1481.64 Q1017.32 1478.89 1021.91 1474.26 Q1026.51 1469.61 1027.69 1468.27 Q1029.94 1465.74 1030.82 1464.01 Q1031.72 1462.25 1031.72 1460.56 Q1031.72 1457.8 1029.78 1456.07 Q1027.86 1454.33 1024.76 1454.33 Q1022.56 1454.33 1020.1 1455.09 Q1017.67 1455.86 1014.89 1457.41 L1014.89 1452.69 Q1017.72 1451.55 1020.17 1450.97 Q1022.63 1450.39 1024.66 1450.39 Q1030.03 1450.39 1033.23 1453.08 Q1036.42 1455.77 1036.42 1460.26 Q1036.42 1462.39 1035.61 1464.31 Q1034.82 1466.2 1032.72 1468.8 Q1032.14 1469.47 1029.04 1472.69 Q1025.94 1475.88 1020.29 1481.64 Z\" fill=\"#000000\" fill-rule=\"evenodd\" fill-opacity=\"1\" /><path clip-path=\"url(#clip190)\" d=\"M1046.42 1479.7 L1051.31 1479.7 L1051.31 1485.58 L1046.42 1485.58 L1046.42 1479.7 Z\" fill=\"#000000\" fill-rule=\"evenodd\" fill-opacity=\"1\" /><path clip-path=\"url(#clip190)\" d=\"M1061.54 1451.02 L1079.89 1451.02 L1079.89 1454.96 L1065.82 1454.96 L1065.82 1463.43 Q1066.84 1463.08 1067.86 1462.92 Q1068.88 1462.73 1069.89 1462.73 Q1075.68 1462.73 1079.06 1465.9 Q1082.44 1469.08 1082.44 1474.49 Q1082.44 1480.07 1078.97 1483.17 Q1075.5 1486.25 1069.18 1486.25 Q1067 1486.25 1064.73 1485.88 Q1062.49 1485.51 1060.08 1484.77 L1060.08 1480.07 Q1062.16 1481.2 1064.38 1481.76 Q1066.61 1482.32 1069.08 1482.32 Q1073.09 1482.32 1075.43 1480.21 Q1077.76 1478.1 1077.76 1474.49 Q1077.76 1470.88 1075.43 1468.77 Q1073.09 1466.67 1069.08 1466.67 Q1067.21 1466.67 1065.33 1467.08 Q1063.48 1467.5 1061.54 1468.38 L1061.54 1451.02 Z\" fill=\"#000000\" fill-rule=\"evenodd\" fill-opacity=\"1\" /><path clip-path=\"url(#clip190)\" d=\"M1430.54 1451.02 L1448.9 1451.02 L1448.9 1454.96 L1434.82 1454.96 L1434.82 1463.43 Q1435.84 1463.08 1436.86 1462.92 Q1437.88 1462.73 1438.9 1462.73 Q1444.68 1462.73 1448.06 1465.9 Q1451.44 1469.08 1451.44 1474.49 Q1451.44 1480.07 1447.97 1483.17 Q1444.5 1486.25 1438.18 1486.25 Q1436 1486.25 1433.73 1485.88 Q1431.49 1485.51 1429.08 1484.77 L1429.08 1480.07 Q1431.16 1481.2 1433.39 1481.76 Q1435.61 1482.32 1438.09 1482.32 Q1442.09 1482.32 1444.43 1480.21 Q1446.77 1478.1 1446.77 1474.49 Q1446.77 1470.88 1444.43 1468.77 Q1442.09 1466.67 1438.09 1466.67 Q1436.21 1466.67 1434.34 1467.08 Q1432.48 1467.5 1430.54 1468.38 L1430.54 1451.02 Z\" fill=\"#000000\" fill-rule=\"evenodd\" fill-opacity=\"1\" /><path clip-path=\"url(#clip190)\" d=\"M1460.65 1479.7 L1465.54 1479.7 L1465.54 1485.58 L1460.65 1485.58 L1460.65 1479.7 Z\" fill=\"#000000\" fill-rule=\"evenodd\" fill-opacity=\"1\" /><path clip-path=\"url(#clip190)\" d=\"M1485.72 1454.1 Q1482.11 1454.1 1480.28 1457.66 Q1478.48 1461.2 1478.48 1468.33 Q1478.48 1475.44 1480.28 1479.01 Q1482.11 1482.55 1485.72 1482.55 Q1489.36 1482.55 1491.16 1479.01 Q1492.99 1475.44 1492.99 1468.33 Q1492.99 1461.2 1491.16 1457.66 Q1489.36 1454.1 1485.72 1454.1 M1485.72 1450.39 Q1491.53 1450.39 1494.59 1455 Q1497.67 1459.58 1497.67 1468.33 Q1497.67 1477.06 1494.59 1481.67 Q1491.53 1486.25 1485.72 1486.25 Q1479.91 1486.25 1476.84 1481.67 Q1473.78 1477.06 1473.78 1468.33 Q1473.78 1459.58 1476.84 1455 Q1479.91 1450.39 1485.72 1450.39 Z\" fill=\"#000000\" fill-rule=\"evenodd\" fill-opacity=\"1\" /><path clip-path=\"url(#clip190)\" d=\"M1844.52 1451.02 L1866.74 1451.02 L1866.74 1453.01 L1854.19 1485.58 L1849.31 1485.58 L1861.11 1454.96 L1844.52 1454.96 L1844.52 1451.02 Z\" fill=\"#000000\" fill-rule=\"evenodd\" fill-opacity=\"1\" /><path clip-path=\"url(#clip190)\" d=\"M1875.86 1479.7 L1880.74 1479.7 L1880.74 1485.58 L1875.86 1485.58 L1875.86 1479.7 Z\" fill=\"#000000\" fill-rule=\"evenodd\" fill-opacity=\"1\" /><path clip-path=\"url(#clip190)\" d=\"M1890.98 1451.02 L1909.33 1451.02 L1909.33 1454.96 L1895.26 1454.96 L1895.26 1463.43 Q1896.28 1463.08 1897.3 1462.92 Q1898.31 1462.73 1899.33 1462.73 Q1905.12 1462.73 1908.5 1465.9 Q1911.88 1469.08 1911.88 1474.49 Q1911.88 1480.07 1908.41 1483.17 Q1904.93 1486.25 1898.61 1486.25 Q1896.44 1486.25 1894.17 1485.88 Q1891.92 1485.51 1889.52 1484.77 L1889.52 1480.07 Q1891.6 1481.2 1893.82 1481.76 Q1896.05 1482.32 1898.52 1482.32 Q1902.53 1482.32 1904.86 1480.21 Q1907.2 1478.1 1907.2 1474.49 Q1907.2 1470.88 1904.86 1468.77 Q1902.53 1466.67 1898.52 1466.67 Q1896.65 1466.67 1894.77 1467.08 Q1892.92 1467.5 1890.98 1468.38 L1890.98 1451.02 Z\" fill=\"#000000\" fill-rule=\"evenodd\" fill-opacity=\"1\" /><path clip-path=\"url(#clip190)\" d=\"M2245.09 1481.64 L2252.73 1481.64 L2252.73 1455.28 L2244.42 1456.95 L2244.42 1452.69 L2252.69 1451.02 L2257.36 1451.02 L2257.36 1481.64 L2265 1481.64 L2265 1485.58 L2245.09 1485.58 L2245.09 1481.64 Z\" fill=\"#000000\" fill-rule=\"evenodd\" fill-opacity=\"1\" /><path clip-path=\"url(#clip190)\" d=\"M2284.44 1454.1 Q2280.83 1454.1 2279.01 1457.66 Q2277.2 1461.2 2277.2 1468.33 Q2277.2 1475.44 2279.01 1479.01 Q2280.83 1482.55 2284.44 1482.55 Q2288.08 1482.55 2289.88 1479.01 Q2291.71 1475.44 2291.71 1468.33 Q2291.71 1461.2 2289.88 1457.66 Q2288.08 1454.1 2284.44 1454.1 M2284.44 1450.39 Q2290.26 1450.39 2293.31 1455 Q2296.39 1459.58 2296.39 1468.33 Q2296.39 1477.06 2293.31 1481.67 Q2290.26 1486.25 2284.44 1486.25 Q2278.63 1486.25 2275.56 1481.67 Q2272.5 1477.06 2272.5 1468.33 Q2272.5 1459.58 2275.56 1455 Q2278.63 1450.39 2284.44 1450.39 Z\" fill=\"#000000\" fill-rule=\"evenodd\" fill-opacity=\"1\" /><path clip-path=\"url(#clip190)\" d=\"M2304.61 1479.7 L2309.49 1479.7 L2309.49 1485.58 L2304.61 1485.58 L2304.61 1479.7 Z\" fill=\"#000000\" fill-rule=\"evenodd\" fill-opacity=\"1\" /><path clip-path=\"url(#clip190)\" d=\"M2329.68 1454.1 Q2326.07 1454.1 2324.24 1457.66 Q2322.43 1461.2 2322.43 1468.33 Q2322.43 1475.44 2324.24 1479.01 Q2326.07 1482.55 2329.68 1482.55 Q2333.31 1482.55 2335.12 1479.01 Q2336.94 1475.44 2336.94 1468.33 Q2336.94 1461.2 2335.12 1457.66 Q2333.31 1454.1 2329.68 1454.1 M2329.68 1450.39 Q2335.49 1450.39 2338.54 1455 Q2341.62 1459.58 2341.62 1468.33 Q2341.62 1477.06 2338.54 1481.67 Q2335.49 1486.25 2329.68 1486.25 Q2323.87 1486.25 2320.79 1481.67 Q2317.73 1477.06 2317.73 1468.33 Q2317.73 1459.58 2320.79 1455 Q2323.87 1450.39 2329.68 1450.39 Z\" fill=\"#000000\" fill-rule=\"evenodd\" fill-opacity=\"1\" /><path clip-path=\"url(#clip190)\" d=\"M1259.27 1532.4 L1246.38 1549.74 L1259.94 1568.04 L1253.03 1568.04 L1242.65 1554.04 L1232.28 1568.04 L1225.37 1568.04 L1239.21 1549.39 L1226.55 1532.4 L1233.45 1532.4 L1242.91 1545.1 L1252.36 1532.4 L1259.27 1532.4 Z\" fill=\"#000000\" fill-rule=\"evenodd\" fill-opacity=\"1\" /><path clip-path=\"url(#clip190)\" d=\"M1288.39 1518.52 L1301.89 1518.52 L1301.89 1523.07 L1294.25 1523.07 L1294.25 1572.09 L1301.89 1572.09 L1301.89 1576.64 L1288.39 1576.64 L1288.39 1518.52 Z\" fill=\"#000000\" fill-rule=\"evenodd\" fill-opacity=\"1\" /><path clip-path=\"url(#clip190)\" d=\"M1316.3 1562.63 L1326.81 1562.63 L1326.81 1526.38 L1315.38 1528.67 L1315.38 1522.82 L1326.74 1520.52 L1333.17 1520.52 L1333.17 1562.63 L1343.68 1562.63 L1343.68 1568.04 L1316.3 1568.04 L1316.3 1562.63 Z\" fill=\"#000000\" fill-rule=\"evenodd\" fill-opacity=\"1\" /><path clip-path=\"url(#clip190)\" d=\"M1369.52 1518.52 L1369.52 1576.64 L1356.03 1576.64 L1356.03 1572.09 L1363.63 1572.09 L1363.63 1523.07 L1356.03 1523.07 L1356.03 1518.52 L1369.52 1518.52 Z\" fill=\"#000000\" fill-rule=\"evenodd\" fill-opacity=\"1\" /><polyline clip-path=\"url(#clip192)\" style=\"stroke:#000000; stroke-linecap:butt; stroke-linejoin:round; stroke-width:2; stroke-opacity:0.1; fill:none\" points=\"\n",
       "  242.135,1404.78 2352.76,1404.78 \n",
       "  \"/>\n",
       "<polyline clip-path=\"url(#clip192)\" style=\"stroke:#000000; stroke-linecap:butt; stroke-linejoin:round; stroke-width:2; stroke-opacity:0.1; fill:none\" points=\"\n",
       "  242.135,990.612 2352.76,990.612 \n",
       "  \"/>\n",
       "<polyline clip-path=\"url(#clip192)\" style=\"stroke:#000000; stroke-linecap:butt; stroke-linejoin:round; stroke-width:2; stroke-opacity:0.1; fill:none\" points=\"\n",
       "  242.135,576.448 2352.76,576.448 \n",
       "  \"/>\n",
       "<polyline clip-path=\"url(#clip192)\" style=\"stroke:#000000; stroke-linecap:butt; stroke-linejoin:round; stroke-width:2; stroke-opacity:0.1; fill:none\" points=\"\n",
       "  242.135,162.284 2352.76,162.284 \n",
       "  \"/>\n",
       "<polyline clip-path=\"url(#clip190)\" style=\"stroke:#000000; stroke-linecap:butt; stroke-linejoin:round; stroke-width:4; stroke-opacity:1; fill:none\" points=\"\n",
       "  242.135,1423.18 242.135,123.472 \n",
       "  \"/>\n",
       "<polyline clip-path=\"url(#clip190)\" style=\"stroke:#000000; stroke-linecap:butt; stroke-linejoin:round; stroke-width:4; stroke-opacity:1; fill:none\" points=\"\n",
       "  242.135,1404.78 261.032,1404.78 \n",
       "  \"/>\n",
       "<polyline clip-path=\"url(#clip190)\" style=\"stroke:#000000; stroke-linecap:butt; stroke-linejoin:round; stroke-width:4; stroke-opacity:1; fill:none\" points=\"\n",
       "  242.135,990.612 261.032,990.612 \n",
       "  \"/>\n",
       "<polyline clip-path=\"url(#clip190)\" style=\"stroke:#000000; stroke-linecap:butt; stroke-linejoin:round; stroke-width:4; stroke-opacity:1; fill:none\" points=\"\n",
       "  242.135,576.448 261.032,576.448 \n",
       "  \"/>\n",
       "<polyline clip-path=\"url(#clip190)\" style=\"stroke:#000000; stroke-linecap:butt; stroke-linejoin:round; stroke-width:4; stroke-opacity:1; fill:none\" points=\"\n",
       "  242.135,162.284 261.032,162.284 \n",
       "  \"/>\n",
       "<path clip-path=\"url(#clip190)\" d=\"M114.26 1405.23 L143.936 1405.23 L143.936 1409.16 L114.26 1409.16 L114.26 1405.23 Z\" fill=\"#000000\" fill-rule=\"evenodd\" fill-opacity=\"1\" /><path clip-path=\"url(#clip190)\" d=\"M168.195 1403.42 Q171.552 1404.14 173.427 1406.41 Q175.325 1408.68 175.325 1412.01 Q175.325 1417.12 171.806 1419.93 Q168.288 1422.73 161.806 1422.73 Q159.63 1422.73 157.315 1422.29 Q155.024 1421.87 152.57 1421.01 L152.57 1416.5 Q154.515 1417.63 156.829 1418.21 Q159.144 1418.79 161.667 1418.79 Q166.065 1418.79 168.357 1417.06 Q170.672 1415.32 170.672 1412.01 Q170.672 1408.95 168.519 1407.24 Q166.39 1405.5 162.57 1405.5 L158.542 1405.5 L158.542 1401.66 L162.755 1401.66 Q166.204 1401.66 168.033 1400.3 Q169.862 1398.91 169.862 1396.31 Q169.862 1393.65 167.964 1392.24 Q166.089 1390.81 162.57 1390.81 Q160.649 1390.81 158.45 1391.22 Q156.251 1391.64 153.612 1392.52 L153.612 1388.35 Q156.274 1387.61 158.589 1387.24 Q160.927 1386.87 162.987 1386.87 Q168.311 1386.87 171.413 1389.3 Q174.514 1391.71 174.514 1395.83 Q174.514 1398.7 172.871 1400.69 Q171.227 1402.66 168.195 1403.42 Z\" fill=\"#000000\" fill-rule=\"evenodd\" fill-opacity=\"1\" /><path clip-path=\"url(#clip190)\" d=\"M194.19 1390.57 Q190.579 1390.57 188.75 1394.14 Q186.945 1397.68 186.945 1404.81 Q186.945 1411.92 188.75 1415.48 Q190.579 1419.02 194.19 1419.02 Q197.825 1419.02 199.63 1415.48 Q201.459 1411.92 201.459 1404.81 Q201.459 1397.68 199.63 1394.14 Q197.825 1390.57 194.19 1390.57 M194.19 1386.87 Q200 1386.87 203.056 1391.48 Q206.135 1396.06 206.135 1404.81 Q206.135 1413.54 203.056 1418.14 Q200 1422.73 194.19 1422.73 Q188.38 1422.73 185.301 1418.14 Q182.246 1413.54 182.246 1404.81 Q182.246 1396.06 185.301 1391.48 Q188.38 1386.87 194.19 1386.87 Z\" fill=\"#000000\" fill-rule=\"evenodd\" fill-opacity=\"1\" /><path clip-path=\"url(#clip190)\" d=\"M114.26 991.063 L143.936 991.063 L143.936 994.998 L114.26 994.998 L114.26 991.063 Z\" fill=\"#000000\" fill-rule=\"evenodd\" fill-opacity=\"1\" /><path clip-path=\"url(#clip190)\" d=\"M158.056 1003.96 L174.376 1003.96 L174.376 1007.89 L152.431 1007.89 L152.431 1003.96 Q155.093 1001.2 159.677 996.572 Q164.283 991.919 165.464 990.577 Q167.709 988.054 168.589 986.318 Q169.491 984.558 169.491 982.869 Q169.491 980.114 167.547 978.378 Q165.626 976.642 162.524 976.642 Q160.325 976.642 157.871 977.406 Q155.44 978.169 152.663 979.72 L152.663 974.998 Q155.487 973.864 157.94 973.285 Q160.394 972.707 162.431 972.707 Q167.802 972.707 170.996 975.392 Q174.19 978.077 174.19 982.568 Q174.19 984.697 173.38 986.618 Q172.593 988.517 170.487 991.109 Q169.908 991.78 166.806 994.998 Q163.704 998.192 158.056 1003.96 Z\" fill=\"#000000\" fill-rule=\"evenodd\" fill-opacity=\"1\" /><path clip-path=\"url(#clip190)\" d=\"M194.19 976.41 Q190.579 976.41 188.75 979.975 Q186.945 983.517 186.945 990.646 Q186.945 997.753 188.75 1001.32 Q190.579 1004.86 194.19 1004.86 Q197.825 1004.86 199.63 1001.32 Q201.459 997.753 201.459 990.646 Q201.459 983.517 199.63 979.975 Q197.825 976.41 194.19 976.41 M194.19 972.707 Q200 972.707 203.056 977.313 Q206.135 981.896 206.135 990.646 Q206.135 999.373 203.056 1003.98 Q200 1008.56 194.19 1008.56 Q188.38 1008.56 185.301 1003.98 Q182.246 999.373 182.246 990.646 Q182.246 981.896 185.301 977.313 Q188.38 972.707 194.19 972.707 Z\" fill=\"#000000\" fill-rule=\"evenodd\" fill-opacity=\"1\" /><path clip-path=\"url(#clip190)\" d=\"M114.26 576.899 L143.936 576.899 L143.936 580.834 L114.26 580.834 L114.26 576.899 Z\" fill=\"#000000\" fill-rule=\"evenodd\" fill-opacity=\"1\" /><path clip-path=\"url(#clip190)\" d=\"M154.839 589.793 L162.477 589.793 L162.477 563.427 L154.167 565.094 L154.167 560.834 L162.431 559.168 L167.107 559.168 L167.107 589.793 L174.746 589.793 L174.746 593.728 L154.839 593.728 L154.839 589.793 Z\" fill=\"#000000\" fill-rule=\"evenodd\" fill-opacity=\"1\" /><path clip-path=\"url(#clip190)\" d=\"M194.19 562.246 Q190.579 562.246 188.75 565.811 Q186.945 569.353 186.945 576.483 Q186.945 583.589 188.75 587.154 Q190.579 590.695 194.19 590.695 Q197.825 590.695 199.63 587.154 Q201.459 583.589 201.459 576.483 Q201.459 569.353 199.63 565.811 Q197.825 562.246 194.19 562.246 M194.19 558.543 Q200 558.543 203.056 563.149 Q206.135 567.733 206.135 576.483 Q206.135 585.209 203.056 589.816 Q200 594.399 194.19 594.399 Q188.38 594.399 185.301 589.816 Q182.246 585.209 182.246 576.483 Q182.246 567.733 185.301 563.149 Q188.38 558.543 194.19 558.543 Z\" fill=\"#000000\" fill-rule=\"evenodd\" fill-opacity=\"1\" /><path clip-path=\"url(#clip190)\" d=\"M194.19 148.083 Q190.579 148.083 188.75 151.648 Q186.945 155.189 186.945 162.319 Q186.945 169.425 188.75 172.99 Q190.579 176.532 194.19 176.532 Q197.825 176.532 199.63 172.99 Q201.459 169.425 201.459 162.319 Q201.459 155.189 199.63 151.648 Q197.825 148.083 194.19 148.083 M194.19 144.379 Q200 144.379 203.056 148.986 Q206.135 153.569 206.135 162.319 Q206.135 171.046 203.056 175.652 Q200 180.235 194.19 180.235 Q188.38 180.235 185.301 175.652 Q182.246 171.046 182.246 162.319 Q182.246 153.569 185.301 148.986 Q188.38 144.379 194.19 144.379 Z\" fill=\"#000000\" fill-rule=\"evenodd\" fill-opacity=\"1\" /><path clip-path=\"url(#clip190)\" d=\"M67.3143 826.336 Q73.68 828.819 75.6216 831.174 Q77.5631 833.53 77.5631 837.476 L77.5631 842.155 L72.6615 842.155 L72.6615 838.718 Q72.6615 836.299 71.5157 834.962 Q70.3699 833.625 66.1048 832.002 L63.4312 830.952 L28.3562 845.37 L28.3562 839.163 L56.238 828.023 L28.3562 816.883 L28.3562 810.677 L67.3143 826.336 Z\" fill=\"#000000\" fill-rule=\"evenodd\" fill-opacity=\"1\" /><path clip-path=\"url(#clip190)\" d=\"M14.479 782.413 L14.479 768.918 L19.0304 768.918 L19.0304 776.557 L68.0464 776.557 L68.0464 768.918 L72.5979 768.918 L72.5979 782.413 L14.479 782.413 Z\" fill=\"#000000\" fill-rule=\"evenodd\" fill-opacity=\"1\" /><path clip-path=\"url(#clip190)\" d=\"M58.5933 754.499 L58.5933 743.996 L22.3406 743.996 L24.6323 755.422 L18.7758 755.422 L16.4842 744.06 L16.4842 737.63 L58.5933 737.63 L58.5933 727.127 L64.0042 727.127 L64.0042 754.499 L58.5933 754.499 Z\" fill=\"#000000\" fill-rule=\"evenodd\" fill-opacity=\"1\" /><path clip-path=\"url(#clip190)\" d=\"M14.479 701.282 L72.5979 701.282 L72.5979 714.777 L68.0464 714.777 L68.0464 707.17 L19.0304 707.17 L19.0304 714.777 L14.479 714.777 L14.479 701.282 Z\" fill=\"#000000\" fill-rule=\"evenodd\" fill-opacity=\"1\" /><path clip-path=\"url(#clip190)\" d=\"M1025.61 34.0924 L1025.61 9.54393 L1033.06 9.54393 L1033.06 72.576 L1025.61 72.576 L1025.61 65.7705 Q1023.26 69.8214 1019.65 71.8063 Q1016.09 73.7508 1011.07 73.7508 Q1002.84 73.7508 997.658 67.1883 Q992.513 60.6258 992.513 49.9314 Q992.513 39.2371 997.658 32.6746 Q1002.84 26.1121 1011.07 26.1121 Q1016.09 26.1121 1019.65 28.0971 Q1023.26 30.0415 1025.61 34.0924 M1000.21 49.9314 Q1000.21 58.1548 1003.57 62.8538 Q1006.98 67.5124 1012.89 67.5124 Q1018.8 67.5124 1022.21 62.8538 Q1025.61 58.1548 1025.61 49.9314 Q1025.61 41.7081 1022.21 37.0496 Q1018.8 32.3505 1012.89 32.3505 Q1006.98 32.3505 1003.57 37.0496 Q1000.21 41.7081 1000.21 49.9314 Z\" fill=\"#000000\" fill-rule=\"evenodd\" fill-opacity=\"1\" /><path clip-path=\"url(#clip190)\" d=\"M1079.32 12.096 L1101.32 34.6595 L1093.18 34.6595 L1075.35 18.6585 L1057.53 34.6595 L1049.39 34.6595 L1071.38 12.096 L1079.32 12.096 Z\" fill=\"#000000\" fill-rule=\"evenodd\" fill-opacity=\"1\" /><path clip-path=\"url(#clip190)\" d=\"M1126.03 65.6895 L1154.59 65.6895 L1154.59 72.576 L1116.19 72.576 L1116.19 65.6895 Q1120.85 60.8689 1128.87 52.7671 Q1136.93 44.6248 1138.99 42.2752 Q1142.92 37.8598 1144.46 34.8216 Q1146.04 31.7429 1146.04 28.7857 Q1146.04 23.9651 1142.64 20.927 Q1139.28 17.8888 1133.85 17.8888 Q1130 17.8888 1125.71 19.2256 Q1121.45 20.5624 1116.59 23.2765 L1116.59 15.0127 Q1121.53 13.0277 1125.83 12.015 Q1130.12 11.0023 1133.69 11.0023 Q1143.09 11.0023 1148.68 15.7013 Q1154.27 20.4004 1154.27 28.2591 Q1154.27 31.9859 1152.85 35.3482 Q1151.47 38.6699 1147.78 43.2069 Q1146.77 44.3817 1141.34 50.0125 Q1135.92 55.6027 1126.03 65.6895 Z\" fill=\"#000000\" fill-rule=\"evenodd\" fill-opacity=\"1\" /><path clip-path=\"url(#clip190)\" d=\"M1193.68 9.54393 L1193.68 15.7418 L1186.55 15.7418 Q1182.54 15.7418 1180.96 17.3622 Q1179.42 18.9825 1179.42 23.1955 L1179.42 27.2059 L1191.7 27.2059 L1191.7 32.9987 L1179.42 32.9987 L1179.42 72.576 L1171.93 72.576 L1171.93 32.9987 L1164.8 32.9987 L1164.8 27.2059 L1171.93 27.2059 L1171.93 24.0462 Q1171.93 16.471 1175.45 13.0277 Q1178.98 9.54393 1186.63 9.54393 L1193.68 9.54393 Z\" fill=\"#000000\" fill-rule=\"evenodd\" fill-opacity=\"1\" /><path clip-path=\"url(#clip190)\" d=\"M1217.82 9.62495 Q1212.4 18.942 1209.76 28.0566 Q1207.13 37.1711 1207.13 46.5287 Q1207.13 55.8863 1209.76 65.0818 Q1212.44 74.2369 1217.82 83.5134 L1211.34 83.5134 Q1205.27 73.9938 1202.23 64.7983 Q1199.23 55.6027 1199.23 46.5287 Q1199.23 37.4952 1202.23 28.3401 Q1205.23 19.1851 1211.34 9.62495 L1217.82 9.62495 Z\" fill=\"#000000\" fill-rule=\"evenodd\" fill-opacity=\"1\" /><path clip-path=\"url(#clip190)\" d=\"M1270 27.2059 L1253.59 49.2833 L1270.85 72.576 L1262.06 72.576 L1248.85 54.752 L1235.65 72.576 L1226.86 72.576 L1244.48 48.8377 L1228.36 27.2059 L1237.15 27.2059 L1249.18 43.369 L1261.21 27.2059 L1270 27.2059 Z\" fill=\"#000000\" fill-rule=\"evenodd\" fill-opacity=\"1\" /><path clip-path=\"url(#clip190)\" d=\"M1280.21 9.62495 L1286.69 9.62495 Q1292.77 19.1851 1295.76 28.3401 Q1298.8 37.4952 1298.8 46.5287 Q1298.8 55.6027 1295.76 64.7983 Q1292.77 73.9938 1286.69 83.5134 L1280.21 83.5134 Q1285.6 74.2369 1288.23 65.0818 Q1290.9 55.8863 1290.9 46.5287 Q1290.9 37.1711 1288.23 28.0566 Q1285.6 18.942 1280.21 9.62495 Z\" fill=\"#000000\" fill-rule=\"evenodd\" fill-opacity=\"1\" /><path clip-path=\"url(#clip190)\" d=\"M1353.37 12.096 L1360.25 12.096 L1339.19 80.2727 L1332.3 80.2727 L1353.37 12.096 Z\" fill=\"#000000\" fill-rule=\"evenodd\" fill-opacity=\"1\" /><path clip-path=\"url(#clip190)\" d=\"M1424.3 34.0924 L1424.3 9.54393 L1431.75 9.54393 L1431.75 72.576 L1424.3 72.576 L1424.3 65.7705 Q1421.95 69.8214 1418.34 71.8063 Q1414.78 73.7508 1409.76 73.7508 Q1401.53 73.7508 1396.35 67.1883 Q1391.2 60.6258 1391.2 49.9314 Q1391.2 39.2371 1396.35 32.6746 Q1401.53 26.1121 1409.76 26.1121 Q1414.78 26.1121 1418.34 28.0971 Q1421.95 30.0415 1424.3 34.0924 M1398.9 49.9314 Q1398.9 58.1548 1402.26 62.8538 Q1405.67 67.5124 1411.58 67.5124 Q1417.49 67.5124 1420.9 62.8538 Q1424.3 58.1548 1424.3 49.9314 Q1424.3 41.7081 1420.9 37.0496 Q1417.49 32.3505 1411.58 32.3505 Q1405.67 32.3505 1402.26 37.0496 Q1398.9 41.7081 1398.9 49.9314 Z\" fill=\"#000000\" fill-rule=\"evenodd\" fill-opacity=\"1\" /><path clip-path=\"url(#clip190)\" d=\"M1484.82 27.2059 L1468.41 49.2833 L1485.67 72.576 L1476.88 72.576 L1463.67 54.752 L1450.47 72.576 L1441.68 72.576 L1459.3 48.8377 L1443.18 27.2059 L1451.97 27.2059 L1464 43.369 L1476.03 27.2059 L1484.82 27.2059 Z\" fill=\"#000000\" fill-rule=\"evenodd\" fill-opacity=\"1\" /><path clip-path=\"url(#clip190)\" d=\"M1527.11 12.096 L1549.11 34.6595 L1540.97 34.6595 L1523.14 18.6585 L1505.32 34.6595 L1497.18 34.6595 L1519.17 12.096 L1527.11 12.096 Z\" fill=\"#000000\" fill-rule=\"evenodd\" fill-opacity=\"1\" /><path clip-path=\"url(#clip190)\" d=\"M1573.82 65.6895 L1602.38 65.6895 L1602.38 72.576 L1563.97 72.576 L1563.97 65.6895 Q1568.63 60.8689 1576.65 52.7671 Q1584.72 44.6248 1586.78 42.2752 Q1590.71 37.8598 1592.25 34.8216 Q1593.83 31.7429 1593.83 28.7857 Q1593.83 23.9651 1590.43 20.927 Q1587.06 17.8888 1581.64 17.8888 Q1577.79 17.8888 1573.49 19.2256 Q1569.24 20.5624 1564.38 23.2765 L1564.38 15.0127 Q1569.32 13.0277 1573.62 12.015 Q1577.91 11.0023 1581.47 11.0023 Q1590.87 11.0023 1596.46 15.7013 Q1602.05 20.4004 1602.05 28.2591 Q1602.05 31.9859 1600.64 35.3482 Q1599.26 38.6699 1595.57 43.2069 Q1594.56 44.3817 1589.13 50.0125 Q1583.7 55.6027 1573.82 65.6895 Z\" fill=\"#000000\" fill-rule=\"evenodd\" fill-opacity=\"1\" /><polyline clip-path=\"url(#clip192)\" style=\"stroke:#009af9; stroke-linecap:butt; stroke-linejoin:round; stroke-width:4; stroke-opacity:1; fill:none\" points=\"\n",
       "  301.869,1386.4 306.731,1342.35 311.592,1299.82 316.453,1258.76 321.314,1219.13 332.552,1132.7 343.789,1053.06 355.027,979.683 366.264,912.099 377.502,849.861 \n",
       "  388.739,792.559 399.977,739.813 411.214,691.273 433.689,605.533 456.164,533.028 478.639,471.779 501.114,420.098 528.127,368.623 555.14,326.796 582.153,292.88 \n",
       "  609.166,265.441 654.844,230.578 700.522,206.52 750.141,188.946 799.761,177.501 845.505,170.648 891.25,166.214 989.336,161.589 1102.98,160.256 1203.97,160.37 \n",
       "  1292.53,160.744 1389.09,161.17 1486.22,161.521 1593.6,161.802 1695.78,161.981 1802.02,162.101 1891.46,162.166 2000.64,162.216 2103.28,162.244 2267.72,162.267 \n",
       "  2293.02,162.269 \n",
       "  \"/>\n",
       "</svg>\n"
      ]
     },
     "execution_count": 29,
     "metadata": {},
     "output_type": "execute_result"
    }
   ],
   "source": [
    "plot(DD(f), -2, 10, ylab = \"y [1]\", xlab = \"x [1]\", label = \"\", title = \"d^2f(x) / dx^2\")"
   ]
  },
  {
   "cell_type": "markdown",
   "id": "6a017bb6",
   "metadata": {},
   "source": [
    "### Metoda bisekcji"
   ]
  },
  {
   "cell_type": "code",
   "execution_count": 30,
   "id": "f7fdfdd9",
   "metadata": {},
   "outputs": [
    {
     "data": {
      "text/plain": [
       "Results of univariate zero finding:\n",
       "\n",
       "* Converged to: 0.0\n",
       "* Algorithm: Bisection()\n",
       "* iterations: 0\n",
       "* function evaluations ≈ 3\n",
       "* stopped as f(x_n) = 0\n",
       "\n",
       "Trace:\n",
       "(a₀, b₀) = ( 0, 10 )\n",
       "\n"
      ]
     },
     "metadata": {},
     "output_type": "display_data"
    },
    {
     "data": {
      "text/plain": [
       "true"
      ]
     },
     "execution_count": 30,
     "metadata": {},
     "output_type": "execute_result"
    }
   ],
   "source": [
    "x = find_zero(f, (-2, 10), Bisection(), verbose=true)\n",
    "iszero(f(x))"
   ]
  },
  {
   "cell_type": "markdown",
   "id": "f6681966",
   "metadata": {},
   "source": [
    "### Metoda reguła falsi"
   ]
  },
  {
   "cell_type": "code",
   "execution_count": 31,
   "id": "e48b0a21",
   "metadata": {},
   "outputs": [
    {
     "data": {
      "text/plain": [
       "Results of univariate zero finding:\n",
       "\n",
       "* Converged to: 9.094947017729282e-12\n",
       "* Algorithm: FalsePosition{:anderson_bjork}()\n",
       "* iterations: 40\n",
       "* function evaluations ≈ 42\n",
       "\n",
       "Trace:\n",
       "x₁ = 0,\t fx₁ = 0\n",
       "x₂ = 10,\t fx₂ = 0.00045399929762484856\n",
       "x₃ = 5,\t fx₃ = 0.033689734995427337\n",
       "x₄ = 2.5,\t fx₄ = 0.20521249655974699\n",
       "x₅ = 1.25,\t fx₅ = 0.35813099607523763\n",
       "x₆ = 0.625,\t fx₆ = 0.33453839282436892\n",
       "x₇ = 0.3125,\t fx₇ = 0.22862988404582557\n",
       "x₈ = 0.15625,\t fx₈ = 0.13364770739178478\n",
       "x₉ = 0.078125,\t fx₉ = 0.072253813532516004\n",
       "x₁₀ = 0.0390625,\t fx₁₀ = 0.037566039125211927\n",
       "x₁₁ = 0.01953125,\t fx₁₁ = 0.019153481428506612\n",
       "x₁₂ = 0.009765625,\t fx₁₂ = 0.0096707217175157068\n",
       "x₁₃ = 0.0048828125,\t fx₁₃ = 0.0048590287551272607\n",
       "x₁₄ = 0.00244140625,\t fx₁₄ = 0.0024354530555624979\n",
       "x₁₅ = 0.001220703125,\t fx₁₅ = 0.0012192139180053556\n",
       "x₁₆ = 0.0006103515625,\t fx₁₆ = 0.00060997914713386539\n",
       "x₁₇ = 0.00030517578125,\t fx₁₇ = 0.00030508266320194771\n",
       "x₁₈ = 0.000152587890625,\t fx₁₈ = 0.00015256460933690111\n",
       "x₁₉ = 7.62939453125e-05,\t fx₁₉ = 7.6288124768447607e-05\n",
       "x₂₀ = 3.814697265625e-05,\t fx₂₀ = 3.8145517492482387e-05\n",
       "x₂₁ = 1.9073486328125e-05,\t fx₂₁ = 1.9073122533713717e-05\n",
       "x₂₂ = 9.5367431640625e-06,\t fx₂₂ = 9.5366522150260019e-06\n",
       "x₂₃ = 4.76837158203125e-06,\t fx₂₃ = 4.7683488447179158e-06\n",
       "x₂₄ = 2.384185791015625e-06,\t fx₂₄ = 2.3841801066805152e-06\n",
       "x₂₅ = 1.1920928955078125e-06,\t fx₂₅ = 1.192091474423188e-06\n",
       "x₂₆ = 5.9604644775390625e-07,\t fx₂₆ = 5.9604609248264425e-07\n",
       "x₂₇ = 2.9802322387695312e-07,\t fx₂₇ = 2.9802313505912439e-07\n",
       "x₂₈ = 1.4901161193847656e-07,\t fx₂₈ = 1.4901158973401771e-07\n",
       "x₂₉ = 7.4505805969238281e-08,\t fx₂₉ = 7.450580041812337e-08\n",
       "x₃₀ = 3.7252902984619141e-08,\t fx₃₀ = 3.7252901596840386e-08\n",
       "x₃₁ = 1.862645149230957e-08,\t fx₃₁ = 1.8626451145364878e-08\n",
       "x₃₂ = 9.3132257461547852e-09,\t fx₃₂ = 9.3132256594186114e-09\n",
       "x₃₃ = 4.6566128730773926e-09,\t fx₃₃ = 4.6566128513933491e-09\n",
       "x₃₄ = 2.3283064365386963e-09,\t fx₃₄ = 2.3283064311176854e-09\n",
       "x₃₅ = 1.1641532182693481e-09,\t fx₃₅ = 1.1641532169140954e-09\n",
       "x₃₆ = 5.8207660913467407e-10,\t fx₃₆ = 5.8207660879586089e-10\n",
       "x₃₇ = 2.9103830456733704e-10,\t fx₃₇ = 2.9103830448263374e-10\n",
       "x₃₈ = 1.4551915228366852e-10,\t fx₃₈ = 1.4551915226249269e-10\n",
       "x₃₉ = 7.2759576141834259e-11,\t fx₃₉ = 7.2759576136540303e-11\n",
       "x₄₀ = 3.637978807091713e-11,\t fx₄₀ = 3.6379788069593641e-11\n",
       "x₄₁ = 1.8189894035458565e-11,\t fx₄₁ = 1.8189894035127693e-11\n",
       "x₄₂ = 9.0949470177292824e-12,\t fx₄₂ = 9.0949470176465643e-12\n",
       "\n"
      ]
     },
     "metadata": {},
     "output_type": "display_data"
    },
    {
     "data": {
      "text/plain": [
       "true"
      ]
     },
     "execution_count": 31,
     "metadata": {},
     "output_type": "execute_result"
    }
   ],
   "source": [
    "find_zero(f, (-2, 10), FalsePosition(), verbose=true)\n",
    "iszero(f(x))"
   ]
  },
  {
   "cell_type": "markdown",
   "id": "162b6817",
   "metadata": {},
   "source": [
    "### Metoda Newtona"
   ]
  },
  {
   "cell_type": "code",
   "execution_count": 32,
   "id": "04465690",
   "metadata": {},
   "outputs": [
    {
     "data": {
      "text/plain": [
       "Results of univariate zero finding:\n",
       "\n",
       "* Converged to: -2.032052099592921e-18\n",
       "* Algorithm: Roots.Newton()\n",
       "* iterations: 8\n",
       "* function evaluations ≈ 16\n",
       "* stopped as |f(x_n)| ≤ max(δ, |x|⋅ϵ) using δ = atol, ϵ = rtol\n",
       "\n",
       "Trace:\n",
       "x₁ = -2,\t fx₁ = -14.778112197861301\n",
       "x₂ = -1.3333333333333333,\t fx₂ = -5.0582238595775699\n",
       "x₃ = -0.76190476190476186,\t fx₃ = -1.6322689592431341\n",
       "x₄ = -0.32947232947232946,\t fx₄ = -0.45804374954051696\n",
       "x₅ = -0.081650451447160044,\t fx₅ = -0.088596982538287114\n",
       "x₆ = -0.0061635403679676792,\t fx₆ = -0.0062016469128125156\n",
       "x₇ = -3.7756516056698143e-05,\t fx₇ = -3.775794163811521e-05\n",
       "x₈ = -1.425500682806244e-09,\t fx₈ = -1.4255006848382961e-09\n",
       "x₉ = -2.0320520995929209e-18,\t fx₉ = -2.0320520995929209e-18\n",
       "\n"
      ]
     },
     "metadata": {},
     "output_type": "display_data"
    },
    {
     "data": {
      "text/plain": [
       "false"
      ]
     },
     "execution_count": 32,
     "metadata": {},
     "output_type": "execute_result"
    }
   ],
   "source": [
    "x = find_zero((f, D(f)), -2, Roots.Newton(), verbose=true)\n",
    "iszero(f(x))"
   ]
  },
  {
   "cell_type": "markdown",
   "id": "f80db464",
   "metadata": {},
   "source": [
    "### Metoda Halleya"
   ]
  },
  {
   "cell_type": "code",
   "execution_count": 33,
   "id": "6d5ea807",
   "metadata": {},
   "outputs": [
    {
     "data": {
      "text/plain": [
       "Results of univariate zero finding:\n",
       "\n",
       "* Converged to: 0.0\n",
       "* Algorithm: Roots.Halley()\n",
       "* iterations: 5\n",
       "* function evaluations ≈ 18\n",
       "* stopped as f(x_n) = 0\n",
       "\n",
       "Trace:\n",
       "x₁ = -2,\t fx₁ = -14.778112197861301\n",
       "x₂ = -0.7999999999999996,\t fx₂ = -1.7804327427939723\n",
       "x₃ = -0.12075471698113194,\t fx₃ = -0.13625335713691178\n",
       "x₄ = -0.00078046902930356543,\t fx₄ = -0.00078107839897541341\n",
       "x₅ = -2.3751884530368028e-10,\t fx₅ = -2.375188453600955e-10\n",
       "x₆ = 0,\t fx₆ = 0\n",
       "\n"
      ]
     },
     "metadata": {},
     "output_type": "display_data"
    },
    {
     "data": {
      "text/plain": [
       "true"
      ]
     },
     "execution_count": 33,
     "metadata": {},
     "output_type": "execute_result"
    }
   ],
   "source": [
    "x = find_zero((f, D(f), DD(f)), -2, Roots.Halley(), verbose=true) \n",
    "iszero(f(x))"
   ]
  },
  {
   "cell_type": "markdown",
   "id": "17ff5e5e",
   "metadata": {},
   "source": [
    "### Metoda z kalkulatorów HP-34"
   ]
  },
  {
   "cell_type": "code",
   "execution_count": 34,
   "id": "3c702d2a",
   "metadata": {},
   "outputs": [
    {
     "data": {
      "text/plain": [
       "Results of univariate zero finding:\n",
       "\n",
       "* Converged to: 0.0\n",
       "* Algorithm: Secant(); finished with bracketing method AlefeldPotraShi()\n",
       "* iterations: 14\n",
       "* function evaluations ≈ 17\n",
       "* stopped as f(x_n) = 0\n",
       "* Note: Used bracketing method AlefeldPotraShi() on  [-4.8744159937079164e-11,3.744464448531951e-10]\n",
       "\n",
       "Trace:\n",
       "x₁ = -1.9999939444722106,\t fx₁ = -14.77797796449957\n",
       "x₂ = -2,\t fx₂ = -14.778112197861301\n",
       "x₃ = -1.9993944472210572,\t fx₃ = -14.764694225178392\n",
       "x₄ = -1.9388391693267764,\t fx₄ = -13.476246228157748\n",
       "x₅ = -1.305474192855187,\t fx₅ = -4.8164663356020325\n",
       "x₆ = -0.953204143826899,\t fx₆ = -2.4726191101781154\n",
       "x₇ = -0.58158024030512023,\t fx₇ = -1.0403673919370258\n",
       "x₈ = -0.31163789262672875,\t fx₈ = -0.42559143183683862\n",
       "x₉ = -0.12476469374119972,\t fx₉ = -0.14134365674978397\n",
       "x₁₀ = -0.031841041934528969,\t fx₁₀ = -0.032871207625670272\n",
       "x₁₁ = -0.0036817012306272351,\t fx₁₁ = -0.0036952811378198015\n",
       "x₁₂ = -0.00011517591051782685,\t fx₁₂ = -0.00011518917677215227\n",
       "x₁₃ = -4.2323934895021134e-07,\t fx₁₃ = -4.2323952808179581e-07\n",
       "x₁₄ = -4.8744159937079164e-11,\t fx₁₄ = -4.8744159939455157e-11\n",
       "x₁₅ = -4.8744159937079164e-11,\t fx₁₅ = -4.8744159939455157e-11\n",
       "(a₁₅, b₁₅) = ( -4.8744159937079164e-11, 3.7444644485319511e-10 )\n",
       "(a₁₆, b₁₆) = ( 0, 3.7444644485319511e-10 )\n",
       "\n"
      ]
     },
     "metadata": {},
     "output_type": "display_data"
    },
    {
     "data": {
      "text/plain": [
       "true"
      ]
     },
     "execution_count": 34,
     "metadata": {},
     "output_type": "execute_result"
    }
   ],
   "source": [
    "x = find_zero(f, -2, verbose=true)\n",
    "iszero(f(x))"
   ]
  },
  {
   "cell_type": "markdown",
   "id": "92164cf7",
   "metadata": {},
   "source": [
    "### Metoda siecznych"
   ]
  },
  {
   "cell_type": "code",
   "execution_count": 35,
   "id": "a665d06f",
   "metadata": {},
   "outputs": [
    {
     "data": {
      "text/plain": [
       "Results of univariate zero finding:\n",
       "\n",
       "* Converged to: -8.697677347131879e-17\n",
       "* Algorithm: Secant()\n",
       "* iterations: 11\n",
       "* function evaluations ≈ 13\n",
       "* stopped as |f(x_n)| ≤ max(δ, |x|⋅ϵ) using δ = atol, ϵ = rtol\n",
       "\n",
       "Trace:\n",
       "x₁ = -1.9999939444722106,\t fx₁ = -14.77797796449957\n",
       "x₂ = -2,\t fx₂ = -14.778112197861301\n",
       "x₃ = -1.3333306419842814,\t fx₃ = -5.058200036092888\n",
       "x₄ = -0.98639880611431496,\t fx₄ = -2.6450878242524376\n",
       "x₅ = -0.60611596207479068,\t fx₅ = -1.1111905492360754\n",
       "x₆ = -0.33063030262681475,\t fx₆ = -0.46018617842281528\n",
       "x₇ = -0.13589321864490342,\t fx₇ = -0.15567377611947864\n",
       "x₈ = -0.036339121719282094,\t fx₈ = -0.037683940262601918\n",
       "x₉ = -0.0045432418945730788,\t fx₉ = -0.0045639299012097522\n",
       "x₁₀ = -0.00016177688040689212,\t fx₁₀ = -0.00016180305428303322\n",
       "x₁₁ = -7.3326531404790691e-07,\t fx₁₁ = -7.3326585172612486e-07\n",
       "x₁₂ = -1.1861573663054946e-10,\t fx₁₂ = -1.1861573664461916e-10\n",
       "x₁₃ = -8.6976773471318787e-17,\t fx₁₃ = -8.6976773471318787e-17\n",
       "\n"
      ]
     },
     "metadata": {},
     "output_type": "display_data"
    },
    {
     "data": {
      "text/plain": [
       "false"
      ]
     },
     "execution_count": 35,
     "metadata": {},
     "output_type": "execute_result"
    }
   ],
   "source": [
    "x = find_zero(f, -2, Order1(),  verbose=true) \n",
    "iszero(f(x))"
   ]
  },
  {
   "cell_type": "markdown",
   "id": "19c04072",
   "metadata": {},
   "source": [
    "### Metoda Steffensena"
   ]
  },
  {
   "cell_type": "code",
   "execution_count": 36,
   "id": "2a8de621",
   "metadata": {},
   "outputs": [
    {
     "data": {
      "text/plain": [
       "Results of univariate zero finding:\n",
       "\n",
       "* Converged to: 0.0\n",
       "* Algorithm: Order2()\n",
       "* iterations: 10\n",
       "* function evaluations ≈ 14\n",
       "* stopped as f(x_n) = 0\n",
       "\n",
       "Trace:\n",
       "x₁ = -1.9999939444722106,\t fx₁ = -14.77797796449957\n",
       "x₂ = -2,\t fx₂ = -14.778112197861301\n",
       "x₃ = -1.3333306419842814,\t fx₃ = -5.058200036092888\n",
       "x₄ = -0.98639880611431496,\t fx₄ = -2.6450878242524376\n",
       "x₅ = -0.60611596207479068,\t fx₅ = -1.1111905492360754\n",
       "x₆ = -0.33063030262681475,\t fx₆ = -0.46018617842281528\n",
       "x₇ = -0.13589321864490342,\t fx₇ = -0.15567377611947864\n",
       "x₈ = -0.036339121719282094,\t fx₈ = -0.037683940262601918\n",
       "x₉ = -0.0045432418945730788,\t fx₉ = -0.0045639299012097522\n",
       "x₁₀ = -0.00016177688040689212,\t fx₁₀ = -0.00016180305428303322\n",
       "x₁₁ = 4.2339855850937608e-12,\t fx₁₁ = 4.2339855850758342e-12\n",
       "x₁₂ = 0,\t fx₁₂ = 0\n",
       "\n"
      ]
     },
     "metadata": {},
     "output_type": "display_data"
    },
    {
     "data": {
      "text/plain": [
       "true"
      ]
     },
     "execution_count": 36,
     "metadata": {},
     "output_type": "execute_result"
    }
   ],
   "source": [
    "x = find_zero(f, -2, Order2(), verbose=true) \n",
    "iszero(f(x))"
   ]
  },
  {
   "cell_type": "markdown",
   "id": "ce832c47",
   "metadata": {},
   "source": [
    "W przypadku badanej funkcji metody Newtona i siecznych nie dały rady znaleźć wystarczająco dokładnie pierwiastków"
   ]
  },
  {
   "cell_type": "markdown",
   "id": "3eaf3b0e",
   "metadata": {},
   "source": [
    "## zad.3\n",
    "Dla każdej z wybranych metod zademonstrować i wyjaśnić po jednym  przykładzie, dla którego nie działają (można na podstawie p.1 lub wymyślić własny)"
   ]
  },
  {
   "cell_type": "markdown",
   "id": "322e5789",
   "metadata": {},
   "source": [
    "### Metoda reguł falsi"
   ]
  },
  {
   "cell_type": "markdown",
   "id": "dbe0c1fe",
   "metadata": {},
   "source": [
    "$ f(x) = sin(x) $"
   ]
  },
  {
   "cell_type": "code",
   "execution_count": 37,
   "id": "e8683e16",
   "metadata": {},
   "outputs": [
    {
     "data": {
      "image/svg+xml": [
       "<?xml version=\"1.0\" encoding=\"utf-8\"?>\n",
       "<svg xmlns=\"http://www.w3.org/2000/svg\" xmlns:xlink=\"http://www.w3.org/1999/xlink\" width=\"600\" height=\"400\" viewBox=\"0 0 2400 1600\">\n",
       "<defs>\n",
       "  <clipPath id=\"clip230\">\n",
       "    <rect x=\"0\" y=\"0\" width=\"2400\" height=\"1600\"/>\n",
       "  </clipPath>\n",
       "</defs>\n",
       "<path clip-path=\"url(#clip230)\" d=\"\n",
       "M0 1600 L2400 1600 L2400 0 L0 0  Z\n",
       "  \" fill=\"#ffffff\" fill-rule=\"evenodd\" fill-opacity=\"1\"/>\n",
       "<defs>\n",
       "  <clipPath id=\"clip231\">\n",
       "    <rect x=\"480\" y=\"0\" width=\"1681\" height=\"1600\"/>\n",
       "  </clipPath>\n",
       "</defs>\n",
       "<path clip-path=\"url(#clip230)\" d=\"\n",
       "M257.204 1423.18 L2352.76 1423.18 L2352.76 123.472 L257.204 123.472  Z\n",
       "  \" fill=\"#ffffff\" fill-rule=\"evenodd\" fill-opacity=\"1\"/>\n",
       "<defs>\n",
       "  <clipPath id=\"clip232\">\n",
       "    <rect x=\"257\" y=\"123\" width=\"2097\" height=\"1301\"/>\n",
       "  </clipPath>\n",
       "</defs>\n",
       "<polyline clip-path=\"url(#clip232)\" style=\"stroke:#000000; stroke-linecap:butt; stroke-linejoin:round; stroke-width:2; stroke-opacity:0.1; fill:none\" points=\"\n",
       "  313.466,1423.18 313.466,123.472 \n",
       "  \"/>\n",
       "<polyline clip-path=\"url(#clip232)\" style=\"stroke:#000000; stroke-linecap:butt; stroke-linejoin:round; stroke-width:2; stroke-opacity:0.1; fill:none\" points=\"\n",
       "  618.079,1423.18 618.079,123.472 \n",
       "  \"/>\n",
       "<polyline clip-path=\"url(#clip232)\" style=\"stroke:#000000; stroke-linecap:butt; stroke-linejoin:round; stroke-width:2; stroke-opacity:0.1; fill:none\" points=\"\n",
       "  922.691,1423.18 922.691,123.472 \n",
       "  \"/>\n",
       "<polyline clip-path=\"url(#clip232)\" style=\"stroke:#000000; stroke-linecap:butt; stroke-linejoin:round; stroke-width:2; stroke-opacity:0.1; fill:none\" points=\"\n",
       "  1227.3,1423.18 1227.3,123.472 \n",
       "  \"/>\n",
       "<polyline clip-path=\"url(#clip232)\" style=\"stroke:#000000; stroke-linecap:butt; stroke-linejoin:round; stroke-width:2; stroke-opacity:0.1; fill:none\" points=\"\n",
       "  1531.92,1423.18 1531.92,123.472 \n",
       "  \"/>\n",
       "<polyline clip-path=\"url(#clip232)\" style=\"stroke:#000000; stroke-linecap:butt; stroke-linejoin:round; stroke-width:2; stroke-opacity:0.1; fill:none\" points=\"\n",
       "  1836.53,1423.18 1836.53,123.472 \n",
       "  \"/>\n",
       "<polyline clip-path=\"url(#clip232)\" style=\"stroke:#000000; stroke-linecap:butt; stroke-linejoin:round; stroke-width:2; stroke-opacity:0.1; fill:none\" points=\"\n",
       "  2141.14,1423.18 2141.14,123.472 \n",
       "  \"/>\n",
       "<polyline clip-path=\"url(#clip230)\" style=\"stroke:#000000; stroke-linecap:butt; stroke-linejoin:round; stroke-width:4; stroke-opacity:1; fill:none\" points=\"\n",
       "  257.204,1423.18 2352.76,1423.18 \n",
       "  \"/>\n",
       "<polyline clip-path=\"url(#clip230)\" style=\"stroke:#000000; stroke-linecap:butt; stroke-linejoin:round; stroke-width:4; stroke-opacity:1; fill:none\" points=\"\n",
       "  313.466,1423.18 313.466,1404.28 \n",
       "  \"/>\n",
       "<polyline clip-path=\"url(#clip230)\" style=\"stroke:#000000; stroke-linecap:butt; stroke-linejoin:round; stroke-width:4; stroke-opacity:1; fill:none\" points=\"\n",
       "  618.079,1423.18 618.079,1404.28 \n",
       "  \"/>\n",
       "<polyline clip-path=\"url(#clip230)\" style=\"stroke:#000000; stroke-linecap:butt; stroke-linejoin:round; stroke-width:4; stroke-opacity:1; fill:none\" points=\"\n",
       "  922.691,1423.18 922.691,1404.28 \n",
       "  \"/>\n",
       "<polyline clip-path=\"url(#clip230)\" style=\"stroke:#000000; stroke-linecap:butt; stroke-linejoin:round; stroke-width:4; stroke-opacity:1; fill:none\" points=\"\n",
       "  1227.3,1423.18 1227.3,1404.28 \n",
       "  \"/>\n",
       "<polyline clip-path=\"url(#clip230)\" style=\"stroke:#000000; stroke-linecap:butt; stroke-linejoin:round; stroke-width:4; stroke-opacity:1; fill:none\" points=\"\n",
       "  1531.92,1423.18 1531.92,1404.28 \n",
       "  \"/>\n",
       "<polyline clip-path=\"url(#clip230)\" style=\"stroke:#000000; stroke-linecap:butt; stroke-linejoin:round; stroke-width:4; stroke-opacity:1; fill:none\" points=\"\n",
       "  1836.53,1423.18 1836.53,1404.28 \n",
       "  \"/>\n",
       "<polyline clip-path=\"url(#clip230)\" style=\"stroke:#000000; stroke-linecap:butt; stroke-linejoin:round; stroke-width:4; stroke-opacity:1; fill:none\" points=\"\n",
       "  2141.14,1423.18 2141.14,1404.28 \n",
       "  \"/>\n",
       "<path clip-path=\"url(#clip230)\" d=\"M313.466 1454.1 Q309.855 1454.1 308.026 1457.66 Q306.221 1461.2 306.221 1468.33 Q306.221 1475.44 308.026 1479.01 Q309.855 1482.55 313.466 1482.55 Q317.1 1482.55 318.906 1479.01 Q320.734 1475.44 320.734 1468.33 Q320.734 1461.2 318.906 1457.66 Q317.1 1454.1 313.466 1454.1 M313.466 1450.39 Q319.276 1450.39 322.332 1455 Q325.41 1459.58 325.41 1468.33 Q325.41 1477.06 322.332 1481.67 Q319.276 1486.25 313.466 1486.25 Q307.656 1486.25 304.577 1481.67 Q301.522 1477.06 301.522 1468.33 Q301.522 1459.58 304.577 1455 Q307.656 1450.39 313.466 1450.39 Z\" fill=\"#000000\" fill-rule=\"evenodd\" fill-opacity=\"1\" /><path clip-path=\"url(#clip230)\" d=\"M608.461 1481.64 L616.099 1481.64 L616.099 1455.28 L607.789 1456.95 L607.789 1452.69 L616.053 1451.02 L620.729 1451.02 L620.729 1481.64 L628.368 1481.64 L628.368 1485.58 L608.461 1485.58 L608.461 1481.64 Z\" fill=\"#000000\" fill-rule=\"evenodd\" fill-opacity=\"1\" /><path clip-path=\"url(#clip230)\" d=\"M917.344 1481.64 L933.663 1481.64 L933.663 1485.58 L911.719 1485.58 L911.719 1481.64 Q914.381 1478.89 918.964 1474.26 Q923.571 1469.61 924.751 1468.27 Q926.997 1465.74 927.876 1464.01 Q928.779 1462.25 928.779 1460.56 Q928.779 1457.8 926.835 1456.07 Q924.913 1454.33 921.812 1454.33 Q919.612 1454.33 917.159 1455.09 Q914.728 1455.86 911.95 1457.41 L911.95 1452.69 Q914.775 1451.55 917.228 1450.97 Q919.682 1450.39 921.719 1450.39 Q927.089 1450.39 930.284 1453.08 Q933.478 1455.77 933.478 1460.26 Q933.478 1462.39 932.668 1464.31 Q931.881 1466.2 929.774 1468.8 Q929.196 1469.47 926.094 1472.69 Q922.992 1475.88 917.344 1481.64 Z\" fill=\"#000000\" fill-rule=\"evenodd\" fill-opacity=\"1\" /><path clip-path=\"url(#clip230)\" d=\"M1231.55 1466.95 Q1234.91 1467.66 1236.78 1469.93 Q1238.68 1472.2 1238.68 1475.53 Q1238.68 1480.65 1235.16 1483.45 Q1231.64 1486.25 1225.16 1486.25 Q1222.99 1486.25 1220.67 1485.81 Q1218.38 1485.39 1215.93 1484.54 L1215.93 1480.02 Q1217.87 1481.16 1220.19 1481.74 Q1222.5 1482.32 1225.02 1482.32 Q1229.42 1482.32 1231.71 1480.58 Q1234.03 1478.84 1234.03 1475.53 Q1234.03 1472.48 1231.88 1470.77 Q1229.75 1469.03 1225.93 1469.03 L1221.9 1469.03 L1221.9 1465.19 L1226.11 1465.19 Q1229.56 1465.19 1231.39 1463.82 Q1233.22 1462.43 1233.22 1459.84 Q1233.22 1457.18 1231.32 1455.77 Q1229.44 1454.33 1225.93 1454.33 Q1224.01 1454.33 1221.81 1454.75 Q1219.61 1455.16 1216.97 1456.04 L1216.97 1451.88 Q1219.63 1451.14 1221.94 1450.77 Q1224.28 1450.39 1226.34 1450.39 Q1231.67 1450.39 1234.77 1452.83 Q1237.87 1455.23 1237.87 1459.35 Q1237.87 1462.22 1236.23 1464.21 Q1234.58 1466.18 1231.55 1466.95 Z\" fill=\"#000000\" fill-rule=\"evenodd\" fill-opacity=\"1\" /><path clip-path=\"url(#clip230)\" d=\"M1534.93 1455.09 L1523.12 1473.54 L1534.93 1473.54 L1534.93 1455.09 M1533.7 1451.02 L1539.58 1451.02 L1539.58 1473.54 L1544.51 1473.54 L1544.51 1477.43 L1539.58 1477.43 L1539.58 1485.58 L1534.93 1485.58 L1534.93 1477.43 L1519.32 1477.43 L1519.32 1472.92 L1533.7 1451.02 Z\" fill=\"#000000\" fill-rule=\"evenodd\" fill-opacity=\"1\" /><path clip-path=\"url(#clip230)\" d=\"M1826.81 1451.02 L1845.16 1451.02 L1845.16 1454.96 L1831.09 1454.96 L1831.09 1463.43 Q1832.11 1463.08 1833.13 1462.92 Q1834.14 1462.73 1835.16 1462.73 Q1840.95 1462.73 1844.33 1465.9 Q1847.71 1469.08 1847.71 1474.49 Q1847.71 1480.07 1844.24 1483.17 Q1840.77 1486.25 1834.45 1486.25 Q1832.27 1486.25 1830 1485.88 Q1827.76 1485.51 1825.35 1484.77 L1825.35 1480.07 Q1827.43 1481.2 1829.65 1481.76 Q1831.88 1482.32 1834.35 1482.32 Q1838.36 1482.32 1840.7 1480.21 Q1843.03 1478.1 1843.03 1474.49 Q1843.03 1470.88 1840.7 1468.77 Q1838.36 1466.67 1834.35 1466.67 Q1832.48 1466.67 1830.6 1467.08 Q1828.75 1467.5 1826.81 1468.38 L1826.81 1451.02 Z\" fill=\"#000000\" fill-rule=\"evenodd\" fill-opacity=\"1\" /><path clip-path=\"url(#clip230)\" d=\"M2141.55 1466.44 Q2138.4 1466.44 2136.55 1468.59 Q2134.72 1470.74 2134.72 1474.49 Q2134.72 1478.22 2136.55 1480.39 Q2138.4 1482.55 2141.55 1482.55 Q2144.69 1482.55 2146.52 1480.39 Q2148.38 1478.22 2148.38 1474.49 Q2148.38 1470.74 2146.52 1468.59 Q2144.69 1466.44 2141.55 1466.44 M2150.83 1451.78 L2150.83 1456.04 Q2149.07 1455.21 2147.26 1454.77 Q2145.48 1454.33 2143.72 1454.33 Q2139.09 1454.33 2136.64 1457.45 Q2134.21 1460.58 2133.86 1466.9 Q2135.23 1464.89 2137.29 1463.82 Q2139.35 1462.73 2141.82 1462.73 Q2147.03 1462.73 2150.04 1465.9 Q2153.07 1469.05 2153.07 1474.49 Q2153.07 1479.82 2149.93 1483.03 Q2146.78 1486.25 2141.55 1486.25 Q2135.55 1486.25 2132.38 1481.67 Q2129.21 1477.06 2129.21 1468.33 Q2129.21 1460.14 2133.1 1455.28 Q2136.99 1450.39 2143.54 1450.39 Q2145.3 1450.39 2147.08 1450.74 Q2148.88 1451.09 2150.83 1451.78 Z\" fill=\"#000000\" fill-rule=\"evenodd\" fill-opacity=\"1\" /><path clip-path=\"url(#clip230)\" d=\"M1266.8 1532.4 L1253.91 1549.74 L1267.47 1568.04 L1260.56 1568.04 L1250.19 1554.04 L1239.81 1568.04 L1232.9 1568.04 L1246.75 1549.39 L1234.08 1532.4 L1240.99 1532.4 L1250.44 1545.1 L1259.89 1532.4 L1266.8 1532.4 Z\" fill=\"#000000\" fill-rule=\"evenodd\" fill-opacity=\"1\" /><path clip-path=\"url(#clip230)\" d=\"M1295.92 1518.52 L1309.42 1518.52 L1309.42 1523.07 L1301.78 1523.07 L1301.78 1572.09 L1309.42 1572.09 L1309.42 1576.64 L1295.92 1576.64 L1295.92 1518.52 Z\" fill=\"#000000\" fill-rule=\"evenodd\" fill-opacity=\"1\" /><path clip-path=\"url(#clip230)\" d=\"M1323.84 1562.63 L1334.34 1562.63 L1334.34 1526.38 L1322.92 1528.67 L1322.92 1522.82 L1334.28 1520.52 L1340.71 1520.52 L1340.71 1562.63 L1351.21 1562.63 L1351.21 1568.04 L1323.84 1568.04 L1323.84 1562.63 Z\" fill=\"#000000\" fill-rule=\"evenodd\" fill-opacity=\"1\" /><path clip-path=\"url(#clip230)\" d=\"M1377.06 1518.52 L1377.06 1576.64 L1363.56 1576.64 L1363.56 1572.09 L1371.17 1572.09 L1371.17 1523.07 L1363.56 1523.07 L1363.56 1518.52 L1377.06 1518.52 Z\" fill=\"#000000\" fill-rule=\"evenodd\" fill-opacity=\"1\" /><polyline clip-path=\"url(#clip232)\" style=\"stroke:#000000; stroke-linecap:butt; stroke-linejoin:round; stroke-width:2; stroke-opacity:0.1; fill:none\" points=\"\n",
       "  257.204,1386.46 2352.76,1386.46 \n",
       "  \"/>\n",
       "<polyline clip-path=\"url(#clip232)\" style=\"stroke:#000000; stroke-linecap:butt; stroke-linejoin:round; stroke-width:2; stroke-opacity:0.1; fill:none\" points=\"\n",
       "  257.204,1079.61 2352.76,1079.61 \n",
       "  \"/>\n",
       "<polyline clip-path=\"url(#clip232)\" style=\"stroke:#000000; stroke-linecap:butt; stroke-linejoin:round; stroke-width:2; stroke-opacity:0.1; fill:none\" points=\"\n",
       "  257.204,772.766 2352.76,772.766 \n",
       "  \"/>\n",
       "<polyline clip-path=\"url(#clip232)\" style=\"stroke:#000000; stroke-linecap:butt; stroke-linejoin:round; stroke-width:2; stroke-opacity:0.1; fill:none\" points=\"\n",
       "  257.204,465.921 2352.76,465.921 \n",
       "  \"/>\n",
       "<polyline clip-path=\"url(#clip232)\" style=\"stroke:#000000; stroke-linecap:butt; stroke-linejoin:round; stroke-width:2; stroke-opacity:0.1; fill:none\" points=\"\n",
       "  257.204,159.076 2352.76,159.076 \n",
       "  \"/>\n",
       "<polyline clip-path=\"url(#clip230)\" style=\"stroke:#000000; stroke-linecap:butt; stroke-linejoin:round; stroke-width:4; stroke-opacity:1; fill:none\" points=\"\n",
       "  257.204,1423.18 257.204,123.472 \n",
       "  \"/>\n",
       "<polyline clip-path=\"url(#clip230)\" style=\"stroke:#000000; stroke-linecap:butt; stroke-linejoin:round; stroke-width:4; stroke-opacity:1; fill:none\" points=\"\n",
       "  257.204,1386.46 276.102,1386.46 \n",
       "  \"/>\n",
       "<polyline clip-path=\"url(#clip230)\" style=\"stroke:#000000; stroke-linecap:butt; stroke-linejoin:round; stroke-width:4; stroke-opacity:1; fill:none\" points=\"\n",
       "  257.204,1079.61 276.102,1079.61 \n",
       "  \"/>\n",
       "<polyline clip-path=\"url(#clip230)\" style=\"stroke:#000000; stroke-linecap:butt; stroke-linejoin:round; stroke-width:4; stroke-opacity:1; fill:none\" points=\"\n",
       "  257.204,772.766 276.102,772.766 \n",
       "  \"/>\n",
       "<polyline clip-path=\"url(#clip230)\" style=\"stroke:#000000; stroke-linecap:butt; stroke-linejoin:round; stroke-width:4; stroke-opacity:1; fill:none\" points=\"\n",
       "  257.204,465.921 276.102,465.921 \n",
       "  \"/>\n",
       "<polyline clip-path=\"url(#clip230)\" style=\"stroke:#000000; stroke-linecap:butt; stroke-linejoin:round; stroke-width:4; stroke-opacity:1; fill:none\" points=\"\n",
       "  257.204,159.076 276.102,159.076 \n",
       "  \"/>\n",
       "<path clip-path=\"url(#clip230)\" d=\"M114.26 1386.91 L143.936 1386.91 L143.936 1390.84 L114.26 1390.84 L114.26 1386.91 Z\" fill=\"#000000\" fill-rule=\"evenodd\" fill-opacity=\"1\" /><path clip-path=\"url(#clip230)\" d=\"M154.839 1399.8 L162.477 1399.8 L162.477 1373.44 L154.167 1375.1 L154.167 1370.84 L162.431 1369.18 L167.107 1369.18 L167.107 1399.8 L174.746 1399.8 L174.746 1403.74 L154.839 1403.74 L154.839 1399.8 Z\" fill=\"#000000\" fill-rule=\"evenodd\" fill-opacity=\"1\" /><path clip-path=\"url(#clip230)\" d=\"M184.19 1397.86 L189.075 1397.86 L189.075 1403.74 L184.19 1403.74 L184.19 1397.86 Z\" fill=\"#000000\" fill-rule=\"evenodd\" fill-opacity=\"1\" /><path clip-path=\"url(#clip230)\" d=\"M209.26 1372.26 Q205.649 1372.26 203.82 1375.82 Q202.014 1379.36 202.014 1386.49 Q202.014 1393.6 203.82 1397.16 Q205.649 1400.7 209.26 1400.7 Q212.894 1400.7 214.699 1397.16 Q216.528 1393.6 216.528 1386.49 Q216.528 1379.36 214.699 1375.82 Q212.894 1372.26 209.26 1372.26 M209.26 1368.55 Q215.07 1368.55 218.125 1373.16 Q221.204 1377.74 221.204 1386.49 Q221.204 1395.22 218.125 1399.82 Q215.07 1404.41 209.26 1404.41 Q203.449 1404.41 200.371 1399.82 Q197.315 1395.22 197.315 1386.49 Q197.315 1377.74 200.371 1373.16 Q203.449 1368.55 209.26 1368.55 Z\" fill=\"#000000\" fill-rule=\"evenodd\" fill-opacity=\"1\" /><path clip-path=\"url(#clip230)\" d=\"M115.256 1080.06 L144.931 1080.06 L144.931 1084 L115.256 1084 L115.256 1080.06 Z\" fill=\"#000000\" fill-rule=\"evenodd\" fill-opacity=\"1\" /><path clip-path=\"url(#clip230)\" d=\"M165.024 1065.41 Q161.413 1065.41 159.584 1068.97 Q157.778 1072.52 157.778 1079.65 Q157.778 1086.75 159.584 1090.32 Q161.413 1093.86 165.024 1093.86 Q168.658 1093.86 170.464 1090.32 Q172.292 1086.75 172.292 1079.65 Q172.292 1072.52 170.464 1068.97 Q168.658 1065.41 165.024 1065.41 M165.024 1061.71 Q170.834 1061.71 173.889 1066.31 Q176.968 1070.9 176.968 1079.65 Q176.968 1088.37 173.889 1092.98 Q170.834 1097.56 165.024 1097.56 Q159.214 1097.56 156.135 1092.98 Q153.079 1088.37 153.079 1079.65 Q153.079 1070.9 156.135 1066.31 Q159.214 1061.71 165.024 1061.71 Z\" fill=\"#000000\" fill-rule=\"evenodd\" fill-opacity=\"1\" /><path clip-path=\"url(#clip230)\" d=\"M185.186 1091.01 L190.07 1091.01 L190.07 1096.89 L185.186 1096.89 L185.186 1091.01 Z\" fill=\"#000000\" fill-rule=\"evenodd\" fill-opacity=\"1\" /><path clip-path=\"url(#clip230)\" d=\"M200.301 1062.33 L218.658 1062.33 L218.658 1066.27 L204.584 1066.27 L204.584 1074.74 Q205.602 1074.39 206.621 1074.23 Q207.639 1074.04 208.658 1074.04 Q214.445 1074.04 217.824 1077.22 Q221.204 1080.39 221.204 1085.8 Q221.204 1091.38 217.732 1094.48 Q214.26 1097.56 207.94 1097.56 Q205.764 1097.56 203.496 1097.19 Q201.25 1096.82 198.843 1096.08 L198.843 1091.38 Q200.926 1092.52 203.149 1093.07 Q205.371 1093.63 207.848 1093.63 Q211.852 1093.63 214.19 1091.52 Q216.528 1089.41 216.528 1085.8 Q216.528 1082.19 214.19 1080.09 Q211.852 1077.98 207.848 1077.98 Q205.973 1077.98 204.098 1078.4 Q202.246 1078.81 200.301 1079.69 L200.301 1062.33 Z\" fill=\"#000000\" fill-rule=\"evenodd\" fill-opacity=\"1\" /><path clip-path=\"url(#clip230)\" d=\"M164.028 758.565 Q160.417 758.565 158.589 762.13 Q156.783 765.671 156.783 772.801 Q156.783 779.907 158.589 783.472 Q160.417 787.014 164.028 787.014 Q167.663 787.014 169.468 783.472 Q171.297 779.907 171.297 772.801 Q171.297 765.671 169.468 762.13 Q167.663 758.565 164.028 758.565 M164.028 754.861 Q169.839 754.861 172.894 759.468 Q175.973 764.051 175.973 772.801 Q175.973 781.528 172.894 786.134 Q169.839 790.717 164.028 790.717 Q158.218 790.717 155.14 786.134 Q152.084 781.528 152.084 772.801 Q152.084 764.051 155.14 759.468 Q158.218 754.861 164.028 754.861 Z\" fill=\"#000000\" fill-rule=\"evenodd\" fill-opacity=\"1\" /><path clip-path=\"url(#clip230)\" d=\"M184.19 784.167 L189.075 784.167 L189.075 790.046 L184.19 790.046 L184.19 784.167 Z\" fill=\"#000000\" fill-rule=\"evenodd\" fill-opacity=\"1\" /><path clip-path=\"url(#clip230)\" d=\"M209.26 758.565 Q205.649 758.565 203.82 762.13 Q202.014 765.671 202.014 772.801 Q202.014 779.907 203.82 783.472 Q205.649 787.014 209.26 787.014 Q212.894 787.014 214.699 783.472 Q216.528 779.907 216.528 772.801 Q216.528 765.671 214.699 762.13 Q212.894 758.565 209.26 758.565 M209.26 754.861 Q215.07 754.861 218.125 759.468 Q221.204 764.051 221.204 772.801 Q221.204 781.528 218.125 786.134 Q215.07 790.717 209.26 790.717 Q203.449 790.717 200.371 786.134 Q197.315 781.528 197.315 772.801 Q197.315 764.051 200.371 759.468 Q203.449 754.861 209.26 754.861 Z\" fill=\"#000000\" fill-rule=\"evenodd\" fill-opacity=\"1\" /><path clip-path=\"url(#clip230)\" d=\"M165.024 451.72 Q161.413 451.72 159.584 455.284 Q157.778 458.826 157.778 465.956 Q157.778 473.062 159.584 476.627 Q161.413 480.168 165.024 480.168 Q168.658 480.168 170.464 476.627 Q172.292 473.062 172.292 465.956 Q172.292 458.826 170.464 455.284 Q168.658 451.72 165.024 451.72 M165.024 448.016 Q170.834 448.016 173.889 452.622 Q176.968 457.206 176.968 465.956 Q176.968 474.682 173.889 479.289 Q170.834 483.872 165.024 483.872 Q159.214 483.872 156.135 479.289 Q153.079 474.682 153.079 465.956 Q153.079 457.206 156.135 452.622 Q159.214 448.016 165.024 448.016 Z\" fill=\"#000000\" fill-rule=\"evenodd\" fill-opacity=\"1\" /><path clip-path=\"url(#clip230)\" d=\"M185.186 477.321 L190.07 477.321 L190.07 483.201 L185.186 483.201 L185.186 477.321 Z\" fill=\"#000000\" fill-rule=\"evenodd\" fill-opacity=\"1\" /><path clip-path=\"url(#clip230)\" d=\"M200.301 448.641 L218.658 448.641 L218.658 452.576 L204.584 452.576 L204.584 461.048 Q205.602 460.701 206.621 460.539 Q207.639 460.354 208.658 460.354 Q214.445 460.354 217.824 463.525 Q221.204 466.696 221.204 472.113 Q221.204 477.692 217.732 480.793 Q214.26 483.872 207.94 483.872 Q205.764 483.872 203.496 483.502 Q201.25 483.131 198.843 482.391 L198.843 477.692 Q200.926 478.826 203.149 479.381 Q205.371 479.937 207.848 479.937 Q211.852 479.937 214.19 477.831 Q216.528 475.724 216.528 472.113 Q216.528 468.502 214.19 466.395 Q211.852 464.289 207.848 464.289 Q205.973 464.289 204.098 464.706 Q202.246 465.122 200.301 466.002 L200.301 448.641 Z\" fill=\"#000000\" fill-rule=\"evenodd\" fill-opacity=\"1\" /><path clip-path=\"url(#clip230)\" d=\"M154.839 172.42 L162.477 172.42 L162.477 146.055 L154.167 147.722 L154.167 143.462 L162.431 141.796 L167.107 141.796 L167.107 172.42 L174.746 172.42 L174.746 176.356 L154.839 176.356 L154.839 172.42 Z\" fill=\"#000000\" fill-rule=\"evenodd\" fill-opacity=\"1\" /><path clip-path=\"url(#clip230)\" d=\"M184.19 170.476 L189.075 170.476 L189.075 176.356 L184.19 176.356 L184.19 170.476 Z\" fill=\"#000000\" fill-rule=\"evenodd\" fill-opacity=\"1\" /><path clip-path=\"url(#clip230)\" d=\"M209.26 144.874 Q205.649 144.874 203.82 148.439 Q202.014 151.981 202.014 159.11 Q202.014 166.217 203.82 169.782 Q205.649 173.323 209.26 173.323 Q212.894 173.323 214.699 169.782 Q216.528 166.217 216.528 159.11 Q216.528 151.981 214.699 148.439 Q212.894 144.874 209.26 144.874 M209.26 141.171 Q215.07 141.171 218.125 145.777 Q221.204 150.36 221.204 159.11 Q221.204 167.837 218.125 172.444 Q215.07 177.027 209.26 177.027 Q203.449 177.027 200.371 172.444 Q197.315 167.837 197.315 159.11 Q197.315 150.36 200.371 145.777 Q203.449 141.171 209.26 141.171 Z\" fill=\"#000000\" fill-rule=\"evenodd\" fill-opacity=\"1\" /><path clip-path=\"url(#clip230)\" d=\"M67.3143 826.336 Q73.68 828.819 75.6216 831.174 Q77.5631 833.53 77.5631 837.476 L77.5631 842.155 L72.6615 842.155 L72.6615 838.718 Q72.6615 836.299 71.5157 834.962 Q70.3699 833.625 66.1048 832.002 L63.4312 830.952 L28.3562 845.37 L28.3562 839.163 L56.238 828.023 L28.3562 816.883 L28.3562 810.677 L67.3143 826.336 Z\" fill=\"#000000\" fill-rule=\"evenodd\" fill-opacity=\"1\" /><path clip-path=\"url(#clip230)\" d=\"M14.479 782.413 L14.479 768.918 L19.0304 768.918 L19.0304 776.557 L68.0464 776.557 L68.0464 768.918 L72.5979 768.918 L72.5979 782.413 L14.479 782.413 Z\" fill=\"#000000\" fill-rule=\"evenodd\" fill-opacity=\"1\" /><path clip-path=\"url(#clip230)\" d=\"M58.5933 754.499 L58.5933 743.996 L22.3406 743.996 L24.6323 755.422 L18.7758 755.422 L16.4842 744.06 L16.4842 737.63 L58.5933 737.63 L58.5933 727.127 L64.0042 727.127 L64.0042 754.499 L58.5933 754.499 Z\" fill=\"#000000\" fill-rule=\"evenodd\" fill-opacity=\"1\" /><path clip-path=\"url(#clip230)\" d=\"M14.479 701.282 L72.5979 701.282 L72.5979 714.777 L68.0464 714.777 L68.0464 707.17 L19.0304 707.17 L19.0304 714.777 L14.479 714.777 L14.479 701.282 Z\" fill=\"#000000\" fill-rule=\"evenodd\" fill-opacity=\"1\" /><path clip-path=\"url(#clip230)\" d=\"M1226.7 28.5427 L1226.7 35.5912 Q1223.54 33.9709 1220.13 33.1607 Q1216.73 32.3505 1213.09 32.3505 Q1207.54 32.3505 1204.74 34.0519 Q1201.99 35.7533 1201.99 39.156 Q1201.99 41.7486 1203.97 43.2475 Q1205.96 44.7058 1211.95 46.0426 L1214.5 46.6097 Q1222.44 48.3111 1225.76 51.4303 Q1229.13 54.509 1229.13 60.0587 Q1229.13 66.3781 1224.1 70.0644 Q1219.12 73.7508 1210.37 73.7508 Q1206.73 73.7508 1202.76 73.0216 Q1198.83 72.3329 1194.45 70.9151 L1194.45 63.2184 Q1198.58 65.3654 1202.59 66.4591 Q1206.6 67.5124 1210.53 67.5124 Q1215.8 67.5124 1218.63 65.73 Q1221.47 63.9071 1221.47 60.6258 Q1221.47 57.5877 1219.4 55.9673 Q1217.38 54.3469 1210.45 52.8481 L1207.86 52.2405 Q1200.93 50.7821 1197.85 47.7845 Q1194.78 44.7463 1194.78 39.4801 Q1194.78 33.0797 1199.31 29.5959 Q1203.85 26.1121 1212.19 26.1121 Q1216.33 26.1121 1219.97 26.7198 Q1223.62 27.3274 1226.7 28.5427 Z\" fill=\"#000000\" fill-rule=\"evenodd\" fill-opacity=\"1\" /><path clip-path=\"url(#clip230)\" d=\"M1241 27.2059 L1248.45 27.2059 L1248.45 72.576 L1241 72.576 L1241 27.2059 M1241 9.54393 L1248.45 9.54393 L1248.45 18.9825 L1241 18.9825 L1241 9.54393 Z\" fill=\"#000000\" fill-rule=\"evenodd\" fill-opacity=\"1\" /><path clip-path=\"url(#clip230)\" d=\"M1301.76 45.1919 L1301.76 72.576 L1294.31 72.576 L1294.31 45.4349 Q1294.31 38.994 1291.79 35.7938 Q1289.28 32.5936 1284.26 32.5936 Q1278.22 32.5936 1274.74 36.4419 Q1271.26 40.2903 1271.26 46.9338 L1271.26 72.576 L1263.76 72.576 L1263.76 27.2059 L1271.26 27.2059 L1271.26 34.2544 Q1273.93 30.163 1277.54 28.1376 Q1281.18 26.1121 1285.92 26.1121 Q1293.74 26.1121 1297.75 30.9732 Q1301.76 35.7938 1301.76 45.1919 Z\" fill=\"#000000\" fill-rule=\"evenodd\" fill-opacity=\"1\" /><path clip-path=\"url(#clip230)\" d=\"M1334.53 9.62495 Q1329.1 18.942 1326.47 28.0566 Q1323.84 37.1711 1323.84 46.5287 Q1323.84 55.8863 1326.47 65.0818 Q1329.14 74.2369 1334.53 83.5134 L1328.05 83.5134 Q1321.97 73.9938 1318.94 64.7983 Q1315.94 55.6027 1315.94 46.5287 Q1315.94 37.4952 1318.94 28.3401 Q1321.93 19.1851 1328.05 9.62495 L1334.53 9.62495 Z\" fill=\"#000000\" fill-rule=\"evenodd\" fill-opacity=\"1\" /><path clip-path=\"url(#clip230)\" d=\"M1386.71 27.2059 L1370.3 49.2833 L1387.56 72.576 L1378.77 72.576 L1365.56 54.752 L1352.36 72.576 L1343.56 72.576 L1361.19 48.8377 L1345.06 27.2059 L1353.85 27.2059 L1365.89 43.369 L1377.92 27.2059 L1386.71 27.2059 Z\" fill=\"#000000\" fill-rule=\"evenodd\" fill-opacity=\"1\" /><path clip-path=\"url(#clip230)\" d=\"M1396.92 9.62495 L1403.4 9.62495 Q1409.47 19.1851 1412.47 28.3401 Q1415.51 37.4952 1415.51 46.5287 Q1415.51 55.6027 1412.47 64.7983 Q1409.47 73.9938 1403.4 83.5134 L1396.92 83.5134 Q1402.3 74.2369 1404.94 65.0818 Q1407.61 55.8863 1407.61 46.5287 Q1407.61 37.1711 1404.94 28.0566 Q1402.3 18.942 1396.92 9.62495 Z\" fill=\"#000000\" fill-rule=\"evenodd\" fill-opacity=\"1\" /><polyline clip-path=\"url(#clip232)\" style=\"stroke:#009af9; stroke-linecap:butt; stroke-linejoin:round; stroke-width:4; stroke-opacity:1; fill:none\" points=\"\n",
       "  316.512,766.629 326.165,747.189 335.818,727.774 425.076,552.907 514.334,396.783 541.154,355.589 567.974,317.628 594.794,283.192 621.614,252.549 666.966,210.012 \n",
       "  712.319,179.926 761.584,162.123 810.849,160.256 833.558,164.792 856.267,172.704 878.976,183.951 901.685,198.468 950.378,240.223 999.071,295.557 1055.49,374.773 \n",
       "  1111.9,467.601 1212.17,656.103 1300.1,832.44 1348.03,927.418 1395.97,1018.57 1444.19,1104.14 1492.4,1181.42 1545.71,1254.9 1599.02,1313.64 1649.75,1354.22 \n",
       "  1700.47,1378.71 1726.84,1384.85 1753.21,1386.4 1779.58,1383.35 1805.96,1375.73 1828.15,1365.81 1850.35,1352.75 1872.55,1336.6 1894.75,1317.46 1948.95,1258.82 \n",
       "  2003.16,1184.83 2054.11,1103.37 2105.06,1012.67 2186.69,854.541 2268.32,690.575 2280.89,665.571 2293.45,640.749 \n",
       "  \"/>\n",
       "</svg>\n"
      ]
     },
     "execution_count": 37,
     "metadata": {},
     "output_type": "execute_result"
    }
   ],
   "source": [
    "f(x) = sin(x)\n",
    "a, b = 0.01, 6.5\n",
    "plot(f, a, b, ylab = \"y [1]\", xlab = \"x [1]\", label = \"\", title = \"sin(x)\")"
   ]
  },
  {
   "cell_type": "code",
   "execution_count": 38,
   "id": "692c3076",
   "metadata": {},
   "outputs": [
    {
     "ename": "LoadError",
     "evalue": "ArgumentError: The interval [a,b] is not a bracketing interval.\nYou need f(a) and f(b) to have different signs (f(a) * f(b) < 0).\nConsider a different bracket or try fzero(f, c) with an initial guess c.\n\n",
     "output_type": "error",
     "traceback": [
      "ArgumentError: The interval [a,b] is not a bracketing interval.\nYou need f(a) and f(b) to have different signs (f(a) * f(b) < 0).\nConsider a different bracket or try fzero(f, c) with an initial guess c.\n\n",
      "",
      "Stacktrace:",
      "  [1] assert_bracket",
      "    @ C:\\Users\\bchwa\\.julia\\packages\\Roots\\kyxnO\\src\\Bracketing\\bracketing.jl:55 [inlined]",
      "  [2] init_state(::Bisection, F::Roots.Callable_Function{Val{1}, Val{false}, typeof(f), Nothing}, x₀::Float64, x₁::Float64, fx₀::Float64, fx₁::Float64; m::Float64, fm::Float64)",
      "    @ Roots C:\\Users\\bchwa\\.julia\\packages\\Roots\\kyxnO\\src\\Bracketing\\bisection.jl:41",
      "  [3] init_state(::Bisection, F::Roots.Callable_Function{Val{1}, Val{false}, typeof(f), Nothing}, x₀::Float64, x₁::Float64, fx₀::Float64, fx₁::Float64)",
      "    @ Roots C:\\Users\\bchwa\\.julia\\packages\\Roots\\kyxnO\\src\\Bracketing\\bisection.jl:35",
      "  [4] init_state",
      "    @ C:\\Users\\bchwa\\.julia\\packages\\Roots\\kyxnO\\src\\Bracketing\\false_position.jl:49 [inlined]",
      "  [5] init_state",
      "    @ C:\\Users\\bchwa\\.julia\\packages\\Roots\\kyxnO\\src\\DerivativeFree\\derivative_free.jl:7 [inlined]",
      "  [6] init(𝑭𝑿::ZeroProblem{typeof(f), Tuple{Float64, Float64}}, M::FalsePosition{:anderson_bjork}, p′::Nothing; p::Nothing, verbose::Bool, tracks::Roots.NullTracks, kwargs::Base.Pairs{Symbol, Union{}, Tuple{}, NamedTuple{(), Tuple{}}})",
      "    @ Roots C:\\Users\\bchwa\\.julia\\packages\\Roots\\kyxnO\\src\\find_zero.jl:260",
      "  [7] #solve#35",
      "    @ C:\\Users\\bchwa\\.julia\\packages\\Roots\\kyxnO\\src\\find_zero.jl:439 [inlined]",
      "  [8] find_zero(f::Function, x0::Tuple{Float64, Float64}, M::FalsePosition{:anderson_bjork}; p::Nothing, verbose::Bool, tracks::Roots.NullTracks, kwargs::Base.Pairs{Symbol, Union{}, Tuple{}, NamedTuple{(), Tuple{}}})",
      "    @ Roots C:\\Users\\bchwa\\.julia\\packages\\Roots\\kyxnO\\src\\find_zero.jl:197",
      "  [9] intervalFalsi(f::Function, a::Float64, b::Float64)",
      "    @ Main .\\In[2]:3",
      " [10] top-level scope",
      "    @ In[38]:1",
      " [11] eval",
      "    @ .\\boot.jl:373 [inlined]",
      " [12] include_string(mapexpr::typeof(REPL.softscope), mod::Module, code::String, filename::String)",
      "    @ Base .\\loading.jl:1196"
     ]
    }
   ],
   "source": [
    "intervalFalsi(f, a, b)"
   ]
  },
  {
   "cell_type": "markdown",
   "id": "24b262a2",
   "metadata": {},
   "source": [
    "Metoda nie działa, ponieważ wartości na krańcach oraz w jego środku są tego samego znaku (algorytm opiera się na fakcie, że dla funkcji ciągłej w przedziale [a,b] o różnych znakach na jego końcu funkcja w tym przedziale ma pierwiastek)."
   ]
  },
  {
   "cell_type": "markdown",
   "id": "02143e6f",
   "metadata": {},
   "source": [
    "### Metoda Newtona"
   ]
  },
  {
   "cell_type": "markdown",
   "id": "17669ee8",
   "metadata": {},
   "source": [
    "$ f(x) = sgn(x) \\cdot \\sqrt{|x|} $"
   ]
  },
  {
   "cell_type": "code",
   "execution_count": 39,
   "id": "90824e85",
   "metadata": {
    "scrolled": false
   },
   "outputs": [
    {
     "data": {
      "image/svg+xml": [
       "<?xml version=\"1.0\" encoding=\"utf-8\"?>\n",
       "<svg xmlns=\"http://www.w3.org/2000/svg\" xmlns:xlink=\"http://www.w3.org/1999/xlink\" width=\"600\" height=\"400\" viewBox=\"0 0 2400 1600\">\n",
       "<defs>\n",
       "  <clipPath id=\"clip270\">\n",
       "    <rect x=\"0\" y=\"0\" width=\"2400\" height=\"1600\"/>\n",
       "  </clipPath>\n",
       "</defs>\n",
       "<path clip-path=\"url(#clip270)\" d=\"\n",
       "M0 1600 L2400 1600 L2400 0 L0 0  Z\n",
       "  \" fill=\"#ffffff\" fill-rule=\"evenodd\" fill-opacity=\"1\"/>\n",
       "<defs>\n",
       "  <clipPath id=\"clip271\">\n",
       "    <rect x=\"480\" y=\"0\" width=\"1681\" height=\"1600\"/>\n",
       "  </clipPath>\n",
       "</defs>\n",
       "<path clip-path=\"url(#clip270)\" d=\"\n",
       "M210.746 1423.18 L2352.76 1423.18 L2352.76 123.472 L210.746 123.472  Z\n",
       "  \" fill=\"#ffffff\" fill-rule=\"evenodd\" fill-opacity=\"1\"/>\n",
       "<defs>\n",
       "  <clipPath id=\"clip272\">\n",
       "    <rect x=\"210\" y=\"123\" width=\"2143\" height=\"1301\"/>\n",
       "  </clipPath>\n",
       "</defs>\n",
       "<polyline clip-path=\"url(#clip272)\" style=\"stroke:#000000; stroke-linecap:butt; stroke-linejoin:round; stroke-width:2; stroke-opacity:0.1; fill:none\" points=\"\n",
       "  271.369,1423.18 271.369,123.472 \n",
       "  \"/>\n",
       "<polyline clip-path=\"url(#clip272)\" style=\"stroke:#000000; stroke-linecap:butt; stroke-linejoin:round; stroke-width:2; stroke-opacity:0.1; fill:none\" points=\"\n",
       "  776.56,1423.18 776.56,123.472 \n",
       "  \"/>\n",
       "<polyline clip-path=\"url(#clip272)\" style=\"stroke:#000000; stroke-linecap:butt; stroke-linejoin:round; stroke-width:2; stroke-opacity:0.1; fill:none\" points=\"\n",
       "  1281.75,1423.18 1281.75,123.472 \n",
       "  \"/>\n",
       "<polyline clip-path=\"url(#clip272)\" style=\"stroke:#000000; stroke-linecap:butt; stroke-linejoin:round; stroke-width:2; stroke-opacity:0.1; fill:none\" points=\"\n",
       "  1786.94,1423.18 1786.94,123.472 \n",
       "  \"/>\n",
       "<polyline clip-path=\"url(#clip272)\" style=\"stroke:#000000; stroke-linecap:butt; stroke-linejoin:round; stroke-width:2; stroke-opacity:0.1; fill:none\" points=\"\n",
       "  2292.13,1423.18 2292.13,123.472 \n",
       "  \"/>\n",
       "<polyline clip-path=\"url(#clip270)\" style=\"stroke:#000000; stroke-linecap:butt; stroke-linejoin:round; stroke-width:4; stroke-opacity:1; fill:none\" points=\"\n",
       "  210.746,1423.18 2352.76,1423.18 \n",
       "  \"/>\n",
       "<polyline clip-path=\"url(#clip270)\" style=\"stroke:#000000; stroke-linecap:butt; stroke-linejoin:round; stroke-width:4; stroke-opacity:1; fill:none\" points=\"\n",
       "  271.369,1423.18 271.369,1404.28 \n",
       "  \"/>\n",
       "<polyline clip-path=\"url(#clip270)\" style=\"stroke:#000000; stroke-linecap:butt; stroke-linejoin:round; stroke-width:4; stroke-opacity:1; fill:none\" points=\"\n",
       "  776.56,1423.18 776.56,1404.28 \n",
       "  \"/>\n",
       "<polyline clip-path=\"url(#clip270)\" style=\"stroke:#000000; stroke-linecap:butt; stroke-linejoin:round; stroke-width:4; stroke-opacity:1; fill:none\" points=\"\n",
       "  1281.75,1423.18 1281.75,1404.28 \n",
       "  \"/>\n",
       "<polyline clip-path=\"url(#clip270)\" style=\"stroke:#000000; stroke-linecap:butt; stroke-linejoin:round; stroke-width:4; stroke-opacity:1; fill:none\" points=\"\n",
       "  1786.94,1423.18 1786.94,1404.28 \n",
       "  \"/>\n",
       "<polyline clip-path=\"url(#clip270)\" style=\"stroke:#000000; stroke-linecap:butt; stroke-linejoin:round; stroke-width:4; stroke-opacity:1; fill:none\" points=\"\n",
       "  2292.13,1423.18 2292.13,1404.28 \n",
       "  \"/>\n",
       "<path clip-path=\"url(#clip270)\" d=\"M240.269 1468.75 L269.945 1468.75 L269.945 1472.69 L240.269 1472.69 L240.269 1468.75 Z\" fill=\"#000000\" fill-rule=\"evenodd\" fill-opacity=\"1\" /><path clip-path=\"url(#clip270)\" d=\"M292.885 1455.09 L281.079 1473.54 L292.885 1473.54 L292.885 1455.09 M291.658 1451.02 L297.538 1451.02 L297.538 1473.54 L302.468 1473.54 L302.468 1477.43 L297.538 1477.43 L297.538 1485.58 L292.885 1485.58 L292.885 1477.43 L277.283 1477.43 L277.283 1472.92 L291.658 1451.02 Z\" fill=\"#000000\" fill-rule=\"evenodd\" fill-opacity=\"1\" /><path clip-path=\"url(#clip270)\" d=\"M746.502 1468.75 L776.178 1468.75 L776.178 1472.69 L746.502 1472.69 L746.502 1468.75 Z\" fill=\"#000000\" fill-rule=\"evenodd\" fill-opacity=\"1\" /><path clip-path=\"url(#clip270)\" d=\"M790.298 1481.64 L806.618 1481.64 L806.618 1485.58 L784.673 1485.58 L784.673 1481.64 Q787.335 1478.89 791.919 1474.26 Q796.525 1469.61 797.706 1468.27 Q799.951 1465.74 800.831 1464.01 Q801.733 1462.25 801.733 1460.56 Q801.733 1457.8 799.789 1456.07 Q797.868 1454.33 794.766 1454.33 Q792.567 1454.33 790.113 1455.09 Q787.683 1455.86 784.905 1457.41 L784.905 1452.69 Q787.729 1451.55 790.183 1450.97 Q792.636 1450.39 794.673 1450.39 Q800.044 1450.39 803.238 1453.08 Q806.432 1455.77 806.432 1460.26 Q806.432 1462.39 805.622 1464.31 Q804.835 1466.2 802.729 1468.8 Q802.15 1469.47 799.048 1472.69 Q795.946 1475.88 790.298 1481.64 Z\" fill=\"#000000\" fill-rule=\"evenodd\" fill-opacity=\"1\" /><path clip-path=\"url(#clip270)\" d=\"M1281.75 1454.1 Q1278.14 1454.1 1276.31 1457.66 Q1274.51 1461.2 1274.51 1468.33 Q1274.51 1475.44 1276.31 1479.01 Q1278.14 1482.55 1281.75 1482.55 Q1285.39 1482.55 1287.19 1479.01 Q1289.02 1475.44 1289.02 1468.33 Q1289.02 1461.2 1287.19 1457.66 Q1285.39 1454.1 1281.75 1454.1 M1281.75 1450.39 Q1287.56 1450.39 1290.62 1455 Q1293.7 1459.58 1293.7 1468.33 Q1293.7 1477.06 1290.62 1481.67 Q1287.56 1486.25 1281.75 1486.25 Q1275.94 1486.25 1272.86 1481.67 Q1269.81 1477.06 1269.81 1468.33 Q1269.81 1459.58 1272.86 1455 Q1275.94 1450.39 1281.75 1450.39 Z\" fill=\"#000000\" fill-rule=\"evenodd\" fill-opacity=\"1\" /><path clip-path=\"url(#clip270)\" d=\"M1781.59 1481.64 L1797.91 1481.64 L1797.91 1485.58 L1775.97 1485.58 L1775.97 1481.64 Q1778.63 1478.89 1783.22 1474.26 Q1787.82 1469.61 1789 1468.27 Q1791.25 1465.74 1792.13 1464.01 Q1793.03 1462.25 1793.03 1460.56 Q1793.03 1457.8 1791.09 1456.07 Q1789.16 1454.33 1786.06 1454.33 Q1783.86 1454.33 1781.41 1455.09 Q1778.98 1455.86 1776.2 1457.41 L1776.2 1452.69 Q1779.03 1451.55 1781.48 1450.97 Q1783.93 1450.39 1785.97 1450.39 Q1791.34 1450.39 1794.53 1453.08 Q1797.73 1455.77 1797.73 1460.26 Q1797.73 1462.39 1796.92 1464.31 Q1796.13 1466.2 1794.03 1468.8 Q1793.45 1469.47 1790.34 1472.69 Q1787.24 1475.88 1781.59 1481.64 Z\" fill=\"#000000\" fill-rule=\"evenodd\" fill-opacity=\"1\" /><path clip-path=\"url(#clip270)\" d=\"M2295.14 1455.09 L2283.34 1473.54 L2295.14 1473.54 L2295.14 1455.09 M2293.92 1451.02 L2299.79 1451.02 L2299.79 1473.54 L2304.73 1473.54 L2304.73 1477.43 L2299.79 1477.43 L2299.79 1485.58 L2295.14 1485.58 L2295.14 1477.43 L2279.54 1477.43 L2279.54 1472.92 L2293.92 1451.02 Z\" fill=\"#000000\" fill-rule=\"evenodd\" fill-opacity=\"1\" /><path clip-path=\"url(#clip270)\" d=\"M1243.57 1532.4 L1230.68 1549.74 L1244.24 1568.04 L1237.33 1568.04 L1226.96 1554.04 L1216.58 1568.04 L1209.68 1568.04 L1223.52 1549.39 L1210.85 1532.4 L1217.76 1532.4 L1227.21 1545.1 L1236.67 1532.4 L1243.57 1532.4 Z\" fill=\"#000000\" fill-rule=\"evenodd\" fill-opacity=\"1\" /><path clip-path=\"url(#clip270)\" d=\"M1272.7 1518.52 L1286.19 1518.52 L1286.19 1523.07 L1278.55 1523.07 L1278.55 1572.09 L1286.19 1572.09 L1286.19 1576.64 L1272.7 1576.64 L1272.7 1518.52 Z\" fill=\"#000000\" fill-rule=\"evenodd\" fill-opacity=\"1\" /><path clip-path=\"url(#clip270)\" d=\"M1300.61 1562.63 L1311.11 1562.63 L1311.11 1526.38 L1299.69 1528.67 L1299.69 1522.82 L1311.05 1520.52 L1317.48 1520.52 L1317.48 1562.63 L1327.98 1562.63 L1327.98 1568.04 L1300.61 1568.04 L1300.61 1562.63 Z\" fill=\"#000000\" fill-rule=\"evenodd\" fill-opacity=\"1\" /><path clip-path=\"url(#clip270)\" d=\"M1353.83 1518.52 L1353.83 1576.64 L1340.33 1576.64 L1340.33 1572.09 L1347.94 1572.09 L1347.94 1523.07 L1340.33 1523.07 L1340.33 1518.52 L1353.83 1518.52 Z\" fill=\"#000000\" fill-rule=\"evenodd\" fill-opacity=\"1\" /><polyline clip-path=\"url(#clip272)\" style=\"stroke:#000000; stroke-linecap:butt; stroke-linejoin:round; stroke-width:2; stroke-opacity:0.1; fill:none\" points=\"\n",
       "  210.746,1386.4 2352.76,1386.4 \n",
       "  \"/>\n",
       "<polyline clip-path=\"url(#clip272)\" style=\"stroke:#000000; stroke-linecap:butt; stroke-linejoin:round; stroke-width:2; stroke-opacity:0.1; fill:none\" points=\"\n",
       "  210.746,1079.86 2352.76,1079.86 \n",
       "  \"/>\n",
       "<polyline clip-path=\"url(#clip272)\" style=\"stroke:#000000; stroke-linecap:butt; stroke-linejoin:round; stroke-width:2; stroke-opacity:0.1; fill:none\" points=\"\n",
       "  210.746,773.326 2352.76,773.326 \n",
       "  \"/>\n",
       "<polyline clip-path=\"url(#clip272)\" style=\"stroke:#000000; stroke-linecap:butt; stroke-linejoin:round; stroke-width:2; stroke-opacity:0.1; fill:none\" points=\"\n",
       "  210.746,466.791 2352.76,466.791 \n",
       "  \"/>\n",
       "<polyline clip-path=\"url(#clip272)\" style=\"stroke:#000000; stroke-linecap:butt; stroke-linejoin:round; stroke-width:2; stroke-opacity:0.1; fill:none\" points=\"\n",
       "  210.746,160.256 2352.76,160.256 \n",
       "  \"/>\n",
       "<polyline clip-path=\"url(#clip270)\" style=\"stroke:#000000; stroke-linecap:butt; stroke-linejoin:round; stroke-width:4; stroke-opacity:1; fill:none\" points=\"\n",
       "  210.746,1423.18 210.746,123.472 \n",
       "  \"/>\n",
       "<polyline clip-path=\"url(#clip270)\" style=\"stroke:#000000; stroke-linecap:butt; stroke-linejoin:round; stroke-width:4; stroke-opacity:1; fill:none\" points=\"\n",
       "  210.746,1386.4 229.644,1386.4 \n",
       "  \"/>\n",
       "<polyline clip-path=\"url(#clip270)\" style=\"stroke:#000000; stroke-linecap:butt; stroke-linejoin:round; stroke-width:4; stroke-opacity:1; fill:none\" points=\"\n",
       "  210.746,1079.86 229.644,1079.86 \n",
       "  \"/>\n",
       "<polyline clip-path=\"url(#clip270)\" style=\"stroke:#000000; stroke-linecap:butt; stroke-linejoin:round; stroke-width:4; stroke-opacity:1; fill:none\" points=\"\n",
       "  210.746,773.326 229.644,773.326 \n",
       "  \"/>\n",
       "<polyline clip-path=\"url(#clip270)\" style=\"stroke:#000000; stroke-linecap:butt; stroke-linejoin:round; stroke-width:4; stroke-opacity:1; fill:none\" points=\"\n",
       "  210.746,466.791 229.644,466.791 \n",
       "  \"/>\n",
       "<polyline clip-path=\"url(#clip270)\" style=\"stroke:#000000; stroke-linecap:butt; stroke-linejoin:round; stroke-width:4; stroke-opacity:1; fill:none\" points=\"\n",
       "  210.746,160.256 229.644,160.256 \n",
       "  \"/>\n",
       "<path clip-path=\"url(#clip270)\" d=\"M114.631 1386.85 L144.306 1386.85 L144.306 1390.78 L114.631 1390.78 L114.631 1386.85 Z\" fill=\"#000000\" fill-rule=\"evenodd\" fill-opacity=\"1\" /><path clip-path=\"url(#clip270)\" d=\"M158.427 1399.74 L174.746 1399.74 L174.746 1403.68 L152.802 1403.68 L152.802 1399.74 Q155.464 1396.99 160.047 1392.36 Q164.653 1387.7 165.834 1386.36 Q168.079 1383.84 168.959 1382.1 Q169.862 1380.34 169.862 1378.65 Q169.862 1375.9 167.917 1374.16 Q165.996 1372.43 162.894 1372.43 Q160.695 1372.43 158.241 1373.19 Q155.811 1373.95 153.033 1375.5 L153.033 1370.78 Q155.857 1369.65 158.311 1369.07 Q160.765 1368.49 162.802 1368.49 Q168.172 1368.49 171.366 1371.18 Q174.561 1373.86 174.561 1378.35 Q174.561 1380.48 173.751 1382.4 Q172.964 1384.3 170.857 1386.89 Q170.278 1387.56 167.177 1390.78 Q164.075 1393.98 158.427 1399.74 Z\" fill=\"#000000\" fill-rule=\"evenodd\" fill-opacity=\"1\" /><path clip-path=\"url(#clip270)\" d=\"M114.26 1080.31 L143.936 1080.31 L143.936 1084.25 L114.26 1084.25 L114.26 1080.31 Z\" fill=\"#000000\" fill-rule=\"evenodd\" fill-opacity=\"1\" /><path clip-path=\"url(#clip270)\" d=\"M154.839 1093.21 L162.477 1093.21 L162.477 1066.84 L154.167 1068.51 L154.167 1064.25 L162.431 1062.58 L167.107 1062.58 L167.107 1093.21 L174.746 1093.21 L174.746 1097.14 L154.839 1097.14 L154.839 1093.21 Z\" fill=\"#000000\" fill-rule=\"evenodd\" fill-opacity=\"1\" /><path clip-path=\"url(#clip270)\" d=\"M162.802 759.125 Q159.19 759.125 157.362 762.689 Q155.556 766.231 155.556 773.361 Q155.556 780.467 157.362 784.032 Q159.19 787.574 162.802 787.574 Q166.436 787.574 168.241 784.032 Q170.07 780.467 170.07 773.361 Q170.07 766.231 168.241 762.689 Q166.436 759.125 162.802 759.125 M162.802 755.421 Q168.612 755.421 171.667 760.027 Q174.746 764.611 174.746 773.361 Q174.746 782.088 171.667 786.694 Q168.612 791.277 162.802 791.277 Q156.991 791.277 153.913 786.694 Q150.857 782.088 150.857 773.361 Q150.857 764.611 153.913 760.027 Q156.991 755.421 162.802 755.421 Z\" fill=\"#000000\" fill-rule=\"evenodd\" fill-opacity=\"1\" /><path clip-path=\"url(#clip270)\" d=\"M154.839 480.136 L162.477 480.136 L162.477 453.77 L154.167 455.437 L154.167 451.178 L162.431 449.511 L167.107 449.511 L167.107 480.136 L174.746 480.136 L174.746 484.071 L154.839 484.071 L154.839 480.136 Z\" fill=\"#000000\" fill-rule=\"evenodd\" fill-opacity=\"1\" /><path clip-path=\"url(#clip270)\" d=\"M158.427 173.601 L174.746 173.601 L174.746 177.536 L152.802 177.536 L152.802 173.601 Q155.464 170.847 160.047 166.217 Q164.653 161.564 165.834 160.222 Q168.079 157.698 168.959 155.962 Q169.862 154.203 169.862 152.513 Q169.862 149.759 167.917 148.023 Q165.996 146.286 162.894 146.286 Q160.695 146.286 158.241 147.05 Q155.811 147.814 153.033 149.365 L153.033 144.643 Q155.857 143.509 158.311 142.93 Q160.765 142.351 162.802 142.351 Q168.172 142.351 171.366 145.036 Q174.561 147.722 174.561 152.212 Q174.561 154.342 173.751 156.263 Q172.964 158.161 170.857 160.754 Q170.278 161.425 167.177 164.643 Q164.075 167.837 158.427 173.601 Z\" fill=\"#000000\" fill-rule=\"evenodd\" fill-opacity=\"1\" /><path clip-path=\"url(#clip270)\" d=\"M67.3143 826.336 Q73.68 828.819 75.6216 831.174 Q77.5631 833.53 77.5631 837.476 L77.5631 842.155 L72.6615 842.155 L72.6615 838.718 Q72.6615 836.299 71.5157 834.962 Q70.3699 833.625 66.1048 832.002 L63.4312 830.952 L28.3562 845.37 L28.3562 839.163 L56.238 828.023 L28.3562 816.883 L28.3562 810.677 L67.3143 826.336 Z\" fill=\"#000000\" fill-rule=\"evenodd\" fill-opacity=\"1\" /><path clip-path=\"url(#clip270)\" d=\"M14.479 782.413 L14.479 768.918 L19.0304 768.918 L19.0304 776.557 L68.0464 776.557 L68.0464 768.918 L72.5979 768.918 L72.5979 782.413 L14.479 782.413 Z\" fill=\"#000000\" fill-rule=\"evenodd\" fill-opacity=\"1\" /><path clip-path=\"url(#clip270)\" d=\"M58.5933 754.499 L58.5933 743.996 L22.3406 743.996 L24.6323 755.422 L18.7758 755.422 L16.4842 744.06 L16.4842 737.63 L58.5933 737.63 L58.5933 727.127 L64.0042 727.127 L64.0042 754.499 L58.5933 754.499 Z\" fill=\"#000000\" fill-rule=\"evenodd\" fill-opacity=\"1\" /><path clip-path=\"url(#clip270)\" d=\"M14.479 701.282 L72.5979 701.282 L72.5979 714.777 L68.0464 714.777 L68.0464 707.17 L19.0304 707.17 L19.0304 714.777 L14.479 714.777 L14.479 701.282 Z\" fill=\"#000000\" fill-rule=\"evenodd\" fill-opacity=\"1\" /><path clip-path=\"url(#clip270)\" d=\"M975.422 28.5427 L975.422 35.5912 Q972.262 33.9709 968.859 33.1607 Q965.456 32.3505 961.811 32.3505 Q956.261 32.3505 953.466 34.0519 Q950.711 35.7533 950.711 39.156 Q950.711 41.7486 952.696 43.2475 Q954.681 44.7058 960.676 46.0426 L963.228 46.6097 Q971.168 48.3111 974.49 51.4303 Q977.852 54.509 977.852 60.0587 Q977.852 66.3781 972.829 70.0644 Q967.846 73.7508 959.096 73.7508 Q955.451 73.7508 951.481 73.0216 Q947.551 72.3329 943.176 70.9151 L943.176 63.2184 Q947.308 65.3654 951.319 66.4591 Q955.329 67.5124 959.258 67.5124 Q964.525 67.5124 967.36 65.73 Q970.196 63.9071 970.196 60.6258 Q970.196 57.5877 968.13 55.9673 Q966.104 54.3469 959.177 52.8481 L956.585 52.2405 Q949.658 50.7821 946.579 47.7845 Q943.5 44.7463 943.5 39.4801 Q943.5 33.0797 948.037 29.5959 Q952.574 26.1121 960.919 26.1121 Q965.051 26.1121 968.697 26.7198 Q972.343 27.3274 975.422 28.5427 Z\" fill=\"#000000\" fill-rule=\"evenodd\" fill-opacity=\"1\" /><path clip-path=\"url(#clip270)\" d=\"M1019.58 49.3643 Q1019.58 41.2625 1016.21 36.8065 Q1012.89 32.3505 1006.86 32.3505 Q1000.86 32.3505 997.499 36.8065 Q994.177 41.2625 994.177 49.3643 Q994.177 57.4256 997.499 61.8816 Q1000.86 66.3376 1006.86 66.3376 Q1012.89 66.3376 1016.21 61.8816 Q1019.58 57.4256 1019.58 49.3643 M1027.03 66.9452 Q1027.03 78.5308 1021.89 84.1616 Q1016.74 89.8329 1006.13 89.8329 Q1002.2 89.8329 998.714 89.2252 Q995.23 88.6581 991.949 87.4428 L991.949 80.1917 Q995.23 81.9741 998.431 82.8248 Q1001.63 83.6755 1004.95 83.6755 Q1012.28 83.6755 1015.93 79.8271 Q1019.58 76.0193 1019.58 68.282 L1019.58 64.5957 Q1017.27 68.6061 1013.66 70.5911 Q1010.06 72.576 1005.03 72.576 Q996.689 72.576 991.585 66.2161 Q986.481 59.8562 986.481 49.3643 Q986.481 38.832 991.585 32.472 Q996.689 26.1121 1005.03 26.1121 Q1010.06 26.1121 1013.66 28.0971 Q1017.27 30.082 1019.58 34.0924 L1019.58 27.2059 L1027.03 27.2059 L1027.03 66.9452 Z\" fill=\"#000000\" fill-rule=\"evenodd\" fill-opacity=\"1\" /><path clip-path=\"url(#clip270)\" d=\"M1080.1 45.1919 L1080.1 72.576 L1072.64 72.576 L1072.64 45.4349 Q1072.64 38.994 1070.13 35.7938 Q1067.62 32.5936 1062.6 32.5936 Q1056.56 32.5936 1053.08 36.4419 Q1049.59 40.2903 1049.59 46.9338 L1049.59 72.576 L1042.1 72.576 L1042.1 27.2059 L1049.59 27.2059 L1049.59 34.2544 Q1052.27 30.163 1055.87 28.1376 Q1059.52 26.1121 1064.26 26.1121 Q1072.08 26.1121 1076.09 30.9732 Q1080.1 35.7938 1080.1 45.1919 Z\" fill=\"#000000\" fill-rule=\"evenodd\" fill-opacity=\"1\" /><path clip-path=\"url(#clip270)\" d=\"M1112.87 9.62495 Q1107.44 18.942 1104.81 28.0566 Q1102.17 37.1711 1102.17 46.5287 Q1102.17 55.8863 1104.81 65.0818 Q1107.48 74.2369 1112.87 83.5134 L1106.39 83.5134 Q1100.31 73.9938 1097.27 64.7983 Q1094.28 55.6027 1094.28 46.5287 Q1094.28 37.4952 1097.27 28.3401 Q1100.27 19.1851 1106.39 9.62495 L1112.87 9.62495 Z\" fill=\"#000000\" fill-rule=\"evenodd\" fill-opacity=\"1\" /><path clip-path=\"url(#clip270)\" d=\"M1165.04 27.2059 L1148.64 49.2833 L1165.9 72.576 L1157.1 72.576 L1143.9 54.752 L1130.69 72.576 L1121.9 72.576 L1139.52 48.8377 L1123.4 27.2059 L1132.19 27.2059 L1144.22 43.369 L1156.25 27.2059 L1165.04 27.2059 Z\" fill=\"#000000\" fill-rule=\"evenodd\" fill-opacity=\"1\" /><path clip-path=\"url(#clip270)\" d=\"M1175.25 9.62495 L1181.73 9.62495 Q1187.81 19.1851 1190.81 28.3401 Q1193.85 37.4952 1193.85 46.5287 Q1193.85 55.6027 1190.81 64.7983 Q1187.81 73.9938 1181.73 83.5134 L1175.25 83.5134 Q1180.64 74.2369 1183.27 65.0818 Q1185.95 55.8863 1185.95 46.5287 Q1185.95 37.1711 1183.27 28.0566 Q1180.64 18.942 1175.25 9.62495 Z\" fill=\"#000000\" fill-rule=\"evenodd\" fill-opacity=\"1\" /><path clip-path=\"url(#clip270)\" d=\"M1266.36 22.0612 L1251.81 29.92 L1266.36 37.8192 L1264.01 41.7891 L1250.4 33.5658 L1250.4 48.8377 L1245.78 48.8377 L1245.78 33.5658 L1232.17 41.7891 L1229.82 37.8192 L1244.36 29.92 L1229.82 22.0612 L1232.17 18.0508 L1245.78 26.2742 L1245.78 11.0023 L1250.4 11.0023 L1250.4 26.2742 L1264.01 18.0508 L1266.36 22.0612 Z\" fill=\"#000000\" fill-rule=\"evenodd\" fill-opacity=\"1\" /><path clip-path=\"url(#clip270)\" d=\"M1331.94 28.5427 L1331.94 35.5912 Q1328.78 33.9709 1325.38 33.1607 Q1321.98 32.3505 1318.33 32.3505 Q1312.78 32.3505 1309.99 34.0519 Q1307.23 35.7533 1307.23 39.156 Q1307.23 41.7486 1309.22 43.2475 Q1311.2 44.7058 1317.2 46.0426 L1319.75 46.6097 Q1327.69 48.3111 1331.01 51.4303 Q1334.37 54.509 1334.37 60.0587 Q1334.37 66.3781 1329.35 70.0644 Q1324.37 73.7508 1315.62 73.7508 Q1311.97 73.7508 1308 73.0216 Q1304.07 72.3329 1299.7 70.9151 L1299.7 63.2184 Q1303.83 65.3654 1307.84 66.4591 Q1311.85 67.5124 1315.78 67.5124 Q1321.04 67.5124 1323.88 65.73 Q1326.72 63.9071 1326.72 60.6258 Q1326.72 57.5877 1324.65 55.9673 Q1322.62 54.3469 1315.7 52.8481 L1313.1 52.2405 Q1306.18 50.7821 1303.1 47.7845 Q1300.02 44.7463 1300.02 39.4801 Q1300.02 33.0797 1304.56 29.5959 Q1309.09 26.1121 1317.44 26.1121 Q1321.57 26.1121 1325.22 26.7198 Q1328.86 27.3274 1331.94 28.5427 Z\" fill=\"#000000\" fill-rule=\"evenodd\" fill-opacity=\"1\" /><path clip-path=\"url(#clip270)\" d=\"M1350.7 49.9314 Q1350.7 58.1548 1354.06 62.8538 Q1357.46 67.5124 1363.38 67.5124 Q1369.29 67.5124 1372.69 62.8538 Q1376.1 58.1548 1376.1 49.9314 Q1376.1 41.7081 1372.69 37.0496 Q1369.29 32.3505 1363.38 32.3505 Q1357.46 32.3505 1354.06 37.0496 Q1350.7 41.7081 1350.7 49.9314 M1376.1 65.7705 Q1373.75 69.8214 1370.14 71.8063 Q1366.58 73.7508 1361.55 73.7508 Q1353.33 73.7508 1348.15 67.1883 Q1343 60.6258 1343 49.9314 Q1343 39.2371 1348.15 32.6746 Q1353.33 26.1121 1361.55 26.1121 Q1366.58 26.1121 1370.14 28.0971 Q1373.75 30.0415 1376.1 34.0924 L1376.1 27.2059 L1383.55 27.2059 L1383.55 89.8329 L1376.1 89.8329 L1376.1 65.7705 Z\" fill=\"#000000\" fill-rule=\"evenodd\" fill-opacity=\"1\" /><path clip-path=\"url(#clip270)\" d=\"M1425.19 34.1734 Q1423.94 33.4443 1422.44 33.1202 Q1420.98 32.7556 1419.2 32.7556 Q1412.88 32.7556 1409.48 36.8875 Q1406.11 40.9789 1406.11 48.6757 L1406.11 72.576 L1398.62 72.576 L1398.62 27.2059 L1406.11 27.2059 L1406.11 34.2544 Q1408.46 30.1225 1412.23 28.1376 Q1416 26.1121 1421.39 26.1121 Q1422.16 26.1121 1423.09 26.2337 Q1424.02 26.3147 1425.15 26.5172 L1425.19 34.1734 Z\" fill=\"#000000\" fill-rule=\"evenodd\" fill-opacity=\"1\" /><path clip-path=\"url(#clip270)\" d=\"M1440.38 14.324 L1440.38 27.2059 L1455.74 27.2059 L1455.74 32.9987 L1440.38 32.9987 L1440.38 57.6282 Q1440.38 63.1779 1441.88 64.7578 Q1443.42 66.3376 1448.08 66.3376 L1455.74 66.3376 L1455.74 72.576 L1448.08 72.576 Q1439.45 72.576 1436.17 69.3758 Q1432.89 66.1351 1432.89 57.6282 L1432.89 32.9987 L1427.42 32.9987 L1427.42 27.2059 L1432.89 27.2059 L1432.89 14.324 L1440.38 14.324 Z\" fill=\"#000000\" fill-rule=\"evenodd\" fill-opacity=\"1\" /><path clip-path=\"url(#clip270)\" d=\"M1483.45 9.62495 Q1478.02 18.942 1475.38 28.0566 Q1472.75 37.1711 1472.75 46.5287 Q1472.75 55.8863 1475.38 65.0818 Q1478.06 74.2369 1483.45 83.5134 L1476.96 83.5134 Q1470.89 73.9938 1467.85 64.7983 Q1464.85 55.6027 1464.85 46.5287 Q1464.85 37.4952 1467.85 28.3401 Q1470.85 19.1851 1476.96 9.62495 L1483.45 9.62495 Z\" fill=\"#000000\" fill-rule=\"evenodd\" fill-opacity=\"1\" /><path clip-path=\"url(#clip270)\" d=\"M1507.51 9.17935 L1507.51 92.1419 L1500.62 92.1419 L1500.62 9.17935 L1507.51 9.17935 Z\" fill=\"#000000\" fill-rule=\"evenodd\" fill-opacity=\"1\" /><path clip-path=\"url(#clip270)\" d=\"M1563.57 27.2059 L1547.17 49.2833 L1564.42 72.576 L1555.63 72.576 L1542.43 54.752 L1529.22 72.576 L1520.43 72.576 L1538.05 48.8377 L1521.93 27.2059 L1530.72 27.2059 L1542.75 43.369 L1554.78 27.2059 L1563.57 27.2059 Z\" fill=\"#000000\" fill-rule=\"evenodd\" fill-opacity=\"1\" /><path clip-path=\"url(#clip270)\" d=\"M1584.56 9.17935 L1584.56 92.1419 L1577.67 92.1419 L1577.67 9.17935 L1584.56 9.17935 Z\" fill=\"#000000\" fill-rule=\"evenodd\" fill-opacity=\"1\" /><path clip-path=\"url(#clip270)\" d=\"M1601.73 9.62495 L1608.21 9.62495 Q1614.29 19.1851 1617.29 28.3401 Q1620.33 37.4952 1620.33 46.5287 Q1620.33 55.6027 1617.29 64.7983 Q1614.29 73.9938 1608.21 83.5134 L1601.73 83.5134 Q1607.12 74.2369 1609.75 65.0818 Q1612.43 55.8863 1612.43 46.5287 Q1612.43 37.1711 1609.75 28.0566 Q1607.12 18.942 1601.73 9.62495 Z\" fill=\"#000000\" fill-rule=\"evenodd\" fill-opacity=\"1\" /><polyline clip-path=\"url(#clip272)\" style=\"stroke:#009af9; stroke-linecap:butt; stroke-linejoin:round; stroke-width:4; stroke-opacity:1; fill:none\" points=\"\n",
       "  271.369,1386.4 291.103,1380.38 473.576,1321.63 583.235,1283.07 675.95,1248.04 776.665,1206.79 869.515,1164.92 969.06,1114.38 1084.39,1044.28 1135.64,1006.46 \n",
       "  1186.89,961.179 1209.36,937.431 1231.83,909.605 1243.06,893.296 1254.29,874.388 1259.91,863.458 1265.53,851.006 1271.15,836.132 1276.76,816.395 1278.3,809.178 \n",
       "  1279.83,800.081 1280.59,794.088 1281.36,785.421 1282.12,761.557 1282.89,752.752 1285.95,733.799 1289.01,721.35 1295.14,702.758 1301.26,688.132 1313.51,664.631 \n",
       "  1325.76,645.377 1350.26,613.689 1374.76,587.323 1424.04,543.258 1473.33,506.37 1582.31,438.95 1686.01,385.535 1793.83,336.874 1884.59,299.772 1995.41,258.084 \n",
       "  2099.57,221.762 2266.45,168.098 2292.13,160.256 \n",
       "  \"/>\n",
       "</svg>\n"
      ]
     },
     "execution_count": 39,
     "metadata": {},
     "output_type": "execute_result"
    }
   ],
   "source": [
    "f(x) = sign(x) * sqrt(abs(x))\n",
    "a, b = -4, 4\n",
    "plot(f, a, b, ylab = \"y [1]\", xlab = \"x [1]\", label = \"\", title = \"sgn(x) * sqrt(|x|)\")"
   ]
  },
  {
   "cell_type": "code",
   "execution_count": 40,
   "id": "330dbb44",
   "metadata": {},
   "outputs": [
    {
     "data": {
      "text/plain": [
       "Results of univariate zero finding:\n",
       "\n",
       "* Convergence failed: \n",
       "* Algorithm Roots.Newton()\n",
       "\n",
       "Trace:\n",
       "x₁ = -1,\t fx₁ = -1\n",
       "x₂ = 1,\t fx₂ = 1\n",
       "x₃ = -1,\t fx₃ = -1\n",
       "x₄ = 1,\t fx₄ = 1\n",
       "x₅ = -1,\t fx₅ = -1\n",
       "x₆ = 1,\t fx₆ = 1\n",
       "x₇ = -1,\t fx₇ = -1\n",
       "x₈ = 1,\t fx₈ = 1\n",
       "x₉ = -1,\t fx₉ = -1\n",
       "x₁₀ = 1,\t fx₁₀ = 1\n",
       "x₁₁ = -1,\t fx₁₁ = -1\n",
       "x₁₂ = 1,\t fx₁₂ = 1\n",
       "x₁₃ = -1,\t fx₁₃ = -1\n",
       "x₁₄ = 1,\t fx₁₄ = 1\n",
       "x₁₅ = -1,\t fx₁₅ = -1\n",
       "x₁₆ = 1,\t fx₁₆ = 1\n",
       "x₁₇ = -1,\t fx₁₇ = -1\n",
       "x₁₈ = 1,\t fx₁₈ = 1\n",
       "x₁₉ = -1,\t fx₁₉ = -1\n",
       "x₂₀ = 1,\t fx₂₀ = 1\n",
       "x₂₁ = -1,\t fx₂₁ = -1\n",
       "x₂₂ = 1,\t fx₂₂ = 1\n",
       "x₂₃ = -1,\t fx₂₃ = -1\n",
       "x₂₄ = 1,\t fx₂₄ = 1\n",
       "x₂₅ = -1,\t fx₂₅ = -1\n",
       "x₂₆ = 1,\t fx₂₆ = 1\n",
       "x₂₇ = -1,\t fx₂₇ = -1\n",
       "x₂₈ = 1,\t fx₂₈ = 1\n",
       "x₂₉ = -1,\t fx₂₉ = -1\n",
       "x₃₀ = 1,\t fx₃₀ = 1\n",
       "x₃₁ = -1,\t fx₃₁ = -1\n",
       "x₃₂ = 1,\t fx₃₂ = 1\n",
       "x₃₃ = -1,\t fx₃₃ = -1\n",
       "x₃₄ = 1,\t fx₃₄ = 1\n",
       "x₃₅ = -1,\t fx₃₅ = -1\n",
       "x₃₆ = 1,\t fx₃₆ = 1\n",
       "x₃₇ = -1,\t fx₃₇ = -1\n",
       "x₃₈ = 1,\t fx₃₈ = 1\n",
       "x₃₉ = -1,\t fx₃₉ = -1\n",
       "x₄₀ = 1,\t fx₄₀ = 1\n",
       "x₄₁ = -1,\t fx₄₁ = -1\n",
       "x₄₂ = 1,\t fx₄₂ = 1\n",
       "\n"
      ]
     },
     "metadata": {},
     "output_type": "display_data"
    },
    {
     "ename": "LoadError",
     "evalue": "Roots.ConvergenceFailed(\"Algorithm failed to converge\")",
     "output_type": "error",
     "traceback": [
      "Roots.ConvergenceFailed(\"Algorithm failed to converge\")",
      "",
      "Stacktrace:",
      " [1] #find_zero#29",
      "   @ C:\\Users\\bchwa\\.julia\\packages\\Roots\\kyxnO\\src\\find_zero.jl:199 [inlined]",
      " [2] top-level scope",
      "   @ In[40]:2",
      " [3] eval",
      "   @ .\\boot.jl:373 [inlined]",
      " [4] include_string(mapexpr::typeof(REPL.softscope), mod::Module, code::String, filename::String)",
      "   @ Base .\\loading.jl:1196"
     ]
    }
   ],
   "source": [
    "D(f) = x -> ForwardDiff.derivative(f, float(x))\n",
    "find_zero((f, D(f)), -1, Roots.Newton(), verbose=true)"
   ]
  },
  {
   "cell_type": "markdown",
   "id": "44defe82",
   "metadata": {},
   "source": [
    "W trakcie działania algorytm \"przeskakuje\" cały czas z \"lewej na prawą\" zmieniając tylko znak"
   ]
  },
  {
   "cell_type": "markdown",
   "id": "148a83fb",
   "metadata": {},
   "source": [
    "### Metoda siecznych"
   ]
  },
  {
   "cell_type": "markdown",
   "id": "16888a64",
   "metadata": {},
   "source": [
    "$ \\frac{x^{2} + 2x + 2}{x^{2} - 2x + 2} $"
   ]
  },
  {
   "cell_type": "code",
   "execution_count": 41,
   "id": "ee7223e7",
   "metadata": {
    "scrolled": false
   },
   "outputs": [
    {
     "data": {
      "image/svg+xml": [
       "<?xml version=\"1.0\" encoding=\"utf-8\"?>\n",
       "<svg xmlns=\"http://www.w3.org/2000/svg\" xmlns:xlink=\"http://www.w3.org/1999/xlink\" width=\"600\" height=\"400\" viewBox=\"0 0 2400 1600\">\n",
       "<defs>\n",
       "  <clipPath id=\"clip310\">\n",
       "    <rect x=\"0\" y=\"0\" width=\"2400\" height=\"1600\"/>\n",
       "  </clipPath>\n",
       "</defs>\n",
       "<path clip-path=\"url(#clip310)\" d=\"\n",
       "M0 1600 L2400 1600 L2400 0 L0 0  Z\n",
       "  \" fill=\"#ffffff\" fill-rule=\"evenodd\" fill-opacity=\"1\"/>\n",
       "<defs>\n",
       "  <clipPath id=\"clip311\">\n",
       "    <rect x=\"480\" y=\"0\" width=\"1681\" height=\"1600\"/>\n",
       "  </clipPath>\n",
       "</defs>\n",
       "<path clip-path=\"url(#clip310)\" d=\"\n",
       "M175.445 1423.18 L2352.76 1423.18 L2352.76 123.472 L175.445 123.472  Z\n",
       "  \" fill=\"#ffffff\" fill-rule=\"evenodd\" fill-opacity=\"1\"/>\n",
       "<defs>\n",
       "  <clipPath id=\"clip312\">\n",
       "    <rect x=\"175\" y=\"123\" width=\"2178\" height=\"1301\"/>\n",
       "  </clipPath>\n",
       "</defs>\n",
       "<polyline clip-path=\"url(#clip312)\" style=\"stroke:#000000; stroke-linecap:butt; stroke-linejoin:round; stroke-width:2; stroke-opacity:0.1; fill:none\" points=\"\n",
       "  442.474,1423.18 442.474,123.472 \n",
       "  \"/>\n",
       "<polyline clip-path=\"url(#clip312)\" style=\"stroke:#000000; stroke-linecap:butt; stroke-linejoin:round; stroke-width:2; stroke-opacity:0.1; fill:none\" points=\"\n",
       "  853.287,1423.18 853.287,123.472 \n",
       "  \"/>\n",
       "<polyline clip-path=\"url(#clip312)\" style=\"stroke:#000000; stroke-linecap:butt; stroke-linejoin:round; stroke-width:2; stroke-opacity:0.1; fill:none\" points=\"\n",
       "  1264.1,1423.18 1264.1,123.472 \n",
       "  \"/>\n",
       "<polyline clip-path=\"url(#clip312)\" style=\"stroke:#000000; stroke-linecap:butt; stroke-linejoin:round; stroke-width:2; stroke-opacity:0.1; fill:none\" points=\"\n",
       "  1674.91,1423.18 1674.91,123.472 \n",
       "  \"/>\n",
       "<polyline clip-path=\"url(#clip312)\" style=\"stroke:#000000; stroke-linecap:butt; stroke-linejoin:round; stroke-width:2; stroke-opacity:0.1; fill:none\" points=\"\n",
       "  2085.73,1423.18 2085.73,123.472 \n",
       "  \"/>\n",
       "<polyline clip-path=\"url(#clip310)\" style=\"stroke:#000000; stroke-linecap:butt; stroke-linejoin:round; stroke-width:4; stroke-opacity:1; fill:none\" points=\"\n",
       "  175.445,1423.18 2352.76,1423.18 \n",
       "  \"/>\n",
       "<polyline clip-path=\"url(#clip310)\" style=\"stroke:#000000; stroke-linecap:butt; stroke-linejoin:round; stroke-width:4; stroke-opacity:1; fill:none\" points=\"\n",
       "  442.474,1423.18 442.474,1404.28 \n",
       "  \"/>\n",
       "<polyline clip-path=\"url(#clip310)\" style=\"stroke:#000000; stroke-linecap:butt; stroke-linejoin:round; stroke-width:4; stroke-opacity:1; fill:none\" points=\"\n",
       "  853.287,1423.18 853.287,1404.28 \n",
       "  \"/>\n",
       "<polyline clip-path=\"url(#clip310)\" style=\"stroke:#000000; stroke-linecap:butt; stroke-linejoin:round; stroke-width:4; stroke-opacity:1; fill:none\" points=\"\n",
       "  1264.1,1423.18 1264.1,1404.28 \n",
       "  \"/>\n",
       "<polyline clip-path=\"url(#clip310)\" style=\"stroke:#000000; stroke-linecap:butt; stroke-linejoin:round; stroke-width:4; stroke-opacity:1; fill:none\" points=\"\n",
       "  1674.91,1423.18 1674.91,1404.28 \n",
       "  \"/>\n",
       "<polyline clip-path=\"url(#clip310)\" style=\"stroke:#000000; stroke-linecap:butt; stroke-linejoin:round; stroke-width:4; stroke-opacity:1; fill:none\" points=\"\n",
       "  2085.73,1423.18 2085.73,1404.28 \n",
       "  \"/>\n",
       "<path clip-path=\"url(#clip310)\" d=\"M396.537 1468.75 L426.212 1468.75 L426.212 1472.69 L396.537 1472.69 L396.537 1468.75 Z\" fill=\"#000000\" fill-rule=\"evenodd\" fill-opacity=\"1\" /><path clip-path=\"url(#clip310)\" d=\"M440.333 1481.64 L456.652 1481.64 L456.652 1485.58 L434.708 1485.58 L434.708 1481.64 Q437.37 1478.89 441.953 1474.26 Q446.56 1469.61 447.74 1468.27 Q449.985 1465.74 450.865 1464.01 Q451.768 1462.25 451.768 1460.56 Q451.768 1457.8 449.823 1456.07 Q447.902 1454.33 444.8 1454.33 Q442.601 1454.33 440.148 1455.09 Q437.717 1455.86 434.939 1457.41 L434.939 1452.69 Q437.763 1451.55 440.217 1450.97 Q442.671 1450.39 444.708 1450.39 Q450.078 1450.39 453.272 1453.08 Q456.467 1455.77 456.467 1460.26 Q456.467 1462.39 455.657 1464.31 Q454.87 1466.2 452.763 1468.8 Q452.184 1469.47 449.083 1472.69 Q445.981 1475.88 440.333 1481.64 Z\" fill=\"#000000\" fill-rule=\"evenodd\" fill-opacity=\"1\" /><path clip-path=\"url(#clip310)\" d=\"M476.467 1454.1 Q472.856 1454.1 471.027 1457.66 Q469.221 1461.2 469.221 1468.33 Q469.221 1475.44 471.027 1479.01 Q472.856 1482.55 476.467 1482.55 Q480.101 1482.55 481.907 1479.01 Q483.735 1475.44 483.735 1468.33 Q483.735 1461.2 481.907 1457.66 Q480.101 1454.1 476.467 1454.1 M476.467 1450.39 Q482.277 1450.39 485.332 1455 Q488.411 1459.58 488.411 1468.33 Q488.411 1477.06 485.332 1481.67 Q482.277 1486.25 476.467 1486.25 Q470.657 1486.25 467.578 1481.67 Q464.522 1477.06 464.522 1468.33 Q464.522 1459.58 467.578 1455 Q470.657 1450.39 476.467 1450.39 Z\" fill=\"#000000\" fill-rule=\"evenodd\" fill-opacity=\"1\" /><path clip-path=\"url(#clip310)\" d=\"M807.35 1468.75 L837.026 1468.75 L837.026 1472.69 L807.35 1472.69 L807.35 1468.75 Z\" fill=\"#000000\" fill-rule=\"evenodd\" fill-opacity=\"1\" /><path clip-path=\"url(#clip310)\" d=\"M847.928 1481.64 L855.567 1481.64 L855.567 1455.28 L847.257 1456.95 L847.257 1452.69 L855.521 1451.02 L860.197 1451.02 L860.197 1481.64 L867.836 1481.64 L867.836 1485.58 L847.928 1485.58 L847.928 1481.64 Z\" fill=\"#000000\" fill-rule=\"evenodd\" fill-opacity=\"1\" /><path clip-path=\"url(#clip310)\" d=\"M887.28 1454.1 Q883.669 1454.1 881.84 1457.66 Q880.035 1461.2 880.035 1468.33 Q880.035 1475.44 881.84 1479.01 Q883.669 1482.55 887.28 1482.55 Q890.914 1482.55 892.72 1479.01 Q894.549 1475.44 894.549 1468.33 Q894.549 1461.2 892.72 1457.66 Q890.914 1454.1 887.28 1454.1 M887.28 1450.39 Q893.09 1450.39 896.146 1455 Q899.224 1459.58 899.224 1468.33 Q899.224 1477.06 896.146 1481.67 Q893.09 1486.25 887.28 1486.25 Q881.47 1486.25 878.391 1481.67 Q875.336 1477.06 875.336 1468.33 Q875.336 1459.58 878.391 1455 Q881.47 1450.39 887.28 1450.39 Z\" fill=\"#000000\" fill-rule=\"evenodd\" fill-opacity=\"1\" /><path clip-path=\"url(#clip310)\" d=\"M1264.1 1454.1 Q1260.49 1454.1 1258.66 1457.66 Q1256.86 1461.2 1256.86 1468.33 Q1256.86 1475.44 1258.66 1479.01 Q1260.49 1482.55 1264.1 1482.55 Q1267.73 1482.55 1269.54 1479.01 Q1271.37 1475.44 1271.37 1468.33 Q1271.37 1461.2 1269.54 1457.66 Q1267.73 1454.1 1264.1 1454.1 M1264.1 1450.39 Q1269.91 1450.39 1272.97 1455 Q1276.04 1459.58 1276.04 1468.33 Q1276.04 1477.06 1272.97 1481.67 Q1269.91 1486.25 1264.1 1486.25 Q1258.29 1486.25 1255.21 1481.67 Q1252.16 1477.06 1252.16 1468.33 Q1252.16 1459.58 1255.21 1455 Q1258.29 1450.39 1264.1 1450.39 Z\" fill=\"#000000\" fill-rule=\"evenodd\" fill-opacity=\"1\" /><path clip-path=\"url(#clip310)\" d=\"M1649.6 1481.64 L1657.24 1481.64 L1657.24 1455.28 L1648.93 1456.95 L1648.93 1452.69 L1657.19 1451.02 L1661.87 1451.02 L1661.87 1481.64 L1669.51 1481.64 L1669.51 1485.58 L1649.6 1485.58 L1649.6 1481.64 Z\" fill=\"#000000\" fill-rule=\"evenodd\" fill-opacity=\"1\" /><path clip-path=\"url(#clip310)\" d=\"M1688.95 1454.1 Q1685.34 1454.1 1683.51 1457.66 Q1681.71 1461.2 1681.71 1468.33 Q1681.71 1475.44 1683.51 1479.01 Q1685.34 1482.55 1688.95 1482.55 Q1692.59 1482.55 1694.39 1479.01 Q1696.22 1475.44 1696.22 1468.33 Q1696.22 1461.2 1694.39 1457.66 Q1692.59 1454.1 1688.95 1454.1 M1688.95 1450.39 Q1694.76 1450.39 1697.82 1455 Q1700.9 1459.58 1700.9 1468.33 Q1700.9 1477.06 1697.82 1481.67 Q1694.76 1486.25 1688.95 1486.25 Q1683.14 1486.25 1680.06 1481.67 Q1677.01 1477.06 1677.01 1468.33 Q1677.01 1459.58 1680.06 1455 Q1683.14 1450.39 1688.95 1450.39 Z\" fill=\"#000000\" fill-rule=\"evenodd\" fill-opacity=\"1\" /><path clip-path=\"url(#clip310)\" d=\"M2064.5 1481.64 L2080.82 1481.64 L2080.82 1485.58 L2058.88 1485.58 L2058.88 1481.64 Q2061.54 1478.89 2066.12 1474.26 Q2070.73 1469.61 2071.91 1468.27 Q2074.15 1465.74 2075.03 1464.01 Q2075.94 1462.25 2075.94 1460.56 Q2075.94 1457.8 2073.99 1456.07 Q2072.07 1454.33 2068.97 1454.33 Q2066.77 1454.33 2064.32 1455.09 Q2061.88 1455.86 2059.11 1457.41 L2059.11 1452.69 Q2061.93 1451.55 2064.38 1450.97 Q2066.84 1450.39 2068.88 1450.39 Q2074.25 1450.39 2077.44 1453.08 Q2080.63 1455.77 2080.63 1460.26 Q2080.63 1462.39 2079.82 1464.31 Q2079.04 1466.2 2076.93 1468.8 Q2076.35 1469.47 2073.25 1472.69 Q2070.15 1475.88 2064.5 1481.64 Z\" fill=\"#000000\" fill-rule=\"evenodd\" fill-opacity=\"1\" /><path clip-path=\"url(#clip310)\" d=\"M2100.63 1454.1 Q2097.02 1454.1 2095.19 1457.66 Q2093.39 1461.2 2093.39 1468.33 Q2093.39 1475.44 2095.19 1479.01 Q2097.02 1482.55 2100.63 1482.55 Q2104.27 1482.55 2106.07 1479.01 Q2107.9 1475.44 2107.9 1468.33 Q2107.9 1461.2 2106.07 1457.66 Q2104.27 1454.1 2100.63 1454.1 M2100.63 1450.39 Q2106.44 1450.39 2109.5 1455 Q2112.58 1459.58 2112.58 1468.33 Q2112.58 1477.06 2109.5 1481.67 Q2106.44 1486.25 2100.63 1486.25 Q2094.82 1486.25 2091.75 1481.67 Q2088.69 1477.06 2088.69 1468.33 Q2088.69 1459.58 2091.75 1455 Q2094.82 1450.39 2100.63 1450.39 Z\" fill=\"#000000\" fill-rule=\"evenodd\" fill-opacity=\"1\" /><path clip-path=\"url(#clip310)\" d=\"M1225.92 1532.4 L1213.03 1549.74 L1226.59 1568.04 L1219.68 1568.04 L1209.31 1554.04 L1198.93 1568.04 L1192.02 1568.04 L1205.87 1549.39 L1193.2 1532.4 L1200.11 1532.4 L1209.56 1545.1 L1219.02 1532.4 L1225.92 1532.4 Z\" fill=\"#000000\" fill-rule=\"evenodd\" fill-opacity=\"1\" /><path clip-path=\"url(#clip310)\" d=\"M1255.05 1518.52 L1268.54 1518.52 L1268.54 1523.07 L1260.9 1523.07 L1260.9 1572.09 L1268.54 1572.09 L1268.54 1576.64 L1255.05 1576.64 L1255.05 1518.52 Z\" fill=\"#000000\" fill-rule=\"evenodd\" fill-opacity=\"1\" /><path clip-path=\"url(#clip310)\" d=\"M1282.96 1562.63 L1293.46 1562.63 L1293.46 1526.38 L1282.04 1528.67 L1282.04 1522.82 L1293.4 1520.52 L1299.83 1520.52 L1299.83 1562.63 L1310.33 1562.63 L1310.33 1568.04 L1282.96 1568.04 L1282.96 1562.63 Z\" fill=\"#000000\" fill-rule=\"evenodd\" fill-opacity=\"1\" /><path clip-path=\"url(#clip310)\" d=\"M1336.18 1518.52 L1336.18 1576.64 L1322.68 1576.64 L1322.68 1572.09 L1330.29 1572.09 L1330.29 1523.07 L1322.68 1523.07 L1322.68 1518.52 L1336.18 1518.52 Z\" fill=\"#000000\" fill-rule=\"evenodd\" fill-opacity=\"1\" /><polyline clip-path=\"url(#clip312)\" style=\"stroke:#000000; stroke-linecap:butt; stroke-linejoin:round; stroke-width:2; stroke-opacity:0.1; fill:none\" points=\"\n",
       "  175.445,1207.59 2352.76,1207.59 \n",
       "  \"/>\n",
       "<polyline clip-path=\"url(#clip312)\" style=\"stroke:#000000; stroke-linecap:butt; stroke-linejoin:round; stroke-width:2; stroke-opacity:0.1; fill:none\" points=\"\n",
       "  175.445,990.583 2352.76,990.583 \n",
       "  \"/>\n",
       "<polyline clip-path=\"url(#clip312)\" style=\"stroke:#000000; stroke-linecap:butt; stroke-linejoin:round; stroke-width:2; stroke-opacity:0.1; fill:none\" points=\"\n",
       "  175.445,773.582 2352.76,773.582 \n",
       "  \"/>\n",
       "<polyline clip-path=\"url(#clip312)\" style=\"stroke:#000000; stroke-linecap:butt; stroke-linejoin:round; stroke-width:2; stroke-opacity:0.1; fill:none\" points=\"\n",
       "  175.445,556.58 2352.76,556.58 \n",
       "  \"/>\n",
       "<polyline clip-path=\"url(#clip312)\" style=\"stroke:#000000; stroke-linecap:butt; stroke-linejoin:round; stroke-width:2; stroke-opacity:0.1; fill:none\" points=\"\n",
       "  175.445,339.578 2352.76,339.578 \n",
       "  \"/>\n",
       "<polyline clip-path=\"url(#clip310)\" style=\"stroke:#000000; stroke-linecap:butt; stroke-linejoin:round; stroke-width:4; stroke-opacity:1; fill:none\" points=\"\n",
       "  175.445,1423.18 175.445,123.472 \n",
       "  \"/>\n",
       "<polyline clip-path=\"url(#clip310)\" style=\"stroke:#000000; stroke-linecap:butt; stroke-linejoin:round; stroke-width:4; stroke-opacity:1; fill:none\" points=\"\n",
       "  175.445,1207.59 194.343,1207.59 \n",
       "  \"/>\n",
       "<polyline clip-path=\"url(#clip310)\" style=\"stroke:#000000; stroke-linecap:butt; stroke-linejoin:round; stroke-width:4; stroke-opacity:1; fill:none\" points=\"\n",
       "  175.445,990.583 194.343,990.583 \n",
       "  \"/>\n",
       "<polyline clip-path=\"url(#clip310)\" style=\"stroke:#000000; stroke-linecap:butt; stroke-linejoin:round; stroke-width:4; stroke-opacity:1; fill:none\" points=\"\n",
       "  175.445,773.582 194.343,773.582 \n",
       "  \"/>\n",
       "<polyline clip-path=\"url(#clip310)\" style=\"stroke:#000000; stroke-linecap:butt; stroke-linejoin:round; stroke-width:4; stroke-opacity:1; fill:none\" points=\"\n",
       "  175.445,556.58 194.343,556.58 \n",
       "  \"/>\n",
       "<polyline clip-path=\"url(#clip310)\" style=\"stroke:#000000; stroke-linecap:butt; stroke-linejoin:round; stroke-width:4; stroke-opacity:1; fill:none\" points=\"\n",
       "  175.445,339.578 194.343,339.578 \n",
       "  \"/>\n",
       "<path clip-path=\"url(#clip310)\" d=\"M119.538 1220.93 L127.177 1220.93 L127.177 1194.56 L118.867 1196.23 L118.867 1191.97 L127.13 1190.31 L131.806 1190.31 L131.806 1220.93 L139.445 1220.93 L139.445 1224.87 L119.538 1224.87 L119.538 1220.93 Z\" fill=\"#000000\" fill-rule=\"evenodd\" fill-opacity=\"1\" /><path clip-path=\"url(#clip310)\" d=\"M123.126 1003.93 L139.445 1003.93 L139.445 1007.86 L117.501 1007.86 L117.501 1003.93 Q120.163 1001.17 124.746 996.544 Q129.353 991.891 130.533 990.549 Q132.779 988.025 133.658 986.289 Q134.561 984.53 134.561 982.84 Q134.561 980.086 132.617 978.35 Q130.695 976.613 127.593 976.613 Q125.394 976.613 122.941 977.377 Q120.51 978.141 117.732 979.692 L117.732 974.97 Q120.556 973.836 123.01 973.257 Q125.464 972.678 127.501 972.678 Q132.871 972.678 136.066 975.363 Q139.26 978.049 139.26 982.539 Q139.26 984.669 138.45 986.59 Q137.663 988.488 135.556 991.081 Q134.978 991.752 131.876 994.97 Q128.774 998.164 123.126 1003.93 Z\" fill=\"#000000\" fill-rule=\"evenodd\" fill-opacity=\"1\" /><path clip-path=\"url(#clip310)\" d=\"M132.316 772.227 Q135.672 772.945 137.547 775.213 Q139.445 777.482 139.445 780.815 Q139.445 785.931 135.927 788.732 Q132.408 791.533 125.927 791.533 Q123.751 791.533 121.436 791.093 Q119.144 790.676 116.691 789.82 L116.691 785.306 Q118.635 786.44 120.95 787.019 Q123.265 787.598 125.788 787.598 Q130.186 787.598 132.478 785.862 Q134.792 784.125 134.792 780.815 Q134.792 777.76 132.64 776.047 Q130.51 774.311 126.691 774.311 L122.663 774.311 L122.663 770.468 L126.876 770.468 Q130.325 770.468 132.154 769.102 Q133.982 767.714 133.982 765.121 Q133.982 762.459 132.084 761.047 Q130.209 759.612 126.691 759.612 Q124.769 759.612 122.57 760.028 Q120.371 760.445 117.732 761.325 L117.732 757.158 Q120.394 756.417 122.709 756.047 Q125.047 755.677 127.107 755.677 Q132.431 755.677 135.533 758.107 Q138.635 760.514 138.635 764.635 Q138.635 767.505 136.992 769.496 Q135.348 771.464 132.316 772.227 Z\" fill=\"#000000\" fill-rule=\"evenodd\" fill-opacity=\"1\" /><path clip-path=\"url(#clip310)\" d=\"M129.862 543.374 L118.056 561.823 L129.862 561.823 L129.862 543.374 M128.635 539.3 L134.515 539.3 L134.515 561.823 L139.445 561.823 L139.445 565.712 L134.515 565.712 L134.515 573.86 L129.862 573.86 L129.862 565.712 L114.26 565.712 L114.26 561.198 L128.635 539.3 Z\" fill=\"#000000\" fill-rule=\"evenodd\" fill-opacity=\"1\" /><path clip-path=\"url(#clip310)\" d=\"M118.543 322.298 L136.899 322.298 L136.899 326.233 L122.825 326.233 L122.825 334.705 Q123.843 334.358 124.862 334.196 Q125.88 334.011 126.899 334.011 Q132.686 334.011 136.066 337.182 Q139.445 340.354 139.445 345.77 Q139.445 351.349 135.973 354.451 Q132.501 357.529 126.181 357.529 Q124.005 357.529 121.737 357.159 Q119.492 356.789 117.084 356.048 L117.084 351.349 Q119.168 352.483 121.39 353.039 Q123.612 353.594 126.089 353.594 Q130.093 353.594 132.431 351.488 Q134.769 349.381 134.769 345.77 Q134.769 342.159 132.431 340.053 Q130.093 337.946 126.089 337.946 Q124.214 337.946 122.339 338.363 Q120.487 338.779 118.543 339.659 L118.543 322.298 Z\" fill=\"#000000\" fill-rule=\"evenodd\" fill-opacity=\"1\" /><path clip-path=\"url(#clip310)\" d=\"M67.3143 826.336 Q73.68 828.819 75.6216 831.174 Q77.5631 833.53 77.5631 837.476 L77.5631 842.155 L72.6615 842.155 L72.6615 838.718 Q72.6615 836.299 71.5157 834.962 Q70.3699 833.625 66.1048 832.002 L63.4312 830.952 L28.3562 845.37 L28.3562 839.163 L56.238 828.023 L28.3562 816.883 L28.3562 810.677 L67.3143 826.336 Z\" fill=\"#000000\" fill-rule=\"evenodd\" fill-opacity=\"1\" /><path clip-path=\"url(#clip310)\" d=\"M14.479 782.413 L14.479 768.918 L19.0304 768.918 L19.0304 776.557 L68.0464 776.557 L68.0464 768.918 L72.5979 768.918 L72.5979 782.413 L14.479 782.413 Z\" fill=\"#000000\" fill-rule=\"evenodd\" fill-opacity=\"1\" /><path clip-path=\"url(#clip310)\" d=\"M58.5933 754.499 L58.5933 743.996 L22.3406 743.996 L24.6323 755.422 L18.7758 755.422 L16.4842 744.06 L16.4842 737.63 L58.5933 737.63 L58.5933 727.127 L64.0042 727.127 L64.0042 754.499 L58.5933 754.499 Z\" fill=\"#000000\" fill-rule=\"evenodd\" fill-opacity=\"1\" /><path clip-path=\"url(#clip310)\" d=\"M14.479 701.282 L72.5979 701.282 L72.5979 714.777 L68.0464 714.777 L68.0464 707.17 L19.0304 707.17 L19.0304 714.777 L14.479 714.777 L14.479 701.282 Z\" fill=\"#000000\" fill-rule=\"evenodd\" fill-opacity=\"1\" /><path clip-path=\"url(#clip310)\" d=\"M644.15 9.62495 Q638.722 18.942 636.089 28.0566 Q633.456 37.1711 633.456 46.5287 Q633.456 55.8863 636.089 65.0818 Q638.762 74.2369 644.15 83.5134 L637.669 83.5134 Q631.592 73.9938 628.554 64.7983 Q625.557 55.6027 625.557 46.5287 Q625.557 37.4952 628.554 28.3401 Q631.552 19.1851 637.669 9.62495 L644.15 9.62495 Z\" fill=\"#000000\" fill-rule=\"evenodd\" fill-opacity=\"1\" /><path clip-path=\"url(#clip310)\" d=\"M696.326 27.2059 L679.92 49.2833 L697.177 72.576 L688.386 72.576 L675.18 54.752 L661.974 72.576 L653.184 72.576 L670.805 48.8377 L654.683 27.2059 L663.473 27.2059 L675.504 43.369 L687.535 27.2059 L696.326 27.2059 Z\" fill=\"#000000\" fill-rule=\"evenodd\" fill-opacity=\"1\" /><path clip-path=\"url(#clip310)\" d=\"M738.617 12.096 L760.614 34.6595 L752.471 34.6595 L734.647 18.6585 L716.823 34.6595 L708.681 34.6595 L730.677 12.096 L738.617 12.096 Z\" fill=\"#000000\" fill-rule=\"evenodd\" fill-opacity=\"1\" /><path clip-path=\"url(#clip310)\" d=\"M785.324 65.6895 L813.883 65.6895 L813.883 72.576 L775.48 72.576 L775.48 65.6895 Q780.139 60.8689 788.16 52.7671 Q796.221 44.6248 798.287 42.2752 Q802.216 37.8598 803.756 34.8216 Q805.336 31.7429 805.336 28.7857 Q805.336 23.9651 801.933 20.927 Q798.571 17.8888 793.142 17.8888 Q789.294 17.8888 785 19.2256 Q780.747 20.5624 775.886 23.2765 L775.886 15.0127 Q780.828 13.0277 785.122 12.015 Q789.416 11.0023 792.98 11.0023 Q802.378 11.0023 807.969 15.7013 Q813.559 20.4004 813.559 28.2591 Q813.559 31.9859 812.141 35.3482 Q810.764 38.6699 807.078 43.2069 Q806.065 44.3817 800.637 50.0125 Q795.208 55.6027 785.324 65.6895 Z\" fill=\"#000000\" fill-rule=\"evenodd\" fill-opacity=\"1\" /><path clip-path=\"url(#clip310)\" d=\"M886.718 20.5624 L886.718 43.1259 L909.282 43.1259 L909.282 50.0125 L886.718 50.0125 L886.718 72.576 L879.913 72.576 L879.913 50.0125 L857.349 50.0125 L857.349 43.1259 L879.913 43.1259 L879.913 20.5624 L886.718 20.5624 Z\" fill=\"#000000\" fill-rule=\"evenodd\" fill-opacity=\"1\" /><path clip-path=\"url(#clip310)\" d=\"M960.364 65.6895 L988.923 65.6895 L988.923 72.576 L950.52 72.576 L950.52 65.6895 Q955.179 60.8689 963.199 52.7671 Q971.261 44.6248 973.327 42.2752 Q977.256 37.8598 978.795 34.8216 Q980.375 31.7429 980.375 28.7857 Q980.375 23.9651 976.972 20.927 Q973.61 17.8888 968.182 17.8888 Q964.334 17.8888 960.04 19.2256 Q955.786 20.5624 950.925 23.2765 L950.925 15.0127 Q955.867 13.0277 960.161 12.015 Q964.455 11.0023 968.02 11.0023 Q977.418 11.0023 983.008 15.7013 Q988.599 20.4004 988.599 28.2591 Q988.599 31.9859 987.181 35.3482 Q985.803 38.6699 982.117 43.2069 Q981.104 44.3817 975.676 50.0125 Q970.248 55.6027 960.364 65.6895 Z\" fill=\"#000000\" fill-rule=\"evenodd\" fill-opacity=\"1\" /><path clip-path=\"url(#clip310)\" d=\"M1042.76 27.2059 L1026.35 49.2833 L1043.61 72.576 L1034.82 72.576 L1021.61 54.752 L1008.41 72.576 L999.617 72.576 L1017.24 48.8377 L1001.12 27.2059 L1009.91 27.2059 L1021.94 43.369 L1033.97 27.2059 L1042.76 27.2059 Z\" fill=\"#000000\" fill-rule=\"evenodd\" fill-opacity=\"1\" /><path clip-path=\"url(#clip310)\" d=\"M1110.85 20.5624 L1110.85 43.1259 L1133.42 43.1259 L1133.42 50.0125 L1110.85 50.0125 L1110.85 72.576 L1104.05 72.576 L1104.05 50.0125 L1081.49 50.0125 L1081.49 43.1259 L1104.05 43.1259 L1104.05 20.5624 L1110.85 20.5624 Z\" fill=\"#000000\" fill-rule=\"evenodd\" fill-opacity=\"1\" /><path clip-path=\"url(#clip310)\" d=\"M1184.5 65.6895 L1213.06 65.6895 L1213.06 72.576 L1174.66 72.576 L1174.66 65.6895 Q1179.32 60.8689 1187.34 52.7671 Q1195.4 44.6248 1197.46 42.2752 Q1201.39 37.8598 1202.93 34.8216 Q1204.51 31.7429 1204.51 28.7857 Q1204.51 23.9651 1201.11 20.927 Q1197.75 17.8888 1192.32 17.8888 Q1188.47 17.8888 1184.18 19.2256 Q1179.92 20.5624 1175.06 23.2765 L1175.06 15.0127 Q1180 13.0277 1184.3 12.015 Q1188.59 11.0023 1192.16 11.0023 Q1201.55 11.0023 1207.14 15.7013 Q1212.74 20.4004 1212.74 28.2591 Q1212.74 31.9859 1211.32 35.3482 Q1209.94 38.6699 1206.25 43.2069 Q1205.24 44.3817 1199.81 50.0125 Q1194.38 55.6027 1184.5 65.6895 Z\" fill=\"#000000\" fill-rule=\"evenodd\" fill-opacity=\"1\" /><path clip-path=\"url(#clip310)\" d=\"M1228.01 9.62495 L1234.49 9.62495 Q1240.56 19.1851 1243.56 28.3401 Q1246.6 37.4952 1246.6 46.5287 Q1246.6 55.6027 1243.56 64.7983 Q1240.56 73.9938 1234.49 83.5134 L1228.01 83.5134 Q1233.39 74.2369 1236.03 65.0818 Q1238.7 55.8863 1238.7 46.5287 Q1238.7 37.1711 1236.03 28.0566 Q1233.39 18.942 1228.01 9.62495 Z\" fill=\"#000000\" fill-rule=\"evenodd\" fill-opacity=\"1\" /><path clip-path=\"url(#clip310)\" d=\"M1274.79 12.096 L1281.68 12.096 L1260.62 80.2727 L1253.73 80.2727 L1274.79 12.096 Z\" fill=\"#000000\" fill-rule=\"evenodd\" fill-opacity=\"1\" /><path clip-path=\"url(#clip310)\" d=\"M1307.4 9.62495 Q1301.98 18.942 1299.34 28.0566 Q1296.71 37.1711 1296.71 46.5287 Q1296.71 55.8863 1299.34 65.0818 Q1302.02 74.2369 1307.4 83.5134 L1300.92 83.5134 Q1294.85 73.9938 1291.81 64.7983 Q1288.81 55.6027 1288.81 46.5287 Q1288.81 37.4952 1291.81 28.3401 Q1294.81 19.1851 1300.92 9.62495 L1307.4 9.62495 Z\" fill=\"#000000\" fill-rule=\"evenodd\" fill-opacity=\"1\" /><path clip-path=\"url(#clip310)\" d=\"M1359.58 27.2059 L1343.17 49.2833 L1360.43 72.576 L1351.64 72.576 L1338.43 54.752 L1325.23 72.576 L1316.44 72.576 L1334.06 48.8377 L1317.94 27.2059 L1326.73 27.2059 L1338.76 43.369 L1350.79 27.2059 L1359.58 27.2059 Z\" fill=\"#000000\" fill-rule=\"evenodd\" fill-opacity=\"1\" /><path clip-path=\"url(#clip310)\" d=\"M1401.87 12.096 L1423.87 34.6595 L1415.73 34.6595 L1397.9 18.6585 L1380.08 34.6595 L1371.94 34.6595 L1393.93 12.096 L1401.87 12.096 Z\" fill=\"#000000\" fill-rule=\"evenodd\" fill-opacity=\"1\" /><path clip-path=\"url(#clip310)\" d=\"M1448.58 65.6895 L1477.14 65.6895 L1477.14 72.576 L1438.74 72.576 L1438.74 65.6895 Q1443.39 60.8689 1451.41 52.7671 Q1459.48 44.6248 1461.54 42.2752 Q1465.47 37.8598 1467.01 34.8216 Q1468.59 31.7429 1468.59 28.7857 Q1468.59 23.9651 1465.19 20.927 Q1461.83 17.8888 1456.4 17.8888 Q1452.55 17.8888 1448.25 19.2256 Q1444 20.5624 1439.14 23.2765 L1439.14 15.0127 Q1444.08 13.0277 1448.38 12.015 Q1452.67 11.0023 1456.23 11.0023 Q1465.63 11.0023 1471.22 15.7013 Q1476.81 20.4004 1476.81 28.2591 Q1476.81 31.9859 1475.4 35.3482 Q1474.02 38.6699 1470.33 43.2069 Q1469.32 44.3817 1463.89 50.0125 Q1458.46 55.6027 1448.58 65.6895 Z\" fill=\"#000000\" fill-rule=\"evenodd\" fill-opacity=\"1\" /><path clip-path=\"url(#clip310)\" d=\"M1515.86 46.5287 L1537.7 46.5287 L1537.7 53.1722 L1515.86 53.1722 L1515.86 46.5287 Z\" fill=\"#000000\" fill-rule=\"evenodd\" fill-opacity=\"1\" /><path clip-path=\"url(#clip310)\" d=\"M1584.04 65.6895 L1612.6 65.6895 L1612.6 72.576 L1574.2 72.576 L1574.2 65.6895 Q1578.86 60.8689 1586.88 52.7671 Q1594.94 44.6248 1597 42.2752 Q1600.93 37.8598 1602.47 34.8216 Q1604.05 31.7429 1604.05 28.7857 Q1604.05 23.9651 1600.65 20.927 Q1597.29 17.8888 1591.86 17.8888 Q1588.01 17.8888 1583.72 19.2256 Q1579.46 20.5624 1574.6 23.2765 L1574.6 15.0127 Q1579.54 13.0277 1583.84 12.015 Q1588.13 11.0023 1591.7 11.0023 Q1601.1 11.0023 1606.69 15.7013 Q1612.28 20.4004 1612.28 28.2591 Q1612.28 31.9859 1610.86 35.3482 Q1609.48 38.6699 1605.79 43.2069 Q1604.78 44.3817 1599.35 50.0125 Q1593.93 55.6027 1584.04 65.6895 Z\" fill=\"#000000\" fill-rule=\"evenodd\" fill-opacity=\"1\" /><path clip-path=\"url(#clip310)\" d=\"M1666.44 27.2059 L1650.03 49.2833 L1667.29 72.576 L1658.5 72.576 L1645.29 54.752 L1632.08 72.576 L1623.29 72.576 L1640.92 48.8377 L1624.79 27.2059 L1633.58 27.2059 L1645.61 43.369 L1657.65 27.2059 L1666.44 27.2059 Z\" fill=\"#000000\" fill-rule=\"evenodd\" fill-opacity=\"1\" /><path clip-path=\"url(#clip310)\" d=\"M1734.53 20.5624 L1734.53 43.1259 L1757.1 43.1259 L1757.1 50.0125 L1734.53 50.0125 L1734.53 72.576 L1727.73 72.576 L1727.73 50.0125 L1705.16 50.0125 L1705.16 43.1259 L1727.73 43.1259 L1727.73 20.5624 L1734.53 20.5624 Z\" fill=\"#000000\" fill-rule=\"evenodd\" fill-opacity=\"1\" /><path clip-path=\"url(#clip310)\" d=\"M1808.18 65.6895 L1836.74 65.6895 L1836.74 72.576 L1798.33 72.576 L1798.33 65.6895 Q1802.99 60.8689 1811.01 52.7671 Q1819.07 44.6248 1821.14 42.2752 Q1825.07 37.8598 1826.61 34.8216 Q1828.19 31.7429 1828.19 28.7857 Q1828.19 23.9651 1824.79 20.927 Q1821.42 17.8888 1816 17.8888 Q1812.15 17.8888 1807.85 19.2256 Q1803.6 20.5624 1798.74 23.2765 L1798.74 15.0127 Q1803.68 13.0277 1807.97 12.015 Q1812.27 11.0023 1815.83 11.0023 Q1825.23 11.0023 1830.82 15.7013 Q1836.41 20.4004 1836.41 28.2591 Q1836.41 31.9859 1834.99 35.3482 Q1833.62 38.6699 1829.93 43.2069 Q1828.92 44.3817 1823.49 50.0125 Q1818.06 55.6027 1808.18 65.6895 Z\" fill=\"#000000\" fill-rule=\"evenodd\" fill-opacity=\"1\" /><path clip-path=\"url(#clip310)\" d=\"M1851.68 9.62495 L1858.17 9.62495 Q1864.24 19.1851 1867.24 28.3401 Q1870.28 37.4952 1870.28 46.5287 Q1870.28 55.6027 1867.24 64.7983 Q1864.24 73.9938 1858.17 83.5134 L1851.68 83.5134 Q1857.07 74.2369 1859.71 65.0818 Q1862.38 55.8863 1862.38 46.5287 Q1862.38 37.1711 1859.71 28.0566 Q1857.07 18.942 1851.68 9.62495 Z\" fill=\"#000000\" fill-rule=\"evenodd\" fill-opacity=\"1\" /><path clip-path=\"url(#clip310)\" d=\"M1884.05 9.62495 L1890.53 9.62495 Q1896.61 19.1851 1899.61 28.3401 Q1902.64 37.4952 1902.64 46.5287 Q1902.64 55.6027 1899.61 64.7983 Q1896.61 73.9938 1890.53 83.5134 L1884.05 83.5134 Q1889.44 74.2369 1892.07 65.0818 Q1894.75 55.8863 1894.75 46.5287 Q1894.75 37.1711 1892.07 28.0566 Q1889.44 18.942 1884.05 9.62495 Z\" fill=\"#000000\" fill-rule=\"evenodd\" fill-opacity=\"1\" /><polyline clip-path=\"url(#clip312)\" style=\"stroke:#009af9; stroke-linecap:butt; stroke-linejoin:round; stroke-width:4; stroke-opacity:1; fill:none\" points=\"\n",
       "  237.067,1239.64 257.127,1240.23 442.607,1246.87 554.073,1252.33 648.316,1258.28 750.691,1266.8 845.071,1277.61 895.663,1285.14 946.256,1294.43 1004.87,1308.2 \n",
       "  1063.49,1326.61 1115.58,1348.3 1167.67,1374.53 1190.51,1384.45 1213.35,1386.4 1224.77,1379.59 1236.19,1361.94 1241.9,1346.65 1247.61,1325.13 1253.32,1295.39 \n",
       "  1259.03,1254.93 1262.14,1227.29 1265.26,1195.02 1268.37,1157.55 1271.48,1114.35 1274.6,1064.92 1277.71,1008.93 1280.82,946.217 1283.93,876.984 1290.16,721.948 \n",
       "  1296.38,555.379 1299.5,473.753 1302.61,397.109 1305.72,328.315 1308.83,269.81 1311.95,223.323 1315.06,189.712 1318.17,168.954 1321.29,160.256 1324.4,162.273 \n",
       "  1327.51,173.334 1330.62,191.662 1333.74,215.535 1339.96,273.918 1346.19,338.774 1352.41,403.915 1358.64,465.905 1364.9,523.452 1371.16,575.632 1377.42,622.501 \n",
       "  1383.69,664.412 1396.21,735.27 1408.74,792.031 1421.26,837.969 1433.79,875.612 1446.31,906.85 1458.84,933.087 1486.53,978.183 1514.23,1011.07 1541.92,1035.99 \n",
       "  1569.62,1055.46 1622.32,1082.68 1675.02,1101.76 1784.62,1127.42 1876.88,1141.07 1989.52,1152.55 2095.4,1160.24 2265.03,1168.92 2291.13,1169.98 \n",
       "  \"/>\n",
       "</svg>\n"
      ]
     },
     "execution_count": 41,
     "metadata": {},
     "output_type": "execute_result"
    }
   ],
   "source": [
    "f(x) = (x^2 + 2x + 2)/(x^2 - 2x + 2)\n",
    "a, b = -25, 25\n",
    "plot(f, a, b, ylab = \"y [1]\", xlab = \"x [1]\", label = \"\", title = \"(x^2 + 2x + 2)/(x^2 - 2x + 2))\")"
   ]
  },
  {
   "cell_type": "code",
   "execution_count": 42,
   "id": "2021330f",
   "metadata": {},
   "outputs": [
    {
     "data": {
      "text/plain": [
       "Results of univariate zero finding:\n",
       "\n",
       "* Convergence failed: \n",
       "* Algorithm Secant()\n",
       "\n",
       "Trace:\n",
       "x₁ = -1.9999939444722106,\t fx₁ = 0.19999951555895026\n",
       "x₂ = -2,\t fx₂ = 0.20000000000000001\n",
       "x₃ = -1.9993944472210572,\t fx₃ = 0.19995156751793952\n",
       "x₄ = -1.9388391693267764,\t fx₄ = 0.19523324518726415\n",
       "x₅ = -1.8830022297196667,\t fx₅ = 0.19112434709606699\n",
       "x₆ = -1.8412928307256533,\t fx₆ = 0.18822704606435364\n",
       "x₇ = -1.8034900476901377,\t fx₇ = 0.18574251052962051\n",
       "x₈ = -1.770120539853941,\t fx₈ = 0.18367131976851178\n",
       "x₉ = -1.7376604672358098,\t fx₉ = 0.18177540633714287\n",
       "\n"
      ]
     },
     "metadata": {},
     "output_type": "display_data"
    },
    {
     "ename": "LoadError",
     "evalue": "Roots.ConvergenceFailed(\"Algorithm failed to converge\")",
     "output_type": "error",
     "traceback": [
      "Roots.ConvergenceFailed(\"Algorithm failed to converge\")",
      "",
      "Stacktrace:",
      " [1] find_zero(f::Function, x0::Int64, M::Order0; p::Nothing, verbose::Bool, tracks::Roots.NullTracks, kwargs::Base.Pairs{Symbol, Union{}, Tuple{}, NamedTuple{(), Tuple{}}})",
      "   @ Roots C:\\Users\\bchwa\\.julia\\packages\\Roots\\kyxnO\\src\\find_zero.jl:199",
      " [2] #find_zero#30",
      "   @ C:\\Users\\bchwa\\.julia\\packages\\Roots\\kyxnO\\src\\find_zero.jl:207 [inlined]",
      " [3] top-level scope",
      "   @ In[42]:1",
      " [4] eval",
      "   @ .\\boot.jl:373 [inlined]",
      " [5] include_string(mapexpr::typeof(REPL.softscope), mod::Module, code::String, filename::String)",
      "   @ Base .\\loading.jl:1196"
     ]
    }
   ],
   "source": [
    "find_zero(f, -2, verbose=true)"
   ]
  }
 ],
 "metadata": {
  "kernelspec": {
   "display_name": "Julia 1.7.2",
   "language": "julia",
   "name": "julia-1.7"
  },
  "language_info": {
   "file_extension": ".jl",
   "mimetype": "application/julia",
   "name": "julia",
   "version": "1.7.2"
  }
 },
 "nbformat": 4,
 "nbformat_minor": 5
}
