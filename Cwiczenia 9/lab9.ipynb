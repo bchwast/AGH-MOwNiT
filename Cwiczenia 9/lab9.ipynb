{
 "cells": [
  {
   "cell_type": "code",
   "execution_count": 1,
   "id": "c5ba4b95",
   "metadata": {
    "scrolled": true
   },
   "outputs": [],
   "source": [
    "using DifferentialEquations, GLMakie, StaticArrays"
   ]
  },
  {
   "cell_type": "code",
   "execution_count": 2,
   "id": "957f06ec",
   "metadata": {},
   "outputs": [],
   "source": [
    "using DataStructures: CircularBuffer"
   ]
  },
  {
   "cell_type": "code",
   "execution_count": 4,
   "id": "8033f614",
   "metadata": {},
   "outputs": [
    {
     "data": {
      "text/plain": [
       "100"
      ]
     },
     "execution_count": 4,
     "metadata": {},
     "output_type": "execute_result"
    }
   ],
   "source": [
    "θ1 = π/2\n",
    "θ2 = 0\n",
    "global m1 = 1\n",
    "global m2 = 1\n",
    "global L1 = 3\n",
    "global L2 = 1\n",
    "x0 = 0\n",
    "y0 = 0\n",
    "global g = 9.81\n",
    "Δ = 0.01\n",
    "tfinal = 200\n",
    "tail = 100"
   ]
  },
  {
   "cell_type": "code",
   "execution_count": 5,
   "id": "b8accb6d",
   "metadata": {},
   "outputs": [
    {
     "data": {
      "text/plain": [
       "ω1_prim (generic function with 1 method)"
      ]
     },
     "execution_count": 5,
     "metadata": {},
     "output_type": "execute_result"
    }
   ],
   "source": [
    "function ω1_prim(θ1, θ2, ω1, ω2)\n",
    "    comp1 = -g*(2*m1 + m2)*sin(θ1)\n",
    "    comp2 = -m2*g*sin(θ1 - 2*θ2)\n",
    "    comp3 = -2*sin(θ1 - θ2)*m2*(ω2*ω2*L2 + ω1*ω1*L1*cos(θ1 - θ2))\n",
    "    denom = L1*(2*m1 + m2 - m2*cos(2*θ1 - 2*θ2))\n",
    "    \n",
    "    (comp1 + comp2 + comp3) / denom\n",
    "end"
   ]
  },
  {
   "cell_type": "code",
   "execution_count": 6,
   "id": "06678c03",
   "metadata": {
    "scrolled": true
   },
   "outputs": [
    {
     "data": {
      "text/plain": [
       "ω2_prim (generic function with 1 method)"
      ]
     },
     "execution_count": 6,
     "metadata": {},
     "output_type": "execute_result"
    }
   ],
   "source": [
    "function ω2_prim(θ1, θ2, ω1, ω2)\n",
    "    num = 2*sin(θ1 − θ2)*(ω1*ω1*L1*(m1 + m2) + g*(m1 + m2)*cos(θ1) + ω2*ω2*L2*m2*cos(θ1 − θ2))\n",
    "    denom = L2*(2*m1 + m2 − m2*cos(2*θ1 − 2*θ2))\n",
    "            \n",
    "    num / denom\n",
    "end"
   ]
  },
  {
   "cell_type": "code",
   "execution_count": 7,
   "id": "180f44bc",
   "metadata": {
    "scrolled": true
   },
   "outputs": [
    {
     "data": {
      "text/plain": [
       "solve_it! (generic function with 1 method)"
      ]
     },
     "execution_count": 7,
     "metadata": {},
     "output_type": "execute_result"
    }
   ],
   "source": [
    "function solve_it!(du, u, p, t)    \n",
    "    θ1 = u[1]\n",
    "    θ2 = u[3]\n",
    "    ω1 = u[2]\n",
    "    ω2 = u[4]\n",
    "    \n",
    "    du[1] = u[2]\n",
    "    du[2] = ω1_prim(θ1, θ2, ω1, ω2)\n",
    "    du[3] = u[4]\n",
    "    du[4] = ω2_prim(θ1, θ2, ω1, ω2)\n",
    "end"
   ]
  },
  {
   "cell_type": "code",
   "execution_count": 8,
   "id": "8a021f46",
   "metadata": {},
   "outputs": [
    {
     "data": {
      "text/plain": [
       "double_pendulum (generic function with 1 method)"
      ]
     },
     "execution_count": 8,
     "metadata": {},
     "output_type": "execute_result"
    }
   ],
   "source": [
    "function double_pendulum(θ1, θ2, x0, y0, Δ, tfinal)\n",
    "    u0 = [θ1; 0; θ2; 0]\n",
    "    p = [m1, m2, L1, L2, g]\n",
    "    tspan = (0.0, tfinal)\n",
    "    prob = ODEProblem(solve_it!, u0, tspan, p)\n",
    "    integ = init(prob, Vern7(), reltol=1e-6, saveat=Δ)\n",
    "end"
   ]
  },
  {
   "cell_type": "code",
   "execution_count": 9,
   "id": "f813fe1f",
   "metadata": {},
   "outputs": [
    {
     "data": {
      "text/plain": [
       "xycords (generic function with 1 method)"
      ]
     },
     "execution_count": 9,
     "metadata": {},
     "output_type": "execute_result"
    }
   ],
   "source": [
    "function xycords(state)\n",
    "    θ1 = state[1]\n",
    "    θ2 = state[3]\n",
    "    x1 = L1 * sin(θ1)\n",
    "    y1 = -L1 * cos(θ1)\n",
    "    x2 = x1 + L2 * sin(θ2)\n",
    "    y2 = y1 - L2 * cos(θ2)\n",
    "    return x1,x2,y1,y2\n",
    "end"
   ]
  },
  {
   "cell_type": "code",
   "execution_count": 10,
   "id": "de174513",
   "metadata": {},
   "outputs": [
    {
     "data": {
      "text/plain": [
       "progress_for_one_step! (generic function with 1 method)"
      ]
     },
     "execution_count": 10,
     "metadata": {},
     "output_type": "execute_result"
    }
   ],
   "source": [
    "function progress_for_one_step!(integ)\n",
    "    step!(integ)\n",
    "    u = integ.u\n",
    "    return xycords(u)\n",
    "end"
   ]
  },
  {
   "cell_type": "code",
   "execution_count": 11,
   "id": "882a519a",
   "metadata": {},
   "outputs": [
    {
     "data": {
      "text/plain": [
       "makefig (generic function with 1 method)"
      ]
     },
     "execution_count": 11,
     "metadata": {},
     "output_type": "execute_result"
    }
   ],
   "source": [
    "function makefig(θ1, θ2, x0, y0, Δ, tfinal)\n",
    "    integ = double_pendulum(θ1, θ2, x0, y0, Δ, tfinal)\n",
    "    x1,x2,y1,y2 = xycords(integ.u)\n",
    "    rod   = Observable([Point2f(0, 0), Point2f(x1, y1), Point2f(x2, y2)])\n",
    "    balls = Observable([Point2f(x1, y1), Point2f(x2, y2)])\n",
    "    traj = CircularBuffer{Point2f}(tail)\n",
    "    fill!(traj, Point2f(x2, y2))\n",
    "    traj = Observable(traj)\n",
    "    fig = Figure(resolution = (1200, 800)); display(fig)\n",
    "    ax = Axis(fig[1,1])\n",
    "    lines!(ax, rod; linewidth = 4, color = :purple)\n",
    "    scatter!(ax, balls; marker = :circle, strokewidth = 2, \n",
    "        strokecolor = :purple,\n",
    "        color = :black, markersize = [8, 12]\n",
    "    )\n",
    "    c = to_color(:purple)\n",
    "    tailcol = [RGBAf(c.r, c.g, c.b, (i/tail)^2) for i in 1:tail]\n",
    "    lines!(ax, traj; linewidth = 3, color = tailcol)\n",
    "    ax.title = \"double pendulum\"\n",
    "    ax.aspect = DataAspect()\n",
    "    l = 10\n",
    "    xlims!(ax, -l, l)\n",
    "    ylims!(ax, -l, 0.5l)\n",
    "    return fig, integ, rod, balls, traj\n",
    "end"
   ]
  },
  {
   "cell_type": "code",
   "execution_count": 12,
   "id": "68c10244",
   "metadata": {},
   "outputs": [
    {
     "data": {
      "text/plain": [
       "animstep! (generic function with 1 method)"
      ]
     },
     "execution_count": 12,
     "metadata": {},
     "output_type": "execute_result"
    }
   ],
   "source": [
    "function animstep!(integ, rod, balls, traj)\n",
    "    x1,x2,y1,y2 = progress_for_one_step!(integ)\n",
    "    rod[] = [Point2f(0, 0), Point2f(x1, y1), Point2f(x2, y2)]\n",
    "    balls[] = [Point2f(x1, y1), Point2f(x2, y2)]\n",
    "    push!(traj[], Point2f(x2, y2))\n",
    "    traj[] = traj[]\n",
    "end"
   ]
  },
  {
   "cell_type": "code",
   "execution_count": 13,
   "id": "3a87c68e",
   "metadata": {},
   "outputs": [
    {
     "data": {
      "text/plain": [
       "add_run (generic function with 1 method)"
      ]
     },
     "execution_count": 13,
     "metadata": {},
     "output_type": "execute_result"
    }
   ],
   "source": [
    "function add_run()\n",
    "    run = Button(fig[2,1]; label = \"run\", tellwidth = false)\n",
    "    isrunning = Observable(false)\n",
    "    on(run.clicks) do clicks; isrunning[] = !isrunning[]; end\n",
    "    on(run.clicks) do clicks\n",
    "        @async while isrunning[]\n",
    "            isopen(fig.scene) || break\n",
    "            animstep!(integ, rod, balls, traj)\n",
    "            sleep(0.01)\n",
    "        end\n",
    "    end\n",
    "end"
   ]
  },
  {
   "cell_type": "code",
   "execution_count": 14,
   "id": "da8924e7",
   "metadata": {},
   "outputs": [
    {
     "data": {
      "text/plain": [
       "add_sliders (generic function with 1 method)"
      ]
     },
     "execution_count": 14,
     "metadata": {},
     "output_type": "execute_result"
    }
   ],
   "source": [
    "function add_sliders()\n",
    "    lsgrid = labelslidergrid!(\n",
    "        fig,\n",
    "        [\"m1\", \"m2\", \"L1\", \"L2\", \"g\"],\n",
    "        [0:0.1:30, 0:0.1:30, 0:0.1:5, 0:0.1:5, 0:0.1:30];\n",
    "        formats = [x -> \"$(round(x, digits = 1))$s\" for s in [\"kg\", \"kg\", \"m\", \"m\", \"m/s^2\"]],\n",
    "        width = 350,\n",
    "        tellheight = false)\n",
    "    fig[1, 2] = lsgrid.layout\n",
    "\n",
    "    slider_observables = [s.value for s in lsgrid.sliders]\n",
    "    set_close_to!(lsgrid.sliders[1], m1)\n",
    "    on(slider_observables[1]) do val\n",
    "        global m1 = val\n",
    "        reinit!(integ, [θ1; 0; θ2; 0])\n",
    "        x1,x2,y1,y2 = xycords(integ.u)\n",
    "        traj[] .= fill(Point2f(x2, y2), length(traj[]))\n",
    "        traj[] = traj[]\n",
    "        rod[] = [Point2f(0, 0), Point2f(x1, y1), Point2f(x2, y2)]\n",
    "        balls[] = [Point2f(x1, y1), Point2f(x2, y2)]\n",
    "    end\n",
    "\n",
    "    set_close_to!(lsgrid.sliders[2], m2)\n",
    "    on(slider_observables[2]) do val\n",
    "        global m2 = val\n",
    "        reinit!(integ, [θ1; 0; θ2; 0])\n",
    "        x1,x2,y1,y2 = xycords(integ.u)\n",
    "        traj[] .= fill(Point2f(x2, y2), length(traj[]))\n",
    "        traj[] = traj[]\n",
    "        rod[] = [Point2f(0, 0), Point2f(x1, y1), Point2f(x2, y2)]\n",
    "        balls[] = [Point2f(x1, y1), Point2f(x2, y2)]\n",
    "    end\n",
    "\n",
    "    set_close_to!(lsgrid.sliders[3], L1)\n",
    "    on(slider_observables[3]) do val\n",
    "        global L1 = val\n",
    "        reinit!(integ, [θ1; 0; θ2; 0])\n",
    "        x1,x2,y1,y2 = xycords(integ.u)\n",
    "        traj[] .= fill(Point2f(x2, y2), length(traj[]))\n",
    "        traj[] = traj[]\n",
    "        rod[] = [Point2f(0, 0), Point2f(x1, y1), Point2f(x2, y2)]\n",
    "        balls[] = [Point2f(x1, y1), Point2f(x2, y2)]\n",
    "    end\n",
    "\n",
    "    set_close_to!(lsgrid.sliders[4], L2)\n",
    "    on(slider_observables[4]) do val\n",
    "        global L2 = val\n",
    "        reinit!(integ, [θ1; 0; θ2; 0])\n",
    "        x1,x2,y1,y2 = xycords(integ.u)\n",
    "        traj[] .= fill(Point2f(x2, y2), length(traj[]))\n",
    "        traj[] = traj[]\n",
    "        rod[] = [Point2f(0, 0), Point2f(x1, y1), Point2f(x2, y2)]\n",
    "        balls[] = [Point2f(x1, y1), Point2f(x2, y2)]\n",
    "    end\n",
    "\n",
    "    set_close_to!(lsgrid.sliders[5], g)\n",
    "    on(slider_observables[5]) do val\n",
    "        global g = val\n",
    "        reinit!(integ, [θ1; 0; θ2; 0])\n",
    "        x1,x2,y1,y2 = xycords(integ.u)\n",
    "        traj[] .= fill(Point2f(x2, y2), length(traj[]))\n",
    "        traj[] = traj[]\n",
    "        rod[] = [Point2f(0, 0), Point2f(x1, y1), Point2f(x2, y2)]\n",
    "        balls[] = [Point2f(x1, y1), Point2f(x2, y2)]\n",
    "    end\n",
    "end"
   ]
  },
  {
   "cell_type": "code",
   "execution_count": 15,
   "id": "c05517db",
   "metadata": {
    "scrolled": true
   },
   "outputs": [
    {
     "data": {
      "text/plain": [
       "add_click (generic function with 1 method)"
      ]
     },
     "execution_count": 15,
     "metadata": {},
     "output_type": "execute_result"
    }
   ],
   "source": [
    "function add_click()\n",
    "    ax = content(fig[1,1])\n",
    "    Makie.deactivate_interaction!(ax, :rectanglezoom)\n",
    "    spoint = select_point(ax.scene)\n",
    "    function θωcords(x, y)\n",
    "        θ = atan(y,x) + π/2\n",
    "        return SVector(θ,0,0,0)\n",
    "    end\n",
    "\n",
    "    on(spoint) do z\n",
    "        x, y = z\n",
    "        u = θωcords(x, y)\n",
    "        reinit!(integ, u)\n",
    "        x1,x2,y1,y2 = xycords(u)\n",
    "        traj[] .= fill(Point2f(x2, y2), length(traj[]))\n",
    "        traj[] = traj[]\n",
    "        rod[] = [Point2f(0, 0), Point2f(x1, y1), Point2f(x2, y2)]\n",
    "        balls[] = [Point2f(x1, y1), Point2f(x2, y2)]\n",
    "    end\n",
    "end"
   ]
  },
  {
   "cell_type": "code",
   "execution_count": 16,
   "id": "af55ee81",
   "metadata": {},
   "outputs": [
    {
     "data": {
      "text/plain": [
       "(::Observables.ObserverFunction) (generic function with 0 methods)"
      ]
     },
     "execution_count": 16,
     "metadata": {},
     "output_type": "execute_result"
    }
   ],
   "source": [
    "global m1 = 15\n",
    "global m2 = 15\n",
    "global L1 = 3\n",
    "global L2 = 3\n",
    "global g = 9.8\n",
    "fig, integ, rod, balls, traj = makefig(θ1, θ2, x0, y0, Δ, tfinal)\n",
    "add_run()\n",
    "add_sliders()\n",
    "add_click()"
   ]
  },
  {
   "cell_type": "code",
   "execution_count": 17,
   "id": "82e78e40",
   "metadata": {
    "scrolled": true
   },
   "outputs": [],
   "source": [
    "# global m1 = 15\n",
    "# global m2 = 15\n",
    "# global L1 = 3\n",
    "# global L2 = 3\n",
    "# global g = 9.8\n",
    "# fig, integ, rod, balls, traj = makefig(θ1, θ2, x0, y0, Δ, tfinal)\n",
    "# add_run()\n",
    "# add_sliders()\n",
    "# add_click()\n",
    "# frames = 1:3000\n",
    "# record(fig, \"video.mp4\", frames; framerate = 30) do i\n",
    "# end "
   ]
  },
  {
   "cell_type": "code",
   "execution_count": 18,
   "id": "ab483644",
   "metadata": {
    "scrolled": false
   },
   "outputs": [
    {
     "data": {
      "text/html": [
       "<video alt=\"test\" controls>\n",
       "    <source src=\"video.mp4\" type=\"video/mp4\" \n",
       "</video>"
      ]
     },
     "metadata": {},
     "output_type": "display_data"
    }
   ],
   "source": [
    "display(\"text/html\", \"\"\"\n",
    "    <video alt=\"test\" controls>\n",
    "        <source src=\"video.mp4\" type=\"video/mp4\" \n",
    "    </video>\"\"\")"
   ]
  }
 ],
 "metadata": {
  "kernelspec": {
   "display_name": "Julia 1.7.2",
   "language": "julia",
   "name": "julia-1.7"
  },
  "language_info": {
   "file_extension": ".jl",
   "mimetype": "application/julia",
   "name": "julia",
   "version": "1.7.2"
  }
 },
 "nbformat": 4,
 "nbformat_minor": 5
}
